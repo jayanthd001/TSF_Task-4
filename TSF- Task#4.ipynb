{
 "cells": [
  {
   "cell_type": "markdown",
   "metadata": {},
   "source": [
    "# Jayanth D\n",
    "\n",
    "Task 4 - Perform ‘Exploratory Data Analysis’ on dataset ‘Global Terrorism’."
   ]
  },
  {
   "cell_type": "code",
   "execution_count": 5,
   "metadata": {},
   "outputs": [],
   "source": [
    "#Import all the required libraries\n",
    "import pandas as pd\n",
    "read csv()\n",
    "from sklearn.impute import SimpleImputer\n",
    "import numpy as np\n",
    "import plotly.express as px\n",
    "import pycountry\n",
    "import os"
   ]
  },
  {
   "cell_type": "code",
   "execution_count": 8,
   "metadata": {},
   "outputs": [
    {
     "name": "stderr",
     "output_type": "stream",
     "text": [
      "C:\\Users\\Admin\\anaconda3\\lib\\site-packages\\IPython\\core\\interactiveshell.py:3071: DtypeWarning: Columns (4,6,31,33,61,62,63,76,79,90,92,94,96,114,115,121) have mixed types.Specify dtype option on import or set low_memory=False.\n",
      "  has_raised = await self.run_ast_nodes(code_ast.body, cell_name,\n"
     ]
    },
    {
     "data": {
      "text/html": [
       "<div>\n",
       "<style scoped>\n",
       "    .dataframe tbody tr th:only-of-type {\n",
       "        vertical-align: middle;\n",
       "    }\n",
       "\n",
       "    .dataframe tbody tr th {\n",
       "        vertical-align: top;\n",
       "    }\n",
       "\n",
       "    .dataframe thead th {\n",
       "        text-align: right;\n",
       "    }\n",
       "</style>\n",
       "<table border=\"1\" class=\"dataframe\">\n",
       "  <thead>\n",
       "    <tr style=\"text-align: right;\">\n",
       "      <th></th>\n",
       "      <th>eventid</th>\n",
       "      <th>iyear</th>\n",
       "      <th>imonth</th>\n",
       "      <th>iday</th>\n",
       "      <th>approxdate</th>\n",
       "      <th>extended</th>\n",
       "      <th>resolution</th>\n",
       "      <th>country</th>\n",
       "      <th>country_txt</th>\n",
       "      <th>region</th>\n",
       "      <th>region_txt</th>\n",
       "      <th>provstate</th>\n",
       "      <th>city</th>\n",
       "      <th>latitude</th>\n",
       "      <th>longitude</th>\n",
       "      <th>specificity</th>\n",
       "      <th>vicinity</th>\n",
       "      <th>location</th>\n",
       "      <th>summary</th>\n",
       "      <th>crit1</th>\n",
       "      <th>crit2</th>\n",
       "      <th>crit3</th>\n",
       "      <th>doubtterr</th>\n",
       "      <th>alternative</th>\n",
       "      <th>alternative_txt</th>\n",
       "      <th>multiple</th>\n",
       "      <th>success</th>\n",
       "      <th>suicide</th>\n",
       "      <th>attacktype1</th>\n",
       "      <th>attacktype1_txt</th>\n",
       "      <th>attacktype2</th>\n",
       "      <th>attacktype2_txt</th>\n",
       "      <th>attacktype3</th>\n",
       "      <th>attacktype3_txt</th>\n",
       "      <th>targtype1</th>\n",
       "      <th>targtype1_txt</th>\n",
       "      <th>targsubtype1</th>\n",
       "      <th>targsubtype1_txt</th>\n",
       "      <th>corp1</th>\n",
       "      <th>target1</th>\n",
       "      <th>natlty1</th>\n",
       "      <th>natlty1_txt</th>\n",
       "      <th>targtype2</th>\n",
       "      <th>targtype2_txt</th>\n",
       "      <th>targsubtype2</th>\n",
       "      <th>targsubtype2_txt</th>\n",
       "      <th>corp2</th>\n",
       "      <th>target2</th>\n",
       "      <th>natlty2</th>\n",
       "      <th>natlty2_txt</th>\n",
       "      <th>targtype3</th>\n",
       "      <th>targtype3_txt</th>\n",
       "      <th>targsubtype3</th>\n",
       "      <th>targsubtype3_txt</th>\n",
       "      <th>corp3</th>\n",
       "      <th>target3</th>\n",
       "      <th>natlty3</th>\n",
       "      <th>natlty3_txt</th>\n",
       "      <th>gname</th>\n",
       "      <th>gsubname</th>\n",
       "      <th>gname2</th>\n",
       "      <th>gsubname2</th>\n",
       "      <th>gname3</th>\n",
       "      <th>gsubname3</th>\n",
       "      <th>motive</th>\n",
       "      <th>guncertain1</th>\n",
       "      <th>guncertain2</th>\n",
       "      <th>guncertain3</th>\n",
       "      <th>individual</th>\n",
       "      <th>nperps</th>\n",
       "      <th>nperpcap</th>\n",
       "      <th>claimed</th>\n",
       "      <th>claimmode</th>\n",
       "      <th>claimmode_txt</th>\n",
       "      <th>claim2</th>\n",
       "      <th>claimmode2</th>\n",
       "      <th>claimmode2_txt</th>\n",
       "      <th>claim3</th>\n",
       "      <th>claimmode3</th>\n",
       "      <th>claimmode3_txt</th>\n",
       "      <th>compclaim</th>\n",
       "      <th>weaptype1</th>\n",
       "      <th>weaptype1_txt</th>\n",
       "      <th>weapsubtype1</th>\n",
       "      <th>weapsubtype1_txt</th>\n",
       "      <th>weaptype2</th>\n",
       "      <th>weaptype2_txt</th>\n",
       "      <th>weapsubtype2</th>\n",
       "      <th>weapsubtype2_txt</th>\n",
       "      <th>weaptype3</th>\n",
       "      <th>weaptype3_txt</th>\n",
       "      <th>weapsubtype3</th>\n",
       "      <th>weapsubtype3_txt</th>\n",
       "      <th>weaptype4</th>\n",
       "      <th>weaptype4_txt</th>\n",
       "      <th>weapsubtype4</th>\n",
       "      <th>weapsubtype4_txt</th>\n",
       "      <th>weapdetail</th>\n",
       "      <th>nkill</th>\n",
       "      <th>nkillus</th>\n",
       "      <th>nkillter</th>\n",
       "      <th>nwound</th>\n",
       "      <th>nwoundus</th>\n",
       "      <th>nwoundte</th>\n",
       "      <th>property</th>\n",
       "      <th>propextent</th>\n",
       "      <th>propextent_txt</th>\n",
       "      <th>propvalue</th>\n",
       "      <th>propcomment</th>\n",
       "      <th>ishostkid</th>\n",
       "      <th>nhostkid</th>\n",
       "      <th>nhostkidus</th>\n",
       "      <th>nhours</th>\n",
       "      <th>ndays</th>\n",
       "      <th>divert</th>\n",
       "      <th>kidhijcountry</th>\n",
       "      <th>ransom</th>\n",
       "      <th>ransomamt</th>\n",
       "      <th>ransomamtus</th>\n",
       "      <th>ransompaid</th>\n",
       "      <th>ransompaidus</th>\n",
       "      <th>ransomnote</th>\n",
       "      <th>hostkidoutcome</th>\n",
       "      <th>hostkidoutcome_txt</th>\n",
       "      <th>nreleased</th>\n",
       "      <th>addnotes</th>\n",
       "      <th>scite1</th>\n",
       "      <th>scite2</th>\n",
       "      <th>scite3</th>\n",
       "      <th>dbsource</th>\n",
       "      <th>INT_LOG</th>\n",
       "      <th>INT_IDEO</th>\n",
       "      <th>INT_MISC</th>\n",
       "      <th>INT_ANY</th>\n",
       "      <th>related</th>\n",
       "    </tr>\n",
       "  </thead>\n",
       "  <tbody>\n",
       "    <tr>\n",
       "      <th>0</th>\n",
       "      <td>197000000001</td>\n",
       "      <td>1970</td>\n",
       "      <td>7</td>\n",
       "      <td>2</td>\n",
       "      <td>NaN</td>\n",
       "      <td>0</td>\n",
       "      <td>NaN</td>\n",
       "      <td>58</td>\n",
       "      <td>Dominican Republic</td>\n",
       "      <td>2</td>\n",
       "      <td>Central America &amp; Caribbean</td>\n",
       "      <td>NaN</td>\n",
       "      <td>Santo Domingo</td>\n",
       "      <td>18.456792</td>\n",
       "      <td>-69.951164</td>\n",
       "      <td>1.0</td>\n",
       "      <td>0</td>\n",
       "      <td>NaN</td>\n",
       "      <td>NaN</td>\n",
       "      <td>1</td>\n",
       "      <td>1</td>\n",
       "      <td>1</td>\n",
       "      <td>0.0</td>\n",
       "      <td>NaN</td>\n",
       "      <td>NaN</td>\n",
       "      <td>0.0</td>\n",
       "      <td>1</td>\n",
       "      <td>0</td>\n",
       "      <td>1</td>\n",
       "      <td>Assassination</td>\n",
       "      <td>NaN</td>\n",
       "      <td>NaN</td>\n",
       "      <td>NaN</td>\n",
       "      <td>NaN</td>\n",
       "      <td>14</td>\n",
       "      <td>Private Citizens &amp; Property</td>\n",
       "      <td>68.0</td>\n",
       "      <td>Named Civilian</td>\n",
       "      <td>NaN</td>\n",
       "      <td>Julio Guzman</td>\n",
       "      <td>58.0</td>\n",
       "      <td>Dominican Republic</td>\n",
       "      <td>NaN</td>\n",
       "      <td>NaN</td>\n",
       "      <td>NaN</td>\n",
       "      <td>NaN</td>\n",
       "      <td>NaN</td>\n",
       "      <td>NaN</td>\n",
       "      <td>NaN</td>\n",
       "      <td>NaN</td>\n",
       "      <td>NaN</td>\n",
       "      <td>NaN</td>\n",
       "      <td>NaN</td>\n",
       "      <td>NaN</td>\n",
       "      <td>NaN</td>\n",
       "      <td>NaN</td>\n",
       "      <td>NaN</td>\n",
       "      <td>NaN</td>\n",
       "      <td>MANO-D</td>\n",
       "      <td>NaN</td>\n",
       "      <td>NaN</td>\n",
       "      <td>NaN</td>\n",
       "      <td>NaN</td>\n",
       "      <td>NaN</td>\n",
       "      <td>NaN</td>\n",
       "      <td>0.0</td>\n",
       "      <td>NaN</td>\n",
       "      <td>NaN</td>\n",
       "      <td>0</td>\n",
       "      <td>NaN</td>\n",
       "      <td>NaN</td>\n",
       "      <td>NaN</td>\n",
       "      <td>NaN</td>\n",
       "      <td>NaN</td>\n",
       "      <td>NaN</td>\n",
       "      <td>NaN</td>\n",
       "      <td>NaN</td>\n",
       "      <td>NaN</td>\n",
       "      <td>NaN</td>\n",
       "      <td>NaN</td>\n",
       "      <td>NaN</td>\n",
       "      <td>13</td>\n",
       "      <td>Unknown</td>\n",
       "      <td>NaN</td>\n",
       "      <td>NaN</td>\n",
       "      <td>NaN</td>\n",
       "      <td>NaN</td>\n",
       "      <td>NaN</td>\n",
       "      <td>NaN</td>\n",
       "      <td>NaN</td>\n",
       "      <td>NaN</td>\n",
       "      <td>NaN</td>\n",
       "      <td>NaN</td>\n",
       "      <td>NaN</td>\n",
       "      <td>NaN</td>\n",
       "      <td>NaN</td>\n",
       "      <td>NaN</td>\n",
       "      <td>NaN</td>\n",
       "      <td>1.0</td>\n",
       "      <td>NaN</td>\n",
       "      <td>NaN</td>\n",
       "      <td>0.0</td>\n",
       "      <td>NaN</td>\n",
       "      <td>NaN</td>\n",
       "      <td>0</td>\n",
       "      <td>NaN</td>\n",
       "      <td>NaN</td>\n",
       "      <td>NaN</td>\n",
       "      <td>NaN</td>\n",
       "      <td>0.0</td>\n",
       "      <td>NaN</td>\n",
       "      <td>NaN</td>\n",
       "      <td>NaN</td>\n",
       "      <td>NaN</td>\n",
       "      <td>NaN</td>\n",
       "      <td>NaN</td>\n",
       "      <td>0.0</td>\n",
       "      <td>NaN</td>\n",
       "      <td>NaN</td>\n",
       "      <td>NaN</td>\n",
       "      <td>NaN</td>\n",
       "      <td>NaN</td>\n",
       "      <td>NaN</td>\n",
       "      <td>NaN</td>\n",
       "      <td>NaN</td>\n",
       "      <td>NaN</td>\n",
       "      <td>NaN</td>\n",
       "      <td>NaN</td>\n",
       "      <td>NaN</td>\n",
       "      <td>PGIS</td>\n",
       "      <td>0</td>\n",
       "      <td>0</td>\n",
       "      <td>0</td>\n",
       "      <td>0</td>\n",
       "      <td>NaN</td>\n",
       "    </tr>\n",
       "    <tr>\n",
       "      <th>1</th>\n",
       "      <td>197000000002</td>\n",
       "      <td>1970</td>\n",
       "      <td>0</td>\n",
       "      <td>0</td>\n",
       "      <td>NaN</td>\n",
       "      <td>0</td>\n",
       "      <td>NaN</td>\n",
       "      <td>130</td>\n",
       "      <td>Mexico</td>\n",
       "      <td>1</td>\n",
       "      <td>North America</td>\n",
       "      <td>Federal</td>\n",
       "      <td>Mexico city</td>\n",
       "      <td>19.371887</td>\n",
       "      <td>-99.086624</td>\n",
       "      <td>1.0</td>\n",
       "      <td>0</td>\n",
       "      <td>NaN</td>\n",
       "      <td>NaN</td>\n",
       "      <td>1</td>\n",
       "      <td>1</td>\n",
       "      <td>1</td>\n",
       "      <td>0.0</td>\n",
       "      <td>NaN</td>\n",
       "      <td>NaN</td>\n",
       "      <td>0.0</td>\n",
       "      <td>1</td>\n",
       "      <td>0</td>\n",
       "      <td>6</td>\n",
       "      <td>Hostage Taking (Kidnapping)</td>\n",
       "      <td>NaN</td>\n",
       "      <td>NaN</td>\n",
       "      <td>NaN</td>\n",
       "      <td>NaN</td>\n",
       "      <td>7</td>\n",
       "      <td>Government (Diplomatic)</td>\n",
       "      <td>45.0</td>\n",
       "      <td>Diplomatic Personnel (outside of embassy, cons...</td>\n",
       "      <td>Belgian Ambassador Daughter</td>\n",
       "      <td>Nadine Chaval, daughter</td>\n",
       "      <td>21.0</td>\n",
       "      <td>Belgium</td>\n",
       "      <td>NaN</td>\n",
       "      <td>NaN</td>\n",
       "      <td>NaN</td>\n",
       "      <td>NaN</td>\n",
       "      <td>NaN</td>\n",
       "      <td>NaN</td>\n",
       "      <td>NaN</td>\n",
       "      <td>NaN</td>\n",
       "      <td>NaN</td>\n",
       "      <td>NaN</td>\n",
       "      <td>NaN</td>\n",
       "      <td>NaN</td>\n",
       "      <td>NaN</td>\n",
       "      <td>NaN</td>\n",
       "      <td>NaN</td>\n",
       "      <td>NaN</td>\n",
       "      <td>23rd of September Communist League</td>\n",
       "      <td>NaN</td>\n",
       "      <td>NaN</td>\n",
       "      <td>NaN</td>\n",
       "      <td>NaN</td>\n",
       "      <td>NaN</td>\n",
       "      <td>NaN</td>\n",
       "      <td>0.0</td>\n",
       "      <td>NaN</td>\n",
       "      <td>NaN</td>\n",
       "      <td>0</td>\n",
       "      <td>7.0</td>\n",
       "      <td>NaN</td>\n",
       "      <td>NaN</td>\n",
       "      <td>NaN</td>\n",
       "      <td>NaN</td>\n",
       "      <td>NaN</td>\n",
       "      <td>NaN</td>\n",
       "      <td>NaN</td>\n",
       "      <td>NaN</td>\n",
       "      <td>NaN</td>\n",
       "      <td>NaN</td>\n",
       "      <td>NaN</td>\n",
       "      <td>13</td>\n",
       "      <td>Unknown</td>\n",
       "      <td>NaN</td>\n",
       "      <td>NaN</td>\n",
       "      <td>NaN</td>\n",
       "      <td>NaN</td>\n",
       "      <td>NaN</td>\n",
       "      <td>NaN</td>\n",
       "      <td>NaN</td>\n",
       "      <td>NaN</td>\n",
       "      <td>NaN</td>\n",
       "      <td>NaN</td>\n",
       "      <td>NaN</td>\n",
       "      <td>NaN</td>\n",
       "      <td>NaN</td>\n",
       "      <td>NaN</td>\n",
       "      <td>NaN</td>\n",
       "      <td>0.0</td>\n",
       "      <td>NaN</td>\n",
       "      <td>NaN</td>\n",
       "      <td>0.0</td>\n",
       "      <td>NaN</td>\n",
       "      <td>NaN</td>\n",
       "      <td>0</td>\n",
       "      <td>NaN</td>\n",
       "      <td>NaN</td>\n",
       "      <td>NaN</td>\n",
       "      <td>NaN</td>\n",
       "      <td>1.0</td>\n",
       "      <td>1.0</td>\n",
       "      <td>0.0</td>\n",
       "      <td>NaN</td>\n",
       "      <td>NaN</td>\n",
       "      <td>NaN</td>\n",
       "      <td>Mexico</td>\n",
       "      <td>1.0</td>\n",
       "      <td>800000.0</td>\n",
       "      <td>NaN</td>\n",
       "      <td>NaN</td>\n",
       "      <td>NaN</td>\n",
       "      <td>NaN</td>\n",
       "      <td>NaN</td>\n",
       "      <td>NaN</td>\n",
       "      <td>NaN</td>\n",
       "      <td>NaN</td>\n",
       "      <td>NaN</td>\n",
       "      <td>NaN</td>\n",
       "      <td>NaN</td>\n",
       "      <td>PGIS</td>\n",
       "      <td>0</td>\n",
       "      <td>1</td>\n",
       "      <td>1</td>\n",
       "      <td>1</td>\n",
       "      <td>NaN</td>\n",
       "    </tr>\n",
       "    <tr>\n",
       "      <th>2</th>\n",
       "      <td>197001000001</td>\n",
       "      <td>1970</td>\n",
       "      <td>1</td>\n",
       "      <td>0</td>\n",
       "      <td>NaN</td>\n",
       "      <td>0</td>\n",
       "      <td>NaN</td>\n",
       "      <td>160</td>\n",
       "      <td>Philippines</td>\n",
       "      <td>5</td>\n",
       "      <td>Southeast Asia</td>\n",
       "      <td>Tarlac</td>\n",
       "      <td>Unknown</td>\n",
       "      <td>15.478598</td>\n",
       "      <td>120.599741</td>\n",
       "      <td>4.0</td>\n",
       "      <td>0</td>\n",
       "      <td>NaN</td>\n",
       "      <td>NaN</td>\n",
       "      <td>1</td>\n",
       "      <td>1</td>\n",
       "      <td>1</td>\n",
       "      <td>0.0</td>\n",
       "      <td>NaN</td>\n",
       "      <td>NaN</td>\n",
       "      <td>0.0</td>\n",
       "      <td>1</td>\n",
       "      <td>0</td>\n",
       "      <td>1</td>\n",
       "      <td>Assassination</td>\n",
       "      <td>NaN</td>\n",
       "      <td>NaN</td>\n",
       "      <td>NaN</td>\n",
       "      <td>NaN</td>\n",
       "      <td>10</td>\n",
       "      <td>Journalists &amp; Media</td>\n",
       "      <td>54.0</td>\n",
       "      <td>Radio Journalist/Staff/Facility</td>\n",
       "      <td>Voice of America</td>\n",
       "      <td>Employee</td>\n",
       "      <td>217.0</td>\n",
       "      <td>United States</td>\n",
       "      <td>NaN</td>\n",
       "      <td>NaN</td>\n",
       "      <td>NaN</td>\n",
       "      <td>NaN</td>\n",
       "      <td>NaN</td>\n",
       "      <td>NaN</td>\n",
       "      <td>NaN</td>\n",
       "      <td>NaN</td>\n",
       "      <td>NaN</td>\n",
       "      <td>NaN</td>\n",
       "      <td>NaN</td>\n",
       "      <td>NaN</td>\n",
       "      <td>NaN</td>\n",
       "      <td>NaN</td>\n",
       "      <td>NaN</td>\n",
       "      <td>NaN</td>\n",
       "      <td>Unknown</td>\n",
       "      <td>NaN</td>\n",
       "      <td>NaN</td>\n",
       "      <td>NaN</td>\n",
       "      <td>NaN</td>\n",
       "      <td>NaN</td>\n",
       "      <td>NaN</td>\n",
       "      <td>0.0</td>\n",
       "      <td>NaN</td>\n",
       "      <td>NaN</td>\n",
       "      <td>0</td>\n",
       "      <td>NaN</td>\n",
       "      <td>NaN</td>\n",
       "      <td>NaN</td>\n",
       "      <td>NaN</td>\n",
       "      <td>NaN</td>\n",
       "      <td>NaN</td>\n",
       "      <td>NaN</td>\n",
       "      <td>NaN</td>\n",
       "      <td>NaN</td>\n",
       "      <td>NaN</td>\n",
       "      <td>NaN</td>\n",
       "      <td>NaN</td>\n",
       "      <td>13</td>\n",
       "      <td>Unknown</td>\n",
       "      <td>NaN</td>\n",
       "      <td>NaN</td>\n",
       "      <td>NaN</td>\n",
       "      <td>NaN</td>\n",
       "      <td>NaN</td>\n",
       "      <td>NaN</td>\n",
       "      <td>NaN</td>\n",
       "      <td>NaN</td>\n",
       "      <td>NaN</td>\n",
       "      <td>NaN</td>\n",
       "      <td>NaN</td>\n",
       "      <td>NaN</td>\n",
       "      <td>NaN</td>\n",
       "      <td>NaN</td>\n",
       "      <td>NaN</td>\n",
       "      <td>1.0</td>\n",
       "      <td>NaN</td>\n",
       "      <td>NaN</td>\n",
       "      <td>0.0</td>\n",
       "      <td>NaN</td>\n",
       "      <td>NaN</td>\n",
       "      <td>0</td>\n",
       "      <td>NaN</td>\n",
       "      <td>NaN</td>\n",
       "      <td>NaN</td>\n",
       "      <td>NaN</td>\n",
       "      <td>0.0</td>\n",
       "      <td>NaN</td>\n",
       "      <td>NaN</td>\n",
       "      <td>NaN</td>\n",
       "      <td>NaN</td>\n",
       "      <td>NaN</td>\n",
       "      <td>NaN</td>\n",
       "      <td>0.0</td>\n",
       "      <td>NaN</td>\n",
       "      <td>NaN</td>\n",
       "      <td>NaN</td>\n",
       "      <td>NaN</td>\n",
       "      <td>NaN</td>\n",
       "      <td>NaN</td>\n",
       "      <td>NaN</td>\n",
       "      <td>NaN</td>\n",
       "      <td>NaN</td>\n",
       "      <td>NaN</td>\n",
       "      <td>NaN</td>\n",
       "      <td>NaN</td>\n",
       "      <td>PGIS</td>\n",
       "      <td>-9</td>\n",
       "      <td>-9</td>\n",
       "      <td>1</td>\n",
       "      <td>1</td>\n",
       "      <td>NaN</td>\n",
       "    </tr>\n",
       "    <tr>\n",
       "      <th>3</th>\n",
       "      <td>197001000002</td>\n",
       "      <td>1970</td>\n",
       "      <td>1</td>\n",
       "      <td>0</td>\n",
       "      <td>NaN</td>\n",
       "      <td>0</td>\n",
       "      <td>NaN</td>\n",
       "      <td>78</td>\n",
       "      <td>Greece</td>\n",
       "      <td>8</td>\n",
       "      <td>Western Europe</td>\n",
       "      <td>Attica</td>\n",
       "      <td>Athens</td>\n",
       "      <td>37.997490</td>\n",
       "      <td>23.762728</td>\n",
       "      <td>1.0</td>\n",
       "      <td>0</td>\n",
       "      <td>NaN</td>\n",
       "      <td>NaN</td>\n",
       "      <td>1</td>\n",
       "      <td>1</td>\n",
       "      <td>1</td>\n",
       "      <td>0.0</td>\n",
       "      <td>NaN</td>\n",
       "      <td>NaN</td>\n",
       "      <td>0.0</td>\n",
       "      <td>1</td>\n",
       "      <td>0</td>\n",
       "      <td>3</td>\n",
       "      <td>Bombing/Explosion</td>\n",
       "      <td>NaN</td>\n",
       "      <td>NaN</td>\n",
       "      <td>NaN</td>\n",
       "      <td>NaN</td>\n",
       "      <td>7</td>\n",
       "      <td>Government (Diplomatic)</td>\n",
       "      <td>46.0</td>\n",
       "      <td>Embassy/Consulate</td>\n",
       "      <td>NaN</td>\n",
       "      <td>U.S. Embassy</td>\n",
       "      <td>217.0</td>\n",
       "      <td>United States</td>\n",
       "      <td>NaN</td>\n",
       "      <td>NaN</td>\n",
       "      <td>NaN</td>\n",
       "      <td>NaN</td>\n",
       "      <td>NaN</td>\n",
       "      <td>NaN</td>\n",
       "      <td>NaN</td>\n",
       "      <td>NaN</td>\n",
       "      <td>NaN</td>\n",
       "      <td>NaN</td>\n",
       "      <td>NaN</td>\n",
       "      <td>NaN</td>\n",
       "      <td>NaN</td>\n",
       "      <td>NaN</td>\n",
       "      <td>NaN</td>\n",
       "      <td>NaN</td>\n",
       "      <td>Unknown</td>\n",
       "      <td>NaN</td>\n",
       "      <td>NaN</td>\n",
       "      <td>NaN</td>\n",
       "      <td>NaN</td>\n",
       "      <td>NaN</td>\n",
       "      <td>NaN</td>\n",
       "      <td>0.0</td>\n",
       "      <td>NaN</td>\n",
       "      <td>NaN</td>\n",
       "      <td>0</td>\n",
       "      <td>NaN</td>\n",
       "      <td>NaN</td>\n",
       "      <td>NaN</td>\n",
       "      <td>NaN</td>\n",
       "      <td>NaN</td>\n",
       "      <td>NaN</td>\n",
       "      <td>NaN</td>\n",
       "      <td>NaN</td>\n",
       "      <td>NaN</td>\n",
       "      <td>NaN</td>\n",
       "      <td>NaN</td>\n",
       "      <td>NaN</td>\n",
       "      <td>6</td>\n",
       "      <td>Explosives</td>\n",
       "      <td>16.0</td>\n",
       "      <td>Unknown Explosive Type</td>\n",
       "      <td>NaN</td>\n",
       "      <td>NaN</td>\n",
       "      <td>NaN</td>\n",
       "      <td>NaN</td>\n",
       "      <td>NaN</td>\n",
       "      <td>NaN</td>\n",
       "      <td>NaN</td>\n",
       "      <td>NaN</td>\n",
       "      <td>NaN</td>\n",
       "      <td>NaN</td>\n",
       "      <td>NaN</td>\n",
       "      <td>NaN</td>\n",
       "      <td>Explosive</td>\n",
       "      <td>NaN</td>\n",
       "      <td>NaN</td>\n",
       "      <td>NaN</td>\n",
       "      <td>NaN</td>\n",
       "      <td>NaN</td>\n",
       "      <td>NaN</td>\n",
       "      <td>1</td>\n",
       "      <td>NaN</td>\n",
       "      <td>NaN</td>\n",
       "      <td>NaN</td>\n",
       "      <td>NaN</td>\n",
       "      <td>0.0</td>\n",
       "      <td>NaN</td>\n",
       "      <td>NaN</td>\n",
       "      <td>NaN</td>\n",
       "      <td>NaN</td>\n",
       "      <td>NaN</td>\n",
       "      <td>NaN</td>\n",
       "      <td>0.0</td>\n",
       "      <td>NaN</td>\n",
       "      <td>NaN</td>\n",
       "      <td>NaN</td>\n",
       "      <td>NaN</td>\n",
       "      <td>NaN</td>\n",
       "      <td>NaN</td>\n",
       "      <td>NaN</td>\n",
       "      <td>NaN</td>\n",
       "      <td>NaN</td>\n",
       "      <td>NaN</td>\n",
       "      <td>NaN</td>\n",
       "      <td>NaN</td>\n",
       "      <td>PGIS</td>\n",
       "      <td>-9</td>\n",
       "      <td>-9</td>\n",
       "      <td>1</td>\n",
       "      <td>1</td>\n",
       "      <td>NaN</td>\n",
       "    </tr>\n",
       "    <tr>\n",
       "      <th>4</th>\n",
       "      <td>197001000003</td>\n",
       "      <td>1970</td>\n",
       "      <td>1</td>\n",
       "      <td>0</td>\n",
       "      <td>NaN</td>\n",
       "      <td>0</td>\n",
       "      <td>NaN</td>\n",
       "      <td>101</td>\n",
       "      <td>Japan</td>\n",
       "      <td>4</td>\n",
       "      <td>East Asia</td>\n",
       "      <td>Fukouka</td>\n",
       "      <td>Fukouka</td>\n",
       "      <td>33.580412</td>\n",
       "      <td>130.396361</td>\n",
       "      <td>1.0</td>\n",
       "      <td>0</td>\n",
       "      <td>NaN</td>\n",
       "      <td>NaN</td>\n",
       "      <td>1</td>\n",
       "      <td>1</td>\n",
       "      <td>1</td>\n",
       "      <td>-9.0</td>\n",
       "      <td>NaN</td>\n",
       "      <td>NaN</td>\n",
       "      <td>0.0</td>\n",
       "      <td>1</td>\n",
       "      <td>0</td>\n",
       "      <td>7</td>\n",
       "      <td>Facility/Infrastructure Attack</td>\n",
       "      <td>NaN</td>\n",
       "      <td>NaN</td>\n",
       "      <td>NaN</td>\n",
       "      <td>NaN</td>\n",
       "      <td>7</td>\n",
       "      <td>Government (Diplomatic)</td>\n",
       "      <td>46.0</td>\n",
       "      <td>Embassy/Consulate</td>\n",
       "      <td>NaN</td>\n",
       "      <td>U.S. Consulate</td>\n",
       "      <td>217.0</td>\n",
       "      <td>United States</td>\n",
       "      <td>NaN</td>\n",
       "      <td>NaN</td>\n",
       "      <td>NaN</td>\n",
       "      <td>NaN</td>\n",
       "      <td>NaN</td>\n",
       "      <td>NaN</td>\n",
       "      <td>NaN</td>\n",
       "      <td>NaN</td>\n",
       "      <td>NaN</td>\n",
       "      <td>NaN</td>\n",
       "      <td>NaN</td>\n",
       "      <td>NaN</td>\n",
       "      <td>NaN</td>\n",
       "      <td>NaN</td>\n",
       "      <td>NaN</td>\n",
       "      <td>NaN</td>\n",
       "      <td>Unknown</td>\n",
       "      <td>NaN</td>\n",
       "      <td>NaN</td>\n",
       "      <td>NaN</td>\n",
       "      <td>NaN</td>\n",
       "      <td>NaN</td>\n",
       "      <td>NaN</td>\n",
       "      <td>0.0</td>\n",
       "      <td>NaN</td>\n",
       "      <td>NaN</td>\n",
       "      <td>0</td>\n",
       "      <td>NaN</td>\n",
       "      <td>NaN</td>\n",
       "      <td>NaN</td>\n",
       "      <td>NaN</td>\n",
       "      <td>NaN</td>\n",
       "      <td>NaN</td>\n",
       "      <td>NaN</td>\n",
       "      <td>NaN</td>\n",
       "      <td>NaN</td>\n",
       "      <td>NaN</td>\n",
       "      <td>NaN</td>\n",
       "      <td>NaN</td>\n",
       "      <td>8</td>\n",
       "      <td>Incendiary</td>\n",
       "      <td>NaN</td>\n",
       "      <td>NaN</td>\n",
       "      <td>NaN</td>\n",
       "      <td>NaN</td>\n",
       "      <td>NaN</td>\n",
       "      <td>NaN</td>\n",
       "      <td>NaN</td>\n",
       "      <td>NaN</td>\n",
       "      <td>NaN</td>\n",
       "      <td>NaN</td>\n",
       "      <td>NaN</td>\n",
       "      <td>NaN</td>\n",
       "      <td>NaN</td>\n",
       "      <td>NaN</td>\n",
       "      <td>Incendiary</td>\n",
       "      <td>NaN</td>\n",
       "      <td>NaN</td>\n",
       "      <td>NaN</td>\n",
       "      <td>NaN</td>\n",
       "      <td>NaN</td>\n",
       "      <td>NaN</td>\n",
       "      <td>1</td>\n",
       "      <td>NaN</td>\n",
       "      <td>NaN</td>\n",
       "      <td>NaN</td>\n",
       "      <td>NaN</td>\n",
       "      <td>0.0</td>\n",
       "      <td>NaN</td>\n",
       "      <td>NaN</td>\n",
       "      <td>NaN</td>\n",
       "      <td>NaN</td>\n",
       "      <td>NaN</td>\n",
       "      <td>NaN</td>\n",
       "      <td>0.0</td>\n",
       "      <td>NaN</td>\n",
       "      <td>NaN</td>\n",
       "      <td>NaN</td>\n",
       "      <td>NaN</td>\n",
       "      <td>NaN</td>\n",
       "      <td>NaN</td>\n",
       "      <td>NaN</td>\n",
       "      <td>NaN</td>\n",
       "      <td>NaN</td>\n",
       "      <td>NaN</td>\n",
       "      <td>NaN</td>\n",
       "      <td>NaN</td>\n",
       "      <td>PGIS</td>\n",
       "      <td>-9</td>\n",
       "      <td>-9</td>\n",
       "      <td>1</td>\n",
       "      <td>1</td>\n",
       "      <td>NaN</td>\n",
       "    </tr>\n",
       "  </tbody>\n",
       "</table>\n",
       "</div>"
      ],
      "text/plain": [
       "        eventid  iyear  imonth  iday approxdate  extended resolution  country  \\\n",
       "0  197000000001   1970       7     2        NaN         0        NaN       58   \n",
       "1  197000000002   1970       0     0        NaN         0        NaN      130   \n",
       "2  197001000001   1970       1     0        NaN         0        NaN      160   \n",
       "3  197001000002   1970       1     0        NaN         0        NaN       78   \n",
       "4  197001000003   1970       1     0        NaN         0        NaN      101   \n",
       "\n",
       "          country_txt  region                   region_txt provstate  \\\n",
       "0  Dominican Republic       2  Central America & Caribbean       NaN   \n",
       "1              Mexico       1                North America   Federal   \n",
       "2         Philippines       5               Southeast Asia    Tarlac   \n",
       "3              Greece       8               Western Europe    Attica   \n",
       "4               Japan       4                    East Asia   Fukouka   \n",
       "\n",
       "            city   latitude   longitude  specificity  vicinity location  \\\n",
       "0  Santo Domingo  18.456792  -69.951164          1.0         0      NaN   \n",
       "1    Mexico city  19.371887  -99.086624          1.0         0      NaN   \n",
       "2        Unknown  15.478598  120.599741          4.0         0      NaN   \n",
       "3         Athens  37.997490   23.762728          1.0         0      NaN   \n",
       "4        Fukouka  33.580412  130.396361          1.0         0      NaN   \n",
       "\n",
       "  summary  crit1  crit2  crit3  doubtterr  alternative alternative_txt  \\\n",
       "0     NaN      1      1      1        0.0          NaN             NaN   \n",
       "1     NaN      1      1      1        0.0          NaN             NaN   \n",
       "2     NaN      1      1      1        0.0          NaN             NaN   \n",
       "3     NaN      1      1      1        0.0          NaN             NaN   \n",
       "4     NaN      1      1      1       -9.0          NaN             NaN   \n",
       "\n",
       "   multiple  success  suicide  attacktype1                 attacktype1_txt  \\\n",
       "0       0.0        1        0            1                   Assassination   \n",
       "1       0.0        1        0            6     Hostage Taking (Kidnapping)   \n",
       "2       0.0        1        0            1                   Assassination   \n",
       "3       0.0        1        0            3               Bombing/Explosion   \n",
       "4       0.0        1        0            7  Facility/Infrastructure Attack   \n",
       "\n",
       "   attacktype2 attacktype2_txt  attacktype3 attacktype3_txt  targtype1  \\\n",
       "0          NaN             NaN          NaN             NaN         14   \n",
       "1          NaN             NaN          NaN             NaN          7   \n",
       "2          NaN             NaN          NaN             NaN         10   \n",
       "3          NaN             NaN          NaN             NaN          7   \n",
       "4          NaN             NaN          NaN             NaN          7   \n",
       "\n",
       "                 targtype1_txt  targsubtype1  \\\n",
       "0  Private Citizens & Property          68.0   \n",
       "1      Government (Diplomatic)          45.0   \n",
       "2          Journalists & Media          54.0   \n",
       "3      Government (Diplomatic)          46.0   \n",
       "4      Government (Diplomatic)          46.0   \n",
       "\n",
       "                                    targsubtype1_txt  \\\n",
       "0                                     Named Civilian   \n",
       "1  Diplomatic Personnel (outside of embassy, cons...   \n",
       "2                    Radio Journalist/Staff/Facility   \n",
       "3                                  Embassy/Consulate   \n",
       "4                                  Embassy/Consulate   \n",
       "\n",
       "                         corp1                  target1  natlty1  \\\n",
       "0                          NaN             Julio Guzman     58.0   \n",
       "1  Belgian Ambassador Daughter  Nadine Chaval, daughter     21.0   \n",
       "2             Voice of America                 Employee    217.0   \n",
       "3                          NaN             U.S. Embassy    217.0   \n",
       "4                          NaN           U.S. Consulate    217.0   \n",
       "\n",
       "          natlty1_txt  targtype2 targtype2_txt  targsubtype2 targsubtype2_txt  \\\n",
       "0  Dominican Republic        NaN           NaN           NaN              NaN   \n",
       "1             Belgium        NaN           NaN           NaN              NaN   \n",
       "2       United States        NaN           NaN           NaN              NaN   \n",
       "3       United States        NaN           NaN           NaN              NaN   \n",
       "4       United States        NaN           NaN           NaN              NaN   \n",
       "\n",
       "  corp2 target2  natlty2 natlty2_txt  targtype3 targtype3_txt  targsubtype3  \\\n",
       "0   NaN     NaN      NaN         NaN        NaN           NaN           NaN   \n",
       "1   NaN     NaN      NaN         NaN        NaN           NaN           NaN   \n",
       "2   NaN     NaN      NaN         NaN        NaN           NaN           NaN   \n",
       "3   NaN     NaN      NaN         NaN        NaN           NaN           NaN   \n",
       "4   NaN     NaN      NaN         NaN        NaN           NaN           NaN   \n",
       "\n",
       "  targsubtype3_txt corp3 target3  natlty3 natlty3_txt  \\\n",
       "0              NaN   NaN     NaN      NaN         NaN   \n",
       "1              NaN   NaN     NaN      NaN         NaN   \n",
       "2              NaN   NaN     NaN      NaN         NaN   \n",
       "3              NaN   NaN     NaN      NaN         NaN   \n",
       "4              NaN   NaN     NaN      NaN         NaN   \n",
       "\n",
       "                                gname gsubname gname2 gsubname2 gname3  \\\n",
       "0                              MANO-D      NaN    NaN       NaN    NaN   \n",
       "1  23rd of September Communist League      NaN    NaN       NaN    NaN   \n",
       "2                             Unknown      NaN    NaN       NaN    NaN   \n",
       "3                             Unknown      NaN    NaN       NaN    NaN   \n",
       "4                             Unknown      NaN    NaN       NaN    NaN   \n",
       "\n",
       "  gsubname3 motive  guncertain1  guncertain2  guncertain3  individual  nperps  \\\n",
       "0       NaN    NaN          0.0          NaN          NaN           0     NaN   \n",
       "1       NaN    NaN          0.0          NaN          NaN           0     7.0   \n",
       "2       NaN    NaN          0.0          NaN          NaN           0     NaN   \n",
       "3       NaN    NaN          0.0          NaN          NaN           0     NaN   \n",
       "4       NaN    NaN          0.0          NaN          NaN           0     NaN   \n",
       "\n",
       "   nperpcap  claimed  claimmode claimmode_txt  claim2  claimmode2  \\\n",
       "0       NaN      NaN        NaN           NaN     NaN         NaN   \n",
       "1       NaN      NaN        NaN           NaN     NaN         NaN   \n",
       "2       NaN      NaN        NaN           NaN     NaN         NaN   \n",
       "3       NaN      NaN        NaN           NaN     NaN         NaN   \n",
       "4       NaN      NaN        NaN           NaN     NaN         NaN   \n",
       "\n",
       "  claimmode2_txt  claim3  claimmode3 claimmode3_txt  compclaim  weaptype1  \\\n",
       "0            NaN     NaN         NaN            NaN        NaN         13   \n",
       "1            NaN     NaN         NaN            NaN        NaN         13   \n",
       "2            NaN     NaN         NaN            NaN        NaN         13   \n",
       "3            NaN     NaN         NaN            NaN        NaN          6   \n",
       "4            NaN     NaN         NaN            NaN        NaN          8   \n",
       "\n",
       "  weaptype1_txt  weapsubtype1        weapsubtype1_txt  weaptype2  \\\n",
       "0       Unknown           NaN                     NaN        NaN   \n",
       "1       Unknown           NaN                     NaN        NaN   \n",
       "2       Unknown           NaN                     NaN        NaN   \n",
       "3    Explosives          16.0  Unknown Explosive Type        NaN   \n",
       "4    Incendiary           NaN                     NaN        NaN   \n",
       "\n",
       "  weaptype2_txt  weapsubtype2 weapsubtype2_txt  weaptype3 weaptype3_txt  \\\n",
       "0           NaN           NaN              NaN        NaN           NaN   \n",
       "1           NaN           NaN              NaN        NaN           NaN   \n",
       "2           NaN           NaN              NaN        NaN           NaN   \n",
       "3           NaN           NaN              NaN        NaN           NaN   \n",
       "4           NaN           NaN              NaN        NaN           NaN   \n",
       "\n",
       "   weapsubtype3 weapsubtype3_txt  weaptype4 weaptype4_txt  weapsubtype4  \\\n",
       "0           NaN              NaN        NaN           NaN           NaN   \n",
       "1           NaN              NaN        NaN           NaN           NaN   \n",
       "2           NaN              NaN        NaN           NaN           NaN   \n",
       "3           NaN              NaN        NaN           NaN           NaN   \n",
       "4           NaN              NaN        NaN           NaN           NaN   \n",
       "\n",
       "  weapsubtype4_txt  weapdetail  nkill  nkillus  nkillter  nwound  nwoundus  \\\n",
       "0              NaN         NaN    1.0      NaN       NaN     0.0       NaN   \n",
       "1              NaN         NaN    0.0      NaN       NaN     0.0       NaN   \n",
       "2              NaN         NaN    1.0      NaN       NaN     0.0       NaN   \n",
       "3              NaN   Explosive    NaN      NaN       NaN     NaN       NaN   \n",
       "4              NaN  Incendiary    NaN      NaN       NaN     NaN       NaN   \n",
       "\n",
       "   nwoundte  property  propextent propextent_txt  propvalue propcomment  \\\n",
       "0       NaN         0         NaN            NaN        NaN         NaN   \n",
       "1       NaN         0         NaN            NaN        NaN         NaN   \n",
       "2       NaN         0         NaN            NaN        NaN         NaN   \n",
       "3       NaN         1         NaN            NaN        NaN         NaN   \n",
       "4       NaN         1         NaN            NaN        NaN         NaN   \n",
       "\n",
       "   ishostkid  nhostkid  nhostkidus  nhours  ndays divert kidhijcountry  \\\n",
       "0        0.0       NaN         NaN     NaN    NaN    NaN           NaN   \n",
       "1        1.0       1.0         0.0     NaN    NaN    NaN        Mexico   \n",
       "2        0.0       NaN         NaN     NaN    NaN    NaN           NaN   \n",
       "3        0.0       NaN         NaN     NaN    NaN    NaN           NaN   \n",
       "4        0.0       NaN         NaN     NaN    NaN    NaN           NaN   \n",
       "\n",
       "   ransom  ransomamt  ransomamtus  ransompaid  ransompaidus ransomnote  \\\n",
       "0     0.0        NaN          NaN         NaN           NaN        NaN   \n",
       "1     1.0   800000.0          NaN         NaN           NaN        NaN   \n",
       "2     0.0        NaN          NaN         NaN           NaN        NaN   \n",
       "3     0.0        NaN          NaN         NaN           NaN        NaN   \n",
       "4     0.0        NaN          NaN         NaN           NaN        NaN   \n",
       "\n",
       "   hostkidoutcome hostkidoutcome_txt  nreleased addnotes scite1 scite2 scite3  \\\n",
       "0             NaN                NaN        NaN      NaN    NaN    NaN    NaN   \n",
       "1             NaN                NaN        NaN      NaN    NaN    NaN    NaN   \n",
       "2             NaN                NaN        NaN      NaN    NaN    NaN    NaN   \n",
       "3             NaN                NaN        NaN      NaN    NaN    NaN    NaN   \n",
       "4             NaN                NaN        NaN      NaN    NaN    NaN    NaN   \n",
       "\n",
       "  dbsource  INT_LOG  INT_IDEO  INT_MISC  INT_ANY related  \n",
       "0     PGIS        0         0         0        0     NaN  \n",
       "1     PGIS        0         1         1        1     NaN  \n",
       "2     PGIS       -9        -9         1        1     NaN  \n",
       "3     PGIS       -9        -9         1        1     NaN  \n",
       "4     PGIS       -9        -9         1        1     NaN  "
      ]
     },
     "execution_count": 8,
     "metadata": {},
     "output_type": "execute_result"
    }
   ],
   "source": [
    "#Import the dataset\n",
    "data = pd.read_csv(\"C:\\\\Users\\\\Admin\\\\Downloads\\\\Global Terrorism\\\\data.csv\", encoding = 'ISO-8859-1')\n",
    "pd.set_option('max_columns', None)\n",
    "pd.set_option('max_rows', None)\n",
    "data.head()"
   ]
  },
  {
   "cell_type": "code",
   "execution_count": 10,
   "metadata": {},
   "outputs": [
    {
     "data": {
      "text/plain": [
       "(181691, 135)"
      ]
     },
     "execution_count": 10,
     "metadata": {},
     "output_type": "execute_result"
    }
   ],
   "source": [
    "#finding info of the dataset\n",
    "data.shape"
   ]
  },
  {
   "cell_type": "code",
   "execution_count": 11,
   "metadata": {},
   "outputs": [],
   "source": [
    "#Removing any duplicate values\n",
    "data.drop_duplicates(inplace=True)"
   ]
  },
  {
   "cell_type": "markdown",
   "metadata": {},
   "source": [
    "# Missing values\n"
   ]
  },
  {
   "cell_type": "code",
   "execution_count": 12,
   "metadata": {},
   "outputs": [
    {
     "data": {
      "text/html": [
       "<div>\n",
       "<style scoped>\n",
       "    .dataframe tbody tr th:only-of-type {\n",
       "        vertical-align: middle;\n",
       "    }\n",
       "\n",
       "    .dataframe tbody tr th {\n",
       "        vertical-align: top;\n",
       "    }\n",
       "\n",
       "    .dataframe thead th {\n",
       "        text-align: right;\n",
       "    }\n",
       "</style>\n",
       "<table border=\"1\" class=\"dataframe\">\n",
       "  <thead>\n",
       "    <tr style=\"text-align: right;\">\n",
       "      <th></th>\n",
       "      <th>index</th>\n",
       "      <th>0</th>\n",
       "    </tr>\n",
       "  </thead>\n",
       "  <tbody>\n",
       "    <tr>\n",
       "      <th>63</th>\n",
       "      <td>gsubname3</td>\n",
       "      <td>181671</td>\n",
       "    </tr>\n",
       "    <tr>\n",
       "      <th>96</th>\n",
       "      <td>weapsubtype4_txt</td>\n",
       "      <td>181621</td>\n",
       "    </tr>\n",
       "    <tr>\n",
       "      <th>95</th>\n",
       "      <td>weapsubtype4</td>\n",
       "      <td>181621</td>\n",
       "    </tr>\n",
       "    <tr>\n",
       "      <th>93</th>\n",
       "      <td>weaptype4</td>\n",
       "      <td>181618</td>\n",
       "    </tr>\n",
       "    <tr>\n",
       "      <th>94</th>\n",
       "      <td>weaptype4_txt</td>\n",
       "      <td>181618</td>\n",
       "    </tr>\n",
       "    <tr>\n",
       "      <th>78</th>\n",
       "      <td>claimmode3</td>\n",
       "      <td>181558</td>\n",
       "    </tr>\n",
       "    <tr>\n",
       "      <th>79</th>\n",
       "      <td>claimmode3_txt</td>\n",
       "      <td>181558</td>\n",
       "    </tr>\n",
       "    <tr>\n",
       "      <th>61</th>\n",
       "      <td>gsubname2</td>\n",
       "      <td>181531</td>\n",
       "    </tr>\n",
       "    <tr>\n",
       "      <th>77</th>\n",
       "      <td>claim3</td>\n",
       "      <td>181373</td>\n",
       "    </tr>\n",
       "    <tr>\n",
       "      <th>67</th>\n",
       "      <td>guncertain3</td>\n",
       "      <td>181371</td>\n",
       "    </tr>\n",
       "    <tr>\n",
       "      <th>62</th>\n",
       "      <td>gname3</td>\n",
       "      <td>181367</td>\n",
       "    </tr>\n",
       "    <tr>\n",
       "      <th>114</th>\n",
       "      <td>divert</td>\n",
       "      <td>181367</td>\n",
       "    </tr>\n",
       "    <tr>\n",
       "      <th>32</th>\n",
       "      <td>attacktype3</td>\n",
       "      <td>181263</td>\n",
       "    </tr>\n",
       "    <tr>\n",
       "      <th>33</th>\n",
       "      <td>attacktype3_txt</td>\n",
       "      <td>181263</td>\n",
       "    </tr>\n",
       "    <tr>\n",
       "      <th>121</th>\n",
       "      <td>ransomnote</td>\n",
       "      <td>181177</td>\n",
       "    </tr>\n",
       "    <tr>\n",
       "      <th>120</th>\n",
       "      <td>ransompaidus</td>\n",
       "      <td>181139</td>\n",
       "    </tr>\n",
       "    <tr>\n",
       "      <th>118</th>\n",
       "      <td>ransomamtus</td>\n",
       "      <td>181128</td>\n",
       "    </tr>\n",
       "    <tr>\n",
       "      <th>75</th>\n",
       "      <td>claimmode2</td>\n",
       "      <td>181075</td>\n",
       "    </tr>\n",
       "    <tr>\n",
       "      <th>76</th>\n",
       "      <td>claimmode2_txt</td>\n",
       "      <td>181075</td>\n",
       "    </tr>\n",
       "    <tr>\n",
       "      <th>119</th>\n",
       "      <td>ransompaid</td>\n",
       "      <td>180917</td>\n",
       "    </tr>\n",
       "    <tr>\n",
       "      <th>54</th>\n",
       "      <td>corp3</td>\n",
       "      <td>180665</td>\n",
       "    </tr>\n",
       "    <tr>\n",
       "      <th>52</th>\n",
       "      <td>targsubtype3</td>\n",
       "      <td>180594</td>\n",
       "    </tr>\n",
       "    <tr>\n",
       "      <th>53</th>\n",
       "      <td>targsubtype3_txt</td>\n",
       "      <td>180594</td>\n",
       "    </tr>\n",
       "    <tr>\n",
       "      <th>57</th>\n",
       "      <td>natlty3_txt</td>\n",
       "      <td>180544</td>\n",
       "    </tr>\n",
       "    <tr>\n",
       "      <th>56</th>\n",
       "      <td>natlty3</td>\n",
       "      <td>180544</td>\n",
       "    </tr>\n",
       "    <tr>\n",
       "      <th>55</th>\n",
       "      <td>target3</td>\n",
       "      <td>180516</td>\n",
       "    </tr>\n",
       "    <tr>\n",
       "      <th>50</th>\n",
       "      <td>targtype3</td>\n",
       "      <td>180515</td>\n",
       "    </tr>\n",
       "    <tr>\n",
       "      <th>51</th>\n",
       "      <td>targtype3_txt</td>\n",
       "      <td>180515</td>\n",
       "    </tr>\n",
       "    <tr>\n",
       "      <th>117</th>\n",
       "      <td>ransomamt</td>\n",
       "      <td>180341</td>\n",
       "    </tr>\n",
       "    <tr>\n",
       "      <th>92</th>\n",
       "      <td>weapsubtype3_txt</td>\n",
       "      <td>179998</td>\n",
       "    </tr>\n",
       "    <tr>\n",
       "      <th>91</th>\n",
       "      <td>weapsubtype3</td>\n",
       "      <td>179998</td>\n",
       "    </tr>\n",
       "    <tr>\n",
       "      <th>90</th>\n",
       "      <td>weaptype3_txt</td>\n",
       "      <td>179828</td>\n",
       "    </tr>\n",
       "    <tr>\n",
       "      <th>89</th>\n",
       "      <td>weaptype3</td>\n",
       "      <td>179828</td>\n",
       "    </tr>\n",
       "    <tr>\n",
       "      <th>74</th>\n",
       "      <td>claim2</td>\n",
       "      <td>179801</td>\n",
       "    </tr>\n",
       "    <tr>\n",
       "      <th>66</th>\n",
       "      <td>guncertain2</td>\n",
       "      <td>179736</td>\n",
       "    </tr>\n",
       "    <tr>\n",
       "      <th>60</th>\n",
       "      <td>gname2</td>\n",
       "      <td>179678</td>\n",
       "    </tr>\n",
       "    <tr>\n",
       "      <th>6</th>\n",
       "      <td>resolution</td>\n",
       "      <td>179471</td>\n",
       "    </tr>\n",
       "    <tr>\n",
       "      <th>115</th>\n",
       "      <td>kidhijcountry</td>\n",
       "      <td>178386</td>\n",
       "    </tr>\n",
       "    <tr>\n",
       "      <th>112</th>\n",
       "      <td>nhours</td>\n",
       "      <td>177628</td>\n",
       "    </tr>\n",
       "    <tr>\n",
       "      <th>80</th>\n",
       "      <td>compclaim</td>\n",
       "      <td>176852</td>\n",
       "    </tr>\n",
       "    <tr>\n",
       "      <th>59</th>\n",
       "      <td>gsubname</td>\n",
       "      <td>175801</td>\n",
       "    </tr>\n",
       "    <tr>\n",
       "      <th>30</th>\n",
       "      <td>attacktype2</td>\n",
       "      <td>175377</td>\n",
       "    </tr>\n",
       "    <tr>\n",
       "      <th>31</th>\n",
       "      <td>attacktype2_txt</td>\n",
       "      <td>175377</td>\n",
       "    </tr>\n",
       "    <tr>\n",
       "      <th>113</th>\n",
       "      <td>ndays</td>\n",
       "      <td>173567</td>\n",
       "    </tr>\n",
       "    <tr>\n",
       "      <th>4</th>\n",
       "      <td>approxdate</td>\n",
       "      <td>172452</td>\n",
       "    </tr>\n",
       "    <tr>\n",
       "      <th>46</th>\n",
       "      <td>corp2</td>\n",
       "      <td>171574</td>\n",
       "    </tr>\n",
       "    <tr>\n",
       "      <th>124</th>\n",
       "      <td>nreleased</td>\n",
       "      <td>171291</td>\n",
       "    </tr>\n",
       "    <tr>\n",
       "      <th>44</th>\n",
       "      <td>targsubtype2</td>\n",
       "      <td>171006</td>\n",
       "    </tr>\n",
       "    <tr>\n",
       "      <th>45</th>\n",
       "      <td>targsubtype2_txt</td>\n",
       "      <td>171006</td>\n",
       "    </tr>\n",
       "    <tr>\n",
       "      <th>48</th>\n",
       "      <td>natlty2</td>\n",
       "      <td>170863</td>\n",
       "    </tr>\n",
       "    <tr>\n",
       "      <th>49</th>\n",
       "      <td>natlty2_txt</td>\n",
       "      <td>170863</td>\n",
       "    </tr>\n",
       "    <tr>\n",
       "      <th>123</th>\n",
       "      <td>hostkidoutcome_txt</td>\n",
       "      <td>170700</td>\n",
       "    </tr>\n",
       "    <tr>\n",
       "      <th>122</th>\n",
       "      <td>hostkidoutcome</td>\n",
       "      <td>170700</td>\n",
       "    </tr>\n",
       "    <tr>\n",
       "      <th>47</th>\n",
       "      <td>target2</td>\n",
       "      <td>170671</td>\n",
       "    </tr>\n",
       "    <tr>\n",
       "      <th>43</th>\n",
       "      <td>targtype2_txt</td>\n",
       "      <td>170547</td>\n",
       "    </tr>\n",
       "    <tr>\n",
       "      <th>42</th>\n",
       "      <td>targtype2</td>\n",
       "      <td>170547</td>\n",
       "    </tr>\n",
       "    <tr>\n",
       "      <th>87</th>\n",
       "      <td>weapsubtype2</td>\n",
       "      <td>170149</td>\n",
       "    </tr>\n",
       "    <tr>\n",
       "      <th>88</th>\n",
       "      <td>weapsubtype2_txt</td>\n",
       "      <td>170149</td>\n",
       "    </tr>\n",
       "    <tr>\n",
       "      <th>85</th>\n",
       "      <td>weaptype2</td>\n",
       "      <td>168564</td>\n",
       "    </tr>\n",
       "    <tr>\n",
       "      <th>86</th>\n",
       "      <td>weaptype2_txt</td>\n",
       "      <td>168564</td>\n",
       "    </tr>\n",
       "    <tr>\n",
       "      <th>111</th>\n",
       "      <td>nhostkidus</td>\n",
       "      <td>168174</td>\n",
       "    </tr>\n",
       "    <tr>\n",
       "      <th>110</th>\n",
       "      <td>nhostkid</td>\n",
       "      <td>168119</td>\n",
       "    </tr>\n",
       "    <tr>\n",
       "      <th>73</th>\n",
       "      <td>claimmode_txt</td>\n",
       "      <td>162608</td>\n",
       "    </tr>\n",
       "    <tr>\n",
       "      <th>72</th>\n",
       "      <td>claimmode</td>\n",
       "      <td>162608</td>\n",
       "    </tr>\n",
       "    <tr>\n",
       "      <th>134</th>\n",
       "      <td>related</td>\n",
       "      <td>156653</td>\n",
       "    </tr>\n",
       "    <tr>\n",
       "      <th>125</th>\n",
       "      <td>addnotes</td>\n",
       "      <td>153402</td>\n",
       "    </tr>\n",
       "    <tr>\n",
       "      <th>23</th>\n",
       "      <td>alternative</td>\n",
       "      <td>152680</td>\n",
       "    </tr>\n",
       "    <tr>\n",
       "      <th>24</th>\n",
       "      <td>alternative_txt</td>\n",
       "      <td>152680</td>\n",
       "    </tr>\n",
       "    <tr>\n",
       "      <th>107</th>\n",
       "      <td>propvalue</td>\n",
       "      <td>142702</td>\n",
       "    </tr>\n",
       "    <tr>\n",
       "      <th>128</th>\n",
       "      <td>scite3</td>\n",
       "      <td>138175</td>\n",
       "    </tr>\n",
       "    <tr>\n",
       "      <th>64</th>\n",
       "      <td>motive</td>\n",
       "      <td>131130</td>\n",
       "    </tr>\n",
       "    <tr>\n",
       "      <th>17</th>\n",
       "      <td>location</td>\n",
       "      <td>126196</td>\n",
       "    </tr>\n",
       "    <tr>\n",
       "      <th>108</th>\n",
       "      <td>propcomment</td>\n",
       "      <td>123732</td>\n",
       "    </tr>\n",
       "    <tr>\n",
       "      <th>105</th>\n",
       "      <td>propextent</td>\n",
       "      <td>117626</td>\n",
       "    </tr>\n",
       "    <tr>\n",
       "      <th>106</th>\n",
       "      <td>propextent_txt</td>\n",
       "      <td>117626</td>\n",
       "    </tr>\n",
       "    <tr>\n",
       "      <th>127</th>\n",
       "      <td>scite2</td>\n",
       "      <td>104758</td>\n",
       "    </tr>\n",
       "    <tr>\n",
       "      <th>116</th>\n",
       "      <td>ransom</td>\n",
       "      <td>104310</td>\n",
       "    </tr>\n",
       "    <tr>\n",
       "      <th>69</th>\n",
       "      <td>nperps</td>\n",
       "      <td>71115</td>\n",
       "    </tr>\n",
       "    <tr>\n",
       "      <th>70</th>\n",
       "      <td>nperpcap</td>\n",
       "      <td>69489</td>\n",
       "    </tr>\n",
       "    <tr>\n",
       "      <th>103</th>\n",
       "      <td>nwoundte</td>\n",
       "      <td>69143</td>\n",
       "    </tr>\n",
       "    <tr>\n",
       "      <th>97</th>\n",
       "      <td>weapdetail</td>\n",
       "      <td>67670</td>\n",
       "    </tr>\n",
       "    <tr>\n",
       "      <th>100</th>\n",
       "      <td>nkillter</td>\n",
       "      <td>66958</td>\n",
       "    </tr>\n",
       "    <tr>\n",
       "      <th>126</th>\n",
       "      <td>scite1</td>\n",
       "      <td>66191</td>\n",
       "    </tr>\n",
       "    <tr>\n",
       "      <th>18</th>\n",
       "      <td>summary</td>\n",
       "      <td>66129</td>\n",
       "    </tr>\n",
       "    <tr>\n",
       "      <th>71</th>\n",
       "      <td>claimed</td>\n",
       "      <td>66120</td>\n",
       "    </tr>\n",
       "    <tr>\n",
       "      <th>102</th>\n",
       "      <td>nwoundus</td>\n",
       "      <td>64702</td>\n",
       "    </tr>\n",
       "    <tr>\n",
       "      <th>99</th>\n",
       "      <td>nkillus</td>\n",
       "      <td>64446</td>\n",
       "    </tr>\n",
       "    <tr>\n",
       "      <th>38</th>\n",
       "      <td>corp1</td>\n",
       "      <td>42550</td>\n",
       "    </tr>\n",
       "    <tr>\n",
       "      <th>83</th>\n",
       "      <td>weapsubtype1</td>\n",
       "      <td>20768</td>\n",
       "    </tr>\n",
       "    <tr>\n",
       "      <th>84</th>\n",
       "      <td>weapsubtype1_txt</td>\n",
       "      <td>20768</td>\n",
       "    </tr>\n",
       "    <tr>\n",
       "      <th>101</th>\n",
       "      <td>nwound</td>\n",
       "      <td>16311</td>\n",
       "    </tr>\n",
       "    <tr>\n",
       "      <th>36</th>\n",
       "      <td>targsubtype1</td>\n",
       "      <td>10373</td>\n",
       "    </tr>\n",
       "    <tr>\n",
       "      <th>37</th>\n",
       "      <td>targsubtype1_txt</td>\n",
       "      <td>10373</td>\n",
       "    </tr>\n",
       "    <tr>\n",
       "      <th>98</th>\n",
       "      <td>nkill</td>\n",
       "      <td>10313</td>\n",
       "    </tr>\n",
       "    <tr>\n",
       "      <th>14</th>\n",
       "      <td>longitude</td>\n",
       "      <td>4557</td>\n",
       "    </tr>\n",
       "    <tr>\n",
       "      <th>13</th>\n",
       "      <td>latitude</td>\n",
       "      <td>4556</td>\n",
       "    </tr>\n",
       "    <tr>\n",
       "      <th>40</th>\n",
       "      <td>natlty1</td>\n",
       "      <td>1559</td>\n",
       "    </tr>\n",
       "    <tr>\n",
       "      <th>41</th>\n",
       "      <td>natlty1_txt</td>\n",
       "      <td>1559</td>\n",
       "    </tr>\n",
       "    <tr>\n",
       "      <th>39</th>\n",
       "      <td>target1</td>\n",
       "      <td>636</td>\n",
       "    </tr>\n",
       "    <tr>\n",
       "      <th>12</th>\n",
       "      <td>city</td>\n",
       "      <td>434</td>\n",
       "    </tr>\n",
       "    <tr>\n",
       "      <th>11</th>\n",
       "      <td>provstate</td>\n",
       "      <td>421</td>\n",
       "    </tr>\n",
       "    <tr>\n",
       "      <th>65</th>\n",
       "      <td>guncertain1</td>\n",
       "      <td>380</td>\n",
       "    </tr>\n",
       "    <tr>\n",
       "      <th>109</th>\n",
       "      <td>ishostkid</td>\n",
       "      <td>178</td>\n",
       "    </tr>\n",
       "    <tr>\n",
       "      <th>15</th>\n",
       "      <td>specificity</td>\n",
       "      <td>6</td>\n",
       "    </tr>\n",
       "    <tr>\n",
       "      <th>22</th>\n",
       "      <td>doubtterr</td>\n",
       "      <td>1</td>\n",
       "    </tr>\n",
       "    <tr>\n",
       "      <th>25</th>\n",
       "      <td>multiple</td>\n",
       "      <td>1</td>\n",
       "    </tr>\n",
       "    <tr>\n",
       "      <th>19</th>\n",
       "      <td>crit1</td>\n",
       "      <td>0</td>\n",
       "    </tr>\n",
       "    <tr>\n",
       "      <th>1</th>\n",
       "      <td>iyear</td>\n",
       "      <td>0</td>\n",
       "    </tr>\n",
       "    <tr>\n",
       "      <th>3</th>\n",
       "      <td>iday</td>\n",
       "      <td>0</td>\n",
       "    </tr>\n",
       "    <tr>\n",
       "      <th>2</th>\n",
       "      <td>imonth</td>\n",
       "      <td>0</td>\n",
       "    </tr>\n",
       "    <tr>\n",
       "      <th>35</th>\n",
       "      <td>targtype1_txt</td>\n",
       "      <td>0</td>\n",
       "    </tr>\n",
       "    <tr>\n",
       "      <th>58</th>\n",
       "      <td>gname</td>\n",
       "      <td>0</td>\n",
       "    </tr>\n",
       "    <tr>\n",
       "      <th>68</th>\n",
       "      <td>individual</td>\n",
       "      <td>0</td>\n",
       "    </tr>\n",
       "    <tr>\n",
       "      <th>129</th>\n",
       "      <td>dbsource</td>\n",
       "      <td>0</td>\n",
       "    </tr>\n",
       "    <tr>\n",
       "      <th>7</th>\n",
       "      <td>country</td>\n",
       "      <td>0</td>\n",
       "    </tr>\n",
       "    <tr>\n",
       "      <th>130</th>\n",
       "      <td>INT_LOG</td>\n",
       "      <td>0</td>\n",
       "    </tr>\n",
       "    <tr>\n",
       "      <th>131</th>\n",
       "      <td>INT_IDEO</td>\n",
       "      <td>0</td>\n",
       "    </tr>\n",
       "    <tr>\n",
       "      <th>132</th>\n",
       "      <td>INT_MISC</td>\n",
       "      <td>0</td>\n",
       "    </tr>\n",
       "    <tr>\n",
       "      <th>133</th>\n",
       "      <td>INT_ANY</td>\n",
       "      <td>0</td>\n",
       "    </tr>\n",
       "    <tr>\n",
       "      <th>5</th>\n",
       "      <td>extended</td>\n",
       "      <td>0</td>\n",
       "    </tr>\n",
       "    <tr>\n",
       "      <th>10</th>\n",
       "      <td>region_txt</td>\n",
       "      <td>0</td>\n",
       "    </tr>\n",
       "    <tr>\n",
       "      <th>8</th>\n",
       "      <td>country_txt</td>\n",
       "      <td>0</td>\n",
       "    </tr>\n",
       "    <tr>\n",
       "      <th>9</th>\n",
       "      <td>region</td>\n",
       "      <td>0</td>\n",
       "    </tr>\n",
       "    <tr>\n",
       "      <th>20</th>\n",
       "      <td>crit2</td>\n",
       "      <td>0</td>\n",
       "    </tr>\n",
       "    <tr>\n",
       "      <th>34</th>\n",
       "      <td>targtype1</td>\n",
       "      <td>0</td>\n",
       "    </tr>\n",
       "    <tr>\n",
       "      <th>81</th>\n",
       "      <td>weaptype1</td>\n",
       "      <td>0</td>\n",
       "    </tr>\n",
       "    <tr>\n",
       "      <th>82</th>\n",
       "      <td>weaptype1_txt</td>\n",
       "      <td>0</td>\n",
       "    </tr>\n",
       "    <tr>\n",
       "      <th>29</th>\n",
       "      <td>attacktype1_txt</td>\n",
       "      <td>0</td>\n",
       "    </tr>\n",
       "    <tr>\n",
       "      <th>28</th>\n",
       "      <td>attacktype1</td>\n",
       "      <td>0</td>\n",
       "    </tr>\n",
       "    <tr>\n",
       "      <th>16</th>\n",
       "      <td>vicinity</td>\n",
       "      <td>0</td>\n",
       "    </tr>\n",
       "    <tr>\n",
       "      <th>27</th>\n",
       "      <td>suicide</td>\n",
       "      <td>0</td>\n",
       "    </tr>\n",
       "    <tr>\n",
       "      <th>26</th>\n",
       "      <td>success</td>\n",
       "      <td>0</td>\n",
       "    </tr>\n",
       "    <tr>\n",
       "      <th>21</th>\n",
       "      <td>crit3</td>\n",
       "      <td>0</td>\n",
       "    </tr>\n",
       "    <tr>\n",
       "      <th>104</th>\n",
       "      <td>property</td>\n",
       "      <td>0</td>\n",
       "    </tr>\n",
       "    <tr>\n",
       "      <th>0</th>\n",
       "      <td>eventid</td>\n",
       "      <td>0</td>\n",
       "    </tr>\n",
       "  </tbody>\n",
       "</table>\n",
       "</div>"
      ],
      "text/plain": [
       "                  index       0\n",
       "63            gsubname3  181671\n",
       "96     weapsubtype4_txt  181621\n",
       "95         weapsubtype4  181621\n",
       "93            weaptype4  181618\n",
       "94        weaptype4_txt  181618\n",
       "78           claimmode3  181558\n",
       "79       claimmode3_txt  181558\n",
       "61            gsubname2  181531\n",
       "77               claim3  181373\n",
       "67          guncertain3  181371\n",
       "62               gname3  181367\n",
       "114              divert  181367\n",
       "32          attacktype3  181263\n",
       "33      attacktype3_txt  181263\n",
       "121          ransomnote  181177\n",
       "120        ransompaidus  181139\n",
       "118         ransomamtus  181128\n",
       "75           claimmode2  181075\n",
       "76       claimmode2_txt  181075\n",
       "119          ransompaid  180917\n",
       "54                corp3  180665\n",
       "52         targsubtype3  180594\n",
       "53     targsubtype3_txt  180594\n",
       "57          natlty3_txt  180544\n",
       "56              natlty3  180544\n",
       "55              target3  180516\n",
       "50            targtype3  180515\n",
       "51        targtype3_txt  180515\n",
       "117           ransomamt  180341\n",
       "92     weapsubtype3_txt  179998\n",
       "91         weapsubtype3  179998\n",
       "90        weaptype3_txt  179828\n",
       "89            weaptype3  179828\n",
       "74               claim2  179801\n",
       "66          guncertain2  179736\n",
       "60               gname2  179678\n",
       "6            resolution  179471\n",
       "115       kidhijcountry  178386\n",
       "112              nhours  177628\n",
       "80            compclaim  176852\n",
       "59             gsubname  175801\n",
       "30          attacktype2  175377\n",
       "31      attacktype2_txt  175377\n",
       "113               ndays  173567\n",
       "4            approxdate  172452\n",
       "46                corp2  171574\n",
       "124           nreleased  171291\n",
       "44         targsubtype2  171006\n",
       "45     targsubtype2_txt  171006\n",
       "48              natlty2  170863\n",
       "49          natlty2_txt  170863\n",
       "123  hostkidoutcome_txt  170700\n",
       "122      hostkidoutcome  170700\n",
       "47              target2  170671\n",
       "43        targtype2_txt  170547\n",
       "42            targtype2  170547\n",
       "87         weapsubtype2  170149\n",
       "88     weapsubtype2_txt  170149\n",
       "85            weaptype2  168564\n",
       "86        weaptype2_txt  168564\n",
       "111          nhostkidus  168174\n",
       "110            nhostkid  168119\n",
       "73        claimmode_txt  162608\n",
       "72            claimmode  162608\n",
       "134             related  156653\n",
       "125            addnotes  153402\n",
       "23          alternative  152680\n",
       "24      alternative_txt  152680\n",
       "107           propvalue  142702\n",
       "128              scite3  138175\n",
       "64               motive  131130\n",
       "17             location  126196\n",
       "108         propcomment  123732\n",
       "105          propextent  117626\n",
       "106      propextent_txt  117626\n",
       "127              scite2  104758\n",
       "116              ransom  104310\n",
       "69               nperps   71115\n",
       "70             nperpcap   69489\n",
       "103            nwoundte   69143\n",
       "97           weapdetail   67670\n",
       "100            nkillter   66958\n",
       "126              scite1   66191\n",
       "18              summary   66129\n",
       "71              claimed   66120\n",
       "102            nwoundus   64702\n",
       "99              nkillus   64446\n",
       "38                corp1   42550\n",
       "83         weapsubtype1   20768\n",
       "84     weapsubtype1_txt   20768\n",
       "101              nwound   16311\n",
       "36         targsubtype1   10373\n",
       "37     targsubtype1_txt   10373\n",
       "98                nkill   10313\n",
       "14            longitude    4557\n",
       "13             latitude    4556\n",
       "40              natlty1    1559\n",
       "41          natlty1_txt    1559\n",
       "39              target1     636\n",
       "12                 city     434\n",
       "11            provstate     421\n",
       "65          guncertain1     380\n",
       "109           ishostkid     178\n",
       "15          specificity       6\n",
       "22            doubtterr       1\n",
       "25             multiple       1\n",
       "19                crit1       0\n",
       "1                 iyear       0\n",
       "3                  iday       0\n",
       "2                imonth       0\n",
       "35        targtype1_txt       0\n",
       "58                gname       0\n",
       "68           individual       0\n",
       "129            dbsource       0\n",
       "7               country       0\n",
       "130             INT_LOG       0\n",
       "131            INT_IDEO       0\n",
       "132            INT_MISC       0\n",
       "133             INT_ANY       0\n",
       "5              extended       0\n",
       "10           region_txt       0\n",
       "8           country_txt       0\n",
       "9                region       0\n",
       "20                crit2       0\n",
       "34            targtype1       0\n",
       "81            weaptype1       0\n",
       "82        weaptype1_txt       0\n",
       "29      attacktype1_txt       0\n",
       "28          attacktype1       0\n",
       "16             vicinity       0\n",
       "27              suicide       0\n",
       "26              success       0\n",
       "21                crit3       0\n",
       "104            property       0\n",
       "0               eventid       0"
      ]
     },
     "execution_count": 12,
     "metadata": {},
     "output_type": "execute_result"
    }
   ],
   "source": [
    "#show any missing values\n",
    "data.isnull().sum().reset_index().sort_values(by=[0], ascending = False)"
   ]
  },
  {
   "cell_type": "code",
   "execution_count": 16,
   "metadata": {},
   "outputs": [
    {
     "data": {
      "text/html": [
       "<div>\n",
       "<style scoped>\n",
       "    .dataframe tbody tr th:only-of-type {\n",
       "        vertical-align: middle;\n",
       "    }\n",
       "\n",
       "    .dataframe tbody tr th {\n",
       "        vertical-align: top;\n",
       "    }\n",
       "\n",
       "    .dataframe thead th {\n",
       "        text-align: right;\n",
       "    }\n",
       "</style>\n",
       "<table border=\"1\" class=\"dataframe\">\n",
       "  <thead>\n",
       "    <tr style=\"text-align: right;\">\n",
       "      <th></th>\n",
       "      <th>column_name</th>\n",
       "      <th>percent_missing</th>\n",
       "    </tr>\n",
       "  </thead>\n",
       "  <tbody>\n",
       "    <tr>\n",
       "      <th>gsubname3</th>\n",
       "      <td>gsubname3</td>\n",
       "      <td>99.988992</td>\n",
       "    </tr>\n",
       "    <tr>\n",
       "      <th>weapsubtype4_txt</th>\n",
       "      <td>weapsubtype4_txt</td>\n",
       "      <td>99.961473</td>\n",
       "    </tr>\n",
       "    <tr>\n",
       "      <th>weapsubtype4</th>\n",
       "      <td>weapsubtype4</td>\n",
       "      <td>99.961473</td>\n",
       "    </tr>\n",
       "    <tr>\n",
       "      <th>weaptype4</th>\n",
       "      <td>weaptype4</td>\n",
       "      <td>99.959822</td>\n",
       "    </tr>\n",
       "    <tr>\n",
       "      <th>weaptype4_txt</th>\n",
       "      <td>weaptype4_txt</td>\n",
       "      <td>99.959822</td>\n",
       "    </tr>\n",
       "    <tr>\n",
       "      <th>claimmode3</th>\n",
       "      <td>claimmode3</td>\n",
       "      <td>99.926799</td>\n",
       "    </tr>\n",
       "    <tr>\n",
       "      <th>claimmode3_txt</th>\n",
       "      <td>claimmode3_txt</td>\n",
       "      <td>99.926799</td>\n",
       "    </tr>\n",
       "    <tr>\n",
       "      <th>gsubname2</th>\n",
       "      <td>gsubname2</td>\n",
       "      <td>99.911938</td>\n",
       "    </tr>\n",
       "    <tr>\n",
       "      <th>claim3</th>\n",
       "      <td>claim3</td>\n",
       "      <td>99.824978</td>\n",
       "    </tr>\n",
       "    <tr>\n",
       "      <th>guncertain3</th>\n",
       "      <td>guncertain3</td>\n",
       "      <td>99.823877</td>\n",
       "    </tr>\n",
       "    <tr>\n",
       "      <th>gname3</th>\n",
       "      <td>gname3</td>\n",
       "      <td>99.821675</td>\n",
       "    </tr>\n",
       "    <tr>\n",
       "      <th>divert</th>\n",
       "      <td>divert</td>\n",
       "      <td>99.821675</td>\n",
       "    </tr>\n",
       "    <tr>\n",
       "      <th>attacktype3</th>\n",
       "      <td>attacktype3</td>\n",
       "      <td>99.764435</td>\n",
       "    </tr>\n",
       "    <tr>\n",
       "      <th>attacktype3_txt</th>\n",
       "      <td>attacktype3_txt</td>\n",
       "      <td>99.764435</td>\n",
       "    </tr>\n",
       "    <tr>\n",
       "      <th>ransomnote</th>\n",
       "      <td>ransomnote</td>\n",
       "      <td>99.717102</td>\n",
       "    </tr>\n",
       "    <tr>\n",
       "      <th>ransompaidus</th>\n",
       "      <td>ransompaidus</td>\n",
       "      <td>99.696187</td>\n",
       "    </tr>\n",
       "    <tr>\n",
       "      <th>ransomamtus</th>\n",
       "      <td>ransomamtus</td>\n",
       "      <td>99.690133</td>\n",
       "    </tr>\n",
       "    <tr>\n",
       "      <th>claimmode2</th>\n",
       "      <td>claimmode2</td>\n",
       "      <td>99.660963</td>\n",
       "    </tr>\n",
       "    <tr>\n",
       "      <th>claimmode2_txt</th>\n",
       "      <td>claimmode2_txt</td>\n",
       "      <td>99.660963</td>\n",
       "    </tr>\n",
       "    <tr>\n",
       "      <th>ransompaid</th>\n",
       "      <td>ransompaid</td>\n",
       "      <td>99.574002</td>\n",
       "    </tr>\n",
       "    <tr>\n",
       "      <th>corp3</th>\n",
       "      <td>corp3</td>\n",
       "      <td>99.435305</td>\n",
       "    </tr>\n",
       "    <tr>\n",
       "      <th>targsubtype3</th>\n",
       "      <td>targsubtype3</td>\n",
       "      <td>99.396228</td>\n",
       "    </tr>\n",
       "    <tr>\n",
       "      <th>targsubtype3_txt</th>\n",
       "      <td>targsubtype3_txt</td>\n",
       "      <td>99.396228</td>\n",
       "    </tr>\n",
       "    <tr>\n",
       "      <th>natlty3_txt</th>\n",
       "      <td>natlty3_txt</td>\n",
       "      <td>99.368708</td>\n",
       "    </tr>\n",
       "    <tr>\n",
       "      <th>natlty3</th>\n",
       "      <td>natlty3</td>\n",
       "      <td>99.368708</td>\n",
       "    </tr>\n",
       "    <tr>\n",
       "      <th>target3</th>\n",
       "      <td>target3</td>\n",
       "      <td>99.353298</td>\n",
       "    </tr>\n",
       "    <tr>\n",
       "      <th>targtype3</th>\n",
       "      <td>targtype3</td>\n",
       "      <td>99.352747</td>\n",
       "    </tr>\n",
       "    <tr>\n",
       "      <th>targtype3_txt</th>\n",
       "      <td>targtype3_txt</td>\n",
       "      <td>99.352747</td>\n",
       "    </tr>\n",
       "    <tr>\n",
       "      <th>ransomamt</th>\n",
       "      <td>ransomamt</td>\n",
       "      <td>99.256980</td>\n",
       "    </tr>\n",
       "    <tr>\n",
       "      <th>weapsubtype3_txt</th>\n",
       "      <td>weapsubtype3_txt</td>\n",
       "      <td>99.068198</td>\n",
       "    </tr>\n",
       "    <tr>\n",
       "      <th>weapsubtype3</th>\n",
       "      <td>weapsubtype3</td>\n",
       "      <td>99.068198</td>\n",
       "    </tr>\n",
       "    <tr>\n",
       "      <th>weaptype3_txt</th>\n",
       "      <td>weaptype3_txt</td>\n",
       "      <td>98.974633</td>\n",
       "    </tr>\n",
       "    <tr>\n",
       "      <th>weaptype3</th>\n",
       "      <td>weaptype3</td>\n",
       "      <td>98.974633</td>\n",
       "    </tr>\n",
       "    <tr>\n",
       "      <th>claim2</th>\n",
       "      <td>claim2</td>\n",
       "      <td>98.959772</td>\n",
       "    </tr>\n",
       "    <tr>\n",
       "      <th>guncertain2</th>\n",
       "      <td>guncertain2</td>\n",
       "      <td>98.923997</td>\n",
       "    </tr>\n",
       "    <tr>\n",
       "      <th>gname2</th>\n",
       "      <td>gname2</td>\n",
       "      <td>98.892075</td>\n",
       "    </tr>\n",
       "    <tr>\n",
       "      <th>resolution</th>\n",
       "      <td>resolution</td>\n",
       "      <td>98.778145</td>\n",
       "    </tr>\n",
       "    <tr>\n",
       "      <th>kidhijcountry</th>\n",
       "      <td>kidhijcountry</td>\n",
       "      <td>98.180978</td>\n",
       "    </tr>\n",
       "    <tr>\n",
       "      <th>nhours</th>\n",
       "      <td>nhours</td>\n",
       "      <td>97.763786</td>\n",
       "    </tr>\n",
       "    <tr>\n",
       "      <th>compclaim</th>\n",
       "      <td>compclaim</td>\n",
       "      <td>97.336687</td>\n",
       "    </tr>\n",
       "    <tr>\n",
       "      <th>gsubname</th>\n",
       "      <td>gsubname</td>\n",
       "      <td>96.758232</td>\n",
       "    </tr>\n",
       "    <tr>\n",
       "      <th>attacktype2</th>\n",
       "      <td>attacktype2</td>\n",
       "      <td>96.524869</td>\n",
       "    </tr>\n",
       "    <tr>\n",
       "      <th>attacktype2_txt</th>\n",
       "      <td>attacktype2_txt</td>\n",
       "      <td>96.524869</td>\n",
       "    </tr>\n",
       "    <tr>\n",
       "      <th>ndays</th>\n",
       "      <td>ndays</td>\n",
       "      <td>95.528672</td>\n",
       "    </tr>\n",
       "    <tr>\n",
       "      <th>approxdate</th>\n",
       "      <td>approxdate</td>\n",
       "      <td>94.914993</td>\n",
       "    </tr>\n",
       "    <tr>\n",
       "      <th>corp2</th>\n",
       "      <td>corp2</td>\n",
       "      <td>94.431755</td>\n",
       "    </tr>\n",
       "    <tr>\n",
       "      <th>nreleased</th>\n",
       "      <td>nreleased</td>\n",
       "      <td>94.275996</td>\n",
       "    </tr>\n",
       "    <tr>\n",
       "      <th>targsubtype2</th>\n",
       "      <td>targsubtype2</td>\n",
       "      <td>94.119136</td>\n",
       "    </tr>\n",
       "    <tr>\n",
       "      <th>targsubtype2_txt</th>\n",
       "      <td>targsubtype2_txt</td>\n",
       "      <td>94.119136</td>\n",
       "    </tr>\n",
       "    <tr>\n",
       "      <th>natlty2</th>\n",
       "      <td>natlty2</td>\n",
       "      <td>94.040431</td>\n",
       "    </tr>\n",
       "    <tr>\n",
       "      <th>natlty2_txt</th>\n",
       "      <td>natlty2_txt</td>\n",
       "      <td>94.040431</td>\n",
       "    </tr>\n",
       "    <tr>\n",
       "      <th>hostkidoutcome_txt</th>\n",
       "      <td>hostkidoutcome_txt</td>\n",
       "      <td>93.950719</td>\n",
       "    </tr>\n",
       "    <tr>\n",
       "      <th>hostkidoutcome</th>\n",
       "      <td>hostkidoutcome</td>\n",
       "      <td>93.950719</td>\n",
       "    </tr>\n",
       "    <tr>\n",
       "      <th>target2</th>\n",
       "      <td>target2</td>\n",
       "      <td>93.934757</td>\n",
       "    </tr>\n",
       "    <tr>\n",
       "      <th>targtype2_txt</th>\n",
       "      <td>targtype2_txt</td>\n",
       "      <td>93.866510</td>\n",
       "    </tr>\n",
       "    <tr>\n",
       "      <th>targtype2</th>\n",
       "      <td>targtype2</td>\n",
       "      <td>93.866510</td>\n",
       "    </tr>\n",
       "    <tr>\n",
       "      <th>weapsubtype2</th>\n",
       "      <td>weapsubtype2</td>\n",
       "      <td>93.647456</td>\n",
       "    </tr>\n",
       "    <tr>\n",
       "      <th>weapsubtype2_txt</th>\n",
       "      <td>weapsubtype2_txt</td>\n",
       "      <td>93.647456</td>\n",
       "    </tr>\n",
       "    <tr>\n",
       "      <th>weaptype2</th>\n",
       "      <td>weaptype2</td>\n",
       "      <td>92.775096</td>\n",
       "    </tr>\n",
       "    <tr>\n",
       "      <th>weaptype2_txt</th>\n",
       "      <td>weaptype2_txt</td>\n",
       "      <td>92.775096</td>\n",
       "    </tr>\n",
       "    <tr>\n",
       "      <th>nhostkidus</th>\n",
       "      <td>nhostkidus</td>\n",
       "      <td>92.560446</td>\n",
       "    </tr>\n",
       "    <tr>\n",
       "      <th>nhostkid</th>\n",
       "      <td>nhostkid</td>\n",
       "      <td>92.530175</td>\n",
       "    </tr>\n",
       "    <tr>\n",
       "      <th>claimmode_txt</th>\n",
       "      <td>claimmode_txt</td>\n",
       "      <td>89.497003</td>\n",
       "    </tr>\n",
       "    <tr>\n",
       "      <th>claimmode</th>\n",
       "      <td>claimmode</td>\n",
       "      <td>89.497003</td>\n",
       "    </tr>\n",
       "    <tr>\n",
       "      <th>related</th>\n",
       "      <td>related</td>\n",
       "      <td>86.219461</td>\n",
       "    </tr>\n",
       "    <tr>\n",
       "      <th>addnotes</th>\n",
       "      <td>addnotes</td>\n",
       "      <td>84.430159</td>\n",
       "    </tr>\n",
       "    <tr>\n",
       "      <th>alternative</th>\n",
       "      <td>alternative</td>\n",
       "      <td>84.032781</td>\n",
       "    </tr>\n",
       "    <tr>\n",
       "      <th>alternative_txt</th>\n",
       "      <td>alternative_txt</td>\n",
       "      <td>84.032781</td>\n",
       "    </tr>\n",
       "    <tr>\n",
       "      <th>propvalue</th>\n",
       "      <td>propvalue</td>\n",
       "      <td>78.541039</td>\n",
       "    </tr>\n",
       "    <tr>\n",
       "      <th>scite3</th>\n",
       "      <td>scite3</td>\n",
       "      <td>76.049447</td>\n",
       "    </tr>\n",
       "    <tr>\n",
       "      <th>motive</th>\n",
       "      <td>motive</td>\n",
       "      <td>72.171984</td>\n",
       "    </tr>\n",
       "    <tr>\n",
       "      <th>location</th>\n",
       "      <td>location</td>\n",
       "      <td>69.456385</td>\n",
       "    </tr>\n",
       "    <tr>\n",
       "      <th>propcomment</th>\n",
       "      <td>propcomment</td>\n",
       "      <td>68.100236</td>\n",
       "    </tr>\n",
       "    <tr>\n",
       "      <th>propextent</th>\n",
       "      <td>propextent</td>\n",
       "      <td>64.739585</td>\n",
       "    </tr>\n",
       "    <tr>\n",
       "      <th>propextent_txt</th>\n",
       "      <td>propextent_txt</td>\n",
       "      <td>64.739585</td>\n",
       "    </tr>\n",
       "    <tr>\n",
       "      <th>scite2</th>\n",
       "      <td>scite2</td>\n",
       "      <td>57.657231</td>\n",
       "    </tr>\n",
       "    <tr>\n",
       "      <th>ransom</th>\n",
       "      <td>ransom</td>\n",
       "      <td>57.410659</td>\n",
       "    </tr>\n",
       "    <tr>\n",
       "      <th>nperps</th>\n",
       "      <td>nperps</td>\n",
       "      <td>39.140629</td>\n",
       "    </tr>\n",
       "    <tr>\n",
       "      <th>nperpcap</th>\n",
       "      <td>nperpcap</td>\n",
       "      <td>38.245703</td>\n",
       "    </tr>\n",
       "    <tr>\n",
       "      <th>nwoundte</th>\n",
       "      <td>nwoundte</td>\n",
       "      <td>38.055270</td>\n",
       "    </tr>\n",
       "    <tr>\n",
       "      <th>weapdetail</th>\n",
       "      <td>weapdetail</td>\n",
       "      <td>37.244553</td>\n",
       "    </tr>\n",
       "    <tr>\n",
       "      <th>nkillter</th>\n",
       "      <td>nkillter</td>\n",
       "      <td>36.852678</td>\n",
       "    </tr>\n",
       "    <tr>\n",
       "      <th>scite1</th>\n",
       "      <td>scite1</td>\n",
       "      <td>36.430533</td>\n",
       "    </tr>\n",
       "    <tr>\n",
       "      <th>summary</th>\n",
       "      <td>summary</td>\n",
       "      <td>36.396409</td>\n",
       "    </tr>\n",
       "    <tr>\n",
       "      <th>claimed</th>\n",
       "      <td>claimed</td>\n",
       "      <td>36.391456</td>\n",
       "    </tr>\n",
       "    <tr>\n",
       "      <th>nwoundus</th>\n",
       "      <td>nwoundus</td>\n",
       "      <td>35.611010</td>\n",
       "    </tr>\n",
       "    <tr>\n",
       "      <th>nkillus</th>\n",
       "      <td>nkillus</td>\n",
       "      <td>35.470111</td>\n",
       "    </tr>\n",
       "    <tr>\n",
       "      <th>corp1</th>\n",
       "      <td>corp1</td>\n",
       "      <td>23.418882</td>\n",
       "    </tr>\n",
       "    <tr>\n",
       "      <th>weapsubtype1</th>\n",
       "      <td>weapsubtype1</td>\n",
       "      <td>11.430396</td>\n",
       "    </tr>\n",
       "    <tr>\n",
       "      <th>weapsubtype1_txt</th>\n",
       "      <td>weapsubtype1_txt</td>\n",
       "      <td>11.430396</td>\n",
       "    </tr>\n",
       "    <tr>\n",
       "      <th>nwound</th>\n",
       "      <td>nwound</td>\n",
       "      <td>8.977330</td>\n",
       "    </tr>\n",
       "    <tr>\n",
       "      <th>targsubtype1</th>\n",
       "      <td>targsubtype1</td>\n",
       "      <td>5.709144</td>\n",
       "    </tr>\n",
       "    <tr>\n",
       "      <th>targsubtype1_txt</th>\n",
       "      <td>targsubtype1_txt</td>\n",
       "      <td>5.709144</td>\n",
       "    </tr>\n",
       "    <tr>\n",
       "      <th>nkill</th>\n",
       "      <td>nkill</td>\n",
       "      <td>5.676120</td>\n",
       "    </tr>\n",
       "    <tr>\n",
       "      <th>longitude</th>\n",
       "      <td>longitude</td>\n",
       "      <td>2.508104</td>\n",
       "    </tr>\n",
       "    <tr>\n",
       "      <th>latitude</th>\n",
       "      <td>latitude</td>\n",
       "      <td>2.507554</td>\n",
       "    </tr>\n",
       "    <tr>\n",
       "      <th>natlty1</th>\n",
       "      <td>natlty1</td>\n",
       "      <td>0.858050</td>\n",
       "    </tr>\n",
       "    <tr>\n",
       "      <th>natlty1_txt</th>\n",
       "      <td>natlty1_txt</td>\n",
       "      <td>0.858050</td>\n",
       "    </tr>\n",
       "    <tr>\n",
       "      <th>target1</th>\n",
       "      <td>target1</td>\n",
       "      <td>0.350045</td>\n",
       "    </tr>\n",
       "    <tr>\n",
       "      <th>city</th>\n",
       "      <td>city</td>\n",
       "      <td>0.238867</td>\n",
       "    </tr>\n",
       "    <tr>\n",
       "      <th>provstate</th>\n",
       "      <td>provstate</td>\n",
       "      <td>0.231712</td>\n",
       "    </tr>\n",
       "    <tr>\n",
       "      <th>guncertain1</th>\n",
       "      <td>guncertain1</td>\n",
       "      <td>0.209146</td>\n",
       "    </tr>\n",
       "    <tr>\n",
       "      <th>ishostkid</th>\n",
       "      <td>ishostkid</td>\n",
       "      <td>0.097969</td>\n",
       "    </tr>\n",
       "    <tr>\n",
       "      <th>specificity</th>\n",
       "      <td>specificity</td>\n",
       "      <td>0.003302</td>\n",
       "    </tr>\n",
       "    <tr>\n",
       "      <th>doubtterr</th>\n",
       "      <td>doubtterr</td>\n",
       "      <td>0.000550</td>\n",
       "    </tr>\n",
       "    <tr>\n",
       "      <th>multiple</th>\n",
       "      <td>multiple</td>\n",
       "      <td>0.000550</td>\n",
       "    </tr>\n",
       "    <tr>\n",
       "      <th>crit1</th>\n",
       "      <td>crit1</td>\n",
       "      <td>0.000000</td>\n",
       "    </tr>\n",
       "    <tr>\n",
       "      <th>iyear</th>\n",
       "      <td>iyear</td>\n",
       "      <td>0.000000</td>\n",
       "    </tr>\n",
       "    <tr>\n",
       "      <th>iday</th>\n",
       "      <td>iday</td>\n",
       "      <td>0.000000</td>\n",
       "    </tr>\n",
       "    <tr>\n",
       "      <th>imonth</th>\n",
       "      <td>imonth</td>\n",
       "      <td>0.000000</td>\n",
       "    </tr>\n",
       "    <tr>\n",
       "      <th>targtype1_txt</th>\n",
       "      <td>targtype1_txt</td>\n",
       "      <td>0.000000</td>\n",
       "    </tr>\n",
       "    <tr>\n",
       "      <th>gname</th>\n",
       "      <td>gname</td>\n",
       "      <td>0.000000</td>\n",
       "    </tr>\n",
       "    <tr>\n",
       "      <th>individual</th>\n",
       "      <td>individual</td>\n",
       "      <td>0.000000</td>\n",
       "    </tr>\n",
       "    <tr>\n",
       "      <th>dbsource</th>\n",
       "      <td>dbsource</td>\n",
       "      <td>0.000000</td>\n",
       "    </tr>\n",
       "    <tr>\n",
       "      <th>country</th>\n",
       "      <td>country</td>\n",
       "      <td>0.000000</td>\n",
       "    </tr>\n",
       "    <tr>\n",
       "      <th>INT_LOG</th>\n",
       "      <td>INT_LOG</td>\n",
       "      <td>0.000000</td>\n",
       "    </tr>\n",
       "    <tr>\n",
       "      <th>INT_IDEO</th>\n",
       "      <td>INT_IDEO</td>\n",
       "      <td>0.000000</td>\n",
       "    </tr>\n",
       "    <tr>\n",
       "      <th>INT_MISC</th>\n",
       "      <td>INT_MISC</td>\n",
       "      <td>0.000000</td>\n",
       "    </tr>\n",
       "    <tr>\n",
       "      <th>INT_ANY</th>\n",
       "      <td>INT_ANY</td>\n",
       "      <td>0.000000</td>\n",
       "    </tr>\n",
       "    <tr>\n",
       "      <th>extended</th>\n",
       "      <td>extended</td>\n",
       "      <td>0.000000</td>\n",
       "    </tr>\n",
       "    <tr>\n",
       "      <th>region_txt</th>\n",
       "      <td>region_txt</td>\n",
       "      <td>0.000000</td>\n",
       "    </tr>\n",
       "    <tr>\n",
       "      <th>country_txt</th>\n",
       "      <td>country_txt</td>\n",
       "      <td>0.000000</td>\n",
       "    </tr>\n",
       "    <tr>\n",
       "      <th>region</th>\n",
       "      <td>region</td>\n",
       "      <td>0.000000</td>\n",
       "    </tr>\n",
       "    <tr>\n",
       "      <th>crit2</th>\n",
       "      <td>crit2</td>\n",
       "      <td>0.000000</td>\n",
       "    </tr>\n",
       "    <tr>\n",
       "      <th>targtype1</th>\n",
       "      <td>targtype1</td>\n",
       "      <td>0.000000</td>\n",
       "    </tr>\n",
       "    <tr>\n",
       "      <th>weaptype1</th>\n",
       "      <td>weaptype1</td>\n",
       "      <td>0.000000</td>\n",
       "    </tr>\n",
       "    <tr>\n",
       "      <th>weaptype1_txt</th>\n",
       "      <td>weaptype1_txt</td>\n",
       "      <td>0.000000</td>\n",
       "    </tr>\n",
       "    <tr>\n",
       "      <th>attacktype1_txt</th>\n",
       "      <td>attacktype1_txt</td>\n",
       "      <td>0.000000</td>\n",
       "    </tr>\n",
       "    <tr>\n",
       "      <th>attacktype1</th>\n",
       "      <td>attacktype1</td>\n",
       "      <td>0.000000</td>\n",
       "    </tr>\n",
       "    <tr>\n",
       "      <th>vicinity</th>\n",
       "      <td>vicinity</td>\n",
       "      <td>0.000000</td>\n",
       "    </tr>\n",
       "    <tr>\n",
       "      <th>suicide</th>\n",
       "      <td>suicide</td>\n",
       "      <td>0.000000</td>\n",
       "    </tr>\n",
       "    <tr>\n",
       "      <th>success</th>\n",
       "      <td>success</td>\n",
       "      <td>0.000000</td>\n",
       "    </tr>\n",
       "    <tr>\n",
       "      <th>crit3</th>\n",
       "      <td>crit3</td>\n",
       "      <td>0.000000</td>\n",
       "    </tr>\n",
       "    <tr>\n",
       "      <th>property</th>\n",
       "      <td>property</td>\n",
       "      <td>0.000000</td>\n",
       "    </tr>\n",
       "    <tr>\n",
       "      <th>eventid</th>\n",
       "      <td>eventid</td>\n",
       "      <td>0.000000</td>\n",
       "    </tr>\n",
       "  </tbody>\n",
       "</table>\n",
       "</div>"
      ],
      "text/plain": [
       "                           column_name  percent_missing\n",
       "gsubname3                    gsubname3        99.988992\n",
       "weapsubtype4_txt      weapsubtype4_txt        99.961473\n",
       "weapsubtype4              weapsubtype4        99.961473\n",
       "weaptype4                    weaptype4        99.959822\n",
       "weaptype4_txt            weaptype4_txt        99.959822\n",
       "claimmode3                  claimmode3        99.926799\n",
       "claimmode3_txt          claimmode3_txt        99.926799\n",
       "gsubname2                    gsubname2        99.911938\n",
       "claim3                          claim3        99.824978\n",
       "guncertain3                guncertain3        99.823877\n",
       "gname3                          gname3        99.821675\n",
       "divert                          divert        99.821675\n",
       "attacktype3                attacktype3        99.764435\n",
       "attacktype3_txt        attacktype3_txt        99.764435\n",
       "ransomnote                  ransomnote        99.717102\n",
       "ransompaidus              ransompaidus        99.696187\n",
       "ransomamtus                ransomamtus        99.690133\n",
       "claimmode2                  claimmode2        99.660963\n",
       "claimmode2_txt          claimmode2_txt        99.660963\n",
       "ransompaid                  ransompaid        99.574002\n",
       "corp3                            corp3        99.435305\n",
       "targsubtype3              targsubtype3        99.396228\n",
       "targsubtype3_txt      targsubtype3_txt        99.396228\n",
       "natlty3_txt                natlty3_txt        99.368708\n",
       "natlty3                        natlty3        99.368708\n",
       "target3                        target3        99.353298\n",
       "targtype3                    targtype3        99.352747\n",
       "targtype3_txt            targtype3_txt        99.352747\n",
       "ransomamt                    ransomamt        99.256980\n",
       "weapsubtype3_txt      weapsubtype3_txt        99.068198\n",
       "weapsubtype3              weapsubtype3        99.068198\n",
       "weaptype3_txt            weaptype3_txt        98.974633\n",
       "weaptype3                    weaptype3        98.974633\n",
       "claim2                          claim2        98.959772\n",
       "guncertain2                guncertain2        98.923997\n",
       "gname2                          gname2        98.892075\n",
       "resolution                  resolution        98.778145\n",
       "kidhijcountry            kidhijcountry        98.180978\n",
       "nhours                          nhours        97.763786\n",
       "compclaim                    compclaim        97.336687\n",
       "gsubname                      gsubname        96.758232\n",
       "attacktype2                attacktype2        96.524869\n",
       "attacktype2_txt        attacktype2_txt        96.524869\n",
       "ndays                            ndays        95.528672\n",
       "approxdate                  approxdate        94.914993\n",
       "corp2                            corp2        94.431755\n",
       "nreleased                    nreleased        94.275996\n",
       "targsubtype2              targsubtype2        94.119136\n",
       "targsubtype2_txt      targsubtype2_txt        94.119136\n",
       "natlty2                        natlty2        94.040431\n",
       "natlty2_txt                natlty2_txt        94.040431\n",
       "hostkidoutcome_txt  hostkidoutcome_txt        93.950719\n",
       "hostkidoutcome          hostkidoutcome        93.950719\n",
       "target2                        target2        93.934757\n",
       "targtype2_txt            targtype2_txt        93.866510\n",
       "targtype2                    targtype2        93.866510\n",
       "weapsubtype2              weapsubtype2        93.647456\n",
       "weapsubtype2_txt      weapsubtype2_txt        93.647456\n",
       "weaptype2                    weaptype2        92.775096\n",
       "weaptype2_txt            weaptype2_txt        92.775096\n",
       "nhostkidus                  nhostkidus        92.560446\n",
       "nhostkid                      nhostkid        92.530175\n",
       "claimmode_txt            claimmode_txt        89.497003\n",
       "claimmode                    claimmode        89.497003\n",
       "related                        related        86.219461\n",
       "addnotes                      addnotes        84.430159\n",
       "alternative                alternative        84.032781\n",
       "alternative_txt        alternative_txt        84.032781\n",
       "propvalue                    propvalue        78.541039\n",
       "scite3                          scite3        76.049447\n",
       "motive                          motive        72.171984\n",
       "location                      location        69.456385\n",
       "propcomment                propcomment        68.100236\n",
       "propextent                  propextent        64.739585\n",
       "propextent_txt          propextent_txt        64.739585\n",
       "scite2                          scite2        57.657231\n",
       "ransom                          ransom        57.410659\n",
       "nperps                          nperps        39.140629\n",
       "nperpcap                      nperpcap        38.245703\n",
       "nwoundte                      nwoundte        38.055270\n",
       "weapdetail                  weapdetail        37.244553\n",
       "nkillter                      nkillter        36.852678\n",
       "scite1                          scite1        36.430533\n",
       "summary                        summary        36.396409\n",
       "claimed                        claimed        36.391456\n",
       "nwoundus                      nwoundus        35.611010\n",
       "nkillus                        nkillus        35.470111\n",
       "corp1                            corp1        23.418882\n",
       "weapsubtype1              weapsubtype1        11.430396\n",
       "weapsubtype1_txt      weapsubtype1_txt        11.430396\n",
       "nwound                          nwound         8.977330\n",
       "targsubtype1              targsubtype1         5.709144\n",
       "targsubtype1_txt      targsubtype1_txt         5.709144\n",
       "nkill                            nkill         5.676120\n",
       "longitude                    longitude         2.508104\n",
       "latitude                      latitude         2.507554\n",
       "natlty1                        natlty1         0.858050\n",
       "natlty1_txt                natlty1_txt         0.858050\n",
       "target1                        target1         0.350045\n",
       "city                              city         0.238867\n",
       "provstate                    provstate         0.231712\n",
       "guncertain1                guncertain1         0.209146\n",
       "ishostkid                    ishostkid         0.097969\n",
       "specificity                specificity         0.003302\n",
       "doubtterr                    doubtterr         0.000550\n",
       "multiple                      multiple         0.000550\n",
       "crit1                            crit1         0.000000\n",
       "iyear                            iyear         0.000000\n",
       "iday                              iday         0.000000\n",
       "imonth                          imonth         0.000000\n",
       "targtype1_txt            targtype1_txt         0.000000\n",
       "gname                            gname         0.000000\n",
       "individual                  individual         0.000000\n",
       "dbsource                      dbsource         0.000000\n",
       "country                        country         0.000000\n",
       "INT_LOG                        INT_LOG         0.000000\n",
       "INT_IDEO                      INT_IDEO         0.000000\n",
       "INT_MISC                      INT_MISC         0.000000\n",
       "INT_ANY                        INT_ANY         0.000000\n",
       "extended                      extended         0.000000\n",
       "region_txt                  region_txt         0.000000\n",
       "country_txt                country_txt         0.000000\n",
       "region                          region         0.000000\n",
       "crit2                            crit2         0.000000\n",
       "targtype1                    targtype1         0.000000\n",
       "weaptype1                    weaptype1         0.000000\n",
       "weaptype1_txt            weaptype1_txt         0.000000\n",
       "attacktype1_txt        attacktype1_txt         0.000000\n",
       "attacktype1                attacktype1         0.000000\n",
       "vicinity                      vicinity         0.000000\n",
       "suicide                        suicide         0.000000\n",
       "success                        success         0.000000\n",
       "crit3                            crit3         0.000000\n",
       "property                      property         0.000000\n",
       "eventid                        eventid         0.000000"
      ]
     },
     "execution_count": 16,
     "metadata": {},
     "output_type": "execute_result"
    }
   ],
   "source": [
    "# showing missing values in percentages in descending order.\n",
    "percent_missing = data.isnull().sum() * 100 / len(data)\n",
    "missing_value_df = pd.DataFrame({'column_name': data.columns,\n",
    "                                 'percent_missing': percent_missing})\n",
    "missing_value_df.sort_values('percent_missing', inplace=True, ascending = False)\n",
    "missing_value_df"
   ]
  },
  {
   "cell_type": "code",
   "execution_count": 17,
   "metadata": {},
   "outputs": [
    {
     "data": {
      "text/html": [
       "<div>\n",
       "<style scoped>\n",
       "    .dataframe tbody tr th:only-of-type {\n",
       "        vertical-align: middle;\n",
       "    }\n",
       "\n",
       "    .dataframe tbody tr th {\n",
       "        vertical-align: top;\n",
       "    }\n",
       "\n",
       "    .dataframe thead th {\n",
       "        text-align: right;\n",
       "    }\n",
       "</style>\n",
       "<table border=\"1\" class=\"dataframe\">\n",
       "  <thead>\n",
       "    <tr style=\"text-align: right;\">\n",
       "      <th></th>\n",
       "      <th>column_name</th>\n",
       "      <th>percent_missing</th>\n",
       "    </tr>\n",
       "  </thead>\n",
       "  <tbody>\n",
       "    <tr>\n",
       "      <th>gsubname3</th>\n",
       "      <td>gsubname3</td>\n",
       "      <td>99.988992</td>\n",
       "    </tr>\n",
       "    <tr>\n",
       "      <th>weapsubtype4_txt</th>\n",
       "      <td>weapsubtype4_txt</td>\n",
       "      <td>99.961473</td>\n",
       "    </tr>\n",
       "    <tr>\n",
       "      <th>weapsubtype4</th>\n",
       "      <td>weapsubtype4</td>\n",
       "      <td>99.961473</td>\n",
       "    </tr>\n",
       "    <tr>\n",
       "      <th>weaptype4</th>\n",
       "      <td>weaptype4</td>\n",
       "      <td>99.959822</td>\n",
       "    </tr>\n",
       "    <tr>\n",
       "      <th>weaptype4_txt</th>\n",
       "      <td>weaptype4_txt</td>\n",
       "      <td>99.959822</td>\n",
       "    </tr>\n",
       "    <tr>\n",
       "      <th>claimmode3</th>\n",
       "      <td>claimmode3</td>\n",
       "      <td>99.926799</td>\n",
       "    </tr>\n",
       "    <tr>\n",
       "      <th>claimmode3_txt</th>\n",
       "      <td>claimmode3_txt</td>\n",
       "      <td>99.926799</td>\n",
       "    </tr>\n",
       "    <tr>\n",
       "      <th>gsubname2</th>\n",
       "      <td>gsubname2</td>\n",
       "      <td>99.911938</td>\n",
       "    </tr>\n",
       "    <tr>\n",
       "      <th>claim3</th>\n",
       "      <td>claim3</td>\n",
       "      <td>99.824978</td>\n",
       "    </tr>\n",
       "    <tr>\n",
       "      <th>guncertain3</th>\n",
       "      <td>guncertain3</td>\n",
       "      <td>99.823877</td>\n",
       "    </tr>\n",
       "    <tr>\n",
       "      <th>gname3</th>\n",
       "      <td>gname3</td>\n",
       "      <td>99.821675</td>\n",
       "    </tr>\n",
       "    <tr>\n",
       "      <th>divert</th>\n",
       "      <td>divert</td>\n",
       "      <td>99.821675</td>\n",
       "    </tr>\n",
       "    <tr>\n",
       "      <th>attacktype3</th>\n",
       "      <td>attacktype3</td>\n",
       "      <td>99.764435</td>\n",
       "    </tr>\n",
       "    <tr>\n",
       "      <th>attacktype3_txt</th>\n",
       "      <td>attacktype3_txt</td>\n",
       "      <td>99.764435</td>\n",
       "    </tr>\n",
       "    <tr>\n",
       "      <th>ransomnote</th>\n",
       "      <td>ransomnote</td>\n",
       "      <td>99.717102</td>\n",
       "    </tr>\n",
       "    <tr>\n",
       "      <th>ransompaidus</th>\n",
       "      <td>ransompaidus</td>\n",
       "      <td>99.696187</td>\n",
       "    </tr>\n",
       "    <tr>\n",
       "      <th>ransomamtus</th>\n",
       "      <td>ransomamtus</td>\n",
       "      <td>99.690133</td>\n",
       "    </tr>\n",
       "    <tr>\n",
       "      <th>claimmode2</th>\n",
       "      <td>claimmode2</td>\n",
       "      <td>99.660963</td>\n",
       "    </tr>\n",
       "    <tr>\n",
       "      <th>claimmode2_txt</th>\n",
       "      <td>claimmode2_txt</td>\n",
       "      <td>99.660963</td>\n",
       "    </tr>\n",
       "    <tr>\n",
       "      <th>ransompaid</th>\n",
       "      <td>ransompaid</td>\n",
       "      <td>99.574002</td>\n",
       "    </tr>\n",
       "    <tr>\n",
       "      <th>corp3</th>\n",
       "      <td>corp3</td>\n",
       "      <td>99.435305</td>\n",
       "    </tr>\n",
       "    <tr>\n",
       "      <th>targsubtype3</th>\n",
       "      <td>targsubtype3</td>\n",
       "      <td>99.396228</td>\n",
       "    </tr>\n",
       "    <tr>\n",
       "      <th>targsubtype3_txt</th>\n",
       "      <td>targsubtype3_txt</td>\n",
       "      <td>99.396228</td>\n",
       "    </tr>\n",
       "    <tr>\n",
       "      <th>natlty3_txt</th>\n",
       "      <td>natlty3_txt</td>\n",
       "      <td>99.368708</td>\n",
       "    </tr>\n",
       "    <tr>\n",
       "      <th>natlty3</th>\n",
       "      <td>natlty3</td>\n",
       "      <td>99.368708</td>\n",
       "    </tr>\n",
       "    <tr>\n",
       "      <th>target3</th>\n",
       "      <td>target3</td>\n",
       "      <td>99.353298</td>\n",
       "    </tr>\n",
       "    <tr>\n",
       "      <th>targtype3</th>\n",
       "      <td>targtype3</td>\n",
       "      <td>99.352747</td>\n",
       "    </tr>\n",
       "    <tr>\n",
       "      <th>targtype3_txt</th>\n",
       "      <td>targtype3_txt</td>\n",
       "      <td>99.352747</td>\n",
       "    </tr>\n",
       "    <tr>\n",
       "      <th>ransomamt</th>\n",
       "      <td>ransomamt</td>\n",
       "      <td>99.256980</td>\n",
       "    </tr>\n",
       "    <tr>\n",
       "      <th>weapsubtype3_txt</th>\n",
       "      <td>weapsubtype3_txt</td>\n",
       "      <td>99.068198</td>\n",
       "    </tr>\n",
       "    <tr>\n",
       "      <th>weapsubtype3</th>\n",
       "      <td>weapsubtype3</td>\n",
       "      <td>99.068198</td>\n",
       "    </tr>\n",
       "    <tr>\n",
       "      <th>weaptype3_txt</th>\n",
       "      <td>weaptype3_txt</td>\n",
       "      <td>98.974633</td>\n",
       "    </tr>\n",
       "    <tr>\n",
       "      <th>weaptype3</th>\n",
       "      <td>weaptype3</td>\n",
       "      <td>98.974633</td>\n",
       "    </tr>\n",
       "    <tr>\n",
       "      <th>claim2</th>\n",
       "      <td>claim2</td>\n",
       "      <td>98.959772</td>\n",
       "    </tr>\n",
       "    <tr>\n",
       "      <th>guncertain2</th>\n",
       "      <td>guncertain2</td>\n",
       "      <td>98.923997</td>\n",
       "    </tr>\n",
       "    <tr>\n",
       "      <th>gname2</th>\n",
       "      <td>gname2</td>\n",
       "      <td>98.892075</td>\n",
       "    </tr>\n",
       "    <tr>\n",
       "      <th>resolution</th>\n",
       "      <td>resolution</td>\n",
       "      <td>98.778145</td>\n",
       "    </tr>\n",
       "    <tr>\n",
       "      <th>kidhijcountry</th>\n",
       "      <td>kidhijcountry</td>\n",
       "      <td>98.180978</td>\n",
       "    </tr>\n",
       "    <tr>\n",
       "      <th>nhours</th>\n",
       "      <td>nhours</td>\n",
       "      <td>97.763786</td>\n",
       "    </tr>\n",
       "    <tr>\n",
       "      <th>compclaim</th>\n",
       "      <td>compclaim</td>\n",
       "      <td>97.336687</td>\n",
       "    </tr>\n",
       "    <tr>\n",
       "      <th>gsubname</th>\n",
       "      <td>gsubname</td>\n",
       "      <td>96.758232</td>\n",
       "    </tr>\n",
       "    <tr>\n",
       "      <th>attacktype2</th>\n",
       "      <td>attacktype2</td>\n",
       "      <td>96.524869</td>\n",
       "    </tr>\n",
       "    <tr>\n",
       "      <th>attacktype2_txt</th>\n",
       "      <td>attacktype2_txt</td>\n",
       "      <td>96.524869</td>\n",
       "    </tr>\n",
       "    <tr>\n",
       "      <th>ndays</th>\n",
       "      <td>ndays</td>\n",
       "      <td>95.528672</td>\n",
       "    </tr>\n",
       "    <tr>\n",
       "      <th>approxdate</th>\n",
       "      <td>approxdate</td>\n",
       "      <td>94.914993</td>\n",
       "    </tr>\n",
       "    <tr>\n",
       "      <th>corp2</th>\n",
       "      <td>corp2</td>\n",
       "      <td>94.431755</td>\n",
       "    </tr>\n",
       "    <tr>\n",
       "      <th>nreleased</th>\n",
       "      <td>nreleased</td>\n",
       "      <td>94.275996</td>\n",
       "    </tr>\n",
       "    <tr>\n",
       "      <th>targsubtype2</th>\n",
       "      <td>targsubtype2</td>\n",
       "      <td>94.119136</td>\n",
       "    </tr>\n",
       "    <tr>\n",
       "      <th>targsubtype2_txt</th>\n",
       "      <td>targsubtype2_txt</td>\n",
       "      <td>94.119136</td>\n",
       "    </tr>\n",
       "    <tr>\n",
       "      <th>natlty2</th>\n",
       "      <td>natlty2</td>\n",
       "      <td>94.040431</td>\n",
       "    </tr>\n",
       "    <tr>\n",
       "      <th>natlty2_txt</th>\n",
       "      <td>natlty2_txt</td>\n",
       "      <td>94.040431</td>\n",
       "    </tr>\n",
       "    <tr>\n",
       "      <th>hostkidoutcome_txt</th>\n",
       "      <td>hostkidoutcome_txt</td>\n",
       "      <td>93.950719</td>\n",
       "    </tr>\n",
       "    <tr>\n",
       "      <th>hostkidoutcome</th>\n",
       "      <td>hostkidoutcome</td>\n",
       "      <td>93.950719</td>\n",
       "    </tr>\n",
       "    <tr>\n",
       "      <th>target2</th>\n",
       "      <td>target2</td>\n",
       "      <td>93.934757</td>\n",
       "    </tr>\n",
       "    <tr>\n",
       "      <th>targtype2_txt</th>\n",
       "      <td>targtype2_txt</td>\n",
       "      <td>93.866510</td>\n",
       "    </tr>\n",
       "    <tr>\n",
       "      <th>targtype2</th>\n",
       "      <td>targtype2</td>\n",
       "      <td>93.866510</td>\n",
       "    </tr>\n",
       "    <tr>\n",
       "      <th>weapsubtype2</th>\n",
       "      <td>weapsubtype2</td>\n",
       "      <td>93.647456</td>\n",
       "    </tr>\n",
       "    <tr>\n",
       "      <th>weapsubtype2_txt</th>\n",
       "      <td>weapsubtype2_txt</td>\n",
       "      <td>93.647456</td>\n",
       "    </tr>\n",
       "    <tr>\n",
       "      <th>weaptype2</th>\n",
       "      <td>weaptype2</td>\n",
       "      <td>92.775096</td>\n",
       "    </tr>\n",
       "    <tr>\n",
       "      <th>weaptype2_txt</th>\n",
       "      <td>weaptype2_txt</td>\n",
       "      <td>92.775096</td>\n",
       "    </tr>\n",
       "    <tr>\n",
       "      <th>nhostkidus</th>\n",
       "      <td>nhostkidus</td>\n",
       "      <td>92.560446</td>\n",
       "    </tr>\n",
       "    <tr>\n",
       "      <th>nhostkid</th>\n",
       "      <td>nhostkid</td>\n",
       "      <td>92.530175</td>\n",
       "    </tr>\n",
       "    <tr>\n",
       "      <th>claimmode_txt</th>\n",
       "      <td>claimmode_txt</td>\n",
       "      <td>89.497003</td>\n",
       "    </tr>\n",
       "    <tr>\n",
       "      <th>claimmode</th>\n",
       "      <td>claimmode</td>\n",
       "      <td>89.497003</td>\n",
       "    </tr>\n",
       "    <tr>\n",
       "      <th>related</th>\n",
       "      <td>related</td>\n",
       "      <td>86.219461</td>\n",
       "    </tr>\n",
       "    <tr>\n",
       "      <th>addnotes</th>\n",
       "      <td>addnotes</td>\n",
       "      <td>84.430159</td>\n",
       "    </tr>\n",
       "    <tr>\n",
       "      <th>alternative</th>\n",
       "      <td>alternative</td>\n",
       "      <td>84.032781</td>\n",
       "    </tr>\n",
       "    <tr>\n",
       "      <th>alternative_txt</th>\n",
       "      <td>alternative_txt</td>\n",
       "      <td>84.032781</td>\n",
       "    </tr>\n",
       "    <tr>\n",
       "      <th>propvalue</th>\n",
       "      <td>propvalue</td>\n",
       "      <td>78.541039</td>\n",
       "    </tr>\n",
       "    <tr>\n",
       "      <th>scite3</th>\n",
       "      <td>scite3</td>\n",
       "      <td>76.049447</td>\n",
       "    </tr>\n",
       "    <tr>\n",
       "      <th>motive</th>\n",
       "      <td>motive</td>\n",
       "      <td>72.171984</td>\n",
       "    </tr>\n",
       "    <tr>\n",
       "      <th>location</th>\n",
       "      <td>location</td>\n",
       "      <td>69.456385</td>\n",
       "    </tr>\n",
       "    <tr>\n",
       "      <th>propcomment</th>\n",
       "      <td>propcomment</td>\n",
       "      <td>68.100236</td>\n",
       "    </tr>\n",
       "    <tr>\n",
       "      <th>propextent</th>\n",
       "      <td>propextent</td>\n",
       "      <td>64.739585</td>\n",
       "    </tr>\n",
       "    <tr>\n",
       "      <th>propextent_txt</th>\n",
       "      <td>propextent_txt</td>\n",
       "      <td>64.739585</td>\n",
       "    </tr>\n",
       "    <tr>\n",
       "      <th>scite2</th>\n",
       "      <td>scite2</td>\n",
       "      <td>57.657231</td>\n",
       "    </tr>\n",
       "    <tr>\n",
       "      <th>ransom</th>\n",
       "      <td>ransom</td>\n",
       "      <td>57.410659</td>\n",
       "    </tr>\n",
       "    <tr>\n",
       "      <th>nperps</th>\n",
       "      <td>nperps</td>\n",
       "      <td>39.140629</td>\n",
       "    </tr>\n",
       "    <tr>\n",
       "      <th>nperpcap</th>\n",
       "      <td>nperpcap</td>\n",
       "      <td>38.245703</td>\n",
       "    </tr>\n",
       "    <tr>\n",
       "      <th>nwoundte</th>\n",
       "      <td>nwoundte</td>\n",
       "      <td>38.055270</td>\n",
       "    </tr>\n",
       "    <tr>\n",
       "      <th>weapdetail</th>\n",
       "      <td>weapdetail</td>\n",
       "      <td>37.244553</td>\n",
       "    </tr>\n",
       "    <tr>\n",
       "      <th>nkillter</th>\n",
       "      <td>nkillter</td>\n",
       "      <td>36.852678</td>\n",
       "    </tr>\n",
       "    <tr>\n",
       "      <th>scite1</th>\n",
       "      <td>scite1</td>\n",
       "      <td>36.430533</td>\n",
       "    </tr>\n",
       "    <tr>\n",
       "      <th>summary</th>\n",
       "      <td>summary</td>\n",
       "      <td>36.396409</td>\n",
       "    </tr>\n",
       "    <tr>\n",
       "      <th>claimed</th>\n",
       "      <td>claimed</td>\n",
       "      <td>36.391456</td>\n",
       "    </tr>\n",
       "    <tr>\n",
       "      <th>nwoundus</th>\n",
       "      <td>nwoundus</td>\n",
       "      <td>35.611010</td>\n",
       "    </tr>\n",
       "    <tr>\n",
       "      <th>nkillus</th>\n",
       "      <td>nkillus</td>\n",
       "      <td>35.470111</td>\n",
       "    </tr>\n",
       "    <tr>\n",
       "      <th>corp1</th>\n",
       "      <td>corp1</td>\n",
       "      <td>23.418882</td>\n",
       "    </tr>\n",
       "  </tbody>\n",
       "</table>\n",
       "</div>"
      ],
      "text/plain": [
       "                           column_name  percent_missing\n",
       "gsubname3                    gsubname3        99.988992\n",
       "weapsubtype4_txt      weapsubtype4_txt        99.961473\n",
       "weapsubtype4              weapsubtype4        99.961473\n",
       "weaptype4                    weaptype4        99.959822\n",
       "weaptype4_txt            weaptype4_txt        99.959822\n",
       "claimmode3                  claimmode3        99.926799\n",
       "claimmode3_txt          claimmode3_txt        99.926799\n",
       "gsubname2                    gsubname2        99.911938\n",
       "claim3                          claim3        99.824978\n",
       "guncertain3                guncertain3        99.823877\n",
       "gname3                          gname3        99.821675\n",
       "divert                          divert        99.821675\n",
       "attacktype3                attacktype3        99.764435\n",
       "attacktype3_txt        attacktype3_txt        99.764435\n",
       "ransomnote                  ransomnote        99.717102\n",
       "ransompaidus              ransompaidus        99.696187\n",
       "ransomamtus                ransomamtus        99.690133\n",
       "claimmode2                  claimmode2        99.660963\n",
       "claimmode2_txt          claimmode2_txt        99.660963\n",
       "ransompaid                  ransompaid        99.574002\n",
       "corp3                            corp3        99.435305\n",
       "targsubtype3              targsubtype3        99.396228\n",
       "targsubtype3_txt      targsubtype3_txt        99.396228\n",
       "natlty3_txt                natlty3_txt        99.368708\n",
       "natlty3                        natlty3        99.368708\n",
       "target3                        target3        99.353298\n",
       "targtype3                    targtype3        99.352747\n",
       "targtype3_txt            targtype3_txt        99.352747\n",
       "ransomamt                    ransomamt        99.256980\n",
       "weapsubtype3_txt      weapsubtype3_txt        99.068198\n",
       "weapsubtype3              weapsubtype3        99.068198\n",
       "weaptype3_txt            weaptype3_txt        98.974633\n",
       "weaptype3                    weaptype3        98.974633\n",
       "claim2                          claim2        98.959772\n",
       "guncertain2                guncertain2        98.923997\n",
       "gname2                          gname2        98.892075\n",
       "resolution                  resolution        98.778145\n",
       "kidhijcountry            kidhijcountry        98.180978\n",
       "nhours                          nhours        97.763786\n",
       "compclaim                    compclaim        97.336687\n",
       "gsubname                      gsubname        96.758232\n",
       "attacktype2                attacktype2        96.524869\n",
       "attacktype2_txt        attacktype2_txt        96.524869\n",
       "ndays                            ndays        95.528672\n",
       "approxdate                  approxdate        94.914993\n",
       "corp2                            corp2        94.431755\n",
       "nreleased                    nreleased        94.275996\n",
       "targsubtype2              targsubtype2        94.119136\n",
       "targsubtype2_txt      targsubtype2_txt        94.119136\n",
       "natlty2                        natlty2        94.040431\n",
       "natlty2_txt                natlty2_txt        94.040431\n",
       "hostkidoutcome_txt  hostkidoutcome_txt        93.950719\n",
       "hostkidoutcome          hostkidoutcome        93.950719\n",
       "target2                        target2        93.934757\n",
       "targtype2_txt            targtype2_txt        93.866510\n",
       "targtype2                    targtype2        93.866510\n",
       "weapsubtype2              weapsubtype2        93.647456\n",
       "weapsubtype2_txt      weapsubtype2_txt        93.647456\n",
       "weaptype2                    weaptype2        92.775096\n",
       "weaptype2_txt            weaptype2_txt        92.775096\n",
       "nhostkidus                  nhostkidus        92.560446\n",
       "nhostkid                      nhostkid        92.530175\n",
       "claimmode_txt            claimmode_txt        89.497003\n",
       "claimmode                    claimmode        89.497003\n",
       "related                        related        86.219461\n",
       "addnotes                      addnotes        84.430159\n",
       "alternative                alternative        84.032781\n",
       "alternative_txt        alternative_txt        84.032781\n",
       "propvalue                    propvalue        78.541039\n",
       "scite3                          scite3        76.049447\n",
       "motive                          motive        72.171984\n",
       "location                      location        69.456385\n",
       "propcomment                propcomment        68.100236\n",
       "propextent                  propextent        64.739585\n",
       "propextent_txt          propextent_txt        64.739585\n",
       "scite2                          scite2        57.657231\n",
       "ransom                          ransom        57.410659\n",
       "nperps                          nperps        39.140629\n",
       "nperpcap                      nperpcap        38.245703\n",
       "nwoundte                      nwoundte        38.055270\n",
       "weapdetail                  weapdetail        37.244553\n",
       "nkillter                      nkillter        36.852678\n",
       "scite1                          scite1        36.430533\n",
       "summary                        summary        36.396409\n",
       "claimed                        claimed        36.391456\n",
       "nwoundus                      nwoundus        35.611010\n",
       "nkillus                        nkillus        35.470111\n",
       "corp1                            corp1        23.418882"
      ]
     },
     "execution_count": 17,
     "metadata": {},
     "output_type": "execute_result"
    }
   ],
   "source": [
    "#Remove columns with more than 25% missing data\n",
    "morethan25_per = missing_value_df[missing_value_df['percent_missing']>23]\n",
    "morethan25_per"
   ]
  },
  {
   "cell_type": "code",
   "execution_count": 18,
   "metadata": {},
   "outputs": [
    {
     "data": {
      "text/html": [
       "<div>\n",
       "<style scoped>\n",
       "    .dataframe tbody tr th:only-of-type {\n",
       "        vertical-align: middle;\n",
       "    }\n",
       "\n",
       "    .dataframe tbody tr th {\n",
       "        vertical-align: top;\n",
       "    }\n",
       "\n",
       "    .dataframe thead th {\n",
       "        text-align: right;\n",
       "    }\n",
       "</style>\n",
       "<table border=\"1\" class=\"dataframe\">\n",
       "  <thead>\n",
       "    <tr style=\"text-align: right;\">\n",
       "      <th></th>\n",
       "      <th>column_name</th>\n",
       "      <th>percent_missing</th>\n",
       "    </tr>\n",
       "  </thead>\n",
       "  <tbody>\n",
       "    <tr>\n",
       "      <th>gsubname3</th>\n",
       "      <td>gsubname3</td>\n",
       "      <td>99.988992</td>\n",
       "    </tr>\n",
       "    <tr>\n",
       "      <th>weapsubtype4_txt</th>\n",
       "      <td>weapsubtype4_txt</td>\n",
       "      <td>99.961473</td>\n",
       "    </tr>\n",
       "    <tr>\n",
       "      <th>weapsubtype4</th>\n",
       "      <td>weapsubtype4</td>\n",
       "      <td>99.961473</td>\n",
       "    </tr>\n",
       "    <tr>\n",
       "      <th>weaptype4</th>\n",
       "      <td>weaptype4</td>\n",
       "      <td>99.959822</td>\n",
       "    </tr>\n",
       "    <tr>\n",
       "      <th>weaptype4_txt</th>\n",
       "      <td>weaptype4_txt</td>\n",
       "      <td>99.959822</td>\n",
       "    </tr>\n",
       "    <tr>\n",
       "      <th>claimmode3</th>\n",
       "      <td>claimmode3</td>\n",
       "      <td>99.926799</td>\n",
       "    </tr>\n",
       "    <tr>\n",
       "      <th>claimmode3_txt</th>\n",
       "      <td>claimmode3_txt</td>\n",
       "      <td>99.926799</td>\n",
       "    </tr>\n",
       "    <tr>\n",
       "      <th>gsubname2</th>\n",
       "      <td>gsubname2</td>\n",
       "      <td>99.911938</td>\n",
       "    </tr>\n",
       "    <tr>\n",
       "      <th>claim3</th>\n",
       "      <td>claim3</td>\n",
       "      <td>99.824978</td>\n",
       "    </tr>\n",
       "    <tr>\n",
       "      <th>guncertain3</th>\n",
       "      <td>guncertain3</td>\n",
       "      <td>99.823877</td>\n",
       "    </tr>\n",
       "    <tr>\n",
       "      <th>gname3</th>\n",
       "      <td>gname3</td>\n",
       "      <td>99.821675</td>\n",
       "    </tr>\n",
       "    <tr>\n",
       "      <th>divert</th>\n",
       "      <td>divert</td>\n",
       "      <td>99.821675</td>\n",
       "    </tr>\n",
       "    <tr>\n",
       "      <th>attacktype3</th>\n",
       "      <td>attacktype3</td>\n",
       "      <td>99.764435</td>\n",
       "    </tr>\n",
       "    <tr>\n",
       "      <th>attacktype3_txt</th>\n",
       "      <td>attacktype3_txt</td>\n",
       "      <td>99.764435</td>\n",
       "    </tr>\n",
       "    <tr>\n",
       "      <th>ransomnote</th>\n",
       "      <td>ransomnote</td>\n",
       "      <td>99.717102</td>\n",
       "    </tr>\n",
       "    <tr>\n",
       "      <th>ransompaidus</th>\n",
       "      <td>ransompaidus</td>\n",
       "      <td>99.696187</td>\n",
       "    </tr>\n",
       "    <tr>\n",
       "      <th>ransomamtus</th>\n",
       "      <td>ransomamtus</td>\n",
       "      <td>99.690133</td>\n",
       "    </tr>\n",
       "    <tr>\n",
       "      <th>claimmode2</th>\n",
       "      <td>claimmode2</td>\n",
       "      <td>99.660963</td>\n",
       "    </tr>\n",
       "    <tr>\n",
       "      <th>claimmode2_txt</th>\n",
       "      <td>claimmode2_txt</td>\n",
       "      <td>99.660963</td>\n",
       "    </tr>\n",
       "    <tr>\n",
       "      <th>ransompaid</th>\n",
       "      <td>ransompaid</td>\n",
       "      <td>99.574002</td>\n",
       "    </tr>\n",
       "    <tr>\n",
       "      <th>corp3</th>\n",
       "      <td>corp3</td>\n",
       "      <td>99.435305</td>\n",
       "    </tr>\n",
       "    <tr>\n",
       "      <th>targsubtype3</th>\n",
       "      <td>targsubtype3</td>\n",
       "      <td>99.396228</td>\n",
       "    </tr>\n",
       "    <tr>\n",
       "      <th>targsubtype3_txt</th>\n",
       "      <td>targsubtype3_txt</td>\n",
       "      <td>99.396228</td>\n",
       "    </tr>\n",
       "    <tr>\n",
       "      <th>natlty3_txt</th>\n",
       "      <td>natlty3_txt</td>\n",
       "      <td>99.368708</td>\n",
       "    </tr>\n",
       "    <tr>\n",
       "      <th>natlty3</th>\n",
       "      <td>natlty3</td>\n",
       "      <td>99.368708</td>\n",
       "    </tr>\n",
       "    <tr>\n",
       "      <th>target3</th>\n",
       "      <td>target3</td>\n",
       "      <td>99.353298</td>\n",
       "    </tr>\n",
       "    <tr>\n",
       "      <th>targtype3</th>\n",
       "      <td>targtype3</td>\n",
       "      <td>99.352747</td>\n",
       "    </tr>\n",
       "    <tr>\n",
       "      <th>targtype3_txt</th>\n",
       "      <td>targtype3_txt</td>\n",
       "      <td>99.352747</td>\n",
       "    </tr>\n",
       "    <tr>\n",
       "      <th>ransomamt</th>\n",
       "      <td>ransomamt</td>\n",
       "      <td>99.256980</td>\n",
       "    </tr>\n",
       "    <tr>\n",
       "      <th>weapsubtype3_txt</th>\n",
       "      <td>weapsubtype3_txt</td>\n",
       "      <td>99.068198</td>\n",
       "    </tr>\n",
       "    <tr>\n",
       "      <th>weapsubtype3</th>\n",
       "      <td>weapsubtype3</td>\n",
       "      <td>99.068198</td>\n",
       "    </tr>\n",
       "    <tr>\n",
       "      <th>weaptype3_txt</th>\n",
       "      <td>weaptype3_txt</td>\n",
       "      <td>98.974633</td>\n",
       "    </tr>\n",
       "    <tr>\n",
       "      <th>weaptype3</th>\n",
       "      <td>weaptype3</td>\n",
       "      <td>98.974633</td>\n",
       "    </tr>\n",
       "    <tr>\n",
       "      <th>claim2</th>\n",
       "      <td>claim2</td>\n",
       "      <td>98.959772</td>\n",
       "    </tr>\n",
       "    <tr>\n",
       "      <th>guncertain2</th>\n",
       "      <td>guncertain2</td>\n",
       "      <td>98.923997</td>\n",
       "    </tr>\n",
       "    <tr>\n",
       "      <th>gname2</th>\n",
       "      <td>gname2</td>\n",
       "      <td>98.892075</td>\n",
       "    </tr>\n",
       "    <tr>\n",
       "      <th>resolution</th>\n",
       "      <td>resolution</td>\n",
       "      <td>98.778145</td>\n",
       "    </tr>\n",
       "    <tr>\n",
       "      <th>kidhijcountry</th>\n",
       "      <td>kidhijcountry</td>\n",
       "      <td>98.180978</td>\n",
       "    </tr>\n",
       "    <tr>\n",
       "      <th>nhours</th>\n",
       "      <td>nhours</td>\n",
       "      <td>97.763786</td>\n",
       "    </tr>\n",
       "    <tr>\n",
       "      <th>compclaim</th>\n",
       "      <td>compclaim</td>\n",
       "      <td>97.336687</td>\n",
       "    </tr>\n",
       "    <tr>\n",
       "      <th>gsubname</th>\n",
       "      <td>gsubname</td>\n",
       "      <td>96.758232</td>\n",
       "    </tr>\n",
       "    <tr>\n",
       "      <th>attacktype2</th>\n",
       "      <td>attacktype2</td>\n",
       "      <td>96.524869</td>\n",
       "    </tr>\n",
       "    <tr>\n",
       "      <th>attacktype2_txt</th>\n",
       "      <td>attacktype2_txt</td>\n",
       "      <td>96.524869</td>\n",
       "    </tr>\n",
       "    <tr>\n",
       "      <th>ndays</th>\n",
       "      <td>ndays</td>\n",
       "      <td>95.528672</td>\n",
       "    </tr>\n",
       "    <tr>\n",
       "      <th>approxdate</th>\n",
       "      <td>approxdate</td>\n",
       "      <td>94.914993</td>\n",
       "    </tr>\n",
       "    <tr>\n",
       "      <th>corp2</th>\n",
       "      <td>corp2</td>\n",
       "      <td>94.431755</td>\n",
       "    </tr>\n",
       "    <tr>\n",
       "      <th>nreleased</th>\n",
       "      <td>nreleased</td>\n",
       "      <td>94.275996</td>\n",
       "    </tr>\n",
       "    <tr>\n",
       "      <th>targsubtype2</th>\n",
       "      <td>targsubtype2</td>\n",
       "      <td>94.119136</td>\n",
       "    </tr>\n",
       "    <tr>\n",
       "      <th>targsubtype2_txt</th>\n",
       "      <td>targsubtype2_txt</td>\n",
       "      <td>94.119136</td>\n",
       "    </tr>\n",
       "    <tr>\n",
       "      <th>natlty2</th>\n",
       "      <td>natlty2</td>\n",
       "      <td>94.040431</td>\n",
       "    </tr>\n",
       "    <tr>\n",
       "      <th>natlty2_txt</th>\n",
       "      <td>natlty2_txt</td>\n",
       "      <td>94.040431</td>\n",
       "    </tr>\n",
       "    <tr>\n",
       "      <th>hostkidoutcome_txt</th>\n",
       "      <td>hostkidoutcome_txt</td>\n",
       "      <td>93.950719</td>\n",
       "    </tr>\n",
       "    <tr>\n",
       "      <th>hostkidoutcome</th>\n",
       "      <td>hostkidoutcome</td>\n",
       "      <td>93.950719</td>\n",
       "    </tr>\n",
       "    <tr>\n",
       "      <th>target2</th>\n",
       "      <td>target2</td>\n",
       "      <td>93.934757</td>\n",
       "    </tr>\n",
       "    <tr>\n",
       "      <th>targtype2_txt</th>\n",
       "      <td>targtype2_txt</td>\n",
       "      <td>93.866510</td>\n",
       "    </tr>\n",
       "    <tr>\n",
       "      <th>targtype2</th>\n",
       "      <td>targtype2</td>\n",
       "      <td>93.866510</td>\n",
       "    </tr>\n",
       "    <tr>\n",
       "      <th>weapsubtype2</th>\n",
       "      <td>weapsubtype2</td>\n",
       "      <td>93.647456</td>\n",
       "    </tr>\n",
       "    <tr>\n",
       "      <th>weapsubtype2_txt</th>\n",
       "      <td>weapsubtype2_txt</td>\n",
       "      <td>93.647456</td>\n",
       "    </tr>\n",
       "    <tr>\n",
       "      <th>weaptype2</th>\n",
       "      <td>weaptype2</td>\n",
       "      <td>92.775096</td>\n",
       "    </tr>\n",
       "    <tr>\n",
       "      <th>weaptype2_txt</th>\n",
       "      <td>weaptype2_txt</td>\n",
       "      <td>92.775096</td>\n",
       "    </tr>\n",
       "    <tr>\n",
       "      <th>nhostkidus</th>\n",
       "      <td>nhostkidus</td>\n",
       "      <td>92.560446</td>\n",
       "    </tr>\n",
       "    <tr>\n",
       "      <th>nhostkid</th>\n",
       "      <td>nhostkid</td>\n",
       "      <td>92.530175</td>\n",
       "    </tr>\n",
       "    <tr>\n",
       "      <th>claimmode_txt</th>\n",
       "      <td>claimmode_txt</td>\n",
       "      <td>89.497003</td>\n",
       "    </tr>\n",
       "    <tr>\n",
       "      <th>claimmode</th>\n",
       "      <td>claimmode</td>\n",
       "      <td>89.497003</td>\n",
       "    </tr>\n",
       "    <tr>\n",
       "      <th>related</th>\n",
       "      <td>related</td>\n",
       "      <td>86.219461</td>\n",
       "    </tr>\n",
       "    <tr>\n",
       "      <th>addnotes</th>\n",
       "      <td>addnotes</td>\n",
       "      <td>84.430159</td>\n",
       "    </tr>\n",
       "    <tr>\n",
       "      <th>alternative</th>\n",
       "      <td>alternative</td>\n",
       "      <td>84.032781</td>\n",
       "    </tr>\n",
       "    <tr>\n",
       "      <th>alternative_txt</th>\n",
       "      <td>alternative_txt</td>\n",
       "      <td>84.032781</td>\n",
       "    </tr>\n",
       "    <tr>\n",
       "      <th>propvalue</th>\n",
       "      <td>propvalue</td>\n",
       "      <td>78.541039</td>\n",
       "    </tr>\n",
       "    <tr>\n",
       "      <th>scite3</th>\n",
       "      <td>scite3</td>\n",
       "      <td>76.049447</td>\n",
       "    </tr>\n",
       "    <tr>\n",
       "      <th>motive</th>\n",
       "      <td>motive</td>\n",
       "      <td>72.171984</td>\n",
       "    </tr>\n",
       "    <tr>\n",
       "      <th>location</th>\n",
       "      <td>location</td>\n",
       "      <td>69.456385</td>\n",
       "    </tr>\n",
       "    <tr>\n",
       "      <th>propcomment</th>\n",
       "      <td>propcomment</td>\n",
       "      <td>68.100236</td>\n",
       "    </tr>\n",
       "    <tr>\n",
       "      <th>propextent</th>\n",
       "      <td>propextent</td>\n",
       "      <td>64.739585</td>\n",
       "    </tr>\n",
       "    <tr>\n",
       "      <th>propextent_txt</th>\n",
       "      <td>propextent_txt</td>\n",
       "      <td>64.739585</td>\n",
       "    </tr>\n",
       "    <tr>\n",
       "      <th>scite2</th>\n",
       "      <td>scite2</td>\n",
       "      <td>57.657231</td>\n",
       "    </tr>\n",
       "    <tr>\n",
       "      <th>ransom</th>\n",
       "      <td>ransom</td>\n",
       "      <td>57.410659</td>\n",
       "    </tr>\n",
       "    <tr>\n",
       "      <th>nperps</th>\n",
       "      <td>nperps</td>\n",
       "      <td>39.140629</td>\n",
       "    </tr>\n",
       "    <tr>\n",
       "      <th>nperpcap</th>\n",
       "      <td>nperpcap</td>\n",
       "      <td>38.245703</td>\n",
       "    </tr>\n",
       "    <tr>\n",
       "      <th>nwoundte</th>\n",
       "      <td>nwoundte</td>\n",
       "      <td>38.055270</td>\n",
       "    </tr>\n",
       "    <tr>\n",
       "      <th>weapdetail</th>\n",
       "      <td>weapdetail</td>\n",
       "      <td>37.244553</td>\n",
       "    </tr>\n",
       "    <tr>\n",
       "      <th>nkillter</th>\n",
       "      <td>nkillter</td>\n",
       "      <td>36.852678</td>\n",
       "    </tr>\n",
       "    <tr>\n",
       "      <th>scite1</th>\n",
       "      <td>scite1</td>\n",
       "      <td>36.430533</td>\n",
       "    </tr>\n",
       "    <tr>\n",
       "      <th>summary</th>\n",
       "      <td>summary</td>\n",
       "      <td>36.396409</td>\n",
       "    </tr>\n",
       "    <tr>\n",
       "      <th>claimed</th>\n",
       "      <td>claimed</td>\n",
       "      <td>36.391456</td>\n",
       "    </tr>\n",
       "    <tr>\n",
       "      <th>nwoundus</th>\n",
       "      <td>nwoundus</td>\n",
       "      <td>35.611010</td>\n",
       "    </tr>\n",
       "    <tr>\n",
       "      <th>nkillus</th>\n",
       "      <td>nkillus</td>\n",
       "      <td>35.470111</td>\n",
       "    </tr>\n",
       "    <tr>\n",
       "      <th>corp1</th>\n",
       "      <td>corp1</td>\n",
       "      <td>23.418882</td>\n",
       "    </tr>\n",
       "  </tbody>\n",
       "</table>\n",
       "</div>"
      ],
      "text/plain": [
       "                           column_name  percent_missing\n",
       "gsubname3                    gsubname3        99.988992\n",
       "weapsubtype4_txt      weapsubtype4_txt        99.961473\n",
       "weapsubtype4              weapsubtype4        99.961473\n",
       "weaptype4                    weaptype4        99.959822\n",
       "weaptype4_txt            weaptype4_txt        99.959822\n",
       "claimmode3                  claimmode3        99.926799\n",
       "claimmode3_txt          claimmode3_txt        99.926799\n",
       "gsubname2                    gsubname2        99.911938\n",
       "claim3                          claim3        99.824978\n",
       "guncertain3                guncertain3        99.823877\n",
       "gname3                          gname3        99.821675\n",
       "divert                          divert        99.821675\n",
       "attacktype3                attacktype3        99.764435\n",
       "attacktype3_txt        attacktype3_txt        99.764435\n",
       "ransomnote                  ransomnote        99.717102\n",
       "ransompaidus              ransompaidus        99.696187\n",
       "ransomamtus                ransomamtus        99.690133\n",
       "claimmode2                  claimmode2        99.660963\n",
       "claimmode2_txt          claimmode2_txt        99.660963\n",
       "ransompaid                  ransompaid        99.574002\n",
       "corp3                            corp3        99.435305\n",
       "targsubtype3              targsubtype3        99.396228\n",
       "targsubtype3_txt      targsubtype3_txt        99.396228\n",
       "natlty3_txt                natlty3_txt        99.368708\n",
       "natlty3                        natlty3        99.368708\n",
       "target3                        target3        99.353298\n",
       "targtype3                    targtype3        99.352747\n",
       "targtype3_txt            targtype3_txt        99.352747\n",
       "ransomamt                    ransomamt        99.256980\n",
       "weapsubtype3_txt      weapsubtype3_txt        99.068198\n",
       "weapsubtype3              weapsubtype3        99.068198\n",
       "weaptype3_txt            weaptype3_txt        98.974633\n",
       "weaptype3                    weaptype3        98.974633\n",
       "claim2                          claim2        98.959772\n",
       "guncertain2                guncertain2        98.923997\n",
       "gname2                          gname2        98.892075\n",
       "resolution                  resolution        98.778145\n",
       "kidhijcountry            kidhijcountry        98.180978\n",
       "nhours                          nhours        97.763786\n",
       "compclaim                    compclaim        97.336687\n",
       "gsubname                      gsubname        96.758232\n",
       "attacktype2                attacktype2        96.524869\n",
       "attacktype2_txt        attacktype2_txt        96.524869\n",
       "ndays                            ndays        95.528672\n",
       "approxdate                  approxdate        94.914993\n",
       "corp2                            corp2        94.431755\n",
       "nreleased                    nreleased        94.275996\n",
       "targsubtype2              targsubtype2        94.119136\n",
       "targsubtype2_txt      targsubtype2_txt        94.119136\n",
       "natlty2                        natlty2        94.040431\n",
       "natlty2_txt                natlty2_txt        94.040431\n",
       "hostkidoutcome_txt  hostkidoutcome_txt        93.950719\n",
       "hostkidoutcome          hostkidoutcome        93.950719\n",
       "target2                        target2        93.934757\n",
       "targtype2_txt            targtype2_txt        93.866510\n",
       "targtype2                    targtype2        93.866510\n",
       "weapsubtype2              weapsubtype2        93.647456\n",
       "weapsubtype2_txt      weapsubtype2_txt        93.647456\n",
       "weaptype2                    weaptype2        92.775096\n",
       "weaptype2_txt            weaptype2_txt        92.775096\n",
       "nhostkidus                  nhostkidus        92.560446\n",
       "nhostkid                      nhostkid        92.530175\n",
       "claimmode_txt            claimmode_txt        89.497003\n",
       "claimmode                    claimmode        89.497003\n",
       "related                        related        86.219461\n",
       "addnotes                      addnotes        84.430159\n",
       "alternative                alternative        84.032781\n",
       "alternative_txt        alternative_txt        84.032781\n",
       "propvalue                    propvalue        78.541039\n",
       "scite3                          scite3        76.049447\n",
       "motive                          motive        72.171984\n",
       "location                      location        69.456385\n",
       "propcomment                propcomment        68.100236\n",
       "propextent                  propextent        64.739585\n",
       "propextent_txt          propextent_txt        64.739585\n",
       "scite2                          scite2        57.657231\n",
       "ransom                          ransom        57.410659\n",
       "nperps                          nperps        39.140629\n",
       "nperpcap                      nperpcap        38.245703\n",
       "nwoundte                      nwoundte        38.055270\n",
       "weapdetail                  weapdetail        37.244553\n",
       "nkillter                      nkillter        36.852678\n",
       "scite1                          scite1        36.430533\n",
       "summary                        summary        36.396409\n",
       "claimed                        claimed        36.391456\n",
       "nwoundus                      nwoundus        35.611010\n",
       "nkillus                        nkillus        35.470111\n",
       "corp1                            corp1        23.418882"
      ]
     },
     "execution_count": 18,
     "metadata": {},
     "output_type": "execute_result"
    }
   ],
   "source": [
    "# Removing columns with more than 25% missing value.\n",
    "morethan25_per = missing_value_df[missing_value_df['percent_missing']>23]\n",
    "morethan25_per"
   ]
  },
  {
   "cell_type": "code",
   "execution_count": 20,
   "metadata": {},
   "outputs": [
    {
     "data": {
      "text/html": [
       "<div>\n",
       "<style scoped>\n",
       "    .dataframe tbody tr th:only-of-type {\n",
       "        vertical-align: middle;\n",
       "    }\n",
       "\n",
       "    .dataframe tbody tr th {\n",
       "        vertical-align: top;\n",
       "    }\n",
       "\n",
       "    .dataframe thead th {\n",
       "        text-align: right;\n",
       "    }\n",
       "</style>\n",
       "<table border=\"1\" class=\"dataframe\">\n",
       "  <thead>\n",
       "    <tr style=\"text-align: right;\">\n",
       "      <th></th>\n",
       "      <th>eventid</th>\n",
       "      <th>iyear</th>\n",
       "      <th>imonth</th>\n",
       "      <th>iday</th>\n",
       "      <th>extended</th>\n",
       "      <th>country</th>\n",
       "      <th>country_txt</th>\n",
       "      <th>region</th>\n",
       "      <th>region_txt</th>\n",
       "      <th>provstate</th>\n",
       "      <th>city</th>\n",
       "      <th>latitude</th>\n",
       "      <th>longitude</th>\n",
       "      <th>specificity</th>\n",
       "      <th>vicinity</th>\n",
       "      <th>crit1</th>\n",
       "      <th>crit2</th>\n",
       "      <th>crit3</th>\n",
       "      <th>doubtterr</th>\n",
       "      <th>multiple</th>\n",
       "      <th>success</th>\n",
       "      <th>suicide</th>\n",
       "      <th>attacktype1</th>\n",
       "      <th>attacktype1_txt</th>\n",
       "      <th>targtype1</th>\n",
       "      <th>targtype1_txt</th>\n",
       "      <th>targsubtype1</th>\n",
       "      <th>targsubtype1_txt</th>\n",
       "      <th>target1</th>\n",
       "      <th>natlty1</th>\n",
       "      <th>natlty1_txt</th>\n",
       "      <th>gname</th>\n",
       "      <th>guncertain1</th>\n",
       "      <th>individual</th>\n",
       "      <th>weaptype1</th>\n",
       "      <th>weaptype1_txt</th>\n",
       "      <th>weapsubtype1</th>\n",
       "      <th>weapsubtype1_txt</th>\n",
       "      <th>nkill</th>\n",
       "      <th>nwound</th>\n",
       "      <th>property</th>\n",
       "      <th>ishostkid</th>\n",
       "      <th>dbsource</th>\n",
       "      <th>INT_LOG</th>\n",
       "      <th>INT_IDEO</th>\n",
       "      <th>INT_MISC</th>\n",
       "      <th>INT_ANY</th>\n",
       "    </tr>\n",
       "  </thead>\n",
       "  <tbody>\n",
       "    <tr>\n",
       "      <th>0</th>\n",
       "      <td>197000000001</td>\n",
       "      <td>1970</td>\n",
       "      <td>7</td>\n",
       "      <td>2</td>\n",
       "      <td>0</td>\n",
       "      <td>58</td>\n",
       "      <td>Dominican Republic</td>\n",
       "      <td>2</td>\n",
       "      <td>Central America &amp; Caribbean</td>\n",
       "      <td>NaN</td>\n",
       "      <td>Santo Domingo</td>\n",
       "      <td>18.456792</td>\n",
       "      <td>-69.951164</td>\n",
       "      <td>1.0</td>\n",
       "      <td>0</td>\n",
       "      <td>1</td>\n",
       "      <td>1</td>\n",
       "      <td>1</td>\n",
       "      <td>0.0</td>\n",
       "      <td>0.0</td>\n",
       "      <td>1</td>\n",
       "      <td>0</td>\n",
       "      <td>1</td>\n",
       "      <td>Assassination</td>\n",
       "      <td>14</td>\n",
       "      <td>Private Citizens &amp; Property</td>\n",
       "      <td>68.0</td>\n",
       "      <td>Named Civilian</td>\n",
       "      <td>Julio Guzman</td>\n",
       "      <td>58.0</td>\n",
       "      <td>Dominican Republic</td>\n",
       "      <td>MANO-D</td>\n",
       "      <td>0.0</td>\n",
       "      <td>0</td>\n",
       "      <td>13</td>\n",
       "      <td>Unknown</td>\n",
       "      <td>NaN</td>\n",
       "      <td>NaN</td>\n",
       "      <td>1.0</td>\n",
       "      <td>0.0</td>\n",
       "      <td>0</td>\n",
       "      <td>0.0</td>\n",
       "      <td>PGIS</td>\n",
       "      <td>0</td>\n",
       "      <td>0</td>\n",
       "      <td>0</td>\n",
       "      <td>0</td>\n",
       "    </tr>\n",
       "    <tr>\n",
       "      <th>1</th>\n",
       "      <td>197000000002</td>\n",
       "      <td>1970</td>\n",
       "      <td>0</td>\n",
       "      <td>0</td>\n",
       "      <td>0</td>\n",
       "      <td>130</td>\n",
       "      <td>Mexico</td>\n",
       "      <td>1</td>\n",
       "      <td>North America</td>\n",
       "      <td>Federal</td>\n",
       "      <td>Mexico city</td>\n",
       "      <td>19.371887</td>\n",
       "      <td>-99.086624</td>\n",
       "      <td>1.0</td>\n",
       "      <td>0</td>\n",
       "      <td>1</td>\n",
       "      <td>1</td>\n",
       "      <td>1</td>\n",
       "      <td>0.0</td>\n",
       "      <td>0.0</td>\n",
       "      <td>1</td>\n",
       "      <td>0</td>\n",
       "      <td>6</td>\n",
       "      <td>Hostage Taking (Kidnapping)</td>\n",
       "      <td>7</td>\n",
       "      <td>Government (Diplomatic)</td>\n",
       "      <td>45.0</td>\n",
       "      <td>Diplomatic Personnel (outside of embassy, cons...</td>\n",
       "      <td>Nadine Chaval, daughter</td>\n",
       "      <td>21.0</td>\n",
       "      <td>Belgium</td>\n",
       "      <td>23rd of September Communist League</td>\n",
       "      <td>0.0</td>\n",
       "      <td>0</td>\n",
       "      <td>13</td>\n",
       "      <td>Unknown</td>\n",
       "      <td>NaN</td>\n",
       "      <td>NaN</td>\n",
       "      <td>0.0</td>\n",
       "      <td>0.0</td>\n",
       "      <td>0</td>\n",
       "      <td>1.0</td>\n",
       "      <td>PGIS</td>\n",
       "      <td>0</td>\n",
       "      <td>1</td>\n",
       "      <td>1</td>\n",
       "      <td>1</td>\n",
       "    </tr>\n",
       "    <tr>\n",
       "      <th>2</th>\n",
       "      <td>197001000001</td>\n",
       "      <td>1970</td>\n",
       "      <td>1</td>\n",
       "      <td>0</td>\n",
       "      <td>0</td>\n",
       "      <td>160</td>\n",
       "      <td>Philippines</td>\n",
       "      <td>5</td>\n",
       "      <td>Southeast Asia</td>\n",
       "      <td>Tarlac</td>\n",
       "      <td>Unknown</td>\n",
       "      <td>15.478598</td>\n",
       "      <td>120.599741</td>\n",
       "      <td>4.0</td>\n",
       "      <td>0</td>\n",
       "      <td>1</td>\n",
       "      <td>1</td>\n",
       "      <td>1</td>\n",
       "      <td>0.0</td>\n",
       "      <td>0.0</td>\n",
       "      <td>1</td>\n",
       "      <td>0</td>\n",
       "      <td>1</td>\n",
       "      <td>Assassination</td>\n",
       "      <td>10</td>\n",
       "      <td>Journalists &amp; Media</td>\n",
       "      <td>54.0</td>\n",
       "      <td>Radio Journalist/Staff/Facility</td>\n",
       "      <td>Employee</td>\n",
       "      <td>217.0</td>\n",
       "      <td>United States</td>\n",
       "      <td>Unknown</td>\n",
       "      <td>0.0</td>\n",
       "      <td>0</td>\n",
       "      <td>13</td>\n",
       "      <td>Unknown</td>\n",
       "      <td>NaN</td>\n",
       "      <td>NaN</td>\n",
       "      <td>1.0</td>\n",
       "      <td>0.0</td>\n",
       "      <td>0</td>\n",
       "      <td>0.0</td>\n",
       "      <td>PGIS</td>\n",
       "      <td>-9</td>\n",
       "      <td>-9</td>\n",
       "      <td>1</td>\n",
       "      <td>1</td>\n",
       "    </tr>\n",
       "    <tr>\n",
       "      <th>3</th>\n",
       "      <td>197001000002</td>\n",
       "      <td>1970</td>\n",
       "      <td>1</td>\n",
       "      <td>0</td>\n",
       "      <td>0</td>\n",
       "      <td>78</td>\n",
       "      <td>Greece</td>\n",
       "      <td>8</td>\n",
       "      <td>Western Europe</td>\n",
       "      <td>Attica</td>\n",
       "      <td>Athens</td>\n",
       "      <td>37.997490</td>\n",
       "      <td>23.762728</td>\n",
       "      <td>1.0</td>\n",
       "      <td>0</td>\n",
       "      <td>1</td>\n",
       "      <td>1</td>\n",
       "      <td>1</td>\n",
       "      <td>0.0</td>\n",
       "      <td>0.0</td>\n",
       "      <td>1</td>\n",
       "      <td>0</td>\n",
       "      <td>3</td>\n",
       "      <td>Bombing/Explosion</td>\n",
       "      <td>7</td>\n",
       "      <td>Government (Diplomatic)</td>\n",
       "      <td>46.0</td>\n",
       "      <td>Embassy/Consulate</td>\n",
       "      <td>U.S. Embassy</td>\n",
       "      <td>217.0</td>\n",
       "      <td>United States</td>\n",
       "      <td>Unknown</td>\n",
       "      <td>0.0</td>\n",
       "      <td>0</td>\n",
       "      <td>6</td>\n",
       "      <td>Explosives</td>\n",
       "      <td>16.0</td>\n",
       "      <td>Unknown Explosive Type</td>\n",
       "      <td>NaN</td>\n",
       "      <td>NaN</td>\n",
       "      <td>1</td>\n",
       "      <td>0.0</td>\n",
       "      <td>PGIS</td>\n",
       "      <td>-9</td>\n",
       "      <td>-9</td>\n",
       "      <td>1</td>\n",
       "      <td>1</td>\n",
       "    </tr>\n",
       "    <tr>\n",
       "      <th>4</th>\n",
       "      <td>197001000003</td>\n",
       "      <td>1970</td>\n",
       "      <td>1</td>\n",
       "      <td>0</td>\n",
       "      <td>0</td>\n",
       "      <td>101</td>\n",
       "      <td>Japan</td>\n",
       "      <td>4</td>\n",
       "      <td>East Asia</td>\n",
       "      <td>Fukouka</td>\n",
       "      <td>Fukouka</td>\n",
       "      <td>33.580412</td>\n",
       "      <td>130.396361</td>\n",
       "      <td>1.0</td>\n",
       "      <td>0</td>\n",
       "      <td>1</td>\n",
       "      <td>1</td>\n",
       "      <td>1</td>\n",
       "      <td>-9.0</td>\n",
       "      <td>0.0</td>\n",
       "      <td>1</td>\n",
       "      <td>0</td>\n",
       "      <td>7</td>\n",
       "      <td>Facility/Infrastructure Attack</td>\n",
       "      <td>7</td>\n",
       "      <td>Government (Diplomatic)</td>\n",
       "      <td>46.0</td>\n",
       "      <td>Embassy/Consulate</td>\n",
       "      <td>U.S. Consulate</td>\n",
       "      <td>217.0</td>\n",
       "      <td>United States</td>\n",
       "      <td>Unknown</td>\n",
       "      <td>0.0</td>\n",
       "      <td>0</td>\n",
       "      <td>8</td>\n",
       "      <td>Incendiary</td>\n",
       "      <td>NaN</td>\n",
       "      <td>NaN</td>\n",
       "      <td>NaN</td>\n",
       "      <td>NaN</td>\n",
       "      <td>1</td>\n",
       "      <td>0.0</td>\n",
       "      <td>PGIS</td>\n",
       "      <td>-9</td>\n",
       "      <td>-9</td>\n",
       "      <td>1</td>\n",
       "      <td>1</td>\n",
       "    </tr>\n",
       "  </tbody>\n",
       "</table>\n",
       "</div>"
      ],
      "text/plain": [
       "        eventid  iyear  imonth  iday  extended  country         country_txt  \\\n",
       "0  197000000001   1970       7     2         0       58  Dominican Republic   \n",
       "1  197000000002   1970       0     0         0      130              Mexico   \n",
       "2  197001000001   1970       1     0         0      160         Philippines   \n",
       "3  197001000002   1970       1     0         0       78              Greece   \n",
       "4  197001000003   1970       1     0         0      101               Japan   \n",
       "\n",
       "   region                   region_txt provstate           city   latitude  \\\n",
       "0       2  Central America & Caribbean       NaN  Santo Domingo  18.456792   \n",
       "1       1                North America   Federal    Mexico city  19.371887   \n",
       "2       5               Southeast Asia    Tarlac        Unknown  15.478598   \n",
       "3       8               Western Europe    Attica         Athens  37.997490   \n",
       "4       4                    East Asia   Fukouka        Fukouka  33.580412   \n",
       "\n",
       "    longitude  specificity  vicinity  crit1  crit2  crit3  doubtterr  \\\n",
       "0  -69.951164          1.0         0      1      1      1        0.0   \n",
       "1  -99.086624          1.0         0      1      1      1        0.0   \n",
       "2  120.599741          4.0         0      1      1      1        0.0   \n",
       "3   23.762728          1.0         0      1      1      1        0.0   \n",
       "4  130.396361          1.0         0      1      1      1       -9.0   \n",
       "\n",
       "   multiple  success  suicide  attacktype1                 attacktype1_txt  \\\n",
       "0       0.0        1        0            1                   Assassination   \n",
       "1       0.0        1        0            6     Hostage Taking (Kidnapping)   \n",
       "2       0.0        1        0            1                   Assassination   \n",
       "3       0.0        1        0            3               Bombing/Explosion   \n",
       "4       0.0        1        0            7  Facility/Infrastructure Attack   \n",
       "\n",
       "   targtype1                targtype1_txt  targsubtype1  \\\n",
       "0         14  Private Citizens & Property          68.0   \n",
       "1          7      Government (Diplomatic)          45.0   \n",
       "2         10          Journalists & Media          54.0   \n",
       "3          7      Government (Diplomatic)          46.0   \n",
       "4          7      Government (Diplomatic)          46.0   \n",
       "\n",
       "                                    targsubtype1_txt                  target1  \\\n",
       "0                                     Named Civilian             Julio Guzman   \n",
       "1  Diplomatic Personnel (outside of embassy, cons...  Nadine Chaval, daughter   \n",
       "2                    Radio Journalist/Staff/Facility                 Employee   \n",
       "3                                  Embassy/Consulate             U.S. Embassy   \n",
       "4                                  Embassy/Consulate           U.S. Consulate   \n",
       "\n",
       "   natlty1         natlty1_txt                               gname  \\\n",
       "0     58.0  Dominican Republic                              MANO-D   \n",
       "1     21.0             Belgium  23rd of September Communist League   \n",
       "2    217.0       United States                             Unknown   \n",
       "3    217.0       United States                             Unknown   \n",
       "4    217.0       United States                             Unknown   \n",
       "\n",
       "   guncertain1  individual  weaptype1 weaptype1_txt  weapsubtype1  \\\n",
       "0          0.0           0         13       Unknown           NaN   \n",
       "1          0.0           0         13       Unknown           NaN   \n",
       "2          0.0           0         13       Unknown           NaN   \n",
       "3          0.0           0          6    Explosives          16.0   \n",
       "4          0.0           0          8    Incendiary           NaN   \n",
       "\n",
       "         weapsubtype1_txt  nkill  nwound  property  ishostkid dbsource  \\\n",
       "0                     NaN    1.0     0.0         0        0.0     PGIS   \n",
       "1                     NaN    0.0     0.0         0        1.0     PGIS   \n",
       "2                     NaN    1.0     0.0         0        0.0     PGIS   \n",
       "3  Unknown Explosive Type    NaN     NaN         1        0.0     PGIS   \n",
       "4                     NaN    NaN     NaN         1        0.0     PGIS   \n",
       "\n",
       "   INT_LOG  INT_IDEO  INT_MISC  INT_ANY  \n",
       "0        0         0         0        0  \n",
       "1        0         1         1        1  \n",
       "2       -9        -9         1        1  \n",
       "3       -9        -9         1        1  \n",
       "4       -9        -9         1        1  "
      ]
     },
     "execution_count": 20,
     "metadata": {},
     "output_type": "execute_result"
    }
   ],
   "source": [
    "df = data.drop(morethan25_per.index, axis=1)\n",
    "df.head()"
   ]
  },
  {
   "cell_type": "code",
   "execution_count": 21,
   "metadata": {},
   "outputs": [
    {
     "data": {
      "text/plain": [
       "(181691, 47)"
      ]
     },
     "execution_count": 21,
     "metadata": {},
     "output_type": "execute_result"
    }
   ],
   "source": [
    "df.shape"
   ]
  },
  {
   "cell_type": "code",
   "execution_count": 22,
   "metadata": {},
   "outputs": [
    {
     "data": {
      "text/html": [
       "<div>\n",
       "<style scoped>\n",
       "    .dataframe tbody tr th:only-of-type {\n",
       "        vertical-align: middle;\n",
       "    }\n",
       "\n",
       "    .dataframe tbody tr th {\n",
       "        vertical-align: top;\n",
       "    }\n",
       "\n",
       "    .dataframe thead th {\n",
       "        text-align: right;\n",
       "    }\n",
       "</style>\n",
       "<table border=\"1\" class=\"dataframe\">\n",
       "  <thead>\n",
       "    <tr style=\"text-align: right;\">\n",
       "      <th></th>\n",
       "      <th>index</th>\n",
       "      <th>0</th>\n",
       "    </tr>\n",
       "  </thead>\n",
       "  <tbody>\n",
       "    <tr>\n",
       "      <th>36</th>\n",
       "      <td>weapsubtype1</td>\n",
       "      <td>20768</td>\n",
       "    </tr>\n",
       "    <tr>\n",
       "      <th>37</th>\n",
       "      <td>weapsubtype1_txt</td>\n",
       "      <td>20768</td>\n",
       "    </tr>\n",
       "    <tr>\n",
       "      <th>39</th>\n",
       "      <td>nwound</td>\n",
       "      <td>16311</td>\n",
       "    </tr>\n",
       "    <tr>\n",
       "      <th>27</th>\n",
       "      <td>targsubtype1_txt</td>\n",
       "      <td>10373</td>\n",
       "    </tr>\n",
       "    <tr>\n",
       "      <th>26</th>\n",
       "      <td>targsubtype1</td>\n",
       "      <td>10373</td>\n",
       "    </tr>\n",
       "    <tr>\n",
       "      <th>38</th>\n",
       "      <td>nkill</td>\n",
       "      <td>10313</td>\n",
       "    </tr>\n",
       "    <tr>\n",
       "      <th>12</th>\n",
       "      <td>longitude</td>\n",
       "      <td>4557</td>\n",
       "    </tr>\n",
       "    <tr>\n",
       "      <th>11</th>\n",
       "      <td>latitude</td>\n",
       "      <td>4556</td>\n",
       "    </tr>\n",
       "    <tr>\n",
       "      <th>29</th>\n",
       "      <td>natlty1</td>\n",
       "      <td>1559</td>\n",
       "    </tr>\n",
       "    <tr>\n",
       "      <th>30</th>\n",
       "      <td>natlty1_txt</td>\n",
       "      <td>1559</td>\n",
       "    </tr>\n",
       "    <tr>\n",
       "      <th>28</th>\n",
       "      <td>target1</td>\n",
       "      <td>636</td>\n",
       "    </tr>\n",
       "    <tr>\n",
       "      <th>10</th>\n",
       "      <td>city</td>\n",
       "      <td>434</td>\n",
       "    </tr>\n",
       "    <tr>\n",
       "      <th>9</th>\n",
       "      <td>provstate</td>\n",
       "      <td>421</td>\n",
       "    </tr>\n",
       "    <tr>\n",
       "      <th>32</th>\n",
       "      <td>guncertain1</td>\n",
       "      <td>380</td>\n",
       "    </tr>\n",
       "    <tr>\n",
       "      <th>41</th>\n",
       "      <td>ishostkid</td>\n",
       "      <td>178</td>\n",
       "    </tr>\n",
       "    <tr>\n",
       "      <th>13</th>\n",
       "      <td>specificity</td>\n",
       "      <td>6</td>\n",
       "    </tr>\n",
       "    <tr>\n",
       "      <th>18</th>\n",
       "      <td>doubtterr</td>\n",
       "      <td>1</td>\n",
       "    </tr>\n",
       "    <tr>\n",
       "      <th>19</th>\n",
       "      <td>multiple</td>\n",
       "      <td>1</td>\n",
       "    </tr>\n",
       "  </tbody>\n",
       "</table>\n",
       "</div>"
      ],
      "text/plain": [
       "               index      0\n",
       "36      weapsubtype1  20768\n",
       "37  weapsubtype1_txt  20768\n",
       "39            nwound  16311\n",
       "27  targsubtype1_txt  10373\n",
       "26      targsubtype1  10373\n",
       "38             nkill  10313\n",
       "12         longitude   4557\n",
       "11          latitude   4556\n",
       "29           natlty1   1559\n",
       "30       natlty1_txt   1559\n",
       "28           target1    636\n",
       "10              city    434\n",
       "9          provstate    421\n",
       "32       guncertain1    380\n",
       "41         ishostkid    178\n",
       "13       specificity      6\n",
       "18         doubtterr      1\n",
       "19          multiple      1"
      ]
     },
     "execution_count": 22,
     "metadata": {},
     "output_type": "execute_result"
    }
   ],
   "source": [
    "#for the rest of missing values we fill mean value\n",
    "small_missing_values = df.isnull().sum().reset_index().sort_values(by=[0], ascending = False)\n",
    "small_missing_values = small_missing_values[small_missing_values[0]!=0]\n",
    "small_missing_values"
   ]
  },
  {
   "cell_type": "code",
   "execution_count": 23,
   "metadata": {},
   "outputs": [
    {
     "name": "stdout",
     "output_type": "stream",
     "text": [
      "['weapsubtype1_txt', 'targsubtype1_txt', 'natlty1_txt', 'target1', 'city', 'provstate']\n",
      "['weapsubtype1', 'nwound', 'targsubtype1', 'nkill', 'longitude', 'latitude', 'natlty1', 'guncertain1', 'ishostkid', 'specificity', 'doubtterr', 'multiple']\n"
     ]
    }
   ],
   "source": [
    "#seperate object missing value and numerical missing value\n",
    "lst = small_missing_values['index'].tolist()\n",
    "object_missing_cols = []\n",
    "num_missing_cols = []\n",
    "for i in lst:\n",
    "    if((df['{}'.format(i)]).dtype=='object'):\n",
    "        object_missing_cols.append('{}'.format(i))\n",
    "    else:\n",
    "        num_missing_cols.append('{}'.format(i))\n",
    "print(object_missing_cols)        \n",
    "print(num_missing_cols)"
   ]
  },
  {
   "cell_type": "code",
   "execution_count": 24,
   "metadata": {},
   "outputs": [
    {
     "data": {
      "text/html": [
       "<div>\n",
       "<style scoped>\n",
       "    .dataframe tbody tr th:only-of-type {\n",
       "        vertical-align: middle;\n",
       "    }\n",
       "\n",
       "    .dataframe tbody tr th {\n",
       "        vertical-align: top;\n",
       "    }\n",
       "\n",
       "    .dataframe thead th {\n",
       "        text-align: right;\n",
       "    }\n",
       "</style>\n",
       "<table border=\"1\" class=\"dataframe\">\n",
       "  <thead>\n",
       "    <tr style=\"text-align: right;\">\n",
       "      <th></th>\n",
       "      <th>weapsubtype1_txt</th>\n",
       "      <th>targsubtype1_txt</th>\n",
       "      <th>natlty1_txt</th>\n",
       "      <th>target1</th>\n",
       "      <th>city</th>\n",
       "      <th>provstate</th>\n",
       "    </tr>\n",
       "  </thead>\n",
       "  <tbody>\n",
       "    <tr>\n",
       "      <th>0</th>\n",
       "      <td>NaN</td>\n",
       "      <td>Named Civilian</td>\n",
       "      <td>Dominican Republic</td>\n",
       "      <td>Julio Guzman</td>\n",
       "      <td>Santo Domingo</td>\n",
       "      <td>NaN</td>\n",
       "    </tr>\n",
       "    <tr>\n",
       "      <th>1</th>\n",
       "      <td>NaN</td>\n",
       "      <td>Diplomatic Personnel (outside of embassy, cons...</td>\n",
       "      <td>Belgium</td>\n",
       "      <td>Nadine Chaval, daughter</td>\n",
       "      <td>Mexico city</td>\n",
       "      <td>Federal</td>\n",
       "    </tr>\n",
       "    <tr>\n",
       "      <th>2</th>\n",
       "      <td>NaN</td>\n",
       "      <td>Radio Journalist/Staff/Facility</td>\n",
       "      <td>United States</td>\n",
       "      <td>Employee</td>\n",
       "      <td>Unknown</td>\n",
       "      <td>Tarlac</td>\n",
       "    </tr>\n",
       "    <tr>\n",
       "      <th>3</th>\n",
       "      <td>Unknown Explosive Type</td>\n",
       "      <td>Embassy/Consulate</td>\n",
       "      <td>United States</td>\n",
       "      <td>U.S. Embassy</td>\n",
       "      <td>Athens</td>\n",
       "      <td>Attica</td>\n",
       "    </tr>\n",
       "    <tr>\n",
       "      <th>4</th>\n",
       "      <td>NaN</td>\n",
       "      <td>Embassy/Consulate</td>\n",
       "      <td>United States</td>\n",
       "      <td>U.S. Consulate</td>\n",
       "      <td>Fukouka</td>\n",
       "      <td>Fukouka</td>\n",
       "    </tr>\n",
       "  </tbody>\n",
       "</table>\n",
       "</div>"
      ],
      "text/plain": [
       "         weapsubtype1_txt                                   targsubtype1_txt  \\\n",
       "0                     NaN                                     Named Civilian   \n",
       "1                     NaN  Diplomatic Personnel (outside of embassy, cons...   \n",
       "2                     NaN                    Radio Journalist/Staff/Facility   \n",
       "3  Unknown Explosive Type                                  Embassy/Consulate   \n",
       "4                     NaN                                  Embassy/Consulate   \n",
       "\n",
       "          natlty1_txt                  target1           city provstate  \n",
       "0  Dominican Republic             Julio Guzman  Santo Domingo       NaN  \n",
       "1             Belgium  Nadine Chaval, daughter    Mexico city   Federal  \n",
       "2       United States                 Employee        Unknown    Tarlac  \n",
       "3       United States             U.S. Embassy         Athens    Attica  \n",
       "4       United States           U.S. Consulate        Fukouka   Fukouka  "
      ]
     },
     "execution_count": 24,
     "metadata": {},
     "output_type": "execute_result"
    }
   ],
   "source": [
    "df[object_missing_cols].head()"
   ]
  },
  {
   "cell_type": "code",
   "execution_count": 25,
   "metadata": {},
   "outputs": [
    {
     "data": {
      "text/html": [
       "<div>\n",
       "<style scoped>\n",
       "    .dataframe tbody tr th:only-of-type {\n",
       "        vertical-align: middle;\n",
       "    }\n",
       "\n",
       "    .dataframe tbody tr th {\n",
       "        vertical-align: top;\n",
       "    }\n",
       "\n",
       "    .dataframe thead th {\n",
       "        text-align: right;\n",
       "    }\n",
       "</style>\n",
       "<table border=\"1\" class=\"dataframe\">\n",
       "  <thead>\n",
       "    <tr style=\"text-align: right;\">\n",
       "      <th></th>\n",
       "      <th>weapsubtype1</th>\n",
       "      <th>nwound</th>\n",
       "      <th>targsubtype1</th>\n",
       "      <th>nkill</th>\n",
       "      <th>longitude</th>\n",
       "      <th>latitude</th>\n",
       "      <th>natlty1</th>\n",
       "      <th>guncertain1</th>\n",
       "      <th>ishostkid</th>\n",
       "      <th>specificity</th>\n",
       "      <th>doubtterr</th>\n",
       "      <th>multiple</th>\n",
       "    </tr>\n",
       "  </thead>\n",
       "  <tbody>\n",
       "    <tr>\n",
       "      <th>0</th>\n",
       "      <td>NaN</td>\n",
       "      <td>0.0</td>\n",
       "      <td>68.0</td>\n",
       "      <td>1.0</td>\n",
       "      <td>-69.951164</td>\n",
       "      <td>18.456792</td>\n",
       "      <td>58.0</td>\n",
       "      <td>0.0</td>\n",
       "      <td>0.0</td>\n",
       "      <td>1.0</td>\n",
       "      <td>0.0</td>\n",
       "      <td>0.0</td>\n",
       "    </tr>\n",
       "    <tr>\n",
       "      <th>1</th>\n",
       "      <td>NaN</td>\n",
       "      <td>0.0</td>\n",
       "      <td>45.0</td>\n",
       "      <td>0.0</td>\n",
       "      <td>-99.086624</td>\n",
       "      <td>19.371887</td>\n",
       "      <td>21.0</td>\n",
       "      <td>0.0</td>\n",
       "      <td>1.0</td>\n",
       "      <td>1.0</td>\n",
       "      <td>0.0</td>\n",
       "      <td>0.0</td>\n",
       "    </tr>\n",
       "    <tr>\n",
       "      <th>2</th>\n",
       "      <td>NaN</td>\n",
       "      <td>0.0</td>\n",
       "      <td>54.0</td>\n",
       "      <td>1.0</td>\n",
       "      <td>120.599741</td>\n",
       "      <td>15.478598</td>\n",
       "      <td>217.0</td>\n",
       "      <td>0.0</td>\n",
       "      <td>0.0</td>\n",
       "      <td>4.0</td>\n",
       "      <td>0.0</td>\n",
       "      <td>0.0</td>\n",
       "    </tr>\n",
       "    <tr>\n",
       "      <th>3</th>\n",
       "      <td>16.0</td>\n",
       "      <td>NaN</td>\n",
       "      <td>46.0</td>\n",
       "      <td>NaN</td>\n",
       "      <td>23.762728</td>\n",
       "      <td>37.997490</td>\n",
       "      <td>217.0</td>\n",
       "      <td>0.0</td>\n",
       "      <td>0.0</td>\n",
       "      <td>1.0</td>\n",
       "      <td>0.0</td>\n",
       "      <td>0.0</td>\n",
       "    </tr>\n",
       "    <tr>\n",
       "      <th>4</th>\n",
       "      <td>NaN</td>\n",
       "      <td>NaN</td>\n",
       "      <td>46.0</td>\n",
       "      <td>NaN</td>\n",
       "      <td>130.396361</td>\n",
       "      <td>33.580412</td>\n",
       "      <td>217.0</td>\n",
       "      <td>0.0</td>\n",
       "      <td>0.0</td>\n",
       "      <td>1.0</td>\n",
       "      <td>-9.0</td>\n",
       "      <td>0.0</td>\n",
       "    </tr>\n",
       "  </tbody>\n",
       "</table>\n",
       "</div>"
      ],
      "text/plain": [
       "   weapsubtype1  nwound  targsubtype1  nkill   longitude   latitude  natlty1  \\\n",
       "0           NaN     0.0          68.0    1.0  -69.951164  18.456792     58.0   \n",
       "1           NaN     0.0          45.0    0.0  -99.086624  19.371887     21.0   \n",
       "2           NaN     0.0          54.0    1.0  120.599741  15.478598    217.0   \n",
       "3          16.0     NaN          46.0    NaN   23.762728  37.997490    217.0   \n",
       "4           NaN     NaN          46.0    NaN  130.396361  33.580412    217.0   \n",
       "\n",
       "   guncertain1  ishostkid  specificity  doubtterr  multiple  \n",
       "0          0.0        0.0          1.0        0.0       0.0  \n",
       "1          0.0        1.0          1.0        0.0       0.0  \n",
       "2          0.0        0.0          4.0        0.0       0.0  \n",
       "3          0.0        0.0          1.0        0.0       0.0  \n",
       "4          0.0        0.0          1.0       -9.0       0.0  "
      ]
     },
     "execution_count": 25,
     "metadata": {},
     "output_type": "execute_result"
    }
   ],
   "source": [
    "\n",
    "df[num_missing_cols].head()"
   ]
  },
  {
   "cell_type": "code",
   "execution_count": 26,
   "metadata": {},
   "outputs": [],
   "source": [
    "#for numerical missing value\n",
    "imputer = SimpleImputer()\n",
    "imputer = imputer.fit(df[num_missing_cols])\n",
    "df[num_missing_cols] = imputer.transform(df[num_missing_cols])"
   ]
  },
  {
   "cell_type": "code",
   "execution_count": 27,
   "metadata": {},
   "outputs": [
    {
     "data": {
      "text/html": [
       "<div>\n",
       "<style scoped>\n",
       "    .dataframe tbody tr th:only-of-type {\n",
       "        vertical-align: middle;\n",
       "    }\n",
       "\n",
       "    .dataframe tbody tr th {\n",
       "        vertical-align: top;\n",
       "    }\n",
       "\n",
       "    .dataframe thead th {\n",
       "        text-align: right;\n",
       "    }\n",
       "</style>\n",
       "<table border=\"1\" class=\"dataframe\">\n",
       "  <thead>\n",
       "    <tr style=\"text-align: right;\">\n",
       "      <th></th>\n",
       "      <th>weapsubtype1</th>\n",
       "      <th>nwound</th>\n",
       "      <th>targsubtype1</th>\n",
       "      <th>nkill</th>\n",
       "      <th>longitude</th>\n",
       "      <th>latitude</th>\n",
       "      <th>natlty1</th>\n",
       "      <th>guncertain1</th>\n",
       "      <th>ishostkid</th>\n",
       "      <th>specificity</th>\n",
       "      <th>doubtterr</th>\n",
       "      <th>multiple</th>\n",
       "    </tr>\n",
       "  </thead>\n",
       "  <tbody>\n",
       "    <tr>\n",
       "      <th>0</th>\n",
       "      <td>11.117162</td>\n",
       "      <td>0.000000</td>\n",
       "      <td>68.0</td>\n",
       "      <td>1.000000</td>\n",
       "      <td>-69.951164</td>\n",
       "      <td>18.456792</td>\n",
       "      <td>58.0</td>\n",
       "      <td>0.0</td>\n",
       "      <td>0.0</td>\n",
       "      <td>1.0</td>\n",
       "      <td>0.0</td>\n",
       "      <td>0.0</td>\n",
       "    </tr>\n",
       "    <tr>\n",
       "      <th>1</th>\n",
       "      <td>11.117162</td>\n",
       "      <td>0.000000</td>\n",
       "      <td>45.0</td>\n",
       "      <td>0.000000</td>\n",
       "      <td>-99.086624</td>\n",
       "      <td>19.371887</td>\n",
       "      <td>21.0</td>\n",
       "      <td>0.0</td>\n",
       "      <td>1.0</td>\n",
       "      <td>1.0</td>\n",
       "      <td>0.0</td>\n",
       "      <td>0.0</td>\n",
       "    </tr>\n",
       "    <tr>\n",
       "      <th>2</th>\n",
       "      <td>11.117162</td>\n",
       "      <td>0.000000</td>\n",
       "      <td>54.0</td>\n",
       "      <td>1.000000</td>\n",
       "      <td>120.599741</td>\n",
       "      <td>15.478598</td>\n",
       "      <td>217.0</td>\n",
       "      <td>0.0</td>\n",
       "      <td>0.0</td>\n",
       "      <td>4.0</td>\n",
       "      <td>0.0</td>\n",
       "      <td>0.0</td>\n",
       "    </tr>\n",
       "    <tr>\n",
       "      <th>3</th>\n",
       "      <td>16.000000</td>\n",
       "      <td>3.167668</td>\n",
       "      <td>46.0</td>\n",
       "      <td>2.403272</td>\n",
       "      <td>23.762728</td>\n",
       "      <td>37.997490</td>\n",
       "      <td>217.0</td>\n",
       "      <td>0.0</td>\n",
       "      <td>0.0</td>\n",
       "      <td>1.0</td>\n",
       "      <td>0.0</td>\n",
       "      <td>0.0</td>\n",
       "    </tr>\n",
       "    <tr>\n",
       "      <th>4</th>\n",
       "      <td>11.117162</td>\n",
       "      <td>3.167668</td>\n",
       "      <td>46.0</td>\n",
       "      <td>2.403272</td>\n",
       "      <td>130.396361</td>\n",
       "      <td>33.580412</td>\n",
       "      <td>217.0</td>\n",
       "      <td>0.0</td>\n",
       "      <td>0.0</td>\n",
       "      <td>1.0</td>\n",
       "      <td>-9.0</td>\n",
       "      <td>0.0</td>\n",
       "    </tr>\n",
       "  </tbody>\n",
       "</table>\n",
       "</div>"
      ],
      "text/plain": [
       "   weapsubtype1    nwound  targsubtype1     nkill   longitude   latitude  \\\n",
       "0     11.117162  0.000000          68.0  1.000000  -69.951164  18.456792   \n",
       "1     11.117162  0.000000          45.0  0.000000  -99.086624  19.371887   \n",
       "2     11.117162  0.000000          54.0  1.000000  120.599741  15.478598   \n",
       "3     16.000000  3.167668          46.0  2.403272   23.762728  37.997490   \n",
       "4     11.117162  3.167668          46.0  2.403272  130.396361  33.580412   \n",
       "\n",
       "   natlty1  guncertain1  ishostkid  specificity  doubtterr  multiple  \n",
       "0     58.0          0.0        0.0          1.0        0.0       0.0  \n",
       "1     21.0          0.0        1.0          1.0        0.0       0.0  \n",
       "2    217.0          0.0        0.0          4.0        0.0       0.0  \n",
       "3    217.0          0.0        0.0          1.0        0.0       0.0  \n",
       "4    217.0          0.0        0.0          1.0       -9.0       0.0  "
      ]
     },
     "execution_count": 27,
     "metadata": {},
     "output_type": "execute_result"
    }
   ],
   "source": [
    "df[num_missing_cols].head()"
   ]
  },
  {
   "cell_type": "code",
   "execution_count": 28,
   "metadata": {},
   "outputs": [],
   "source": [
    "\n",
    "#drop rows for missing object values\n",
    "df = df.dropna()"
   ]
  },
  {
   "cell_type": "code",
   "execution_count": 29,
   "metadata": {},
   "outputs": [
    {
     "data": {
      "text/plain": [
       "0"
      ]
     },
     "execution_count": 29,
     "metadata": {},
     "output_type": "execute_result"
    }
   ],
   "source": [
    "df.isnull().sum().sum()"
   ]
  },
  {
   "cell_type": "code",
   "execution_count": 30,
   "metadata": {},
   "outputs": [
    {
     "data": {
      "text/html": [
       "<div>\n",
       "<style scoped>\n",
       "    .dataframe tbody tr th:only-of-type {\n",
       "        vertical-align: middle;\n",
       "    }\n",
       "\n",
       "    .dataframe tbody tr th {\n",
       "        vertical-align: top;\n",
       "    }\n",
       "\n",
       "    .dataframe thead th {\n",
       "        text-align: right;\n",
       "    }\n",
       "</style>\n",
       "<table border=\"1\" class=\"dataframe\">\n",
       "  <thead>\n",
       "    <tr style=\"text-align: right;\">\n",
       "      <th></th>\n",
       "      <th>eventid</th>\n",
       "      <th>iyear</th>\n",
       "      <th>imonth</th>\n",
       "      <th>iday</th>\n",
       "      <th>extended</th>\n",
       "      <th>country</th>\n",
       "      <th>country_txt</th>\n",
       "      <th>region</th>\n",
       "      <th>region_txt</th>\n",
       "      <th>provstate</th>\n",
       "      <th>city</th>\n",
       "      <th>latitude</th>\n",
       "      <th>longitude</th>\n",
       "      <th>specificity</th>\n",
       "      <th>vicinity</th>\n",
       "      <th>crit1</th>\n",
       "      <th>crit2</th>\n",
       "      <th>crit3</th>\n",
       "      <th>doubtterr</th>\n",
       "      <th>multiple</th>\n",
       "      <th>success</th>\n",
       "      <th>suicide</th>\n",
       "      <th>attacktype1</th>\n",
       "      <th>attacktype1_txt</th>\n",
       "      <th>targtype1</th>\n",
       "      <th>targtype1_txt</th>\n",
       "      <th>targsubtype1</th>\n",
       "      <th>targsubtype1_txt</th>\n",
       "      <th>target1</th>\n",
       "      <th>natlty1</th>\n",
       "      <th>natlty1_txt</th>\n",
       "      <th>gname</th>\n",
       "      <th>guncertain1</th>\n",
       "      <th>individual</th>\n",
       "      <th>weaptype1</th>\n",
       "      <th>weaptype1_txt</th>\n",
       "      <th>weapsubtype1</th>\n",
       "      <th>weapsubtype1_txt</th>\n",
       "      <th>nkill</th>\n",
       "      <th>nwound</th>\n",
       "      <th>property</th>\n",
       "      <th>ishostkid</th>\n",
       "      <th>dbsource</th>\n",
       "      <th>INT_LOG</th>\n",
       "      <th>INT_IDEO</th>\n",
       "      <th>INT_MISC</th>\n",
       "      <th>INT_ANY</th>\n",
       "    </tr>\n",
       "  </thead>\n",
       "  <tbody>\n",
       "    <tr>\n",
       "      <th>3</th>\n",
       "      <td>197001000002</td>\n",
       "      <td>1970</td>\n",
       "      <td>1</td>\n",
       "      <td>0</td>\n",
       "      <td>0</td>\n",
       "      <td>78</td>\n",
       "      <td>Greece</td>\n",
       "      <td>8</td>\n",
       "      <td>Western Europe</td>\n",
       "      <td>Attica</td>\n",
       "      <td>Athens</td>\n",
       "      <td>37.997490</td>\n",
       "      <td>23.762728</td>\n",
       "      <td>1.0</td>\n",
       "      <td>0</td>\n",
       "      <td>1</td>\n",
       "      <td>1</td>\n",
       "      <td>1</td>\n",
       "      <td>0.0</td>\n",
       "      <td>0.0</td>\n",
       "      <td>1</td>\n",
       "      <td>0</td>\n",
       "      <td>3</td>\n",
       "      <td>Bombing/Explosion</td>\n",
       "      <td>7</td>\n",
       "      <td>Government (Diplomatic)</td>\n",
       "      <td>46.0</td>\n",
       "      <td>Embassy/Consulate</td>\n",
       "      <td>U.S. Embassy</td>\n",
       "      <td>217.0</td>\n",
       "      <td>United States</td>\n",
       "      <td>Unknown</td>\n",
       "      <td>0.0</td>\n",
       "      <td>0</td>\n",
       "      <td>6</td>\n",
       "      <td>Explosives</td>\n",
       "      <td>16.0</td>\n",
       "      <td>Unknown Explosive Type</td>\n",
       "      <td>2.403272</td>\n",
       "      <td>3.167668</td>\n",
       "      <td>1</td>\n",
       "      <td>0.0</td>\n",
       "      <td>PGIS</td>\n",
       "      <td>-9</td>\n",
       "      <td>-9</td>\n",
       "      <td>1</td>\n",
       "      <td>1</td>\n",
       "    </tr>\n",
       "    <tr>\n",
       "      <th>5</th>\n",
       "      <td>197001010002</td>\n",
       "      <td>1970</td>\n",
       "      <td>1</td>\n",
       "      <td>1</td>\n",
       "      <td>0</td>\n",
       "      <td>217</td>\n",
       "      <td>United States</td>\n",
       "      <td>1</td>\n",
       "      <td>North America</td>\n",
       "      <td>Illinois</td>\n",
       "      <td>Cairo</td>\n",
       "      <td>37.005105</td>\n",
       "      <td>-89.176269</td>\n",
       "      <td>1.0</td>\n",
       "      <td>0</td>\n",
       "      <td>1</td>\n",
       "      <td>1</td>\n",
       "      <td>1</td>\n",
       "      <td>0.0</td>\n",
       "      <td>0.0</td>\n",
       "      <td>1</td>\n",
       "      <td>0</td>\n",
       "      <td>2</td>\n",
       "      <td>Armed Assault</td>\n",
       "      <td>3</td>\n",
       "      <td>Police</td>\n",
       "      <td>22.0</td>\n",
       "      <td>Police Building (headquarters, station, school)</td>\n",
       "      <td>Cairo Police Headquarters</td>\n",
       "      <td>217.0</td>\n",
       "      <td>United States</td>\n",
       "      <td>Black Nationalists</td>\n",
       "      <td>0.0</td>\n",
       "      <td>0</td>\n",
       "      <td>5</td>\n",
       "      <td>Firearms</td>\n",
       "      <td>5.0</td>\n",
       "      <td>Unknown Gun Type</td>\n",
       "      <td>0.000000</td>\n",
       "      <td>0.000000</td>\n",
       "      <td>1</td>\n",
       "      <td>0.0</td>\n",
       "      <td>Hewitt Project</td>\n",
       "      <td>-9</td>\n",
       "      <td>-9</td>\n",
       "      <td>0</td>\n",
       "      <td>-9</td>\n",
       "    </tr>\n",
       "    <tr>\n",
       "      <th>6</th>\n",
       "      <td>197001020001</td>\n",
       "      <td>1970</td>\n",
       "      <td>1</td>\n",
       "      <td>2</td>\n",
       "      <td>0</td>\n",
       "      <td>218</td>\n",
       "      <td>Uruguay</td>\n",
       "      <td>3</td>\n",
       "      <td>South America</td>\n",
       "      <td>Montevideo</td>\n",
       "      <td>Montevideo</td>\n",
       "      <td>-34.891151</td>\n",
       "      <td>-56.187214</td>\n",
       "      <td>1.0</td>\n",
       "      <td>0</td>\n",
       "      <td>1</td>\n",
       "      <td>1</td>\n",
       "      <td>1</td>\n",
       "      <td>0.0</td>\n",
       "      <td>0.0</td>\n",
       "      <td>0</td>\n",
       "      <td>0</td>\n",
       "      <td>1</td>\n",
       "      <td>Assassination</td>\n",
       "      <td>3</td>\n",
       "      <td>Police</td>\n",
       "      <td>25.0</td>\n",
       "      <td>Police Security Forces/Officers</td>\n",
       "      <td>Juan Maria de Lucah/Chief of Directorate of in...</td>\n",
       "      <td>218.0</td>\n",
       "      <td>Uruguay</td>\n",
       "      <td>Tupamaros (Uruguay)</td>\n",
       "      <td>0.0</td>\n",
       "      <td>0</td>\n",
       "      <td>5</td>\n",
       "      <td>Firearms</td>\n",
       "      <td>2.0</td>\n",
       "      <td>Automatic or Semi-Automatic Rifle</td>\n",
       "      <td>0.000000</td>\n",
       "      <td>0.000000</td>\n",
       "      <td>0</td>\n",
       "      <td>0.0</td>\n",
       "      <td>PGIS</td>\n",
       "      <td>0</td>\n",
       "      <td>0</td>\n",
       "      <td>0</td>\n",
       "      <td>0</td>\n",
       "    </tr>\n",
       "    <tr>\n",
       "      <th>7</th>\n",
       "      <td>197001020002</td>\n",
       "      <td>1970</td>\n",
       "      <td>1</td>\n",
       "      <td>2</td>\n",
       "      <td>0</td>\n",
       "      <td>217</td>\n",
       "      <td>United States</td>\n",
       "      <td>1</td>\n",
       "      <td>North America</td>\n",
       "      <td>California</td>\n",
       "      <td>Oakland</td>\n",
       "      <td>37.791927</td>\n",
       "      <td>-122.225906</td>\n",
       "      <td>1.0</td>\n",
       "      <td>0</td>\n",
       "      <td>1</td>\n",
       "      <td>1</td>\n",
       "      <td>1</td>\n",
       "      <td>1.0</td>\n",
       "      <td>0.0</td>\n",
       "      <td>1</td>\n",
       "      <td>0</td>\n",
       "      <td>3</td>\n",
       "      <td>Bombing/Explosion</td>\n",
       "      <td>21</td>\n",
       "      <td>Utilities</td>\n",
       "      <td>107.0</td>\n",
       "      <td>Electricity</td>\n",
       "      <td>Edes Substation</td>\n",
       "      <td>217.0</td>\n",
       "      <td>United States</td>\n",
       "      <td>Unknown</td>\n",
       "      <td>0.0</td>\n",
       "      <td>0</td>\n",
       "      <td>6</td>\n",
       "      <td>Explosives</td>\n",
       "      <td>16.0</td>\n",
       "      <td>Unknown Explosive Type</td>\n",
       "      <td>0.000000</td>\n",
       "      <td>0.000000</td>\n",
       "      <td>1</td>\n",
       "      <td>0.0</td>\n",
       "      <td>Hewitt Project</td>\n",
       "      <td>-9</td>\n",
       "      <td>-9</td>\n",
       "      <td>0</td>\n",
       "      <td>-9</td>\n",
       "    </tr>\n",
       "    <tr>\n",
       "      <th>8</th>\n",
       "      <td>197001020003</td>\n",
       "      <td>1970</td>\n",
       "      <td>1</td>\n",
       "      <td>2</td>\n",
       "      <td>0</td>\n",
       "      <td>217</td>\n",
       "      <td>United States</td>\n",
       "      <td>1</td>\n",
       "      <td>North America</td>\n",
       "      <td>Wisconsin</td>\n",
       "      <td>Madison</td>\n",
       "      <td>43.076592</td>\n",
       "      <td>-89.412488</td>\n",
       "      <td>1.0</td>\n",
       "      <td>0</td>\n",
       "      <td>1</td>\n",
       "      <td>1</td>\n",
       "      <td>1</td>\n",
       "      <td>0.0</td>\n",
       "      <td>0.0</td>\n",
       "      <td>1</td>\n",
       "      <td>0</td>\n",
       "      <td>7</td>\n",
       "      <td>Facility/Infrastructure Attack</td>\n",
       "      <td>4</td>\n",
       "      <td>Military</td>\n",
       "      <td>28.0</td>\n",
       "      <td>Military Recruiting Station/Academy</td>\n",
       "      <td>R.O.T.C. offices at University of Wisconsin, M...</td>\n",
       "      <td>217.0</td>\n",
       "      <td>United States</td>\n",
       "      <td>New Year's Gang</td>\n",
       "      <td>0.0</td>\n",
       "      <td>0</td>\n",
       "      <td>8</td>\n",
       "      <td>Incendiary</td>\n",
       "      <td>19.0</td>\n",
       "      <td>Molotov Cocktail/Petrol Bomb</td>\n",
       "      <td>0.000000</td>\n",
       "      <td>0.000000</td>\n",
       "      <td>1</td>\n",
       "      <td>0.0</td>\n",
       "      <td>Hewitt Project</td>\n",
       "      <td>0</td>\n",
       "      <td>0</td>\n",
       "      <td>0</td>\n",
       "      <td>0</td>\n",
       "    </tr>\n",
       "  </tbody>\n",
       "</table>\n",
       "</div>"
      ],
      "text/plain": [
       "        eventid  iyear  imonth  iday  extended  country    country_txt  \\\n",
       "3  197001000002   1970       1     0         0       78         Greece   \n",
       "5  197001010002   1970       1     1         0      217  United States   \n",
       "6  197001020001   1970       1     2         0      218        Uruguay   \n",
       "7  197001020002   1970       1     2         0      217  United States   \n",
       "8  197001020003   1970       1     2         0      217  United States   \n",
       "\n",
       "   region      region_txt   provstate        city   latitude   longitude  \\\n",
       "3       8  Western Europe      Attica      Athens  37.997490   23.762728   \n",
       "5       1   North America    Illinois       Cairo  37.005105  -89.176269   \n",
       "6       3   South America  Montevideo  Montevideo -34.891151  -56.187214   \n",
       "7       1   North America  California     Oakland  37.791927 -122.225906   \n",
       "8       1   North America   Wisconsin     Madison  43.076592  -89.412488   \n",
       "\n",
       "   specificity  vicinity  crit1  crit2  crit3  doubtterr  multiple  success  \\\n",
       "3          1.0         0      1      1      1        0.0       0.0        1   \n",
       "5          1.0         0      1      1      1        0.0       0.0        1   \n",
       "6          1.0         0      1      1      1        0.0       0.0        0   \n",
       "7          1.0         0      1      1      1        1.0       0.0        1   \n",
       "8          1.0         0      1      1      1        0.0       0.0        1   \n",
       "\n",
       "   suicide  attacktype1                 attacktype1_txt  targtype1  \\\n",
       "3        0            3               Bombing/Explosion          7   \n",
       "5        0            2                   Armed Assault          3   \n",
       "6        0            1                   Assassination          3   \n",
       "7        0            3               Bombing/Explosion         21   \n",
       "8        0            7  Facility/Infrastructure Attack          4   \n",
       "\n",
       "             targtype1_txt  targsubtype1  \\\n",
       "3  Government (Diplomatic)          46.0   \n",
       "5                   Police          22.0   \n",
       "6                   Police          25.0   \n",
       "7                Utilities         107.0   \n",
       "8                 Military          28.0   \n",
       "\n",
       "                                  targsubtype1_txt  \\\n",
       "3                                Embassy/Consulate   \n",
       "5  Police Building (headquarters, station, school)   \n",
       "6                  Police Security Forces/Officers   \n",
       "7                                      Electricity   \n",
       "8              Military Recruiting Station/Academy   \n",
       "\n",
       "                                             target1  natlty1    natlty1_txt  \\\n",
       "3                                       U.S. Embassy    217.0  United States   \n",
       "5                          Cairo Police Headquarters    217.0  United States   \n",
       "6  Juan Maria de Lucah/Chief of Directorate of in...    218.0        Uruguay   \n",
       "7                                    Edes Substation    217.0  United States   \n",
       "8  R.O.T.C. offices at University of Wisconsin, M...    217.0  United States   \n",
       "\n",
       "                 gname  guncertain1  individual  weaptype1 weaptype1_txt  \\\n",
       "3              Unknown          0.0           0          6    Explosives   \n",
       "5   Black Nationalists          0.0           0          5      Firearms   \n",
       "6  Tupamaros (Uruguay)          0.0           0          5      Firearms   \n",
       "7              Unknown          0.0           0          6    Explosives   \n",
       "8      New Year's Gang          0.0           0          8    Incendiary   \n",
       "\n",
       "   weapsubtype1                   weapsubtype1_txt     nkill    nwound  \\\n",
       "3          16.0             Unknown Explosive Type  2.403272  3.167668   \n",
       "5           5.0                   Unknown Gun Type  0.000000  0.000000   \n",
       "6           2.0  Automatic or Semi-Automatic Rifle  0.000000  0.000000   \n",
       "7          16.0             Unknown Explosive Type  0.000000  0.000000   \n",
       "8          19.0       Molotov Cocktail/Petrol Bomb  0.000000  0.000000   \n",
       "\n",
       "   property  ishostkid        dbsource  INT_LOG  INT_IDEO  INT_MISC  INT_ANY  \n",
       "3         1        0.0            PGIS       -9        -9         1        1  \n",
       "5         1        0.0  Hewitt Project       -9        -9         0       -9  \n",
       "6         0        0.0            PGIS        0         0         0        0  \n",
       "7         1        0.0  Hewitt Project       -9        -9         0       -9  \n",
       "8         1        0.0  Hewitt Project        0         0         0        0  "
      ]
     },
     "execution_count": 30,
     "metadata": {},
     "output_type": "execute_result"
    }
   ],
   "source": [
    "\n",
    "df.head()"
   ]
  },
  {
   "cell_type": "code",
   "execution_count": 31,
   "metadata": {},
   "outputs": [
    {
     "data": {
      "text/html": [
       "<div>\n",
       "<style scoped>\n",
       "    .dataframe tbody tr th:only-of-type {\n",
       "        vertical-align: middle;\n",
       "    }\n",
       "\n",
       "    .dataframe tbody tr th {\n",
       "        vertical-align: top;\n",
       "    }\n",
       "\n",
       "    .dataframe thead th {\n",
       "        text-align: right;\n",
       "    }\n",
       "</style>\n",
       "<table border=\"1\" class=\"dataframe\">\n",
       "  <thead>\n",
       "    <tr style=\"text-align: right;\">\n",
       "      <th></th>\n",
       "      <th>Country Name</th>\n",
       "      <th>Count</th>\n",
       "    </tr>\n",
       "  </thead>\n",
       "  <tbody>\n",
       "    <tr>\n",
       "      <th>0</th>\n",
       "      <td>Iraq</td>\n",
       "      <td>21674</td>\n",
       "    </tr>\n",
       "    <tr>\n",
       "      <th>1</th>\n",
       "      <td>Pakistan</td>\n",
       "      <td>12386</td>\n",
       "    </tr>\n",
       "    <tr>\n",
       "      <th>2</th>\n",
       "      <td>Afghanistan</td>\n",
       "      <td>10065</td>\n",
       "    </tr>\n",
       "    <tr>\n",
       "      <th>3</th>\n",
       "      <td>India</td>\n",
       "      <td>10003</td>\n",
       "    </tr>\n",
       "    <tr>\n",
       "      <th>4</th>\n",
       "      <td>Colombia</td>\n",
       "      <td>6362</td>\n",
       "    </tr>\n",
       "  </tbody>\n",
       "</table>\n",
       "</div>"
      ],
      "text/plain": [
       "  Country Name  Count\n",
       "0         Iraq  21674\n",
       "1     Pakistan  12386\n",
       "2  Afghanistan  10065\n",
       "3        India  10003\n",
       "4     Colombia   6362"
      ]
     },
     "execution_count": 31,
     "metadata": {},
     "output_type": "execute_result"
    }
   ],
   "source": [
    "#Highest attack frequency by countries\n",
    "df2 = df.country_txt.value_counts().reset_index().rename(columns={'index': 'Country Name'})\n",
    "df2.columns.values[1] = 'Count'\n",
    "df2.head()"
   ]
  },
  {
   "cell_type": "markdown",
   "metadata": {},
   "source": [
    "# Visualization"
   ]
  },
  {
   "cell_type": "code",
   "execution_count": 51,
   "metadata": {},
   "outputs": [
    {
     "data": {
      "application/vnd.plotly.v1+json": {
       "config": {
        "plotlyServerURL": "https://plot.ly"
       },
       "data": [
        {
         "coloraxis": "coloraxis",
         "geo": "geo",
         "hovertemplate": "<b>%{hovertext}</b><br><br>Country ISO Code=%{location}<br>Count=%{z}<extra></extra>",
         "hovertext": [
          "Iraq",
          "Pakistan",
          "Afghanistan",
          "India",
          "Colombia",
          "Philippines",
          "Peru",
          "El Salvador",
          "United Kingdom",
          "Turkey",
          "Nigeria",
          "Somalia",
          "Thailand",
          "Spain",
          "Yemen",
          "Sri Lanka",
          "United States",
          "Algeria",
          "Lebanon",
          "France",
          "Egypt",
          "Chile",
          "Russia",
          "West Bank and Gaza Strip",
          "Syria",
          "Israel",
          "Libya",
          "South Africa",
          "Nicaragua",
          "Ukraine",
          "Guatemala",
          "Bangladesh",
          "Greece",
          "Italy",
          "Nepal",
          "Sudan",
          "Argentina",
          "Kenya",
          "Indonesia",
          "Iran",
          "Democratic Republic of the Congo",
          "Burundi",
          "Mali",
          "Myanmar",
          "Angola",
          "Mexico",
          "Saudi Arabia",
          "West Germany (FRG)",
          "Mozambique",
          "Germany",
          "Uganda",
          "Bolivia",
          "Honduras",
          "Cameroon",
          "Central African Republic",
          "China",
          "Cambodia",
          "Venezuela",
          "Georgia",
          "Ireland",
          "Brazil",
          "Yugoslavia",
          "Kosovo",
          "Ecuador",
          "Bahrain",
          "Japan",
          "Haiti",
          "Tajikistan",
          "South Sudan",
          "Bosnia-Herzegovina",
          "Ethiopia",
          "Rwanda",
          "Namibia",
          "Cyprus",
          "Portugal",
          "Belgium",
          "Niger",
          "Macedonia",
          "Paraguay",
          "Tunisia",
          "Jordan",
          "Senegal",
          "Sweden",
          "Panama",
          "Australia",
          "Netherlands",
          "Malaysia",
          "Austria",
          "Canada",
          "Switzerland",
          "Zimbabwe",
          "Sierra Leone",
          "Chad",
          "Dominican Republic",
          "Soviet Union",
          "Rhodesia",
          "Ivory Coast",
          "Zambia",
          "Papua New Guinea",
          "Albania",
          "Uruguay",
          "Kuwait",
          "Costa Rica",
          "Tanzania",
          "Croatia",
          "Suriname",
          "Burkina Faso",
          "Guadeloupe",
          "Togo",
          "Azerbaijan",
          "Bulgaria",
          "Hungary",
          "Republic of the Congo",
          "Zaire",
          "Kyrgyzstan",
          "Liberia",
          "Poland",
          "Jamaica",
          "Denmark",
          "Czech Republic",
          "Taiwan",
          "Macau",
          "Guyana",
          "Lesotho",
          "Morocco",
          "Laos",
          "Kazakhstan",
          "Armenia",
          "Cuba",
          "Maldives",
          "Uzbekistan",
          "United Arab Emirates",
          "Guinea",
          "Djibouti",
          "Madagascar",
          "Malta",
          "East Germany (GDR)",
          "New Caledonia",
          "Ghana",
          "Latvia",
          "South Korea",
          "Trinidad and Tobago",
          "Luxembourg",
          "Moldova",
          "New Zealand",
          "Mauritania",
          "Hong Kong",
          "Finland",
          "Slovak Republic",
          "Swaziland",
          "Serbia",
          "Belarus",
          "Serbia-Montenegro",
          "East Timor",
          "Guinea-Bissau",
          "Botswana",
          "Estonia",
          "Fiji",
          "Norway",
          "Gabon",
          "Martinique",
          "Czechoslovakia",
          "Lithuania",
          "Eritrea",
          "Bhutan",
          "Benin",
          "Vietnam",
          "Brunei",
          "Qatar",
          "French Guiana",
          "Montenegro",
          "Romania",
          "Singapore",
          "North Yemen",
          "Slovenia",
          "Barbados",
          "Belize",
          "Iceland",
          "Solomon Islands",
          "Bahamas",
          "Western Sahara",
          "Grenada",
          "Mauritius",
          "People's Republic of the Congo",
          "Gambia",
          "Comoros",
          "Turkmenistan",
          "Malawi",
          "Dominica",
          "South Yemen",
          "Seychelles",
          "Vatican City",
          "New Hebrides",
          "South Vietnam",
          "Equatorial Guinea",
          "International",
          "Andorra",
          "French Polynesia",
          "Falkland Islands",
          "North Korea",
          "St. Lucia",
          "St. Kitts and Nevis"
         ],
         "locations": [
          null,
          null,
          null,
          null,
          null,
          null,
          null,
          null,
          null,
          null,
          null,
          null,
          null,
          null,
          null,
          null,
          null,
          null,
          null,
          null,
          null,
          null,
          null,
          null,
          null,
          null,
          null,
          null,
          null,
          null,
          null,
          null,
          null,
          null,
          null,
          null,
          null,
          null,
          null,
          null,
          null,
          null,
          null,
          null,
          null,
          null,
          null,
          null,
          null,
          null,
          null,
          null,
          null,
          null,
          null,
          null,
          null,
          null,
          null,
          null,
          null,
          null,
          null,
          null,
          null,
          null,
          null,
          null,
          null,
          null,
          null,
          null,
          null,
          null,
          null,
          null,
          null,
          null,
          null,
          null,
          null,
          null,
          null,
          null,
          null,
          null,
          null,
          null,
          null,
          null,
          null,
          null,
          null,
          null,
          null,
          null,
          null,
          null,
          null,
          null,
          null,
          null,
          null,
          null,
          null,
          null,
          null,
          null,
          null,
          null,
          null,
          null,
          null,
          null,
          null,
          null,
          null,
          null,
          null,
          null,
          null,
          null,
          null,
          null,
          null,
          null,
          null,
          null,
          null,
          null,
          null,
          null,
          null,
          null,
          null,
          null,
          null,
          null,
          null,
          null,
          null,
          null,
          null,
          null,
          null,
          null,
          null,
          null,
          null,
          null,
          null,
          null,
          null,
          null,
          null,
          null,
          null,
          null,
          null,
          null,
          null,
          null,
          null,
          null,
          null,
          null,
          null,
          null,
          null,
          null,
          null,
          null,
          null,
          null,
          null,
          null,
          null,
          null,
          null,
          null,
          null,
          null,
          null,
          null,
          null,
          null,
          null,
          null,
          null,
          null,
          null,
          null,
          null,
          null,
          null,
          null,
          null,
          null,
          null,
          null,
          null,
          null
         ],
         "name": "",
         "type": "choropleth",
         "z": [
          21674,
          12386,
          10065,
          10003,
          6362,
          5910,
          5191,
          4547,
          4392,
          3635,
          3540,
          3407,
          3356,
          2671,
          2595,
          2487,
          2421,
          2219,
          2141,
          2072,
          2066,
          2000,
          1971,
          1884,
          1834,
          1803,
          1770,
          1686,
          1678,
          1511,
          1499,
          1278,
          1073,
          991,
          932,
          751,
          621,
          605,
          593,
          531,
          501,
          483,
          462,
          415,
          410,
          365,
          342,
          338,
          305,
          304,
          282,
          271,
          252,
          231,
          215,
          212,
          201,
          197,
          187,
          184,
          183,
          182,
          181,
          180,
          176,
          172,
          164,
          154,
          153,
          133,
          129,
          127,
          123,
          117,
          108,
          108,
          104,
          102,
          98,
          98,
          96,
          95,
          95,
          90,
          88,
          87,
          85,
          84,
          82,
          80,
          80,
          70,
          68,
          66,
          65,
          63,
          60,
          58,
          58,
          56,
          53,
          53,
          51,
          50,
          46,
          45,
          45,
          44,
          40,
          40,
          38,
          34,
          31,
          30,
          28,
          28,
          26,
          26,
          25,
          24,
          24,
          23,
          21,
          21,
          21,
          21,
          21,
          21,
          20,
          20,
          19,
          18,
          18,
          18,
          18,
          18,
          17,
          17,
          16,
          16,
          15,
          15,
          15,
          15,
          14,
          14,
          14,
          14,
          12,
          12,
          11,
          11,
          10,
          10,
          9,
          9,
          8,
          8,
          8,
          7,
          7,
          7,
          7,
          6,
          6,
          6,
          5,
          5,
          5,
          4,
          4,
          4,
          4,
          4,
          4,
          3,
          3,
          3,
          3,
          3,
          3,
          3,
          2,
          2,
          2,
          2,
          2,
          2,
          2,
          2,
          2,
          1,
          1,
          1,
          1,
          1,
          1,
          1,
          1,
          1,
          1,
          1
         ]
        }
       ],
       "layout": {
        "coloraxis": {
         "colorbar": {
          "title": {
           "text": "Count"
          }
         },
         "colorscale": [
          [
           0,
           "#0d0887"
          ],
          [
           0.1111111111111111,
           "#46039f"
          ],
          [
           0.2222222222222222,
           "#7201a8"
          ],
          [
           0.3333333333333333,
           "#9c179e"
          ],
          [
           0.4444444444444444,
           "#bd3786"
          ],
          [
           0.5555555555555556,
           "#d8576b"
          ],
          [
           0.6666666666666666,
           "#ed7953"
          ],
          [
           0.7777777777777778,
           "#fb9f3a"
          ],
          [
           0.8888888888888888,
           "#fdca26"
          ],
          [
           1,
           "#f0f921"
          ]
         ]
        },
        "geo": {
         "center": {},
         "domain": {
          "x": [
           0,
           1
          ],
          "y": [
           0,
           1
          ]
         }
        },
        "legend": {
         "tracegroupgap": 0
        },
        "margin": {
         "t": 60
        },
        "template": {
         "data": {
          "bar": [
           {
            "error_x": {
             "color": "#2a3f5f"
            },
            "error_y": {
             "color": "#2a3f5f"
            },
            "marker": {
             "line": {
              "color": "#E5ECF6",
              "width": 0.5
             }
            },
            "type": "bar"
           }
          ],
          "barpolar": [
           {
            "marker": {
             "line": {
              "color": "#E5ECF6",
              "width": 0.5
             }
            },
            "type": "barpolar"
           }
          ],
          "carpet": [
           {
            "aaxis": {
             "endlinecolor": "#2a3f5f",
             "gridcolor": "white",
             "linecolor": "white",
             "minorgridcolor": "white",
             "startlinecolor": "#2a3f5f"
            },
            "baxis": {
             "endlinecolor": "#2a3f5f",
             "gridcolor": "white",
             "linecolor": "white",
             "minorgridcolor": "white",
             "startlinecolor": "#2a3f5f"
            },
            "type": "carpet"
           }
          ],
          "choropleth": [
           {
            "colorbar": {
             "outlinewidth": 0,
             "ticks": ""
            },
            "type": "choropleth"
           }
          ],
          "contour": [
           {
            "colorbar": {
             "outlinewidth": 0,
             "ticks": ""
            },
            "colorscale": [
             [
              0,
              "#0d0887"
             ],
             [
              0.1111111111111111,
              "#46039f"
             ],
             [
              0.2222222222222222,
              "#7201a8"
             ],
             [
              0.3333333333333333,
              "#9c179e"
             ],
             [
              0.4444444444444444,
              "#bd3786"
             ],
             [
              0.5555555555555556,
              "#d8576b"
             ],
             [
              0.6666666666666666,
              "#ed7953"
             ],
             [
              0.7777777777777778,
              "#fb9f3a"
             ],
             [
              0.8888888888888888,
              "#fdca26"
             ],
             [
              1,
              "#f0f921"
             ]
            ],
            "type": "contour"
           }
          ],
          "contourcarpet": [
           {
            "colorbar": {
             "outlinewidth": 0,
             "ticks": ""
            },
            "type": "contourcarpet"
           }
          ],
          "heatmap": [
           {
            "colorbar": {
             "outlinewidth": 0,
             "ticks": ""
            },
            "colorscale": [
             [
              0,
              "#0d0887"
             ],
             [
              0.1111111111111111,
              "#46039f"
             ],
             [
              0.2222222222222222,
              "#7201a8"
             ],
             [
              0.3333333333333333,
              "#9c179e"
             ],
             [
              0.4444444444444444,
              "#bd3786"
             ],
             [
              0.5555555555555556,
              "#d8576b"
             ],
             [
              0.6666666666666666,
              "#ed7953"
             ],
             [
              0.7777777777777778,
              "#fb9f3a"
             ],
             [
              0.8888888888888888,
              "#fdca26"
             ],
             [
              1,
              "#f0f921"
             ]
            ],
            "type": "heatmap"
           }
          ],
          "heatmapgl": [
           {
            "colorbar": {
             "outlinewidth": 0,
             "ticks": ""
            },
            "colorscale": [
             [
              0,
              "#0d0887"
             ],
             [
              0.1111111111111111,
              "#46039f"
             ],
             [
              0.2222222222222222,
              "#7201a8"
             ],
             [
              0.3333333333333333,
              "#9c179e"
             ],
             [
              0.4444444444444444,
              "#bd3786"
             ],
             [
              0.5555555555555556,
              "#d8576b"
             ],
             [
              0.6666666666666666,
              "#ed7953"
             ],
             [
              0.7777777777777778,
              "#fb9f3a"
             ],
             [
              0.8888888888888888,
              "#fdca26"
             ],
             [
              1,
              "#f0f921"
             ]
            ],
            "type": "heatmapgl"
           }
          ],
          "histogram": [
           {
            "marker": {
             "colorbar": {
              "outlinewidth": 0,
              "ticks": ""
             }
            },
            "type": "histogram"
           }
          ],
          "histogram2d": [
           {
            "colorbar": {
             "outlinewidth": 0,
             "ticks": ""
            },
            "colorscale": [
             [
              0,
              "#0d0887"
             ],
             [
              0.1111111111111111,
              "#46039f"
             ],
             [
              0.2222222222222222,
              "#7201a8"
             ],
             [
              0.3333333333333333,
              "#9c179e"
             ],
             [
              0.4444444444444444,
              "#bd3786"
             ],
             [
              0.5555555555555556,
              "#d8576b"
             ],
             [
              0.6666666666666666,
              "#ed7953"
             ],
             [
              0.7777777777777778,
              "#fb9f3a"
             ],
             [
              0.8888888888888888,
              "#fdca26"
             ],
             [
              1,
              "#f0f921"
             ]
            ],
            "type": "histogram2d"
           }
          ],
          "histogram2dcontour": [
           {
            "colorbar": {
             "outlinewidth": 0,
             "ticks": ""
            },
            "colorscale": [
             [
              0,
              "#0d0887"
             ],
             [
              0.1111111111111111,
              "#46039f"
             ],
             [
              0.2222222222222222,
              "#7201a8"
             ],
             [
              0.3333333333333333,
              "#9c179e"
             ],
             [
              0.4444444444444444,
              "#bd3786"
             ],
             [
              0.5555555555555556,
              "#d8576b"
             ],
             [
              0.6666666666666666,
              "#ed7953"
             ],
             [
              0.7777777777777778,
              "#fb9f3a"
             ],
             [
              0.8888888888888888,
              "#fdca26"
             ],
             [
              1,
              "#f0f921"
             ]
            ],
            "type": "histogram2dcontour"
           }
          ],
          "mesh3d": [
           {
            "colorbar": {
             "outlinewidth": 0,
             "ticks": ""
            },
            "type": "mesh3d"
           }
          ],
          "parcoords": [
           {
            "line": {
             "colorbar": {
              "outlinewidth": 0,
              "ticks": ""
             }
            },
            "type": "parcoords"
           }
          ],
          "pie": [
           {
            "automargin": true,
            "type": "pie"
           }
          ],
          "scatter": [
           {
            "marker": {
             "colorbar": {
              "outlinewidth": 0,
              "ticks": ""
             }
            },
            "type": "scatter"
           }
          ],
          "scatter3d": [
           {
            "line": {
             "colorbar": {
              "outlinewidth": 0,
              "ticks": ""
             }
            },
            "marker": {
             "colorbar": {
              "outlinewidth": 0,
              "ticks": ""
             }
            },
            "type": "scatter3d"
           }
          ],
          "scattercarpet": [
           {
            "marker": {
             "colorbar": {
              "outlinewidth": 0,
              "ticks": ""
             }
            },
            "type": "scattercarpet"
           }
          ],
          "scattergeo": [
           {
            "marker": {
             "colorbar": {
              "outlinewidth": 0,
              "ticks": ""
             }
            },
            "type": "scattergeo"
           }
          ],
          "scattergl": [
           {
            "marker": {
             "colorbar": {
              "outlinewidth": 0,
              "ticks": ""
             }
            },
            "type": "scattergl"
           }
          ],
          "scattermapbox": [
           {
            "marker": {
             "colorbar": {
              "outlinewidth": 0,
              "ticks": ""
             }
            },
            "type": "scattermapbox"
           }
          ],
          "scatterpolar": [
           {
            "marker": {
             "colorbar": {
              "outlinewidth": 0,
              "ticks": ""
             }
            },
            "type": "scatterpolar"
           }
          ],
          "scatterpolargl": [
           {
            "marker": {
             "colorbar": {
              "outlinewidth": 0,
              "ticks": ""
             }
            },
            "type": "scatterpolargl"
           }
          ],
          "scatterternary": [
           {
            "marker": {
             "colorbar": {
              "outlinewidth": 0,
              "ticks": ""
             }
            },
            "type": "scatterternary"
           }
          ],
          "surface": [
           {
            "colorbar": {
             "outlinewidth": 0,
             "ticks": ""
            },
            "colorscale": [
             [
              0,
              "#0d0887"
             ],
             [
              0.1111111111111111,
              "#46039f"
             ],
             [
              0.2222222222222222,
              "#7201a8"
             ],
             [
              0.3333333333333333,
              "#9c179e"
             ],
             [
              0.4444444444444444,
              "#bd3786"
             ],
             [
              0.5555555555555556,
              "#d8576b"
             ],
             [
              0.6666666666666666,
              "#ed7953"
             ],
             [
              0.7777777777777778,
              "#fb9f3a"
             ],
             [
              0.8888888888888888,
              "#fdca26"
             ],
             [
              1,
              "#f0f921"
             ]
            ],
            "type": "surface"
           }
          ],
          "table": [
           {
            "cells": {
             "fill": {
              "color": "#EBF0F8"
             },
             "line": {
              "color": "white"
             }
            },
            "header": {
             "fill": {
              "color": "#C8D4E3"
             },
             "line": {
              "color": "white"
             }
            },
            "type": "table"
           }
          ]
         },
         "layout": {
          "annotationdefaults": {
           "arrowcolor": "#2a3f5f",
           "arrowhead": 0,
           "arrowwidth": 1
          },
          "coloraxis": {
           "colorbar": {
            "outlinewidth": 0,
            "ticks": ""
           }
          },
          "colorscale": {
           "diverging": [
            [
             0,
             "#8e0152"
            ],
            [
             0.1,
             "#c51b7d"
            ],
            [
             0.2,
             "#de77ae"
            ],
            [
             0.3,
             "#f1b6da"
            ],
            [
             0.4,
             "#fde0ef"
            ],
            [
             0.5,
             "#f7f7f7"
            ],
            [
             0.6,
             "#e6f5d0"
            ],
            [
             0.7,
             "#b8e186"
            ],
            [
             0.8,
             "#7fbc41"
            ],
            [
             0.9,
             "#4d9221"
            ],
            [
             1,
             "#276419"
            ]
           ],
           "sequential": [
            [
             0,
             "#0d0887"
            ],
            [
             0.1111111111111111,
             "#46039f"
            ],
            [
             0.2222222222222222,
             "#7201a8"
            ],
            [
             0.3333333333333333,
             "#9c179e"
            ],
            [
             0.4444444444444444,
             "#bd3786"
            ],
            [
             0.5555555555555556,
             "#d8576b"
            ],
            [
             0.6666666666666666,
             "#ed7953"
            ],
            [
             0.7777777777777778,
             "#fb9f3a"
            ],
            [
             0.8888888888888888,
             "#fdca26"
            ],
            [
             1,
             "#f0f921"
            ]
           ],
           "sequentialminus": [
            [
             0,
             "#0d0887"
            ],
            [
             0.1111111111111111,
             "#46039f"
            ],
            [
             0.2222222222222222,
             "#7201a8"
            ],
            [
             0.3333333333333333,
             "#9c179e"
            ],
            [
             0.4444444444444444,
             "#bd3786"
            ],
            [
             0.5555555555555556,
             "#d8576b"
            ],
            [
             0.6666666666666666,
             "#ed7953"
            ],
            [
             0.7777777777777778,
             "#fb9f3a"
            ],
            [
             0.8888888888888888,
             "#fdca26"
            ],
            [
             1,
             "#f0f921"
            ]
           ]
          },
          "colorway": [
           "#636efa",
           "#EF553B",
           "#00cc96",
           "#ab63fa",
           "#FFA15A",
           "#19d3f3",
           "#FF6692",
           "#B6E880",
           "#FF97FF",
           "#FECB52"
          ],
          "font": {
           "color": "#2a3f5f"
          },
          "geo": {
           "bgcolor": "white",
           "lakecolor": "white",
           "landcolor": "#E5ECF6",
           "showlakes": true,
           "showland": true,
           "subunitcolor": "white"
          },
          "hoverlabel": {
           "align": "left"
          },
          "hovermode": "closest",
          "mapbox": {
           "style": "light"
          },
          "paper_bgcolor": "white",
          "plot_bgcolor": "#E5ECF6",
          "polar": {
           "angularaxis": {
            "gridcolor": "white",
            "linecolor": "white",
            "ticks": ""
           },
           "bgcolor": "#E5ECF6",
           "radialaxis": {
            "gridcolor": "white",
            "linecolor": "white",
            "ticks": ""
           }
          },
          "scene": {
           "xaxis": {
            "backgroundcolor": "#E5ECF6",
            "gridcolor": "white",
            "gridwidth": 2,
            "linecolor": "white",
            "showbackground": true,
            "ticks": "",
            "zerolinecolor": "white"
           },
           "yaxis": {
            "backgroundcolor": "#E5ECF6",
            "gridcolor": "white",
            "gridwidth": 2,
            "linecolor": "white",
            "showbackground": true,
            "ticks": "",
            "zerolinecolor": "white"
           },
           "zaxis": {
            "backgroundcolor": "#E5ECF6",
            "gridcolor": "white",
            "gridwidth": 2,
            "linecolor": "white",
            "showbackground": true,
            "ticks": "",
            "zerolinecolor": "white"
           }
          },
          "shapedefaults": {
           "line": {
            "color": "#2a3f5f"
           }
          },
          "ternary": {
           "aaxis": {
            "gridcolor": "white",
            "linecolor": "white",
            "ticks": ""
           },
           "baxis": {
            "gridcolor": "white",
            "linecolor": "white",
            "ticks": ""
           },
           "bgcolor": "#E5ECF6",
           "caxis": {
            "gridcolor": "white",
            "linecolor": "white",
            "ticks": ""
           }
          },
          "title": {
           "x": 0.05
          },
          "xaxis": {
           "automargin": true,
           "gridcolor": "white",
           "linecolor": "white",
           "ticks": "",
           "title": {
            "standoff": 15
           },
           "zerolinecolor": "white",
           "zerolinewidth": 2
          },
          "yaxis": {
           "automargin": true,
           "gridcolor": "white",
           "linecolor": "white",
           "ticks": "",
           "title": {
            "standoff": 15
           },
           "zerolinecolor": "white",
           "zerolinewidth": 2
          }
         }
        }
       }
      },
      "text/html": [
       "<div>                            <div id=\"cb5e4ed9-c03d-4ba3-aeb1-411f51ed6a83\" class=\"plotly-graph-div\" style=\"height:525px; width:100%;\"></div>            <script type=\"text/javascript\">                require([\"plotly\"], function(Plotly) {                    window.PLOTLYENV=window.PLOTLYENV || {};                                    if (document.getElementById(\"cb5e4ed9-c03d-4ba3-aeb1-411f51ed6a83\")) {                    Plotly.newPlot(                        \"cb5e4ed9-c03d-4ba3-aeb1-411f51ed6a83\",                        [{\"coloraxis\": \"coloraxis\", \"geo\": \"geo\", \"hovertemplate\": \"<b>%{hovertext}</b><br><br>Country ISO Code=%{location}<br>Count=%{z}<extra></extra>\", \"hovertext\": [\"Iraq\", \"Pakistan\", \"Afghanistan\", \"India\", \"Colombia\", \"Philippines\", \"Peru\", \"El Salvador\", \"United Kingdom\", \"Turkey\", \"Nigeria\", \"Somalia\", \"Thailand\", \"Spain\", \"Yemen\", \"Sri Lanka\", \"United States\", \"Algeria\", \"Lebanon\", \"France\", \"Egypt\", \"Chile\", \"Russia\", \"West Bank and Gaza Strip\", \"Syria\", \"Israel\", \"Libya\", \"South Africa\", \"Nicaragua\", \"Ukraine\", \"Guatemala\", \"Bangladesh\", \"Greece\", \"Italy\", \"Nepal\", \"Sudan\", \"Argentina\", \"Kenya\", \"Indonesia\", \"Iran\", \"Democratic Republic of the Congo\", \"Burundi\", \"Mali\", \"Myanmar\", \"Angola\", \"Mexico\", \"Saudi Arabia\", \"West Germany (FRG)\", \"Mozambique\", \"Germany\", \"Uganda\", \"Bolivia\", \"Honduras\", \"Cameroon\", \"Central African Republic\", \"China\", \"Cambodia\", \"Venezuela\", \"Georgia\", \"Ireland\", \"Brazil\", \"Yugoslavia\", \"Kosovo\", \"Ecuador\", \"Bahrain\", \"Japan\", \"Haiti\", \"Tajikistan\", \"South Sudan\", \"Bosnia-Herzegovina\", \"Ethiopia\", \"Rwanda\", \"Namibia\", \"Cyprus\", \"Portugal\", \"Belgium\", \"Niger\", \"Macedonia\", \"Paraguay\", \"Tunisia\", \"Jordan\", \"Senegal\", \"Sweden\", \"Panama\", \"Australia\", \"Netherlands\", \"Malaysia\", \"Austria\", \"Canada\", \"Switzerland\", \"Zimbabwe\", \"Sierra Leone\", \"Chad\", \"Dominican Republic\", \"Soviet Union\", \"Rhodesia\", \"Ivory Coast\", \"Zambia\", \"Papua New Guinea\", \"Albania\", \"Uruguay\", \"Kuwait\", \"Costa Rica\", \"Tanzania\", \"Croatia\", \"Suriname\", \"Burkina Faso\", \"Guadeloupe\", \"Togo\", \"Azerbaijan\", \"Bulgaria\", \"Hungary\", \"Republic of the Congo\", \"Zaire\", \"Kyrgyzstan\", \"Liberia\", \"Poland\", \"Jamaica\", \"Denmark\", \"Czech Republic\", \"Taiwan\", \"Macau\", \"Guyana\", \"Lesotho\", \"Morocco\", \"Laos\", \"Kazakhstan\", \"Armenia\", \"Cuba\", \"Maldives\", \"Uzbekistan\", \"United Arab Emirates\", \"Guinea\", \"Djibouti\", \"Madagascar\", \"Malta\", \"East Germany (GDR)\", \"New Caledonia\", \"Ghana\", \"Latvia\", \"South Korea\", \"Trinidad and Tobago\", \"Luxembourg\", \"Moldova\", \"New Zealand\", \"Mauritania\", \"Hong Kong\", \"Finland\", \"Slovak Republic\", \"Swaziland\", \"Serbia\", \"Belarus\", \"Serbia-Montenegro\", \"East Timor\", \"Guinea-Bissau\", \"Botswana\", \"Estonia\", \"Fiji\", \"Norway\", \"Gabon\", \"Martinique\", \"Czechoslovakia\", \"Lithuania\", \"Eritrea\", \"Bhutan\", \"Benin\", \"Vietnam\", \"Brunei\", \"Qatar\", \"French Guiana\", \"Montenegro\", \"Romania\", \"Singapore\", \"North Yemen\", \"Slovenia\", \"Barbados\", \"Belize\", \"Iceland\", \"Solomon Islands\", \"Bahamas\", \"Western Sahara\", \"Grenada\", \"Mauritius\", \"People's Republic of the Congo\", \"Gambia\", \"Comoros\", \"Turkmenistan\", \"Malawi\", \"Dominica\", \"South Yemen\", \"Seychelles\", \"Vatican City\", \"New Hebrides\", \"South Vietnam\", \"Equatorial Guinea\", \"International\", \"Andorra\", \"French Polynesia\", \"Falkland Islands\", \"North Korea\", \"St. Lucia\", \"St. Kitts and Nevis\"], \"locations\": [null, null, null, null, null, null, null, null, null, null, null, null, null, null, null, null, null, null, null, null, null, null, null, null, null, null, null, null, null, null, null, null, null, null, null, null, null, null, null, null, null, null, null, null, null, null, null, null, null, null, null, null, null, null, null, null, null, null, null, null, null, null, null, null, null, null, null, null, null, null, null, null, null, null, null, null, null, null, null, null, null, null, null, null, null, null, null, null, null, null, null, null, null, null, null, null, null, null, null, null, null, null, null, null, null, null, null, null, null, null, null, null, null, null, null, null, null, null, null, null, null, null, null, null, null, null, null, null, null, null, null, null, null, null, null, null, null, null, null, null, null, null, null, null, null, null, null, null, null, null, null, null, null, null, null, null, null, null, null, null, null, null, null, null, null, null, null, null, null, null, null, null, null, null, null, null, null, null, null, null, null, null, null, null, null, null, null, null, null, null, null, null, null, null, null, null, null, null, null, null, null, null], \"name\": \"\", \"type\": \"choropleth\", \"z\": [21674, 12386, 10065, 10003, 6362, 5910, 5191, 4547, 4392, 3635, 3540, 3407, 3356, 2671, 2595, 2487, 2421, 2219, 2141, 2072, 2066, 2000, 1971, 1884, 1834, 1803, 1770, 1686, 1678, 1511, 1499, 1278, 1073, 991, 932, 751, 621, 605, 593, 531, 501, 483, 462, 415, 410, 365, 342, 338, 305, 304, 282, 271, 252, 231, 215, 212, 201, 197, 187, 184, 183, 182, 181, 180, 176, 172, 164, 154, 153, 133, 129, 127, 123, 117, 108, 108, 104, 102, 98, 98, 96, 95, 95, 90, 88, 87, 85, 84, 82, 80, 80, 70, 68, 66, 65, 63, 60, 58, 58, 56, 53, 53, 51, 50, 46, 45, 45, 44, 40, 40, 38, 34, 31, 30, 28, 28, 26, 26, 25, 24, 24, 23, 21, 21, 21, 21, 21, 21, 20, 20, 19, 18, 18, 18, 18, 18, 17, 17, 16, 16, 15, 15, 15, 15, 14, 14, 14, 14, 12, 12, 11, 11, 10, 10, 9, 9, 8, 8, 8, 7, 7, 7, 7, 6, 6, 6, 5, 5, 5, 4, 4, 4, 4, 4, 4, 3, 3, 3, 3, 3, 3, 3, 2, 2, 2, 2, 2, 2, 2, 2, 2, 1, 1, 1, 1, 1, 1, 1, 1, 1, 1, 1]}],                        {\"coloraxis\": {\"colorbar\": {\"title\": {\"text\": \"Count\"}}, \"colorscale\": [[0.0, \"#0d0887\"], [0.1111111111111111, \"#46039f\"], [0.2222222222222222, \"#7201a8\"], [0.3333333333333333, \"#9c179e\"], [0.4444444444444444, \"#bd3786\"], [0.5555555555555556, \"#d8576b\"], [0.6666666666666666, \"#ed7953\"], [0.7777777777777778, \"#fb9f3a\"], [0.8888888888888888, \"#fdca26\"], [1.0, \"#f0f921\"]]}, \"geo\": {\"center\": {}, \"domain\": {\"x\": [0.0, 1.0], \"y\": [0.0, 1.0]}}, \"legend\": {\"tracegroupgap\": 0}, \"margin\": {\"t\": 60}, \"template\": {\"data\": {\"bar\": [{\"error_x\": {\"color\": \"#2a3f5f\"}, \"error_y\": {\"color\": \"#2a3f5f\"}, \"marker\": {\"line\": {\"color\": \"#E5ECF6\", \"width\": 0.5}}, \"type\": \"bar\"}], \"barpolar\": [{\"marker\": {\"line\": {\"color\": \"#E5ECF6\", \"width\": 0.5}}, \"type\": \"barpolar\"}], \"carpet\": [{\"aaxis\": {\"endlinecolor\": \"#2a3f5f\", \"gridcolor\": \"white\", \"linecolor\": \"white\", \"minorgridcolor\": \"white\", \"startlinecolor\": \"#2a3f5f\"}, \"baxis\": {\"endlinecolor\": \"#2a3f5f\", \"gridcolor\": \"white\", \"linecolor\": \"white\", \"minorgridcolor\": \"white\", \"startlinecolor\": \"#2a3f5f\"}, \"type\": \"carpet\"}], \"choropleth\": [{\"colorbar\": {\"outlinewidth\": 0, \"ticks\": \"\"}, \"type\": \"choropleth\"}], \"contour\": [{\"colorbar\": {\"outlinewidth\": 0, \"ticks\": \"\"}, \"colorscale\": [[0.0, \"#0d0887\"], [0.1111111111111111, \"#46039f\"], [0.2222222222222222, \"#7201a8\"], [0.3333333333333333, \"#9c179e\"], [0.4444444444444444, \"#bd3786\"], [0.5555555555555556, \"#d8576b\"], [0.6666666666666666, \"#ed7953\"], [0.7777777777777778, \"#fb9f3a\"], [0.8888888888888888, \"#fdca26\"], [1.0, \"#f0f921\"]], \"type\": \"contour\"}], \"contourcarpet\": [{\"colorbar\": {\"outlinewidth\": 0, \"ticks\": \"\"}, \"type\": \"contourcarpet\"}], \"heatmap\": [{\"colorbar\": {\"outlinewidth\": 0, \"ticks\": \"\"}, \"colorscale\": [[0.0, \"#0d0887\"], [0.1111111111111111, \"#46039f\"], [0.2222222222222222, \"#7201a8\"], [0.3333333333333333, \"#9c179e\"], [0.4444444444444444, \"#bd3786\"], [0.5555555555555556, \"#d8576b\"], [0.6666666666666666, \"#ed7953\"], [0.7777777777777778, \"#fb9f3a\"], [0.8888888888888888, \"#fdca26\"], [1.0, \"#f0f921\"]], \"type\": \"heatmap\"}], \"heatmapgl\": [{\"colorbar\": {\"outlinewidth\": 0, \"ticks\": \"\"}, \"colorscale\": [[0.0, \"#0d0887\"], [0.1111111111111111, \"#46039f\"], [0.2222222222222222, \"#7201a8\"], [0.3333333333333333, \"#9c179e\"], [0.4444444444444444, \"#bd3786\"], [0.5555555555555556, \"#d8576b\"], [0.6666666666666666, \"#ed7953\"], [0.7777777777777778, \"#fb9f3a\"], [0.8888888888888888, \"#fdca26\"], [1.0, \"#f0f921\"]], \"type\": \"heatmapgl\"}], \"histogram\": [{\"marker\": {\"colorbar\": {\"outlinewidth\": 0, \"ticks\": \"\"}}, \"type\": \"histogram\"}], \"histogram2d\": [{\"colorbar\": {\"outlinewidth\": 0, \"ticks\": \"\"}, \"colorscale\": [[0.0, \"#0d0887\"], [0.1111111111111111, \"#46039f\"], [0.2222222222222222, \"#7201a8\"], [0.3333333333333333, \"#9c179e\"], [0.4444444444444444, \"#bd3786\"], [0.5555555555555556, \"#d8576b\"], [0.6666666666666666, \"#ed7953\"], [0.7777777777777778, \"#fb9f3a\"], [0.8888888888888888, \"#fdca26\"], [1.0, \"#f0f921\"]], \"type\": \"histogram2d\"}], \"histogram2dcontour\": [{\"colorbar\": {\"outlinewidth\": 0, \"ticks\": \"\"}, \"colorscale\": [[0.0, \"#0d0887\"], [0.1111111111111111, \"#46039f\"], [0.2222222222222222, \"#7201a8\"], [0.3333333333333333, \"#9c179e\"], [0.4444444444444444, \"#bd3786\"], [0.5555555555555556, \"#d8576b\"], [0.6666666666666666, \"#ed7953\"], [0.7777777777777778, \"#fb9f3a\"], [0.8888888888888888, \"#fdca26\"], [1.0, \"#f0f921\"]], \"type\": \"histogram2dcontour\"}], \"mesh3d\": [{\"colorbar\": {\"outlinewidth\": 0, \"ticks\": \"\"}, \"type\": \"mesh3d\"}], \"parcoords\": [{\"line\": {\"colorbar\": {\"outlinewidth\": 0, \"ticks\": \"\"}}, \"type\": \"parcoords\"}], \"pie\": [{\"automargin\": true, \"type\": \"pie\"}], \"scatter\": [{\"marker\": {\"colorbar\": {\"outlinewidth\": 0, \"ticks\": \"\"}}, \"type\": \"scatter\"}], \"scatter3d\": [{\"line\": {\"colorbar\": {\"outlinewidth\": 0, \"ticks\": \"\"}}, \"marker\": {\"colorbar\": {\"outlinewidth\": 0, \"ticks\": \"\"}}, \"type\": \"scatter3d\"}], \"scattercarpet\": [{\"marker\": {\"colorbar\": {\"outlinewidth\": 0, \"ticks\": \"\"}}, \"type\": \"scattercarpet\"}], \"scattergeo\": [{\"marker\": {\"colorbar\": {\"outlinewidth\": 0, \"ticks\": \"\"}}, \"type\": \"scattergeo\"}], \"scattergl\": [{\"marker\": {\"colorbar\": {\"outlinewidth\": 0, \"ticks\": \"\"}}, \"type\": \"scattergl\"}], \"scattermapbox\": [{\"marker\": {\"colorbar\": {\"outlinewidth\": 0, \"ticks\": \"\"}}, \"type\": \"scattermapbox\"}], \"scatterpolar\": [{\"marker\": {\"colorbar\": {\"outlinewidth\": 0, \"ticks\": \"\"}}, \"type\": \"scatterpolar\"}], \"scatterpolargl\": [{\"marker\": {\"colorbar\": {\"outlinewidth\": 0, \"ticks\": \"\"}}, \"type\": \"scatterpolargl\"}], \"scatterternary\": [{\"marker\": {\"colorbar\": {\"outlinewidth\": 0, \"ticks\": \"\"}}, \"type\": \"scatterternary\"}], \"surface\": [{\"colorbar\": {\"outlinewidth\": 0, \"ticks\": \"\"}, \"colorscale\": [[0.0, \"#0d0887\"], [0.1111111111111111, \"#46039f\"], [0.2222222222222222, \"#7201a8\"], [0.3333333333333333, \"#9c179e\"], [0.4444444444444444, \"#bd3786\"], [0.5555555555555556, \"#d8576b\"], [0.6666666666666666, \"#ed7953\"], [0.7777777777777778, \"#fb9f3a\"], [0.8888888888888888, \"#fdca26\"], [1.0, \"#f0f921\"]], \"type\": \"surface\"}], \"table\": [{\"cells\": {\"fill\": {\"color\": \"#EBF0F8\"}, \"line\": {\"color\": \"white\"}}, \"header\": {\"fill\": {\"color\": \"#C8D4E3\"}, \"line\": {\"color\": \"white\"}}, \"type\": \"table\"}]}, \"layout\": {\"annotationdefaults\": {\"arrowcolor\": \"#2a3f5f\", \"arrowhead\": 0, \"arrowwidth\": 1}, \"coloraxis\": {\"colorbar\": {\"outlinewidth\": 0, \"ticks\": \"\"}}, \"colorscale\": {\"diverging\": [[0, \"#8e0152\"], [0.1, \"#c51b7d\"], [0.2, \"#de77ae\"], [0.3, \"#f1b6da\"], [0.4, \"#fde0ef\"], [0.5, \"#f7f7f7\"], [0.6, \"#e6f5d0\"], [0.7, \"#b8e186\"], [0.8, \"#7fbc41\"], [0.9, \"#4d9221\"], [1, \"#276419\"]], \"sequential\": [[0.0, \"#0d0887\"], [0.1111111111111111, \"#46039f\"], [0.2222222222222222, \"#7201a8\"], [0.3333333333333333, \"#9c179e\"], [0.4444444444444444, \"#bd3786\"], [0.5555555555555556, \"#d8576b\"], [0.6666666666666666, \"#ed7953\"], [0.7777777777777778, \"#fb9f3a\"], [0.8888888888888888, \"#fdca26\"], [1.0, \"#f0f921\"]], \"sequentialminus\": [[0.0, \"#0d0887\"], [0.1111111111111111, \"#46039f\"], [0.2222222222222222, \"#7201a8\"], [0.3333333333333333, \"#9c179e\"], [0.4444444444444444, \"#bd3786\"], [0.5555555555555556, \"#d8576b\"], [0.6666666666666666, \"#ed7953\"], [0.7777777777777778, \"#fb9f3a\"], [0.8888888888888888, \"#fdca26\"], [1.0, \"#f0f921\"]]}, \"colorway\": [\"#636efa\", \"#EF553B\", \"#00cc96\", \"#ab63fa\", \"#FFA15A\", \"#19d3f3\", \"#FF6692\", \"#B6E880\", \"#FF97FF\", \"#FECB52\"], \"font\": {\"color\": \"#2a3f5f\"}, \"geo\": {\"bgcolor\": \"white\", \"lakecolor\": \"white\", \"landcolor\": \"#E5ECF6\", \"showlakes\": true, \"showland\": true, \"subunitcolor\": \"white\"}, \"hoverlabel\": {\"align\": \"left\"}, \"hovermode\": \"closest\", \"mapbox\": {\"style\": \"light\"}, \"paper_bgcolor\": \"white\", \"plot_bgcolor\": \"#E5ECF6\", \"polar\": {\"angularaxis\": {\"gridcolor\": \"white\", \"linecolor\": \"white\", \"ticks\": \"\"}, \"bgcolor\": \"#E5ECF6\", \"radialaxis\": {\"gridcolor\": \"white\", \"linecolor\": \"white\", \"ticks\": \"\"}}, \"scene\": {\"xaxis\": {\"backgroundcolor\": \"#E5ECF6\", \"gridcolor\": \"white\", \"gridwidth\": 2, \"linecolor\": \"white\", \"showbackground\": true, \"ticks\": \"\", \"zerolinecolor\": \"white\"}, \"yaxis\": {\"backgroundcolor\": \"#E5ECF6\", \"gridcolor\": \"white\", \"gridwidth\": 2, \"linecolor\": \"white\", \"showbackground\": true, \"ticks\": \"\", \"zerolinecolor\": \"white\"}, \"zaxis\": {\"backgroundcolor\": \"#E5ECF6\", \"gridcolor\": \"white\", \"gridwidth\": 2, \"linecolor\": \"white\", \"showbackground\": true, \"ticks\": \"\", \"zerolinecolor\": \"white\"}}, \"shapedefaults\": {\"line\": {\"color\": \"#2a3f5f\"}}, \"ternary\": {\"aaxis\": {\"gridcolor\": \"white\", \"linecolor\": \"white\", \"ticks\": \"\"}, \"baxis\": {\"gridcolor\": \"white\", \"linecolor\": \"white\", \"ticks\": \"\"}, \"bgcolor\": \"#E5ECF6\", \"caxis\": {\"gridcolor\": \"white\", \"linecolor\": \"white\", \"ticks\": \"\"}}, \"title\": {\"x\": 0.05}, \"xaxis\": {\"automargin\": true, \"gridcolor\": \"white\", \"linecolor\": \"white\", \"ticks\": \"\", \"title\": {\"standoff\": 15}, \"zerolinecolor\": \"white\", \"zerolinewidth\": 2}, \"yaxis\": {\"automargin\": true, \"gridcolor\": \"white\", \"linecolor\": \"white\", \"ticks\": \"\", \"title\": {\"standoff\": 15}, \"zerolinecolor\": \"white\", \"zerolinewidth\": 2}}}},                        {\"responsive\": true}                    ).then(function(){\n",
       "                            \n",
       "var gd = document.getElementById('cb5e4ed9-c03d-4ba3-aeb1-411f51ed6a83');\n",
       "var x = new MutationObserver(function (mutations, observer) {{\n",
       "        var display = window.getComputedStyle(gd).display;\n",
       "        if (!display || display === 'none') {{\n",
       "            console.log([gd, 'removed!']);\n",
       "            Plotly.purge(gd);\n",
       "            observer.disconnect();\n",
       "        }}\n",
       "}});\n",
       "\n",
       "// Listen for the removal of the full notebook cells\n",
       "var notebookContainer = gd.closest('#notebook-container');\n",
       "if (notebookContainer) {{\n",
       "    x.observe(notebookContainer, {childList: true});\n",
       "}}\n",
       "\n",
       "// Listen for the clearing of the current output cell\n",
       "var outputEl = gd.closest('.output');\n",
       "if (outputEl) {{\n",
       "    x.observe(outputEl, {childList: true});\n",
       "}}\n",
       "\n",
       "                        })                };                });            </script>        </div>"
      ]
     },
     "metadata": {},
     "output_type": "display_data"
    }
   ],
   "source": [
    "# visualization on world map\n",
    "fig = px.choropleth(df2,\n",
    "                    color=\"Count\", locations=\"Country ISO Code\",\n",
    "                    hover_name=\"Country Name\",\n",
    "                    color_continuous_scale=px.colors.sequential.Plasma)\n",
    "fig.show()"
   ]
  },
  {
   "cell_type": "code",
   "execution_count": 39,
   "metadata": {},
   "outputs": [
    {
     "data": {
      "application/vnd.plotly.v1+json": {
       "config": {
        "plotlyServerURL": "https://plot.ly"
       },
       "data": [
        {
         "alignmentgroup": "True",
         "customdata": [
          [
           21674
          ],
          [
           12386
          ],
          [
           10065
          ],
          [
           10003
          ],
          [
           6362
          ],
          [
           5910
          ],
          [
           5191
          ],
          [
           4547
          ],
          [
           4392
          ],
          [
           3635
          ],
          [
           3540
          ],
          [
           3407
          ],
          [
           3356
          ],
          [
           2671
          ],
          [
           2595
          ],
          [
           2487
          ],
          [
           2421
          ],
          [
           2219
          ],
          [
           2141
          ],
          [
           2072
          ],
          [
           2066
          ],
          [
           2000
          ],
          [
           1971
          ],
          [
           1884
          ],
          [
           1834
          ]
         ],
         "hovertemplate": "Country Name=%{x}<br>Count=%{marker.color}<extra></extra>",
         "legendgroup": "",
         "marker": {
          "color": [
           21674,
           12386,
           10065,
           10003,
           6362,
           5910,
           5191,
           4547,
           4392,
           3635,
           3540,
           3407,
           3356,
           2671,
           2595,
           2487,
           2421,
           2219,
           2141,
           2072,
           2066,
           2000,
           1971,
           1884,
           1834
          ],
          "coloraxis": "coloraxis"
         },
         "name": "",
         "offsetgroup": "",
         "orientation": "v",
         "showlegend": false,
         "textposition": "auto",
         "type": "bar",
         "x": [
          "Iraq",
          "Pakistan",
          "Afghanistan",
          "India",
          "Colombia",
          "Philippines",
          "Peru",
          "El Salvador",
          "United Kingdom",
          "Turkey",
          "Nigeria",
          "Somalia",
          "Thailand",
          "Spain",
          "Yemen",
          "Sri Lanka",
          "United States",
          "Algeria",
          "Lebanon",
          "France",
          "Egypt",
          "Chile",
          "Russia",
          "West Bank and Gaza Strip",
          "Syria"
         ],
         "xaxis": "x",
         "y": [
          21674,
          12386,
          10065,
          10003,
          6362,
          5910,
          5191,
          4547,
          4392,
          3635,
          3540,
          3407,
          3356,
          2671,
          2595,
          2487,
          2421,
          2219,
          2141,
          2072,
          2066,
          2000,
          1971,
          1884,
          1834
         ],
         "yaxis": "y"
        }
       ],
       "layout": {
        "barmode": "relative",
        "coloraxis": {
         "colorbar": {
          "title": {
           "text": "Count"
          }
         },
         "colorscale": [
          [
           0,
           "#0d0887"
          ],
          [
           0.1111111111111111,
           "#46039f"
          ],
          [
           0.2222222222222222,
           "#7201a8"
          ],
          [
           0.3333333333333333,
           "#9c179e"
          ],
          [
           0.4444444444444444,
           "#bd3786"
          ],
          [
           0.5555555555555556,
           "#d8576b"
          ],
          [
           0.6666666666666666,
           "#ed7953"
          ],
          [
           0.7777777777777778,
           "#fb9f3a"
          ],
          [
           0.8888888888888888,
           "#fdca26"
          ],
          [
           1,
           "#f0f921"
          ]
         ]
        },
        "height": 400,
        "legend": {
         "tracegroupgap": 0
        },
        "margin": {
         "t": 60
        },
        "template": {
         "data": {
          "bar": [
           {
            "error_x": {
             "color": "#2a3f5f"
            },
            "error_y": {
             "color": "#2a3f5f"
            },
            "marker": {
             "line": {
              "color": "#E5ECF6",
              "width": 0.5
             }
            },
            "type": "bar"
           }
          ],
          "barpolar": [
           {
            "marker": {
             "line": {
              "color": "#E5ECF6",
              "width": 0.5
             }
            },
            "type": "barpolar"
           }
          ],
          "carpet": [
           {
            "aaxis": {
             "endlinecolor": "#2a3f5f",
             "gridcolor": "white",
             "linecolor": "white",
             "minorgridcolor": "white",
             "startlinecolor": "#2a3f5f"
            },
            "baxis": {
             "endlinecolor": "#2a3f5f",
             "gridcolor": "white",
             "linecolor": "white",
             "minorgridcolor": "white",
             "startlinecolor": "#2a3f5f"
            },
            "type": "carpet"
           }
          ],
          "choropleth": [
           {
            "colorbar": {
             "outlinewidth": 0,
             "ticks": ""
            },
            "type": "choropleth"
           }
          ],
          "contour": [
           {
            "colorbar": {
             "outlinewidth": 0,
             "ticks": ""
            },
            "colorscale": [
             [
              0,
              "#0d0887"
             ],
             [
              0.1111111111111111,
              "#46039f"
             ],
             [
              0.2222222222222222,
              "#7201a8"
             ],
             [
              0.3333333333333333,
              "#9c179e"
             ],
             [
              0.4444444444444444,
              "#bd3786"
             ],
             [
              0.5555555555555556,
              "#d8576b"
             ],
             [
              0.6666666666666666,
              "#ed7953"
             ],
             [
              0.7777777777777778,
              "#fb9f3a"
             ],
             [
              0.8888888888888888,
              "#fdca26"
             ],
             [
              1,
              "#f0f921"
             ]
            ],
            "type": "contour"
           }
          ],
          "contourcarpet": [
           {
            "colorbar": {
             "outlinewidth": 0,
             "ticks": ""
            },
            "type": "contourcarpet"
           }
          ],
          "heatmap": [
           {
            "colorbar": {
             "outlinewidth": 0,
             "ticks": ""
            },
            "colorscale": [
             [
              0,
              "#0d0887"
             ],
             [
              0.1111111111111111,
              "#46039f"
             ],
             [
              0.2222222222222222,
              "#7201a8"
             ],
             [
              0.3333333333333333,
              "#9c179e"
             ],
             [
              0.4444444444444444,
              "#bd3786"
             ],
             [
              0.5555555555555556,
              "#d8576b"
             ],
             [
              0.6666666666666666,
              "#ed7953"
             ],
             [
              0.7777777777777778,
              "#fb9f3a"
             ],
             [
              0.8888888888888888,
              "#fdca26"
             ],
             [
              1,
              "#f0f921"
             ]
            ],
            "type": "heatmap"
           }
          ],
          "heatmapgl": [
           {
            "colorbar": {
             "outlinewidth": 0,
             "ticks": ""
            },
            "colorscale": [
             [
              0,
              "#0d0887"
             ],
             [
              0.1111111111111111,
              "#46039f"
             ],
             [
              0.2222222222222222,
              "#7201a8"
             ],
             [
              0.3333333333333333,
              "#9c179e"
             ],
             [
              0.4444444444444444,
              "#bd3786"
             ],
             [
              0.5555555555555556,
              "#d8576b"
             ],
             [
              0.6666666666666666,
              "#ed7953"
             ],
             [
              0.7777777777777778,
              "#fb9f3a"
             ],
             [
              0.8888888888888888,
              "#fdca26"
             ],
             [
              1,
              "#f0f921"
             ]
            ],
            "type": "heatmapgl"
           }
          ],
          "histogram": [
           {
            "marker": {
             "colorbar": {
              "outlinewidth": 0,
              "ticks": ""
             }
            },
            "type": "histogram"
           }
          ],
          "histogram2d": [
           {
            "colorbar": {
             "outlinewidth": 0,
             "ticks": ""
            },
            "colorscale": [
             [
              0,
              "#0d0887"
             ],
             [
              0.1111111111111111,
              "#46039f"
             ],
             [
              0.2222222222222222,
              "#7201a8"
             ],
             [
              0.3333333333333333,
              "#9c179e"
             ],
             [
              0.4444444444444444,
              "#bd3786"
             ],
             [
              0.5555555555555556,
              "#d8576b"
             ],
             [
              0.6666666666666666,
              "#ed7953"
             ],
             [
              0.7777777777777778,
              "#fb9f3a"
             ],
             [
              0.8888888888888888,
              "#fdca26"
             ],
             [
              1,
              "#f0f921"
             ]
            ],
            "type": "histogram2d"
           }
          ],
          "histogram2dcontour": [
           {
            "colorbar": {
             "outlinewidth": 0,
             "ticks": ""
            },
            "colorscale": [
             [
              0,
              "#0d0887"
             ],
             [
              0.1111111111111111,
              "#46039f"
             ],
             [
              0.2222222222222222,
              "#7201a8"
             ],
             [
              0.3333333333333333,
              "#9c179e"
             ],
             [
              0.4444444444444444,
              "#bd3786"
             ],
             [
              0.5555555555555556,
              "#d8576b"
             ],
             [
              0.6666666666666666,
              "#ed7953"
             ],
             [
              0.7777777777777778,
              "#fb9f3a"
             ],
             [
              0.8888888888888888,
              "#fdca26"
             ],
             [
              1,
              "#f0f921"
             ]
            ],
            "type": "histogram2dcontour"
           }
          ],
          "mesh3d": [
           {
            "colorbar": {
             "outlinewidth": 0,
             "ticks": ""
            },
            "type": "mesh3d"
           }
          ],
          "parcoords": [
           {
            "line": {
             "colorbar": {
              "outlinewidth": 0,
              "ticks": ""
             }
            },
            "type": "parcoords"
           }
          ],
          "pie": [
           {
            "automargin": true,
            "type": "pie"
           }
          ],
          "scatter": [
           {
            "marker": {
             "colorbar": {
              "outlinewidth": 0,
              "ticks": ""
             }
            },
            "type": "scatter"
           }
          ],
          "scatter3d": [
           {
            "line": {
             "colorbar": {
              "outlinewidth": 0,
              "ticks": ""
             }
            },
            "marker": {
             "colorbar": {
              "outlinewidth": 0,
              "ticks": ""
             }
            },
            "type": "scatter3d"
           }
          ],
          "scattercarpet": [
           {
            "marker": {
             "colorbar": {
              "outlinewidth": 0,
              "ticks": ""
             }
            },
            "type": "scattercarpet"
           }
          ],
          "scattergeo": [
           {
            "marker": {
             "colorbar": {
              "outlinewidth": 0,
              "ticks": ""
             }
            },
            "type": "scattergeo"
           }
          ],
          "scattergl": [
           {
            "marker": {
             "colorbar": {
              "outlinewidth": 0,
              "ticks": ""
             }
            },
            "type": "scattergl"
           }
          ],
          "scattermapbox": [
           {
            "marker": {
             "colorbar": {
              "outlinewidth": 0,
              "ticks": ""
             }
            },
            "type": "scattermapbox"
           }
          ],
          "scatterpolar": [
           {
            "marker": {
             "colorbar": {
              "outlinewidth": 0,
              "ticks": ""
             }
            },
            "type": "scatterpolar"
           }
          ],
          "scatterpolargl": [
           {
            "marker": {
             "colorbar": {
              "outlinewidth": 0,
              "ticks": ""
             }
            },
            "type": "scatterpolargl"
           }
          ],
          "scatterternary": [
           {
            "marker": {
             "colorbar": {
              "outlinewidth": 0,
              "ticks": ""
             }
            },
            "type": "scatterternary"
           }
          ],
          "surface": [
           {
            "colorbar": {
             "outlinewidth": 0,
             "ticks": ""
            },
            "colorscale": [
             [
              0,
              "#0d0887"
             ],
             [
              0.1111111111111111,
              "#46039f"
             ],
             [
              0.2222222222222222,
              "#7201a8"
             ],
             [
              0.3333333333333333,
              "#9c179e"
             ],
             [
              0.4444444444444444,
              "#bd3786"
             ],
             [
              0.5555555555555556,
              "#d8576b"
             ],
             [
              0.6666666666666666,
              "#ed7953"
             ],
             [
              0.7777777777777778,
              "#fb9f3a"
             ],
             [
              0.8888888888888888,
              "#fdca26"
             ],
             [
              1,
              "#f0f921"
             ]
            ],
            "type": "surface"
           }
          ],
          "table": [
           {
            "cells": {
             "fill": {
              "color": "#EBF0F8"
             },
             "line": {
              "color": "white"
             }
            },
            "header": {
             "fill": {
              "color": "#C8D4E3"
             },
             "line": {
              "color": "white"
             }
            },
            "type": "table"
           }
          ]
         },
         "layout": {
          "annotationdefaults": {
           "arrowcolor": "#2a3f5f",
           "arrowhead": 0,
           "arrowwidth": 1
          },
          "coloraxis": {
           "colorbar": {
            "outlinewidth": 0,
            "ticks": ""
           }
          },
          "colorscale": {
           "diverging": [
            [
             0,
             "#8e0152"
            ],
            [
             0.1,
             "#c51b7d"
            ],
            [
             0.2,
             "#de77ae"
            ],
            [
             0.3,
             "#f1b6da"
            ],
            [
             0.4,
             "#fde0ef"
            ],
            [
             0.5,
             "#f7f7f7"
            ],
            [
             0.6,
             "#e6f5d0"
            ],
            [
             0.7,
             "#b8e186"
            ],
            [
             0.8,
             "#7fbc41"
            ],
            [
             0.9,
             "#4d9221"
            ],
            [
             1,
             "#276419"
            ]
           ],
           "sequential": [
            [
             0,
             "#0d0887"
            ],
            [
             0.1111111111111111,
             "#46039f"
            ],
            [
             0.2222222222222222,
             "#7201a8"
            ],
            [
             0.3333333333333333,
             "#9c179e"
            ],
            [
             0.4444444444444444,
             "#bd3786"
            ],
            [
             0.5555555555555556,
             "#d8576b"
            ],
            [
             0.6666666666666666,
             "#ed7953"
            ],
            [
             0.7777777777777778,
             "#fb9f3a"
            ],
            [
             0.8888888888888888,
             "#fdca26"
            ],
            [
             1,
             "#f0f921"
            ]
           ],
           "sequentialminus": [
            [
             0,
             "#0d0887"
            ],
            [
             0.1111111111111111,
             "#46039f"
            ],
            [
             0.2222222222222222,
             "#7201a8"
            ],
            [
             0.3333333333333333,
             "#9c179e"
            ],
            [
             0.4444444444444444,
             "#bd3786"
            ],
            [
             0.5555555555555556,
             "#d8576b"
            ],
            [
             0.6666666666666666,
             "#ed7953"
            ],
            [
             0.7777777777777778,
             "#fb9f3a"
            ],
            [
             0.8888888888888888,
             "#fdca26"
            ],
            [
             1,
             "#f0f921"
            ]
           ]
          },
          "colorway": [
           "#636efa",
           "#EF553B",
           "#00cc96",
           "#ab63fa",
           "#FFA15A",
           "#19d3f3",
           "#FF6692",
           "#B6E880",
           "#FF97FF",
           "#FECB52"
          ],
          "font": {
           "color": "#2a3f5f"
          },
          "geo": {
           "bgcolor": "white",
           "lakecolor": "white",
           "landcolor": "#E5ECF6",
           "showlakes": true,
           "showland": true,
           "subunitcolor": "white"
          },
          "hoverlabel": {
           "align": "left"
          },
          "hovermode": "closest",
          "mapbox": {
           "style": "light"
          },
          "paper_bgcolor": "white",
          "plot_bgcolor": "#E5ECF6",
          "polar": {
           "angularaxis": {
            "gridcolor": "white",
            "linecolor": "white",
            "ticks": ""
           },
           "bgcolor": "#E5ECF6",
           "radialaxis": {
            "gridcolor": "white",
            "linecolor": "white",
            "ticks": ""
           }
          },
          "scene": {
           "xaxis": {
            "backgroundcolor": "#E5ECF6",
            "gridcolor": "white",
            "gridwidth": 2,
            "linecolor": "white",
            "showbackground": true,
            "ticks": "",
            "zerolinecolor": "white"
           },
           "yaxis": {
            "backgroundcolor": "#E5ECF6",
            "gridcolor": "white",
            "gridwidth": 2,
            "linecolor": "white",
            "showbackground": true,
            "ticks": "",
            "zerolinecolor": "white"
           },
           "zaxis": {
            "backgroundcolor": "#E5ECF6",
            "gridcolor": "white",
            "gridwidth": 2,
            "linecolor": "white",
            "showbackground": true,
            "ticks": "",
            "zerolinecolor": "white"
           }
          },
          "shapedefaults": {
           "line": {
            "color": "#2a3f5f"
           }
          },
          "ternary": {
           "aaxis": {
            "gridcolor": "white",
            "linecolor": "white",
            "ticks": ""
           },
           "baxis": {
            "gridcolor": "white",
            "linecolor": "white",
            "ticks": ""
           },
           "bgcolor": "#E5ECF6",
           "caxis": {
            "gridcolor": "white",
            "linecolor": "white",
            "ticks": ""
           }
          },
          "title": {
           "x": 0.05
          },
          "xaxis": {
           "automargin": true,
           "gridcolor": "white",
           "linecolor": "white",
           "ticks": "",
           "title": {
            "standoff": 15
           },
           "zerolinecolor": "white",
           "zerolinewidth": 2
          },
          "yaxis": {
           "automargin": true,
           "gridcolor": "white",
           "linecolor": "white",
           "ticks": "",
           "title": {
            "standoff": 15
           },
           "zerolinecolor": "white",
           "zerolinewidth": 2
          }
         }
        },
        "xaxis": {
         "anchor": "y",
         "domain": [
          0,
          1
         ],
         "title": {
          "text": "Country Name"
         }
        },
        "yaxis": {
         "anchor": "x",
         "domain": [
          0,
          1
         ],
         "title": {
          "text": "Count"
         }
        }
       }
      },
      "text/html": [
       "<div>                            <div id=\"a9d815ac-63c5-4949-b54d-80e0c06b009e\" class=\"plotly-graph-div\" style=\"height:400px; width:100%;\"></div>            <script type=\"text/javascript\">                require([\"plotly\"], function(Plotly) {                    window.PLOTLYENV=window.PLOTLYENV || {};                                    if (document.getElementById(\"a9d815ac-63c5-4949-b54d-80e0c06b009e\")) {                    Plotly.newPlot(                        \"a9d815ac-63c5-4949-b54d-80e0c06b009e\",                        [{\"alignmentgroup\": \"True\", \"customdata\": [[21674], [12386], [10065], [10003], [6362], [5910], [5191], [4547], [4392], [3635], [3540], [3407], [3356], [2671], [2595], [2487], [2421], [2219], [2141], [2072], [2066], [2000], [1971], [1884], [1834]], \"hovertemplate\": \"Country Name=%{x}<br>Count=%{marker.color}<extra></extra>\", \"legendgroup\": \"\", \"marker\": {\"color\": [21674, 12386, 10065, 10003, 6362, 5910, 5191, 4547, 4392, 3635, 3540, 3407, 3356, 2671, 2595, 2487, 2421, 2219, 2141, 2072, 2066, 2000, 1971, 1884, 1834], \"coloraxis\": \"coloraxis\"}, \"name\": \"\", \"offsetgroup\": \"\", \"orientation\": \"v\", \"showlegend\": false, \"textposition\": \"auto\", \"type\": \"bar\", \"x\": [\"Iraq\", \"Pakistan\", \"Afghanistan\", \"India\", \"Colombia\", \"Philippines\", \"Peru\", \"El Salvador\", \"United Kingdom\", \"Turkey\", \"Nigeria\", \"Somalia\", \"Thailand\", \"Spain\", \"Yemen\", \"Sri Lanka\", \"United States\", \"Algeria\", \"Lebanon\", \"France\", \"Egypt\", \"Chile\", \"Russia\", \"West Bank and Gaza Strip\", \"Syria\"], \"xaxis\": \"x\", \"y\": [21674, 12386, 10065, 10003, 6362, 5910, 5191, 4547, 4392, 3635, 3540, 3407, 3356, 2671, 2595, 2487, 2421, 2219, 2141, 2072, 2066, 2000, 1971, 1884, 1834], \"yaxis\": \"y\"}],                        {\"barmode\": \"relative\", \"coloraxis\": {\"colorbar\": {\"title\": {\"text\": \"Count\"}}, \"colorscale\": [[0.0, \"#0d0887\"], [0.1111111111111111, \"#46039f\"], [0.2222222222222222, \"#7201a8\"], [0.3333333333333333, \"#9c179e\"], [0.4444444444444444, \"#bd3786\"], [0.5555555555555556, \"#d8576b\"], [0.6666666666666666, \"#ed7953\"], [0.7777777777777778, \"#fb9f3a\"], [0.8888888888888888, \"#fdca26\"], [1.0, \"#f0f921\"]]}, \"height\": 400, \"legend\": {\"tracegroupgap\": 0}, \"margin\": {\"t\": 60}, \"template\": {\"data\": {\"bar\": [{\"error_x\": {\"color\": \"#2a3f5f\"}, \"error_y\": {\"color\": \"#2a3f5f\"}, \"marker\": {\"line\": {\"color\": \"#E5ECF6\", \"width\": 0.5}}, \"type\": \"bar\"}], \"barpolar\": [{\"marker\": {\"line\": {\"color\": \"#E5ECF6\", \"width\": 0.5}}, \"type\": \"barpolar\"}], \"carpet\": [{\"aaxis\": {\"endlinecolor\": \"#2a3f5f\", \"gridcolor\": \"white\", \"linecolor\": \"white\", \"minorgridcolor\": \"white\", \"startlinecolor\": \"#2a3f5f\"}, \"baxis\": {\"endlinecolor\": \"#2a3f5f\", \"gridcolor\": \"white\", \"linecolor\": \"white\", \"minorgridcolor\": \"white\", \"startlinecolor\": \"#2a3f5f\"}, \"type\": \"carpet\"}], \"choropleth\": [{\"colorbar\": {\"outlinewidth\": 0, \"ticks\": \"\"}, \"type\": \"choropleth\"}], \"contour\": [{\"colorbar\": {\"outlinewidth\": 0, \"ticks\": \"\"}, \"colorscale\": [[0.0, \"#0d0887\"], [0.1111111111111111, \"#46039f\"], [0.2222222222222222, \"#7201a8\"], [0.3333333333333333, \"#9c179e\"], [0.4444444444444444, \"#bd3786\"], [0.5555555555555556, \"#d8576b\"], [0.6666666666666666, \"#ed7953\"], [0.7777777777777778, \"#fb9f3a\"], [0.8888888888888888, \"#fdca26\"], [1.0, \"#f0f921\"]], \"type\": \"contour\"}], \"contourcarpet\": [{\"colorbar\": {\"outlinewidth\": 0, \"ticks\": \"\"}, \"type\": \"contourcarpet\"}], \"heatmap\": [{\"colorbar\": {\"outlinewidth\": 0, \"ticks\": \"\"}, \"colorscale\": [[0.0, \"#0d0887\"], [0.1111111111111111, \"#46039f\"], [0.2222222222222222, \"#7201a8\"], [0.3333333333333333, \"#9c179e\"], [0.4444444444444444, \"#bd3786\"], [0.5555555555555556, \"#d8576b\"], [0.6666666666666666, \"#ed7953\"], [0.7777777777777778, \"#fb9f3a\"], [0.8888888888888888, \"#fdca26\"], [1.0, \"#f0f921\"]], \"type\": \"heatmap\"}], \"heatmapgl\": [{\"colorbar\": {\"outlinewidth\": 0, \"ticks\": \"\"}, \"colorscale\": [[0.0, \"#0d0887\"], [0.1111111111111111, \"#46039f\"], [0.2222222222222222, \"#7201a8\"], [0.3333333333333333, \"#9c179e\"], [0.4444444444444444, \"#bd3786\"], [0.5555555555555556, \"#d8576b\"], [0.6666666666666666, \"#ed7953\"], [0.7777777777777778, \"#fb9f3a\"], [0.8888888888888888, \"#fdca26\"], [1.0, \"#f0f921\"]], \"type\": \"heatmapgl\"}], \"histogram\": [{\"marker\": {\"colorbar\": {\"outlinewidth\": 0, \"ticks\": \"\"}}, \"type\": \"histogram\"}], \"histogram2d\": [{\"colorbar\": {\"outlinewidth\": 0, \"ticks\": \"\"}, \"colorscale\": [[0.0, \"#0d0887\"], [0.1111111111111111, \"#46039f\"], [0.2222222222222222, \"#7201a8\"], [0.3333333333333333, \"#9c179e\"], [0.4444444444444444, \"#bd3786\"], [0.5555555555555556, \"#d8576b\"], [0.6666666666666666, \"#ed7953\"], [0.7777777777777778, \"#fb9f3a\"], [0.8888888888888888, \"#fdca26\"], [1.0, \"#f0f921\"]], \"type\": \"histogram2d\"}], \"histogram2dcontour\": [{\"colorbar\": {\"outlinewidth\": 0, \"ticks\": \"\"}, \"colorscale\": [[0.0, \"#0d0887\"], [0.1111111111111111, \"#46039f\"], [0.2222222222222222, \"#7201a8\"], [0.3333333333333333, \"#9c179e\"], [0.4444444444444444, \"#bd3786\"], [0.5555555555555556, \"#d8576b\"], [0.6666666666666666, \"#ed7953\"], [0.7777777777777778, \"#fb9f3a\"], [0.8888888888888888, \"#fdca26\"], [1.0, \"#f0f921\"]], \"type\": \"histogram2dcontour\"}], \"mesh3d\": [{\"colorbar\": {\"outlinewidth\": 0, \"ticks\": \"\"}, \"type\": \"mesh3d\"}], \"parcoords\": [{\"line\": {\"colorbar\": {\"outlinewidth\": 0, \"ticks\": \"\"}}, \"type\": \"parcoords\"}], \"pie\": [{\"automargin\": true, \"type\": \"pie\"}], \"scatter\": [{\"marker\": {\"colorbar\": {\"outlinewidth\": 0, \"ticks\": \"\"}}, \"type\": \"scatter\"}], \"scatter3d\": [{\"line\": {\"colorbar\": {\"outlinewidth\": 0, \"ticks\": \"\"}}, \"marker\": {\"colorbar\": {\"outlinewidth\": 0, \"ticks\": \"\"}}, \"type\": \"scatter3d\"}], \"scattercarpet\": [{\"marker\": {\"colorbar\": {\"outlinewidth\": 0, \"ticks\": \"\"}}, \"type\": \"scattercarpet\"}], \"scattergeo\": [{\"marker\": {\"colorbar\": {\"outlinewidth\": 0, \"ticks\": \"\"}}, \"type\": \"scattergeo\"}], \"scattergl\": [{\"marker\": {\"colorbar\": {\"outlinewidth\": 0, \"ticks\": \"\"}}, \"type\": \"scattergl\"}], \"scattermapbox\": [{\"marker\": {\"colorbar\": {\"outlinewidth\": 0, \"ticks\": \"\"}}, \"type\": \"scattermapbox\"}], \"scatterpolar\": [{\"marker\": {\"colorbar\": {\"outlinewidth\": 0, \"ticks\": \"\"}}, \"type\": \"scatterpolar\"}], \"scatterpolargl\": [{\"marker\": {\"colorbar\": {\"outlinewidth\": 0, \"ticks\": \"\"}}, \"type\": \"scatterpolargl\"}], \"scatterternary\": [{\"marker\": {\"colorbar\": {\"outlinewidth\": 0, \"ticks\": \"\"}}, \"type\": \"scatterternary\"}], \"surface\": [{\"colorbar\": {\"outlinewidth\": 0, \"ticks\": \"\"}, \"colorscale\": [[0.0, \"#0d0887\"], [0.1111111111111111, \"#46039f\"], [0.2222222222222222, \"#7201a8\"], [0.3333333333333333, \"#9c179e\"], [0.4444444444444444, \"#bd3786\"], [0.5555555555555556, \"#d8576b\"], [0.6666666666666666, \"#ed7953\"], [0.7777777777777778, \"#fb9f3a\"], [0.8888888888888888, \"#fdca26\"], [1.0, \"#f0f921\"]], \"type\": \"surface\"}], \"table\": [{\"cells\": {\"fill\": {\"color\": \"#EBF0F8\"}, \"line\": {\"color\": \"white\"}}, \"header\": {\"fill\": {\"color\": \"#C8D4E3\"}, \"line\": {\"color\": \"white\"}}, \"type\": \"table\"}]}, \"layout\": {\"annotationdefaults\": {\"arrowcolor\": \"#2a3f5f\", \"arrowhead\": 0, \"arrowwidth\": 1}, \"coloraxis\": {\"colorbar\": {\"outlinewidth\": 0, \"ticks\": \"\"}}, \"colorscale\": {\"diverging\": [[0, \"#8e0152\"], [0.1, \"#c51b7d\"], [0.2, \"#de77ae\"], [0.3, \"#f1b6da\"], [0.4, \"#fde0ef\"], [0.5, \"#f7f7f7\"], [0.6, \"#e6f5d0\"], [0.7, \"#b8e186\"], [0.8, \"#7fbc41\"], [0.9, \"#4d9221\"], [1, \"#276419\"]], \"sequential\": [[0.0, \"#0d0887\"], [0.1111111111111111, \"#46039f\"], [0.2222222222222222, \"#7201a8\"], [0.3333333333333333, \"#9c179e\"], [0.4444444444444444, \"#bd3786\"], [0.5555555555555556, \"#d8576b\"], [0.6666666666666666, \"#ed7953\"], [0.7777777777777778, \"#fb9f3a\"], [0.8888888888888888, \"#fdca26\"], [1.0, \"#f0f921\"]], \"sequentialminus\": [[0.0, \"#0d0887\"], [0.1111111111111111, \"#46039f\"], [0.2222222222222222, \"#7201a8\"], [0.3333333333333333, \"#9c179e\"], [0.4444444444444444, \"#bd3786\"], [0.5555555555555556, \"#d8576b\"], [0.6666666666666666, \"#ed7953\"], [0.7777777777777778, \"#fb9f3a\"], [0.8888888888888888, \"#fdca26\"], [1.0, \"#f0f921\"]]}, \"colorway\": [\"#636efa\", \"#EF553B\", \"#00cc96\", \"#ab63fa\", \"#FFA15A\", \"#19d3f3\", \"#FF6692\", \"#B6E880\", \"#FF97FF\", \"#FECB52\"], \"font\": {\"color\": \"#2a3f5f\"}, \"geo\": {\"bgcolor\": \"white\", \"lakecolor\": \"white\", \"landcolor\": \"#E5ECF6\", \"showlakes\": true, \"showland\": true, \"subunitcolor\": \"white\"}, \"hoverlabel\": {\"align\": \"left\"}, \"hovermode\": \"closest\", \"mapbox\": {\"style\": \"light\"}, \"paper_bgcolor\": \"white\", \"plot_bgcolor\": \"#E5ECF6\", \"polar\": {\"angularaxis\": {\"gridcolor\": \"white\", \"linecolor\": \"white\", \"ticks\": \"\"}, \"bgcolor\": \"#E5ECF6\", \"radialaxis\": {\"gridcolor\": \"white\", \"linecolor\": \"white\", \"ticks\": \"\"}}, \"scene\": {\"xaxis\": {\"backgroundcolor\": \"#E5ECF6\", \"gridcolor\": \"white\", \"gridwidth\": 2, \"linecolor\": \"white\", \"showbackground\": true, \"ticks\": \"\", \"zerolinecolor\": \"white\"}, \"yaxis\": {\"backgroundcolor\": \"#E5ECF6\", \"gridcolor\": \"white\", \"gridwidth\": 2, \"linecolor\": \"white\", \"showbackground\": true, \"ticks\": \"\", \"zerolinecolor\": \"white\"}, \"zaxis\": {\"backgroundcolor\": \"#E5ECF6\", \"gridcolor\": \"white\", \"gridwidth\": 2, \"linecolor\": \"white\", \"showbackground\": true, \"ticks\": \"\", \"zerolinecolor\": \"white\"}}, \"shapedefaults\": {\"line\": {\"color\": \"#2a3f5f\"}}, \"ternary\": {\"aaxis\": {\"gridcolor\": \"white\", \"linecolor\": \"white\", \"ticks\": \"\"}, \"baxis\": {\"gridcolor\": \"white\", \"linecolor\": \"white\", \"ticks\": \"\"}, \"bgcolor\": \"#E5ECF6\", \"caxis\": {\"gridcolor\": \"white\", \"linecolor\": \"white\", \"ticks\": \"\"}}, \"title\": {\"x\": 0.05}, \"xaxis\": {\"automargin\": true, \"gridcolor\": \"white\", \"linecolor\": \"white\", \"ticks\": \"\", \"title\": {\"standoff\": 15}, \"zerolinecolor\": \"white\", \"zerolinewidth\": 2}, \"yaxis\": {\"automargin\": true, \"gridcolor\": \"white\", \"linecolor\": \"white\", \"ticks\": \"\", \"title\": {\"standoff\": 15}, \"zerolinecolor\": \"white\", \"zerolinewidth\": 2}}}, \"xaxis\": {\"anchor\": \"y\", \"domain\": [0.0, 1.0], \"title\": {\"text\": \"Country Name\"}}, \"yaxis\": {\"anchor\": \"x\", \"domain\": [0.0, 1.0], \"title\": {\"text\": \"Count\"}}},                        {\"responsive\": true}                    ).then(function(){\n",
       "                            \n",
       "var gd = document.getElementById('a9d815ac-63c5-4949-b54d-80e0c06b009e');\n",
       "var x = new MutationObserver(function (mutations, observer) {{\n",
       "        var display = window.getComputedStyle(gd).display;\n",
       "        if (!display || display === 'none') {{\n",
       "            console.log([gd, 'removed!']);\n",
       "            Plotly.purge(gd);\n",
       "            observer.disconnect();\n",
       "        }}\n",
       "}});\n",
       "\n",
       "// Listen for the removal of the full notebook cells\n",
       "var notebookContainer = gd.closest('#notebook-container');\n",
       "if (notebookContainer) {{\n",
       "    x.observe(notebookContainer, {childList: true});\n",
       "}}\n",
       "\n",
       "// Listen for the clearing of the current output cell\n",
       "var outputEl = gd.closest('.output');\n",
       "if (outputEl) {{\n",
       "    x.observe(outputEl, {childList: true});\n",
       "}}\n",
       "\n",
       "                        })                };                });            </script>        </div>"
      ]
     },
     "metadata": {},
     "output_type": "display_data"
    }
   ],
   "source": [
    "# graph shows count of most attacks\n",
    "fig = px.bar(df2.head(25), x='Country Name', y='Count',\n",
    "             hover_data=['Count'], color='Count', height=400)\n",
    "fig.show()"
   ]
  },
  {
   "cell_type": "code",
   "execution_count": 40,
   "metadata": {},
   "outputs": [
    {
     "data": {
      "application/vnd.plotly.v1+json": {
       "config": {
        "plotlyServerURL": "https://plot.ly"
       },
       "data": [
        {
         "alignmentgroup": "True",
         "customdata": [
          [
           37270
          ],
          [
           24832
          ],
          [
           22254
          ],
          [
           18637
          ],
          [
           15253
          ],
          [
           5641
          ],
          [
           5551
          ],
          [
           3779
          ],
          [
           3749
          ],
          [
           2895
          ],
          [
           2643
          ],
          [
           2242
          ],
          [
           1649
          ],
          [
           1041
          ],
          [
           782
          ],
          [
           696
          ],
          [
           340
          ],
          [
           276
          ],
          [
           262
          ],
          [
           228
          ],
          [
           110
          ]
         ],
         "hovertemplate": "Target Types=%{x}<br>Count=%{marker.color}<extra></extra>",
         "legendgroup": "",
         "marker": {
          "color": [
           37270,
           24832,
           22254,
           18637,
           15253,
           5641,
           5551,
           3779,
           3749,
           2895,
           2643,
           2242,
           1649,
           1041,
           782,
           696,
           340,
           276,
           262,
           228,
           110
          ],
          "coloraxis": "coloraxis"
         },
         "name": "",
         "offsetgroup": "",
         "orientation": "v",
         "showlegend": false,
         "textposition": "auto",
         "type": "bar",
         "x": [
          "Private Citizens & Property",
          "Military",
          "Police",
          "Government (General)",
          "Business",
          "Utilities",
          "Transportation",
          "Religious Figures/Institutions",
          "Educational Institution",
          "Government (Diplomatic)",
          "Terrorists/Non-State Militia",
          "Journalists & Media",
          "Violent Political Party",
          "Airports & Aircraft",
          "Telecommunication",
          "NGO",
          "Tourists",
          "Food or Water Supply",
          "Maritime",
          "Abortion Related",
          "Other"
         ],
         "xaxis": "x",
         "y": [
          37270,
          24832,
          22254,
          18637,
          15253,
          5641,
          5551,
          3779,
          3749,
          2895,
          2643,
          2242,
          1649,
          1041,
          782,
          696,
          340,
          276,
          262,
          228,
          110
         ],
         "yaxis": "y"
        }
       ],
       "layout": {
        "barmode": "relative",
        "coloraxis": {
         "colorbar": {
          "title": {
           "text": "Count"
          }
         },
         "colorscale": [
          [
           0,
           "#0d0887"
          ],
          [
           0.1111111111111111,
           "#46039f"
          ],
          [
           0.2222222222222222,
           "#7201a8"
          ],
          [
           0.3333333333333333,
           "#9c179e"
          ],
          [
           0.4444444444444444,
           "#bd3786"
          ],
          [
           0.5555555555555556,
           "#d8576b"
          ],
          [
           0.6666666666666666,
           "#ed7953"
          ],
          [
           0.7777777777777778,
           "#fb9f3a"
          ],
          [
           0.8888888888888888,
           "#fdca26"
          ],
          [
           1,
           "#f0f921"
          ]
         ]
        },
        "height": 400,
        "legend": {
         "tracegroupgap": 0
        },
        "margin": {
         "t": 60
        },
        "template": {
         "data": {
          "bar": [
           {
            "error_x": {
             "color": "#2a3f5f"
            },
            "error_y": {
             "color": "#2a3f5f"
            },
            "marker": {
             "line": {
              "color": "#E5ECF6",
              "width": 0.5
             }
            },
            "type": "bar"
           }
          ],
          "barpolar": [
           {
            "marker": {
             "line": {
              "color": "#E5ECF6",
              "width": 0.5
             }
            },
            "type": "barpolar"
           }
          ],
          "carpet": [
           {
            "aaxis": {
             "endlinecolor": "#2a3f5f",
             "gridcolor": "white",
             "linecolor": "white",
             "minorgridcolor": "white",
             "startlinecolor": "#2a3f5f"
            },
            "baxis": {
             "endlinecolor": "#2a3f5f",
             "gridcolor": "white",
             "linecolor": "white",
             "minorgridcolor": "white",
             "startlinecolor": "#2a3f5f"
            },
            "type": "carpet"
           }
          ],
          "choropleth": [
           {
            "colorbar": {
             "outlinewidth": 0,
             "ticks": ""
            },
            "type": "choropleth"
           }
          ],
          "contour": [
           {
            "colorbar": {
             "outlinewidth": 0,
             "ticks": ""
            },
            "colorscale": [
             [
              0,
              "#0d0887"
             ],
             [
              0.1111111111111111,
              "#46039f"
             ],
             [
              0.2222222222222222,
              "#7201a8"
             ],
             [
              0.3333333333333333,
              "#9c179e"
             ],
             [
              0.4444444444444444,
              "#bd3786"
             ],
             [
              0.5555555555555556,
              "#d8576b"
             ],
             [
              0.6666666666666666,
              "#ed7953"
             ],
             [
              0.7777777777777778,
              "#fb9f3a"
             ],
             [
              0.8888888888888888,
              "#fdca26"
             ],
             [
              1,
              "#f0f921"
             ]
            ],
            "type": "contour"
           }
          ],
          "contourcarpet": [
           {
            "colorbar": {
             "outlinewidth": 0,
             "ticks": ""
            },
            "type": "contourcarpet"
           }
          ],
          "heatmap": [
           {
            "colorbar": {
             "outlinewidth": 0,
             "ticks": ""
            },
            "colorscale": [
             [
              0,
              "#0d0887"
             ],
             [
              0.1111111111111111,
              "#46039f"
             ],
             [
              0.2222222222222222,
              "#7201a8"
             ],
             [
              0.3333333333333333,
              "#9c179e"
             ],
             [
              0.4444444444444444,
              "#bd3786"
             ],
             [
              0.5555555555555556,
              "#d8576b"
             ],
             [
              0.6666666666666666,
              "#ed7953"
             ],
             [
              0.7777777777777778,
              "#fb9f3a"
             ],
             [
              0.8888888888888888,
              "#fdca26"
             ],
             [
              1,
              "#f0f921"
             ]
            ],
            "type": "heatmap"
           }
          ],
          "heatmapgl": [
           {
            "colorbar": {
             "outlinewidth": 0,
             "ticks": ""
            },
            "colorscale": [
             [
              0,
              "#0d0887"
             ],
             [
              0.1111111111111111,
              "#46039f"
             ],
             [
              0.2222222222222222,
              "#7201a8"
             ],
             [
              0.3333333333333333,
              "#9c179e"
             ],
             [
              0.4444444444444444,
              "#bd3786"
             ],
             [
              0.5555555555555556,
              "#d8576b"
             ],
             [
              0.6666666666666666,
              "#ed7953"
             ],
             [
              0.7777777777777778,
              "#fb9f3a"
             ],
             [
              0.8888888888888888,
              "#fdca26"
             ],
             [
              1,
              "#f0f921"
             ]
            ],
            "type": "heatmapgl"
           }
          ],
          "histogram": [
           {
            "marker": {
             "colorbar": {
              "outlinewidth": 0,
              "ticks": ""
             }
            },
            "type": "histogram"
           }
          ],
          "histogram2d": [
           {
            "colorbar": {
             "outlinewidth": 0,
             "ticks": ""
            },
            "colorscale": [
             [
              0,
              "#0d0887"
             ],
             [
              0.1111111111111111,
              "#46039f"
             ],
             [
              0.2222222222222222,
              "#7201a8"
             ],
             [
              0.3333333333333333,
              "#9c179e"
             ],
             [
              0.4444444444444444,
              "#bd3786"
             ],
             [
              0.5555555555555556,
              "#d8576b"
             ],
             [
              0.6666666666666666,
              "#ed7953"
             ],
             [
              0.7777777777777778,
              "#fb9f3a"
             ],
             [
              0.8888888888888888,
              "#fdca26"
             ],
             [
              1,
              "#f0f921"
             ]
            ],
            "type": "histogram2d"
           }
          ],
          "histogram2dcontour": [
           {
            "colorbar": {
             "outlinewidth": 0,
             "ticks": ""
            },
            "colorscale": [
             [
              0,
              "#0d0887"
             ],
             [
              0.1111111111111111,
              "#46039f"
             ],
             [
              0.2222222222222222,
              "#7201a8"
             ],
             [
              0.3333333333333333,
              "#9c179e"
             ],
             [
              0.4444444444444444,
              "#bd3786"
             ],
             [
              0.5555555555555556,
              "#d8576b"
             ],
             [
              0.6666666666666666,
              "#ed7953"
             ],
             [
              0.7777777777777778,
              "#fb9f3a"
             ],
             [
              0.8888888888888888,
              "#fdca26"
             ],
             [
              1,
              "#f0f921"
             ]
            ],
            "type": "histogram2dcontour"
           }
          ],
          "mesh3d": [
           {
            "colorbar": {
             "outlinewidth": 0,
             "ticks": ""
            },
            "type": "mesh3d"
           }
          ],
          "parcoords": [
           {
            "line": {
             "colorbar": {
              "outlinewidth": 0,
              "ticks": ""
             }
            },
            "type": "parcoords"
           }
          ],
          "pie": [
           {
            "automargin": true,
            "type": "pie"
           }
          ],
          "scatter": [
           {
            "marker": {
             "colorbar": {
              "outlinewidth": 0,
              "ticks": ""
             }
            },
            "type": "scatter"
           }
          ],
          "scatter3d": [
           {
            "line": {
             "colorbar": {
              "outlinewidth": 0,
              "ticks": ""
             }
            },
            "marker": {
             "colorbar": {
              "outlinewidth": 0,
              "ticks": ""
             }
            },
            "type": "scatter3d"
           }
          ],
          "scattercarpet": [
           {
            "marker": {
             "colorbar": {
              "outlinewidth": 0,
              "ticks": ""
             }
            },
            "type": "scattercarpet"
           }
          ],
          "scattergeo": [
           {
            "marker": {
             "colorbar": {
              "outlinewidth": 0,
              "ticks": ""
             }
            },
            "type": "scattergeo"
           }
          ],
          "scattergl": [
           {
            "marker": {
             "colorbar": {
              "outlinewidth": 0,
              "ticks": ""
             }
            },
            "type": "scattergl"
           }
          ],
          "scattermapbox": [
           {
            "marker": {
             "colorbar": {
              "outlinewidth": 0,
              "ticks": ""
             }
            },
            "type": "scattermapbox"
           }
          ],
          "scatterpolar": [
           {
            "marker": {
             "colorbar": {
              "outlinewidth": 0,
              "ticks": ""
             }
            },
            "type": "scatterpolar"
           }
          ],
          "scatterpolargl": [
           {
            "marker": {
             "colorbar": {
              "outlinewidth": 0,
              "ticks": ""
             }
            },
            "type": "scatterpolargl"
           }
          ],
          "scatterternary": [
           {
            "marker": {
             "colorbar": {
              "outlinewidth": 0,
              "ticks": ""
             }
            },
            "type": "scatterternary"
           }
          ],
          "surface": [
           {
            "colorbar": {
             "outlinewidth": 0,
             "ticks": ""
            },
            "colorscale": [
             [
              0,
              "#0d0887"
             ],
             [
              0.1111111111111111,
              "#46039f"
             ],
             [
              0.2222222222222222,
              "#7201a8"
             ],
             [
              0.3333333333333333,
              "#9c179e"
             ],
             [
              0.4444444444444444,
              "#bd3786"
             ],
             [
              0.5555555555555556,
              "#d8576b"
             ],
             [
              0.6666666666666666,
              "#ed7953"
             ],
             [
              0.7777777777777778,
              "#fb9f3a"
             ],
             [
              0.8888888888888888,
              "#fdca26"
             ],
             [
              1,
              "#f0f921"
             ]
            ],
            "type": "surface"
           }
          ],
          "table": [
           {
            "cells": {
             "fill": {
              "color": "#EBF0F8"
             },
             "line": {
              "color": "white"
             }
            },
            "header": {
             "fill": {
              "color": "#C8D4E3"
             },
             "line": {
              "color": "white"
             }
            },
            "type": "table"
           }
          ]
         },
         "layout": {
          "annotationdefaults": {
           "arrowcolor": "#2a3f5f",
           "arrowhead": 0,
           "arrowwidth": 1
          },
          "coloraxis": {
           "colorbar": {
            "outlinewidth": 0,
            "ticks": ""
           }
          },
          "colorscale": {
           "diverging": [
            [
             0,
             "#8e0152"
            ],
            [
             0.1,
             "#c51b7d"
            ],
            [
             0.2,
             "#de77ae"
            ],
            [
             0.3,
             "#f1b6da"
            ],
            [
             0.4,
             "#fde0ef"
            ],
            [
             0.5,
             "#f7f7f7"
            ],
            [
             0.6,
             "#e6f5d0"
            ],
            [
             0.7,
             "#b8e186"
            ],
            [
             0.8,
             "#7fbc41"
            ],
            [
             0.9,
             "#4d9221"
            ],
            [
             1,
             "#276419"
            ]
           ],
           "sequential": [
            [
             0,
             "#0d0887"
            ],
            [
             0.1111111111111111,
             "#46039f"
            ],
            [
             0.2222222222222222,
             "#7201a8"
            ],
            [
             0.3333333333333333,
             "#9c179e"
            ],
            [
             0.4444444444444444,
             "#bd3786"
            ],
            [
             0.5555555555555556,
             "#d8576b"
            ],
            [
             0.6666666666666666,
             "#ed7953"
            ],
            [
             0.7777777777777778,
             "#fb9f3a"
            ],
            [
             0.8888888888888888,
             "#fdca26"
            ],
            [
             1,
             "#f0f921"
            ]
           ],
           "sequentialminus": [
            [
             0,
             "#0d0887"
            ],
            [
             0.1111111111111111,
             "#46039f"
            ],
            [
             0.2222222222222222,
             "#7201a8"
            ],
            [
             0.3333333333333333,
             "#9c179e"
            ],
            [
             0.4444444444444444,
             "#bd3786"
            ],
            [
             0.5555555555555556,
             "#d8576b"
            ],
            [
             0.6666666666666666,
             "#ed7953"
            ],
            [
             0.7777777777777778,
             "#fb9f3a"
            ],
            [
             0.8888888888888888,
             "#fdca26"
            ],
            [
             1,
             "#f0f921"
            ]
           ]
          },
          "colorway": [
           "#636efa",
           "#EF553B",
           "#00cc96",
           "#ab63fa",
           "#FFA15A",
           "#19d3f3",
           "#FF6692",
           "#B6E880",
           "#FF97FF",
           "#FECB52"
          ],
          "font": {
           "color": "#2a3f5f"
          },
          "geo": {
           "bgcolor": "white",
           "lakecolor": "white",
           "landcolor": "#E5ECF6",
           "showlakes": true,
           "showland": true,
           "subunitcolor": "white"
          },
          "hoverlabel": {
           "align": "left"
          },
          "hovermode": "closest",
          "mapbox": {
           "style": "light"
          },
          "paper_bgcolor": "white",
          "plot_bgcolor": "#E5ECF6",
          "polar": {
           "angularaxis": {
            "gridcolor": "white",
            "linecolor": "white",
            "ticks": ""
           },
           "bgcolor": "#E5ECF6",
           "radialaxis": {
            "gridcolor": "white",
            "linecolor": "white",
            "ticks": ""
           }
          },
          "scene": {
           "xaxis": {
            "backgroundcolor": "#E5ECF6",
            "gridcolor": "white",
            "gridwidth": 2,
            "linecolor": "white",
            "showbackground": true,
            "ticks": "",
            "zerolinecolor": "white"
           },
           "yaxis": {
            "backgroundcolor": "#E5ECF6",
            "gridcolor": "white",
            "gridwidth": 2,
            "linecolor": "white",
            "showbackground": true,
            "ticks": "",
            "zerolinecolor": "white"
           },
           "zaxis": {
            "backgroundcolor": "#E5ECF6",
            "gridcolor": "white",
            "gridwidth": 2,
            "linecolor": "white",
            "showbackground": true,
            "ticks": "",
            "zerolinecolor": "white"
           }
          },
          "shapedefaults": {
           "line": {
            "color": "#2a3f5f"
           }
          },
          "ternary": {
           "aaxis": {
            "gridcolor": "white",
            "linecolor": "white",
            "ticks": ""
           },
           "baxis": {
            "gridcolor": "white",
            "linecolor": "white",
            "ticks": ""
           },
           "bgcolor": "#E5ECF6",
           "caxis": {
            "gridcolor": "white",
            "linecolor": "white",
            "ticks": ""
           }
          },
          "title": {
           "x": 0.05
          },
          "xaxis": {
           "automargin": true,
           "gridcolor": "white",
           "linecolor": "white",
           "ticks": "",
           "title": {
            "standoff": 15
           },
           "zerolinecolor": "white",
           "zerolinewidth": 2
          },
          "yaxis": {
           "automargin": true,
           "gridcolor": "white",
           "linecolor": "white",
           "ticks": "",
           "title": {
            "standoff": 15
           },
           "zerolinecolor": "white",
           "zerolinewidth": 2
          }
         }
        },
        "xaxis": {
         "anchor": "y",
         "domain": [
          0,
          1
         ],
         "title": {
          "text": "Target Types"
         }
        },
        "yaxis": {
         "anchor": "x",
         "domain": [
          0,
          1
         ],
         "title": {
          "text": "Count"
         }
        }
       }
      },
      "text/html": [
       "<div>                            <div id=\"6ab57842-cf0a-4990-a612-3913659954ef\" class=\"plotly-graph-div\" style=\"height:400px; width:100%;\"></div>            <script type=\"text/javascript\">                require([\"plotly\"], function(Plotly) {                    window.PLOTLYENV=window.PLOTLYENV || {};                                    if (document.getElementById(\"6ab57842-cf0a-4990-a612-3913659954ef\")) {                    Plotly.newPlot(                        \"6ab57842-cf0a-4990-a612-3913659954ef\",                        [{\"alignmentgroup\": \"True\", \"customdata\": [[37270], [24832], [22254], [18637], [15253], [5641], [5551], [3779], [3749], [2895], [2643], [2242], [1649], [1041], [782], [696], [340], [276], [262], [228], [110]], \"hovertemplate\": \"Target Types=%{x}<br>Count=%{marker.color}<extra></extra>\", \"legendgroup\": \"\", \"marker\": {\"color\": [37270, 24832, 22254, 18637, 15253, 5641, 5551, 3779, 3749, 2895, 2643, 2242, 1649, 1041, 782, 696, 340, 276, 262, 228, 110], \"coloraxis\": \"coloraxis\"}, \"name\": \"\", \"offsetgroup\": \"\", \"orientation\": \"v\", \"showlegend\": false, \"textposition\": \"auto\", \"type\": \"bar\", \"x\": [\"Private Citizens & Property\", \"Military\", \"Police\", \"Government (General)\", \"Business\", \"Utilities\", \"Transportation\", \"Religious Figures/Institutions\", \"Educational Institution\", \"Government (Diplomatic)\", \"Terrorists/Non-State Militia\", \"Journalists & Media\", \"Violent Political Party\", \"Airports & Aircraft\", \"Telecommunication\", \"NGO\", \"Tourists\", \"Food or Water Supply\", \"Maritime\", \"Abortion Related\", \"Other\"], \"xaxis\": \"x\", \"y\": [37270, 24832, 22254, 18637, 15253, 5641, 5551, 3779, 3749, 2895, 2643, 2242, 1649, 1041, 782, 696, 340, 276, 262, 228, 110], \"yaxis\": \"y\"}],                        {\"barmode\": \"relative\", \"coloraxis\": {\"colorbar\": {\"title\": {\"text\": \"Count\"}}, \"colorscale\": [[0.0, \"#0d0887\"], [0.1111111111111111, \"#46039f\"], [0.2222222222222222, \"#7201a8\"], [0.3333333333333333, \"#9c179e\"], [0.4444444444444444, \"#bd3786\"], [0.5555555555555556, \"#d8576b\"], [0.6666666666666666, \"#ed7953\"], [0.7777777777777778, \"#fb9f3a\"], [0.8888888888888888, \"#fdca26\"], [1.0, \"#f0f921\"]]}, \"height\": 400, \"legend\": {\"tracegroupgap\": 0}, \"margin\": {\"t\": 60}, \"template\": {\"data\": {\"bar\": [{\"error_x\": {\"color\": \"#2a3f5f\"}, \"error_y\": {\"color\": \"#2a3f5f\"}, \"marker\": {\"line\": {\"color\": \"#E5ECF6\", \"width\": 0.5}}, \"type\": \"bar\"}], \"barpolar\": [{\"marker\": {\"line\": {\"color\": \"#E5ECF6\", \"width\": 0.5}}, \"type\": \"barpolar\"}], \"carpet\": [{\"aaxis\": {\"endlinecolor\": \"#2a3f5f\", \"gridcolor\": \"white\", \"linecolor\": \"white\", \"minorgridcolor\": \"white\", \"startlinecolor\": \"#2a3f5f\"}, \"baxis\": {\"endlinecolor\": \"#2a3f5f\", \"gridcolor\": \"white\", \"linecolor\": \"white\", \"minorgridcolor\": \"white\", \"startlinecolor\": \"#2a3f5f\"}, \"type\": \"carpet\"}], \"choropleth\": [{\"colorbar\": {\"outlinewidth\": 0, \"ticks\": \"\"}, \"type\": \"choropleth\"}], \"contour\": [{\"colorbar\": {\"outlinewidth\": 0, \"ticks\": \"\"}, \"colorscale\": [[0.0, \"#0d0887\"], [0.1111111111111111, \"#46039f\"], [0.2222222222222222, \"#7201a8\"], [0.3333333333333333, \"#9c179e\"], [0.4444444444444444, \"#bd3786\"], [0.5555555555555556, \"#d8576b\"], [0.6666666666666666, \"#ed7953\"], [0.7777777777777778, \"#fb9f3a\"], [0.8888888888888888, \"#fdca26\"], [1.0, \"#f0f921\"]], \"type\": \"contour\"}], \"contourcarpet\": [{\"colorbar\": {\"outlinewidth\": 0, \"ticks\": \"\"}, \"type\": \"contourcarpet\"}], \"heatmap\": [{\"colorbar\": {\"outlinewidth\": 0, \"ticks\": \"\"}, \"colorscale\": [[0.0, \"#0d0887\"], [0.1111111111111111, \"#46039f\"], [0.2222222222222222, \"#7201a8\"], [0.3333333333333333, \"#9c179e\"], [0.4444444444444444, \"#bd3786\"], [0.5555555555555556, \"#d8576b\"], [0.6666666666666666, \"#ed7953\"], [0.7777777777777778, \"#fb9f3a\"], [0.8888888888888888, \"#fdca26\"], [1.0, \"#f0f921\"]], \"type\": \"heatmap\"}], \"heatmapgl\": [{\"colorbar\": {\"outlinewidth\": 0, \"ticks\": \"\"}, \"colorscale\": [[0.0, \"#0d0887\"], [0.1111111111111111, \"#46039f\"], [0.2222222222222222, \"#7201a8\"], [0.3333333333333333, \"#9c179e\"], [0.4444444444444444, \"#bd3786\"], [0.5555555555555556, \"#d8576b\"], [0.6666666666666666, \"#ed7953\"], [0.7777777777777778, \"#fb9f3a\"], [0.8888888888888888, \"#fdca26\"], [1.0, \"#f0f921\"]], \"type\": \"heatmapgl\"}], \"histogram\": [{\"marker\": {\"colorbar\": {\"outlinewidth\": 0, \"ticks\": \"\"}}, \"type\": \"histogram\"}], \"histogram2d\": [{\"colorbar\": {\"outlinewidth\": 0, \"ticks\": \"\"}, \"colorscale\": [[0.0, \"#0d0887\"], [0.1111111111111111, \"#46039f\"], [0.2222222222222222, \"#7201a8\"], [0.3333333333333333, \"#9c179e\"], [0.4444444444444444, \"#bd3786\"], [0.5555555555555556, \"#d8576b\"], [0.6666666666666666, \"#ed7953\"], [0.7777777777777778, \"#fb9f3a\"], [0.8888888888888888, \"#fdca26\"], [1.0, \"#f0f921\"]], \"type\": \"histogram2d\"}], \"histogram2dcontour\": [{\"colorbar\": {\"outlinewidth\": 0, \"ticks\": \"\"}, \"colorscale\": [[0.0, \"#0d0887\"], [0.1111111111111111, \"#46039f\"], [0.2222222222222222, \"#7201a8\"], [0.3333333333333333, \"#9c179e\"], [0.4444444444444444, \"#bd3786\"], [0.5555555555555556, \"#d8576b\"], [0.6666666666666666, \"#ed7953\"], [0.7777777777777778, \"#fb9f3a\"], [0.8888888888888888, \"#fdca26\"], [1.0, \"#f0f921\"]], \"type\": \"histogram2dcontour\"}], \"mesh3d\": [{\"colorbar\": {\"outlinewidth\": 0, \"ticks\": \"\"}, \"type\": \"mesh3d\"}], \"parcoords\": [{\"line\": {\"colorbar\": {\"outlinewidth\": 0, \"ticks\": \"\"}}, \"type\": \"parcoords\"}], \"pie\": [{\"automargin\": true, \"type\": \"pie\"}], \"scatter\": [{\"marker\": {\"colorbar\": {\"outlinewidth\": 0, \"ticks\": \"\"}}, \"type\": \"scatter\"}], \"scatter3d\": [{\"line\": {\"colorbar\": {\"outlinewidth\": 0, \"ticks\": \"\"}}, \"marker\": {\"colorbar\": {\"outlinewidth\": 0, \"ticks\": \"\"}}, \"type\": \"scatter3d\"}], \"scattercarpet\": [{\"marker\": {\"colorbar\": {\"outlinewidth\": 0, \"ticks\": \"\"}}, \"type\": \"scattercarpet\"}], \"scattergeo\": [{\"marker\": {\"colorbar\": {\"outlinewidth\": 0, \"ticks\": \"\"}}, \"type\": \"scattergeo\"}], \"scattergl\": [{\"marker\": {\"colorbar\": {\"outlinewidth\": 0, \"ticks\": \"\"}}, \"type\": \"scattergl\"}], \"scattermapbox\": [{\"marker\": {\"colorbar\": {\"outlinewidth\": 0, \"ticks\": \"\"}}, \"type\": \"scattermapbox\"}], \"scatterpolar\": [{\"marker\": {\"colorbar\": {\"outlinewidth\": 0, \"ticks\": \"\"}}, \"type\": \"scatterpolar\"}], \"scatterpolargl\": [{\"marker\": {\"colorbar\": {\"outlinewidth\": 0, \"ticks\": \"\"}}, \"type\": \"scatterpolargl\"}], \"scatterternary\": [{\"marker\": {\"colorbar\": {\"outlinewidth\": 0, \"ticks\": \"\"}}, \"type\": \"scatterternary\"}], \"surface\": [{\"colorbar\": {\"outlinewidth\": 0, \"ticks\": \"\"}, \"colorscale\": [[0.0, \"#0d0887\"], [0.1111111111111111, \"#46039f\"], [0.2222222222222222, \"#7201a8\"], [0.3333333333333333, \"#9c179e\"], [0.4444444444444444, \"#bd3786\"], [0.5555555555555556, \"#d8576b\"], [0.6666666666666666, \"#ed7953\"], [0.7777777777777778, \"#fb9f3a\"], [0.8888888888888888, \"#fdca26\"], [1.0, \"#f0f921\"]], \"type\": \"surface\"}], \"table\": [{\"cells\": {\"fill\": {\"color\": \"#EBF0F8\"}, \"line\": {\"color\": \"white\"}}, \"header\": {\"fill\": {\"color\": \"#C8D4E3\"}, \"line\": {\"color\": \"white\"}}, \"type\": \"table\"}]}, \"layout\": {\"annotationdefaults\": {\"arrowcolor\": \"#2a3f5f\", \"arrowhead\": 0, \"arrowwidth\": 1}, \"coloraxis\": {\"colorbar\": {\"outlinewidth\": 0, \"ticks\": \"\"}}, \"colorscale\": {\"diverging\": [[0, \"#8e0152\"], [0.1, \"#c51b7d\"], [0.2, \"#de77ae\"], [0.3, \"#f1b6da\"], [0.4, \"#fde0ef\"], [0.5, \"#f7f7f7\"], [0.6, \"#e6f5d0\"], [0.7, \"#b8e186\"], [0.8, \"#7fbc41\"], [0.9, \"#4d9221\"], [1, \"#276419\"]], \"sequential\": [[0.0, \"#0d0887\"], [0.1111111111111111, \"#46039f\"], [0.2222222222222222, \"#7201a8\"], [0.3333333333333333, \"#9c179e\"], [0.4444444444444444, \"#bd3786\"], [0.5555555555555556, \"#d8576b\"], [0.6666666666666666, \"#ed7953\"], [0.7777777777777778, \"#fb9f3a\"], [0.8888888888888888, \"#fdca26\"], [1.0, \"#f0f921\"]], \"sequentialminus\": [[0.0, \"#0d0887\"], [0.1111111111111111, \"#46039f\"], [0.2222222222222222, \"#7201a8\"], [0.3333333333333333, \"#9c179e\"], [0.4444444444444444, \"#bd3786\"], [0.5555555555555556, \"#d8576b\"], [0.6666666666666666, \"#ed7953\"], [0.7777777777777778, \"#fb9f3a\"], [0.8888888888888888, \"#fdca26\"], [1.0, \"#f0f921\"]]}, \"colorway\": [\"#636efa\", \"#EF553B\", \"#00cc96\", \"#ab63fa\", \"#FFA15A\", \"#19d3f3\", \"#FF6692\", \"#B6E880\", \"#FF97FF\", \"#FECB52\"], \"font\": {\"color\": \"#2a3f5f\"}, \"geo\": {\"bgcolor\": \"white\", \"lakecolor\": \"white\", \"landcolor\": \"#E5ECF6\", \"showlakes\": true, \"showland\": true, \"subunitcolor\": \"white\"}, \"hoverlabel\": {\"align\": \"left\"}, \"hovermode\": \"closest\", \"mapbox\": {\"style\": \"light\"}, \"paper_bgcolor\": \"white\", \"plot_bgcolor\": \"#E5ECF6\", \"polar\": {\"angularaxis\": {\"gridcolor\": \"white\", \"linecolor\": \"white\", \"ticks\": \"\"}, \"bgcolor\": \"#E5ECF6\", \"radialaxis\": {\"gridcolor\": \"white\", \"linecolor\": \"white\", \"ticks\": \"\"}}, \"scene\": {\"xaxis\": {\"backgroundcolor\": \"#E5ECF6\", \"gridcolor\": \"white\", \"gridwidth\": 2, \"linecolor\": \"white\", \"showbackground\": true, \"ticks\": \"\", \"zerolinecolor\": \"white\"}, \"yaxis\": {\"backgroundcolor\": \"#E5ECF6\", \"gridcolor\": \"white\", \"gridwidth\": 2, \"linecolor\": \"white\", \"showbackground\": true, \"ticks\": \"\", \"zerolinecolor\": \"white\"}, \"zaxis\": {\"backgroundcolor\": \"#E5ECF6\", \"gridcolor\": \"white\", \"gridwidth\": 2, \"linecolor\": \"white\", \"showbackground\": true, \"ticks\": \"\", \"zerolinecolor\": \"white\"}}, \"shapedefaults\": {\"line\": {\"color\": \"#2a3f5f\"}}, \"ternary\": {\"aaxis\": {\"gridcolor\": \"white\", \"linecolor\": \"white\", \"ticks\": \"\"}, \"baxis\": {\"gridcolor\": \"white\", \"linecolor\": \"white\", \"ticks\": \"\"}, \"bgcolor\": \"#E5ECF6\", \"caxis\": {\"gridcolor\": \"white\", \"linecolor\": \"white\", \"ticks\": \"\"}}, \"title\": {\"x\": 0.05}, \"xaxis\": {\"automargin\": true, \"gridcolor\": \"white\", \"linecolor\": \"white\", \"ticks\": \"\", \"title\": {\"standoff\": 15}, \"zerolinecolor\": \"white\", \"zerolinewidth\": 2}, \"yaxis\": {\"automargin\": true, \"gridcolor\": \"white\", \"linecolor\": \"white\", \"ticks\": \"\", \"title\": {\"standoff\": 15}, \"zerolinecolor\": \"white\", \"zerolinewidth\": 2}}}, \"xaxis\": {\"anchor\": \"y\", \"domain\": [0.0, 1.0], \"title\": {\"text\": \"Target Types\"}}, \"yaxis\": {\"anchor\": \"x\", \"domain\": [0.0, 1.0], \"title\": {\"text\": \"Count\"}}},                        {\"responsive\": true}                    ).then(function(){\n",
       "                            \n",
       "var gd = document.getElementById('6ab57842-cf0a-4990-a612-3913659954ef');\n",
       "var x = new MutationObserver(function (mutations, observer) {{\n",
       "        var display = window.getComputedStyle(gd).display;\n",
       "        if (!display || display === 'none') {{\n",
       "            console.log([gd, 'removed!']);\n",
       "            Plotly.purge(gd);\n",
       "            observer.disconnect();\n",
       "        }}\n",
       "}});\n",
       "\n",
       "// Listen for the removal of the full notebook cells\n",
       "var notebookContainer = gd.closest('#notebook-container');\n",
       "if (notebookContainer) {{\n",
       "    x.observe(notebookContainer, {childList: true});\n",
       "}}\n",
       "\n",
       "// Listen for the clearing of the current output cell\n",
       "var outputEl = gd.closest('.output');\n",
       "if (outputEl) {{\n",
       "    x.observe(outputEl, {childList: true});\n",
       "}}\n",
       "\n",
       "                        })                };                });            </script>        </div>"
      ]
     },
     "metadata": {},
     "output_type": "display_data"
    }
   ],
   "source": [
    "#Graph shows most Targeted group\n",
    "target_type= df['targtype1_txt'].value_counts().reset_index().rename(columns={'index': 'Target Types'})\n",
    "target_type.columns.values[1] = 'Count'\n",
    "\n",
    "fig = px.bar(target_type, x='Target Types', y='Count',\n",
    "             hover_data=['Count'], color='Count', height=400)\n",
    "fig.show()"
   ]
  },
  {
   "cell_type": "code",
   "execution_count": 41,
   "metadata": {},
   "outputs": [
    {
     "data": {
      "application/vnd.plotly.v1+json": {
       "config": {
        "plotlyServerURL": "https://plot.ly"
       },
       "data": [
        {
         "alignmentgroup": "True",
         "customdata": [
          [
           84245
          ],
          [
           56358
          ],
          [
           5932
          ],
          [
           3449
          ],
          [
           144
          ],
          [
           1
          ],
          [
           1
          ]
         ],
         "hovertemplate": "Weapon Types=%{x}<br>Count=%{marker.color}<extra></extra>",
         "legendgroup": "",
         "marker": {
          "color": [
           84245,
           56358,
           5932,
           3449,
           144,
           1,
           1
          ],
          "coloraxis": "coloraxis"
         },
         "name": "",
         "offsetgroup": "",
         "orientation": "v",
         "showlegend": false,
         "textposition": "auto",
         "type": "bar",
         "x": [
          "Explosives",
          "Firearms",
          "Incendiary",
          "Melee",
          "Chemical",
          "Radiological",
          "Other"
         ],
         "xaxis": "x",
         "y": [
          84245,
          56358,
          5932,
          3449,
          144,
          1,
          1
         ],
         "yaxis": "y"
        }
       ],
       "layout": {
        "barmode": "relative",
        "coloraxis": {
         "colorbar": {
          "title": {
           "text": "Count"
          }
         },
         "colorscale": [
          [
           0,
           "#0d0887"
          ],
          [
           0.1111111111111111,
           "#46039f"
          ],
          [
           0.2222222222222222,
           "#7201a8"
          ],
          [
           0.3333333333333333,
           "#9c179e"
          ],
          [
           0.4444444444444444,
           "#bd3786"
          ],
          [
           0.5555555555555556,
           "#d8576b"
          ],
          [
           0.6666666666666666,
           "#ed7953"
          ],
          [
           0.7777777777777778,
           "#fb9f3a"
          ],
          [
           0.8888888888888888,
           "#fdca26"
          ],
          [
           1,
           "#f0f921"
          ]
         ]
        },
        "height": 400,
        "legend": {
         "tracegroupgap": 0
        },
        "margin": {
         "t": 60
        },
        "template": {
         "data": {
          "bar": [
           {
            "error_x": {
             "color": "#2a3f5f"
            },
            "error_y": {
             "color": "#2a3f5f"
            },
            "marker": {
             "line": {
              "color": "#E5ECF6",
              "width": 0.5
             }
            },
            "type": "bar"
           }
          ],
          "barpolar": [
           {
            "marker": {
             "line": {
              "color": "#E5ECF6",
              "width": 0.5
             }
            },
            "type": "barpolar"
           }
          ],
          "carpet": [
           {
            "aaxis": {
             "endlinecolor": "#2a3f5f",
             "gridcolor": "white",
             "linecolor": "white",
             "minorgridcolor": "white",
             "startlinecolor": "#2a3f5f"
            },
            "baxis": {
             "endlinecolor": "#2a3f5f",
             "gridcolor": "white",
             "linecolor": "white",
             "minorgridcolor": "white",
             "startlinecolor": "#2a3f5f"
            },
            "type": "carpet"
           }
          ],
          "choropleth": [
           {
            "colorbar": {
             "outlinewidth": 0,
             "ticks": ""
            },
            "type": "choropleth"
           }
          ],
          "contour": [
           {
            "colorbar": {
             "outlinewidth": 0,
             "ticks": ""
            },
            "colorscale": [
             [
              0,
              "#0d0887"
             ],
             [
              0.1111111111111111,
              "#46039f"
             ],
             [
              0.2222222222222222,
              "#7201a8"
             ],
             [
              0.3333333333333333,
              "#9c179e"
             ],
             [
              0.4444444444444444,
              "#bd3786"
             ],
             [
              0.5555555555555556,
              "#d8576b"
             ],
             [
              0.6666666666666666,
              "#ed7953"
             ],
             [
              0.7777777777777778,
              "#fb9f3a"
             ],
             [
              0.8888888888888888,
              "#fdca26"
             ],
             [
              1,
              "#f0f921"
             ]
            ],
            "type": "contour"
           }
          ],
          "contourcarpet": [
           {
            "colorbar": {
             "outlinewidth": 0,
             "ticks": ""
            },
            "type": "contourcarpet"
           }
          ],
          "heatmap": [
           {
            "colorbar": {
             "outlinewidth": 0,
             "ticks": ""
            },
            "colorscale": [
             [
              0,
              "#0d0887"
             ],
             [
              0.1111111111111111,
              "#46039f"
             ],
             [
              0.2222222222222222,
              "#7201a8"
             ],
             [
              0.3333333333333333,
              "#9c179e"
             ],
             [
              0.4444444444444444,
              "#bd3786"
             ],
             [
              0.5555555555555556,
              "#d8576b"
             ],
             [
              0.6666666666666666,
              "#ed7953"
             ],
             [
              0.7777777777777778,
              "#fb9f3a"
             ],
             [
              0.8888888888888888,
              "#fdca26"
             ],
             [
              1,
              "#f0f921"
             ]
            ],
            "type": "heatmap"
           }
          ],
          "heatmapgl": [
           {
            "colorbar": {
             "outlinewidth": 0,
             "ticks": ""
            },
            "colorscale": [
             [
              0,
              "#0d0887"
             ],
             [
              0.1111111111111111,
              "#46039f"
             ],
             [
              0.2222222222222222,
              "#7201a8"
             ],
             [
              0.3333333333333333,
              "#9c179e"
             ],
             [
              0.4444444444444444,
              "#bd3786"
             ],
             [
              0.5555555555555556,
              "#d8576b"
             ],
             [
              0.6666666666666666,
              "#ed7953"
             ],
             [
              0.7777777777777778,
              "#fb9f3a"
             ],
             [
              0.8888888888888888,
              "#fdca26"
             ],
             [
              1,
              "#f0f921"
             ]
            ],
            "type": "heatmapgl"
           }
          ],
          "histogram": [
           {
            "marker": {
             "colorbar": {
              "outlinewidth": 0,
              "ticks": ""
             }
            },
            "type": "histogram"
           }
          ],
          "histogram2d": [
           {
            "colorbar": {
             "outlinewidth": 0,
             "ticks": ""
            },
            "colorscale": [
             [
              0,
              "#0d0887"
             ],
             [
              0.1111111111111111,
              "#46039f"
             ],
             [
              0.2222222222222222,
              "#7201a8"
             ],
             [
              0.3333333333333333,
              "#9c179e"
             ],
             [
              0.4444444444444444,
              "#bd3786"
             ],
             [
              0.5555555555555556,
              "#d8576b"
             ],
             [
              0.6666666666666666,
              "#ed7953"
             ],
             [
              0.7777777777777778,
              "#fb9f3a"
             ],
             [
              0.8888888888888888,
              "#fdca26"
             ],
             [
              1,
              "#f0f921"
             ]
            ],
            "type": "histogram2d"
           }
          ],
          "histogram2dcontour": [
           {
            "colorbar": {
             "outlinewidth": 0,
             "ticks": ""
            },
            "colorscale": [
             [
              0,
              "#0d0887"
             ],
             [
              0.1111111111111111,
              "#46039f"
             ],
             [
              0.2222222222222222,
              "#7201a8"
             ],
             [
              0.3333333333333333,
              "#9c179e"
             ],
             [
              0.4444444444444444,
              "#bd3786"
             ],
             [
              0.5555555555555556,
              "#d8576b"
             ],
             [
              0.6666666666666666,
              "#ed7953"
             ],
             [
              0.7777777777777778,
              "#fb9f3a"
             ],
             [
              0.8888888888888888,
              "#fdca26"
             ],
             [
              1,
              "#f0f921"
             ]
            ],
            "type": "histogram2dcontour"
           }
          ],
          "mesh3d": [
           {
            "colorbar": {
             "outlinewidth": 0,
             "ticks": ""
            },
            "type": "mesh3d"
           }
          ],
          "parcoords": [
           {
            "line": {
             "colorbar": {
              "outlinewidth": 0,
              "ticks": ""
             }
            },
            "type": "parcoords"
           }
          ],
          "pie": [
           {
            "automargin": true,
            "type": "pie"
           }
          ],
          "scatter": [
           {
            "marker": {
             "colorbar": {
              "outlinewidth": 0,
              "ticks": ""
             }
            },
            "type": "scatter"
           }
          ],
          "scatter3d": [
           {
            "line": {
             "colorbar": {
              "outlinewidth": 0,
              "ticks": ""
             }
            },
            "marker": {
             "colorbar": {
              "outlinewidth": 0,
              "ticks": ""
             }
            },
            "type": "scatter3d"
           }
          ],
          "scattercarpet": [
           {
            "marker": {
             "colorbar": {
              "outlinewidth": 0,
              "ticks": ""
             }
            },
            "type": "scattercarpet"
           }
          ],
          "scattergeo": [
           {
            "marker": {
             "colorbar": {
              "outlinewidth": 0,
              "ticks": ""
             }
            },
            "type": "scattergeo"
           }
          ],
          "scattergl": [
           {
            "marker": {
             "colorbar": {
              "outlinewidth": 0,
              "ticks": ""
             }
            },
            "type": "scattergl"
           }
          ],
          "scattermapbox": [
           {
            "marker": {
             "colorbar": {
              "outlinewidth": 0,
              "ticks": ""
             }
            },
            "type": "scattermapbox"
           }
          ],
          "scatterpolar": [
           {
            "marker": {
             "colorbar": {
              "outlinewidth": 0,
              "ticks": ""
             }
            },
            "type": "scatterpolar"
           }
          ],
          "scatterpolargl": [
           {
            "marker": {
             "colorbar": {
              "outlinewidth": 0,
              "ticks": ""
             }
            },
            "type": "scatterpolargl"
           }
          ],
          "scatterternary": [
           {
            "marker": {
             "colorbar": {
              "outlinewidth": 0,
              "ticks": ""
             }
            },
            "type": "scatterternary"
           }
          ],
          "surface": [
           {
            "colorbar": {
             "outlinewidth": 0,
             "ticks": ""
            },
            "colorscale": [
             [
              0,
              "#0d0887"
             ],
             [
              0.1111111111111111,
              "#46039f"
             ],
             [
              0.2222222222222222,
              "#7201a8"
             ],
             [
              0.3333333333333333,
              "#9c179e"
             ],
             [
              0.4444444444444444,
              "#bd3786"
             ],
             [
              0.5555555555555556,
              "#d8576b"
             ],
             [
              0.6666666666666666,
              "#ed7953"
             ],
             [
              0.7777777777777778,
              "#fb9f3a"
             ],
             [
              0.8888888888888888,
              "#fdca26"
             ],
             [
              1,
              "#f0f921"
             ]
            ],
            "type": "surface"
           }
          ],
          "table": [
           {
            "cells": {
             "fill": {
              "color": "#EBF0F8"
             },
             "line": {
              "color": "white"
             }
            },
            "header": {
             "fill": {
              "color": "#C8D4E3"
             },
             "line": {
              "color": "white"
             }
            },
            "type": "table"
           }
          ]
         },
         "layout": {
          "annotationdefaults": {
           "arrowcolor": "#2a3f5f",
           "arrowhead": 0,
           "arrowwidth": 1
          },
          "coloraxis": {
           "colorbar": {
            "outlinewidth": 0,
            "ticks": ""
           }
          },
          "colorscale": {
           "diverging": [
            [
             0,
             "#8e0152"
            ],
            [
             0.1,
             "#c51b7d"
            ],
            [
             0.2,
             "#de77ae"
            ],
            [
             0.3,
             "#f1b6da"
            ],
            [
             0.4,
             "#fde0ef"
            ],
            [
             0.5,
             "#f7f7f7"
            ],
            [
             0.6,
             "#e6f5d0"
            ],
            [
             0.7,
             "#b8e186"
            ],
            [
             0.8,
             "#7fbc41"
            ],
            [
             0.9,
             "#4d9221"
            ],
            [
             1,
             "#276419"
            ]
           ],
           "sequential": [
            [
             0,
             "#0d0887"
            ],
            [
             0.1111111111111111,
             "#46039f"
            ],
            [
             0.2222222222222222,
             "#7201a8"
            ],
            [
             0.3333333333333333,
             "#9c179e"
            ],
            [
             0.4444444444444444,
             "#bd3786"
            ],
            [
             0.5555555555555556,
             "#d8576b"
            ],
            [
             0.6666666666666666,
             "#ed7953"
            ],
            [
             0.7777777777777778,
             "#fb9f3a"
            ],
            [
             0.8888888888888888,
             "#fdca26"
            ],
            [
             1,
             "#f0f921"
            ]
           ],
           "sequentialminus": [
            [
             0,
             "#0d0887"
            ],
            [
             0.1111111111111111,
             "#46039f"
            ],
            [
             0.2222222222222222,
             "#7201a8"
            ],
            [
             0.3333333333333333,
             "#9c179e"
            ],
            [
             0.4444444444444444,
             "#bd3786"
            ],
            [
             0.5555555555555556,
             "#d8576b"
            ],
            [
             0.6666666666666666,
             "#ed7953"
            ],
            [
             0.7777777777777778,
             "#fb9f3a"
            ],
            [
             0.8888888888888888,
             "#fdca26"
            ],
            [
             1,
             "#f0f921"
            ]
           ]
          },
          "colorway": [
           "#636efa",
           "#EF553B",
           "#00cc96",
           "#ab63fa",
           "#FFA15A",
           "#19d3f3",
           "#FF6692",
           "#B6E880",
           "#FF97FF",
           "#FECB52"
          ],
          "font": {
           "color": "#2a3f5f"
          },
          "geo": {
           "bgcolor": "white",
           "lakecolor": "white",
           "landcolor": "#E5ECF6",
           "showlakes": true,
           "showland": true,
           "subunitcolor": "white"
          },
          "hoverlabel": {
           "align": "left"
          },
          "hovermode": "closest",
          "mapbox": {
           "style": "light"
          },
          "paper_bgcolor": "white",
          "plot_bgcolor": "#E5ECF6",
          "polar": {
           "angularaxis": {
            "gridcolor": "white",
            "linecolor": "white",
            "ticks": ""
           },
           "bgcolor": "#E5ECF6",
           "radialaxis": {
            "gridcolor": "white",
            "linecolor": "white",
            "ticks": ""
           }
          },
          "scene": {
           "xaxis": {
            "backgroundcolor": "#E5ECF6",
            "gridcolor": "white",
            "gridwidth": 2,
            "linecolor": "white",
            "showbackground": true,
            "ticks": "",
            "zerolinecolor": "white"
           },
           "yaxis": {
            "backgroundcolor": "#E5ECF6",
            "gridcolor": "white",
            "gridwidth": 2,
            "linecolor": "white",
            "showbackground": true,
            "ticks": "",
            "zerolinecolor": "white"
           },
           "zaxis": {
            "backgroundcolor": "#E5ECF6",
            "gridcolor": "white",
            "gridwidth": 2,
            "linecolor": "white",
            "showbackground": true,
            "ticks": "",
            "zerolinecolor": "white"
           }
          },
          "shapedefaults": {
           "line": {
            "color": "#2a3f5f"
           }
          },
          "ternary": {
           "aaxis": {
            "gridcolor": "white",
            "linecolor": "white",
            "ticks": ""
           },
           "baxis": {
            "gridcolor": "white",
            "linecolor": "white",
            "ticks": ""
           },
           "bgcolor": "#E5ECF6",
           "caxis": {
            "gridcolor": "white",
            "linecolor": "white",
            "ticks": ""
           }
          },
          "title": {
           "x": 0.05
          },
          "xaxis": {
           "automargin": true,
           "gridcolor": "white",
           "linecolor": "white",
           "ticks": "",
           "title": {
            "standoff": 15
           },
           "zerolinecolor": "white",
           "zerolinewidth": 2
          },
          "yaxis": {
           "automargin": true,
           "gridcolor": "white",
           "linecolor": "white",
           "ticks": "",
           "title": {
            "standoff": 15
           },
           "zerolinecolor": "white",
           "zerolinewidth": 2
          }
         }
        },
        "xaxis": {
         "anchor": "y",
         "domain": [
          0,
          1
         ],
         "title": {
          "text": "Weapon Types"
         }
        },
        "yaxis": {
         "anchor": "x",
         "domain": [
          0,
          1
         ],
         "title": {
          "text": "Count"
         }
        }
       }
      },
      "text/html": [
       "<div>                            <div id=\"3b85e59a-0f72-4d7b-9b95-3805bd8d5841\" class=\"plotly-graph-div\" style=\"height:400px; width:100%;\"></div>            <script type=\"text/javascript\">                require([\"plotly\"], function(Plotly) {                    window.PLOTLYENV=window.PLOTLYENV || {};                                    if (document.getElementById(\"3b85e59a-0f72-4d7b-9b95-3805bd8d5841\")) {                    Plotly.newPlot(                        \"3b85e59a-0f72-4d7b-9b95-3805bd8d5841\",                        [{\"alignmentgroup\": \"True\", \"customdata\": [[84245], [56358], [5932], [3449], [144], [1], [1]], \"hovertemplate\": \"Weapon Types=%{x}<br>Count=%{marker.color}<extra></extra>\", \"legendgroup\": \"\", \"marker\": {\"color\": [84245, 56358, 5932, 3449, 144, 1, 1], \"coloraxis\": \"coloraxis\"}, \"name\": \"\", \"offsetgroup\": \"\", \"orientation\": \"v\", \"showlegend\": false, \"textposition\": \"auto\", \"type\": \"bar\", \"x\": [\"Explosives\", \"Firearms\", \"Incendiary\", \"Melee\", \"Chemical\", \"Radiological\", \"Other\"], \"xaxis\": \"x\", \"y\": [84245, 56358, 5932, 3449, 144, 1, 1], \"yaxis\": \"y\"}],                        {\"barmode\": \"relative\", \"coloraxis\": {\"colorbar\": {\"title\": {\"text\": \"Count\"}}, \"colorscale\": [[0.0, \"#0d0887\"], [0.1111111111111111, \"#46039f\"], [0.2222222222222222, \"#7201a8\"], [0.3333333333333333, \"#9c179e\"], [0.4444444444444444, \"#bd3786\"], [0.5555555555555556, \"#d8576b\"], [0.6666666666666666, \"#ed7953\"], [0.7777777777777778, \"#fb9f3a\"], [0.8888888888888888, \"#fdca26\"], [1.0, \"#f0f921\"]]}, \"height\": 400, \"legend\": {\"tracegroupgap\": 0}, \"margin\": {\"t\": 60}, \"template\": {\"data\": {\"bar\": [{\"error_x\": {\"color\": \"#2a3f5f\"}, \"error_y\": {\"color\": \"#2a3f5f\"}, \"marker\": {\"line\": {\"color\": \"#E5ECF6\", \"width\": 0.5}}, \"type\": \"bar\"}], \"barpolar\": [{\"marker\": {\"line\": {\"color\": \"#E5ECF6\", \"width\": 0.5}}, \"type\": \"barpolar\"}], \"carpet\": [{\"aaxis\": {\"endlinecolor\": \"#2a3f5f\", \"gridcolor\": \"white\", \"linecolor\": \"white\", \"minorgridcolor\": \"white\", \"startlinecolor\": \"#2a3f5f\"}, \"baxis\": {\"endlinecolor\": \"#2a3f5f\", \"gridcolor\": \"white\", \"linecolor\": \"white\", \"minorgridcolor\": \"white\", \"startlinecolor\": \"#2a3f5f\"}, \"type\": \"carpet\"}], \"choropleth\": [{\"colorbar\": {\"outlinewidth\": 0, \"ticks\": \"\"}, \"type\": \"choropleth\"}], \"contour\": [{\"colorbar\": {\"outlinewidth\": 0, \"ticks\": \"\"}, \"colorscale\": [[0.0, \"#0d0887\"], [0.1111111111111111, \"#46039f\"], [0.2222222222222222, \"#7201a8\"], [0.3333333333333333, \"#9c179e\"], [0.4444444444444444, \"#bd3786\"], [0.5555555555555556, \"#d8576b\"], [0.6666666666666666, \"#ed7953\"], [0.7777777777777778, \"#fb9f3a\"], [0.8888888888888888, \"#fdca26\"], [1.0, \"#f0f921\"]], \"type\": \"contour\"}], \"contourcarpet\": [{\"colorbar\": {\"outlinewidth\": 0, \"ticks\": \"\"}, \"type\": \"contourcarpet\"}], \"heatmap\": [{\"colorbar\": {\"outlinewidth\": 0, \"ticks\": \"\"}, \"colorscale\": [[0.0, \"#0d0887\"], [0.1111111111111111, \"#46039f\"], [0.2222222222222222, \"#7201a8\"], [0.3333333333333333, \"#9c179e\"], [0.4444444444444444, \"#bd3786\"], [0.5555555555555556, \"#d8576b\"], [0.6666666666666666, \"#ed7953\"], [0.7777777777777778, \"#fb9f3a\"], [0.8888888888888888, \"#fdca26\"], [1.0, \"#f0f921\"]], \"type\": \"heatmap\"}], \"heatmapgl\": [{\"colorbar\": {\"outlinewidth\": 0, \"ticks\": \"\"}, \"colorscale\": [[0.0, \"#0d0887\"], [0.1111111111111111, \"#46039f\"], [0.2222222222222222, \"#7201a8\"], [0.3333333333333333, \"#9c179e\"], [0.4444444444444444, \"#bd3786\"], [0.5555555555555556, \"#d8576b\"], [0.6666666666666666, \"#ed7953\"], [0.7777777777777778, \"#fb9f3a\"], [0.8888888888888888, \"#fdca26\"], [1.0, \"#f0f921\"]], \"type\": \"heatmapgl\"}], \"histogram\": [{\"marker\": {\"colorbar\": {\"outlinewidth\": 0, \"ticks\": \"\"}}, \"type\": \"histogram\"}], \"histogram2d\": [{\"colorbar\": {\"outlinewidth\": 0, \"ticks\": \"\"}, \"colorscale\": [[0.0, \"#0d0887\"], [0.1111111111111111, \"#46039f\"], [0.2222222222222222, \"#7201a8\"], [0.3333333333333333, \"#9c179e\"], [0.4444444444444444, \"#bd3786\"], [0.5555555555555556, \"#d8576b\"], [0.6666666666666666, \"#ed7953\"], [0.7777777777777778, \"#fb9f3a\"], [0.8888888888888888, \"#fdca26\"], [1.0, \"#f0f921\"]], \"type\": \"histogram2d\"}], \"histogram2dcontour\": [{\"colorbar\": {\"outlinewidth\": 0, \"ticks\": \"\"}, \"colorscale\": [[0.0, \"#0d0887\"], [0.1111111111111111, \"#46039f\"], [0.2222222222222222, \"#7201a8\"], [0.3333333333333333, \"#9c179e\"], [0.4444444444444444, \"#bd3786\"], [0.5555555555555556, \"#d8576b\"], [0.6666666666666666, \"#ed7953\"], [0.7777777777777778, \"#fb9f3a\"], [0.8888888888888888, \"#fdca26\"], [1.0, \"#f0f921\"]], \"type\": \"histogram2dcontour\"}], \"mesh3d\": [{\"colorbar\": {\"outlinewidth\": 0, \"ticks\": \"\"}, \"type\": \"mesh3d\"}], \"parcoords\": [{\"line\": {\"colorbar\": {\"outlinewidth\": 0, \"ticks\": \"\"}}, \"type\": \"parcoords\"}], \"pie\": [{\"automargin\": true, \"type\": \"pie\"}], \"scatter\": [{\"marker\": {\"colorbar\": {\"outlinewidth\": 0, \"ticks\": \"\"}}, \"type\": \"scatter\"}], \"scatter3d\": [{\"line\": {\"colorbar\": {\"outlinewidth\": 0, \"ticks\": \"\"}}, \"marker\": {\"colorbar\": {\"outlinewidth\": 0, \"ticks\": \"\"}}, \"type\": \"scatter3d\"}], \"scattercarpet\": [{\"marker\": {\"colorbar\": {\"outlinewidth\": 0, \"ticks\": \"\"}}, \"type\": \"scattercarpet\"}], \"scattergeo\": [{\"marker\": {\"colorbar\": {\"outlinewidth\": 0, \"ticks\": \"\"}}, \"type\": \"scattergeo\"}], \"scattergl\": [{\"marker\": {\"colorbar\": {\"outlinewidth\": 0, \"ticks\": \"\"}}, \"type\": \"scattergl\"}], \"scattermapbox\": [{\"marker\": {\"colorbar\": {\"outlinewidth\": 0, \"ticks\": \"\"}}, \"type\": \"scattermapbox\"}], \"scatterpolar\": [{\"marker\": {\"colorbar\": {\"outlinewidth\": 0, \"ticks\": \"\"}}, \"type\": \"scatterpolar\"}], \"scatterpolargl\": [{\"marker\": {\"colorbar\": {\"outlinewidth\": 0, \"ticks\": \"\"}}, \"type\": \"scatterpolargl\"}], \"scatterternary\": [{\"marker\": {\"colorbar\": {\"outlinewidth\": 0, \"ticks\": \"\"}}, \"type\": \"scatterternary\"}], \"surface\": [{\"colorbar\": {\"outlinewidth\": 0, \"ticks\": \"\"}, \"colorscale\": [[0.0, \"#0d0887\"], [0.1111111111111111, \"#46039f\"], [0.2222222222222222, \"#7201a8\"], [0.3333333333333333, \"#9c179e\"], [0.4444444444444444, \"#bd3786\"], [0.5555555555555556, \"#d8576b\"], [0.6666666666666666, \"#ed7953\"], [0.7777777777777778, \"#fb9f3a\"], [0.8888888888888888, \"#fdca26\"], [1.0, \"#f0f921\"]], \"type\": \"surface\"}], \"table\": [{\"cells\": {\"fill\": {\"color\": \"#EBF0F8\"}, \"line\": {\"color\": \"white\"}}, \"header\": {\"fill\": {\"color\": \"#C8D4E3\"}, \"line\": {\"color\": \"white\"}}, \"type\": \"table\"}]}, \"layout\": {\"annotationdefaults\": {\"arrowcolor\": \"#2a3f5f\", \"arrowhead\": 0, \"arrowwidth\": 1}, \"coloraxis\": {\"colorbar\": {\"outlinewidth\": 0, \"ticks\": \"\"}}, \"colorscale\": {\"diverging\": [[0, \"#8e0152\"], [0.1, \"#c51b7d\"], [0.2, \"#de77ae\"], [0.3, \"#f1b6da\"], [0.4, \"#fde0ef\"], [0.5, \"#f7f7f7\"], [0.6, \"#e6f5d0\"], [0.7, \"#b8e186\"], [0.8, \"#7fbc41\"], [0.9, \"#4d9221\"], [1, \"#276419\"]], \"sequential\": [[0.0, \"#0d0887\"], [0.1111111111111111, \"#46039f\"], [0.2222222222222222, \"#7201a8\"], [0.3333333333333333, \"#9c179e\"], [0.4444444444444444, \"#bd3786\"], [0.5555555555555556, \"#d8576b\"], [0.6666666666666666, \"#ed7953\"], [0.7777777777777778, \"#fb9f3a\"], [0.8888888888888888, \"#fdca26\"], [1.0, \"#f0f921\"]], \"sequentialminus\": [[0.0, \"#0d0887\"], [0.1111111111111111, \"#46039f\"], [0.2222222222222222, \"#7201a8\"], [0.3333333333333333, \"#9c179e\"], [0.4444444444444444, \"#bd3786\"], [0.5555555555555556, \"#d8576b\"], [0.6666666666666666, \"#ed7953\"], [0.7777777777777778, \"#fb9f3a\"], [0.8888888888888888, \"#fdca26\"], [1.0, \"#f0f921\"]]}, \"colorway\": [\"#636efa\", \"#EF553B\", \"#00cc96\", \"#ab63fa\", \"#FFA15A\", \"#19d3f3\", \"#FF6692\", \"#B6E880\", \"#FF97FF\", \"#FECB52\"], \"font\": {\"color\": \"#2a3f5f\"}, \"geo\": {\"bgcolor\": \"white\", \"lakecolor\": \"white\", \"landcolor\": \"#E5ECF6\", \"showlakes\": true, \"showland\": true, \"subunitcolor\": \"white\"}, \"hoverlabel\": {\"align\": \"left\"}, \"hovermode\": \"closest\", \"mapbox\": {\"style\": \"light\"}, \"paper_bgcolor\": \"white\", \"plot_bgcolor\": \"#E5ECF6\", \"polar\": {\"angularaxis\": {\"gridcolor\": \"white\", \"linecolor\": \"white\", \"ticks\": \"\"}, \"bgcolor\": \"#E5ECF6\", \"radialaxis\": {\"gridcolor\": \"white\", \"linecolor\": \"white\", \"ticks\": \"\"}}, \"scene\": {\"xaxis\": {\"backgroundcolor\": \"#E5ECF6\", \"gridcolor\": \"white\", \"gridwidth\": 2, \"linecolor\": \"white\", \"showbackground\": true, \"ticks\": \"\", \"zerolinecolor\": \"white\"}, \"yaxis\": {\"backgroundcolor\": \"#E5ECF6\", \"gridcolor\": \"white\", \"gridwidth\": 2, \"linecolor\": \"white\", \"showbackground\": true, \"ticks\": \"\", \"zerolinecolor\": \"white\"}, \"zaxis\": {\"backgroundcolor\": \"#E5ECF6\", \"gridcolor\": \"white\", \"gridwidth\": 2, \"linecolor\": \"white\", \"showbackground\": true, \"ticks\": \"\", \"zerolinecolor\": \"white\"}}, \"shapedefaults\": {\"line\": {\"color\": \"#2a3f5f\"}}, \"ternary\": {\"aaxis\": {\"gridcolor\": \"white\", \"linecolor\": \"white\", \"ticks\": \"\"}, \"baxis\": {\"gridcolor\": \"white\", \"linecolor\": \"white\", \"ticks\": \"\"}, \"bgcolor\": \"#E5ECF6\", \"caxis\": {\"gridcolor\": \"white\", \"linecolor\": \"white\", \"ticks\": \"\"}}, \"title\": {\"x\": 0.05}, \"xaxis\": {\"automargin\": true, \"gridcolor\": \"white\", \"linecolor\": \"white\", \"ticks\": \"\", \"title\": {\"standoff\": 15}, \"zerolinecolor\": \"white\", \"zerolinewidth\": 2}, \"yaxis\": {\"automargin\": true, \"gridcolor\": \"white\", \"linecolor\": \"white\", \"ticks\": \"\", \"title\": {\"standoff\": 15}, \"zerolinecolor\": \"white\", \"zerolinewidth\": 2}}}, \"xaxis\": {\"anchor\": \"y\", \"domain\": [0.0, 1.0], \"title\": {\"text\": \"Weapon Types\"}}, \"yaxis\": {\"anchor\": \"x\", \"domain\": [0.0, 1.0], \"title\": {\"text\": \"Count\"}}},                        {\"responsive\": true}                    ).then(function(){\n",
       "                            \n",
       "var gd = document.getElementById('3b85e59a-0f72-4d7b-9b95-3805bd8d5841');\n",
       "var x = new MutationObserver(function (mutations, observer) {{\n",
       "        var display = window.getComputedStyle(gd).display;\n",
       "        if (!display || display === 'none') {{\n",
       "            console.log([gd, 'removed!']);\n",
       "            Plotly.purge(gd);\n",
       "            observer.disconnect();\n",
       "        }}\n",
       "}});\n",
       "\n",
       "// Listen for the removal of the full notebook cells\n",
       "var notebookContainer = gd.closest('#notebook-container');\n",
       "if (notebookContainer) {{\n",
       "    x.observe(notebookContainer, {childList: true});\n",
       "}}\n",
       "\n",
       "// Listen for the clearing of the current output cell\n",
       "var outputEl = gd.closest('.output');\n",
       "if (outputEl) {{\n",
       "    x.observe(outputEl, {childList: true});\n",
       "}}\n",
       "\n",
       "                        })                };                });            </script>        </div>"
      ]
     },
     "metadata": {},
     "output_type": "display_data"
    },
    {
     "data": {
      "application/vnd.plotly.v1+json": {
       "config": {
        "plotlyServerURL": "https://plot.ly"
       },
       "data": [
        {
         "customdata": [
          [
           84245
          ],
          [
           56358
          ],
          [
           5932
          ],
          [
           3449
          ],
          [
           144
          ],
          [
           1
          ],
          [
           1
          ]
         ],
         "domain": {
          "x": [
           0,
           1
          ],
          "y": [
           0,
           1
          ]
         },
         "hovertemplate": "Weapon Types=%{label}<br>Count=%{customdata[0]}<extra></extra>",
         "labels": [
          "Explosives",
          "Firearms",
          "Incendiary",
          "Melee",
          "Chemical",
          "Radiological",
          "Other"
         ],
         "legendgroup": "",
         "name": "",
         "showlegend": true,
         "textinfo": "percent+label",
         "textposition": "inside",
         "type": "pie",
         "values": [
          84245,
          56358,
          5932,
          3449,
          144,
          1,
          1
         ]
        }
       ],
       "layout": {
        "legend": {
         "tracegroupgap": 0
        },
        "template": {
         "data": {
          "bar": [
           {
            "error_x": {
             "color": "#2a3f5f"
            },
            "error_y": {
             "color": "#2a3f5f"
            },
            "marker": {
             "line": {
              "color": "#E5ECF6",
              "width": 0.5
             }
            },
            "type": "bar"
           }
          ],
          "barpolar": [
           {
            "marker": {
             "line": {
              "color": "#E5ECF6",
              "width": 0.5
             }
            },
            "type": "barpolar"
           }
          ],
          "carpet": [
           {
            "aaxis": {
             "endlinecolor": "#2a3f5f",
             "gridcolor": "white",
             "linecolor": "white",
             "minorgridcolor": "white",
             "startlinecolor": "#2a3f5f"
            },
            "baxis": {
             "endlinecolor": "#2a3f5f",
             "gridcolor": "white",
             "linecolor": "white",
             "minorgridcolor": "white",
             "startlinecolor": "#2a3f5f"
            },
            "type": "carpet"
           }
          ],
          "choropleth": [
           {
            "colorbar": {
             "outlinewidth": 0,
             "ticks": ""
            },
            "type": "choropleth"
           }
          ],
          "contour": [
           {
            "colorbar": {
             "outlinewidth": 0,
             "ticks": ""
            },
            "colorscale": [
             [
              0,
              "#0d0887"
             ],
             [
              0.1111111111111111,
              "#46039f"
             ],
             [
              0.2222222222222222,
              "#7201a8"
             ],
             [
              0.3333333333333333,
              "#9c179e"
             ],
             [
              0.4444444444444444,
              "#bd3786"
             ],
             [
              0.5555555555555556,
              "#d8576b"
             ],
             [
              0.6666666666666666,
              "#ed7953"
             ],
             [
              0.7777777777777778,
              "#fb9f3a"
             ],
             [
              0.8888888888888888,
              "#fdca26"
             ],
             [
              1,
              "#f0f921"
             ]
            ],
            "type": "contour"
           }
          ],
          "contourcarpet": [
           {
            "colorbar": {
             "outlinewidth": 0,
             "ticks": ""
            },
            "type": "contourcarpet"
           }
          ],
          "heatmap": [
           {
            "colorbar": {
             "outlinewidth": 0,
             "ticks": ""
            },
            "colorscale": [
             [
              0,
              "#0d0887"
             ],
             [
              0.1111111111111111,
              "#46039f"
             ],
             [
              0.2222222222222222,
              "#7201a8"
             ],
             [
              0.3333333333333333,
              "#9c179e"
             ],
             [
              0.4444444444444444,
              "#bd3786"
             ],
             [
              0.5555555555555556,
              "#d8576b"
             ],
             [
              0.6666666666666666,
              "#ed7953"
             ],
             [
              0.7777777777777778,
              "#fb9f3a"
             ],
             [
              0.8888888888888888,
              "#fdca26"
             ],
             [
              1,
              "#f0f921"
             ]
            ],
            "type": "heatmap"
           }
          ],
          "heatmapgl": [
           {
            "colorbar": {
             "outlinewidth": 0,
             "ticks": ""
            },
            "colorscale": [
             [
              0,
              "#0d0887"
             ],
             [
              0.1111111111111111,
              "#46039f"
             ],
             [
              0.2222222222222222,
              "#7201a8"
             ],
             [
              0.3333333333333333,
              "#9c179e"
             ],
             [
              0.4444444444444444,
              "#bd3786"
             ],
             [
              0.5555555555555556,
              "#d8576b"
             ],
             [
              0.6666666666666666,
              "#ed7953"
             ],
             [
              0.7777777777777778,
              "#fb9f3a"
             ],
             [
              0.8888888888888888,
              "#fdca26"
             ],
             [
              1,
              "#f0f921"
             ]
            ],
            "type": "heatmapgl"
           }
          ],
          "histogram": [
           {
            "marker": {
             "colorbar": {
              "outlinewidth": 0,
              "ticks": ""
             }
            },
            "type": "histogram"
           }
          ],
          "histogram2d": [
           {
            "colorbar": {
             "outlinewidth": 0,
             "ticks": ""
            },
            "colorscale": [
             [
              0,
              "#0d0887"
             ],
             [
              0.1111111111111111,
              "#46039f"
             ],
             [
              0.2222222222222222,
              "#7201a8"
             ],
             [
              0.3333333333333333,
              "#9c179e"
             ],
             [
              0.4444444444444444,
              "#bd3786"
             ],
             [
              0.5555555555555556,
              "#d8576b"
             ],
             [
              0.6666666666666666,
              "#ed7953"
             ],
             [
              0.7777777777777778,
              "#fb9f3a"
             ],
             [
              0.8888888888888888,
              "#fdca26"
             ],
             [
              1,
              "#f0f921"
             ]
            ],
            "type": "histogram2d"
           }
          ],
          "histogram2dcontour": [
           {
            "colorbar": {
             "outlinewidth": 0,
             "ticks": ""
            },
            "colorscale": [
             [
              0,
              "#0d0887"
             ],
             [
              0.1111111111111111,
              "#46039f"
             ],
             [
              0.2222222222222222,
              "#7201a8"
             ],
             [
              0.3333333333333333,
              "#9c179e"
             ],
             [
              0.4444444444444444,
              "#bd3786"
             ],
             [
              0.5555555555555556,
              "#d8576b"
             ],
             [
              0.6666666666666666,
              "#ed7953"
             ],
             [
              0.7777777777777778,
              "#fb9f3a"
             ],
             [
              0.8888888888888888,
              "#fdca26"
             ],
             [
              1,
              "#f0f921"
             ]
            ],
            "type": "histogram2dcontour"
           }
          ],
          "mesh3d": [
           {
            "colorbar": {
             "outlinewidth": 0,
             "ticks": ""
            },
            "type": "mesh3d"
           }
          ],
          "parcoords": [
           {
            "line": {
             "colorbar": {
              "outlinewidth": 0,
              "ticks": ""
             }
            },
            "type": "parcoords"
           }
          ],
          "pie": [
           {
            "automargin": true,
            "type": "pie"
           }
          ],
          "scatter": [
           {
            "marker": {
             "colorbar": {
              "outlinewidth": 0,
              "ticks": ""
             }
            },
            "type": "scatter"
           }
          ],
          "scatter3d": [
           {
            "line": {
             "colorbar": {
              "outlinewidth": 0,
              "ticks": ""
             }
            },
            "marker": {
             "colorbar": {
              "outlinewidth": 0,
              "ticks": ""
             }
            },
            "type": "scatter3d"
           }
          ],
          "scattercarpet": [
           {
            "marker": {
             "colorbar": {
              "outlinewidth": 0,
              "ticks": ""
             }
            },
            "type": "scattercarpet"
           }
          ],
          "scattergeo": [
           {
            "marker": {
             "colorbar": {
              "outlinewidth": 0,
              "ticks": ""
             }
            },
            "type": "scattergeo"
           }
          ],
          "scattergl": [
           {
            "marker": {
             "colorbar": {
              "outlinewidth": 0,
              "ticks": ""
             }
            },
            "type": "scattergl"
           }
          ],
          "scattermapbox": [
           {
            "marker": {
             "colorbar": {
              "outlinewidth": 0,
              "ticks": ""
             }
            },
            "type": "scattermapbox"
           }
          ],
          "scatterpolar": [
           {
            "marker": {
             "colorbar": {
              "outlinewidth": 0,
              "ticks": ""
             }
            },
            "type": "scatterpolar"
           }
          ],
          "scatterpolargl": [
           {
            "marker": {
             "colorbar": {
              "outlinewidth": 0,
              "ticks": ""
             }
            },
            "type": "scatterpolargl"
           }
          ],
          "scatterternary": [
           {
            "marker": {
             "colorbar": {
              "outlinewidth": 0,
              "ticks": ""
             }
            },
            "type": "scatterternary"
           }
          ],
          "surface": [
           {
            "colorbar": {
             "outlinewidth": 0,
             "ticks": ""
            },
            "colorscale": [
             [
              0,
              "#0d0887"
             ],
             [
              0.1111111111111111,
              "#46039f"
             ],
             [
              0.2222222222222222,
              "#7201a8"
             ],
             [
              0.3333333333333333,
              "#9c179e"
             ],
             [
              0.4444444444444444,
              "#bd3786"
             ],
             [
              0.5555555555555556,
              "#d8576b"
             ],
             [
              0.6666666666666666,
              "#ed7953"
             ],
             [
              0.7777777777777778,
              "#fb9f3a"
             ],
             [
              0.8888888888888888,
              "#fdca26"
             ],
             [
              1,
              "#f0f921"
             ]
            ],
            "type": "surface"
           }
          ],
          "table": [
           {
            "cells": {
             "fill": {
              "color": "#EBF0F8"
             },
             "line": {
              "color": "white"
             }
            },
            "header": {
             "fill": {
              "color": "#C8D4E3"
             },
             "line": {
              "color": "white"
             }
            },
            "type": "table"
           }
          ]
         },
         "layout": {
          "annotationdefaults": {
           "arrowcolor": "#2a3f5f",
           "arrowhead": 0,
           "arrowwidth": 1
          },
          "coloraxis": {
           "colorbar": {
            "outlinewidth": 0,
            "ticks": ""
           }
          },
          "colorscale": {
           "diverging": [
            [
             0,
             "#8e0152"
            ],
            [
             0.1,
             "#c51b7d"
            ],
            [
             0.2,
             "#de77ae"
            ],
            [
             0.3,
             "#f1b6da"
            ],
            [
             0.4,
             "#fde0ef"
            ],
            [
             0.5,
             "#f7f7f7"
            ],
            [
             0.6,
             "#e6f5d0"
            ],
            [
             0.7,
             "#b8e186"
            ],
            [
             0.8,
             "#7fbc41"
            ],
            [
             0.9,
             "#4d9221"
            ],
            [
             1,
             "#276419"
            ]
           ],
           "sequential": [
            [
             0,
             "#0d0887"
            ],
            [
             0.1111111111111111,
             "#46039f"
            ],
            [
             0.2222222222222222,
             "#7201a8"
            ],
            [
             0.3333333333333333,
             "#9c179e"
            ],
            [
             0.4444444444444444,
             "#bd3786"
            ],
            [
             0.5555555555555556,
             "#d8576b"
            ],
            [
             0.6666666666666666,
             "#ed7953"
            ],
            [
             0.7777777777777778,
             "#fb9f3a"
            ],
            [
             0.8888888888888888,
             "#fdca26"
            ],
            [
             1,
             "#f0f921"
            ]
           ],
           "sequentialminus": [
            [
             0,
             "#0d0887"
            ],
            [
             0.1111111111111111,
             "#46039f"
            ],
            [
             0.2222222222222222,
             "#7201a8"
            ],
            [
             0.3333333333333333,
             "#9c179e"
            ],
            [
             0.4444444444444444,
             "#bd3786"
            ],
            [
             0.5555555555555556,
             "#d8576b"
            ],
            [
             0.6666666666666666,
             "#ed7953"
            ],
            [
             0.7777777777777778,
             "#fb9f3a"
            ],
            [
             0.8888888888888888,
             "#fdca26"
            ],
            [
             1,
             "#f0f921"
            ]
           ]
          },
          "colorway": [
           "#636efa",
           "#EF553B",
           "#00cc96",
           "#ab63fa",
           "#FFA15A",
           "#19d3f3",
           "#FF6692",
           "#B6E880",
           "#FF97FF",
           "#FECB52"
          ],
          "font": {
           "color": "#2a3f5f"
          },
          "geo": {
           "bgcolor": "white",
           "lakecolor": "white",
           "landcolor": "#E5ECF6",
           "showlakes": true,
           "showland": true,
           "subunitcolor": "white"
          },
          "hoverlabel": {
           "align": "left"
          },
          "hovermode": "closest",
          "mapbox": {
           "style": "light"
          },
          "paper_bgcolor": "white",
          "plot_bgcolor": "#E5ECF6",
          "polar": {
           "angularaxis": {
            "gridcolor": "white",
            "linecolor": "white",
            "ticks": ""
           },
           "bgcolor": "#E5ECF6",
           "radialaxis": {
            "gridcolor": "white",
            "linecolor": "white",
            "ticks": ""
           }
          },
          "scene": {
           "xaxis": {
            "backgroundcolor": "#E5ECF6",
            "gridcolor": "white",
            "gridwidth": 2,
            "linecolor": "white",
            "showbackground": true,
            "ticks": "",
            "zerolinecolor": "white"
           },
           "yaxis": {
            "backgroundcolor": "#E5ECF6",
            "gridcolor": "white",
            "gridwidth": 2,
            "linecolor": "white",
            "showbackground": true,
            "ticks": "",
            "zerolinecolor": "white"
           },
           "zaxis": {
            "backgroundcolor": "#E5ECF6",
            "gridcolor": "white",
            "gridwidth": 2,
            "linecolor": "white",
            "showbackground": true,
            "ticks": "",
            "zerolinecolor": "white"
           }
          },
          "shapedefaults": {
           "line": {
            "color": "#2a3f5f"
           }
          },
          "ternary": {
           "aaxis": {
            "gridcolor": "white",
            "linecolor": "white",
            "ticks": ""
           },
           "baxis": {
            "gridcolor": "white",
            "linecolor": "white",
            "ticks": ""
           },
           "bgcolor": "#E5ECF6",
           "caxis": {
            "gridcolor": "white",
            "linecolor": "white",
            "ticks": ""
           }
          },
          "title": {
           "x": 0.05
          },
          "xaxis": {
           "automargin": true,
           "gridcolor": "white",
           "linecolor": "white",
           "ticks": "",
           "title": {
            "standoff": 15
           },
           "zerolinecolor": "white",
           "zerolinewidth": 2
          },
          "yaxis": {
           "automargin": true,
           "gridcolor": "white",
           "linecolor": "white",
           "ticks": "",
           "title": {
            "standoff": 15
           },
           "zerolinecolor": "white",
           "zerolinewidth": 2
          }
         }
        },
        "title": {
         "text": "Weapon Types Attack"
        }
       }
      },
      "text/html": [
       "<div>                            <div id=\"47467d16-fd20-44d3-b3c0-17daf51e520f\" class=\"plotly-graph-div\" style=\"height:525px; width:100%;\"></div>            <script type=\"text/javascript\">                require([\"plotly\"], function(Plotly) {                    window.PLOTLYENV=window.PLOTLYENV || {};                                    if (document.getElementById(\"47467d16-fd20-44d3-b3c0-17daf51e520f\")) {                    Plotly.newPlot(                        \"47467d16-fd20-44d3-b3c0-17daf51e520f\",                        [{\"customdata\": [[84245], [56358], [5932], [3449], [144], [1], [1]], \"domain\": {\"x\": [0.0, 1.0], \"y\": [0.0, 1.0]}, \"hovertemplate\": \"Weapon Types=%{label}<br>Count=%{customdata[0]}<extra></extra>\", \"labels\": [\"Explosives\", \"Firearms\", \"Incendiary\", \"Melee\", \"Chemical\", \"Radiological\", \"Other\"], \"legendgroup\": \"\", \"name\": \"\", \"showlegend\": true, \"textinfo\": \"percent+label\", \"textposition\": \"inside\", \"type\": \"pie\", \"values\": [84245, 56358, 5932, 3449, 144, 1, 1]}],                        {\"legend\": {\"tracegroupgap\": 0}, \"template\": {\"data\": {\"bar\": [{\"error_x\": {\"color\": \"#2a3f5f\"}, \"error_y\": {\"color\": \"#2a3f5f\"}, \"marker\": {\"line\": {\"color\": \"#E5ECF6\", \"width\": 0.5}}, \"type\": \"bar\"}], \"barpolar\": [{\"marker\": {\"line\": {\"color\": \"#E5ECF6\", \"width\": 0.5}}, \"type\": \"barpolar\"}], \"carpet\": [{\"aaxis\": {\"endlinecolor\": \"#2a3f5f\", \"gridcolor\": \"white\", \"linecolor\": \"white\", \"minorgridcolor\": \"white\", \"startlinecolor\": \"#2a3f5f\"}, \"baxis\": {\"endlinecolor\": \"#2a3f5f\", \"gridcolor\": \"white\", \"linecolor\": \"white\", \"minorgridcolor\": \"white\", \"startlinecolor\": \"#2a3f5f\"}, \"type\": \"carpet\"}], \"choropleth\": [{\"colorbar\": {\"outlinewidth\": 0, \"ticks\": \"\"}, \"type\": \"choropleth\"}], \"contour\": [{\"colorbar\": {\"outlinewidth\": 0, \"ticks\": \"\"}, \"colorscale\": [[0.0, \"#0d0887\"], [0.1111111111111111, \"#46039f\"], [0.2222222222222222, \"#7201a8\"], [0.3333333333333333, \"#9c179e\"], [0.4444444444444444, \"#bd3786\"], [0.5555555555555556, \"#d8576b\"], [0.6666666666666666, \"#ed7953\"], [0.7777777777777778, \"#fb9f3a\"], [0.8888888888888888, \"#fdca26\"], [1.0, \"#f0f921\"]], \"type\": \"contour\"}], \"contourcarpet\": [{\"colorbar\": {\"outlinewidth\": 0, \"ticks\": \"\"}, \"type\": \"contourcarpet\"}], \"heatmap\": [{\"colorbar\": {\"outlinewidth\": 0, \"ticks\": \"\"}, \"colorscale\": [[0.0, \"#0d0887\"], [0.1111111111111111, \"#46039f\"], [0.2222222222222222, \"#7201a8\"], [0.3333333333333333, \"#9c179e\"], [0.4444444444444444, \"#bd3786\"], [0.5555555555555556, \"#d8576b\"], [0.6666666666666666, \"#ed7953\"], [0.7777777777777778, \"#fb9f3a\"], [0.8888888888888888, \"#fdca26\"], [1.0, \"#f0f921\"]], \"type\": \"heatmap\"}], \"heatmapgl\": [{\"colorbar\": {\"outlinewidth\": 0, \"ticks\": \"\"}, \"colorscale\": [[0.0, \"#0d0887\"], [0.1111111111111111, \"#46039f\"], [0.2222222222222222, \"#7201a8\"], [0.3333333333333333, \"#9c179e\"], [0.4444444444444444, \"#bd3786\"], [0.5555555555555556, \"#d8576b\"], [0.6666666666666666, \"#ed7953\"], [0.7777777777777778, \"#fb9f3a\"], [0.8888888888888888, \"#fdca26\"], [1.0, \"#f0f921\"]], \"type\": \"heatmapgl\"}], \"histogram\": [{\"marker\": {\"colorbar\": {\"outlinewidth\": 0, \"ticks\": \"\"}}, \"type\": \"histogram\"}], \"histogram2d\": [{\"colorbar\": {\"outlinewidth\": 0, \"ticks\": \"\"}, \"colorscale\": [[0.0, \"#0d0887\"], [0.1111111111111111, \"#46039f\"], [0.2222222222222222, \"#7201a8\"], [0.3333333333333333, \"#9c179e\"], [0.4444444444444444, \"#bd3786\"], [0.5555555555555556, \"#d8576b\"], [0.6666666666666666, \"#ed7953\"], [0.7777777777777778, \"#fb9f3a\"], [0.8888888888888888, \"#fdca26\"], [1.0, \"#f0f921\"]], \"type\": \"histogram2d\"}], \"histogram2dcontour\": [{\"colorbar\": {\"outlinewidth\": 0, \"ticks\": \"\"}, \"colorscale\": [[0.0, \"#0d0887\"], [0.1111111111111111, \"#46039f\"], [0.2222222222222222, \"#7201a8\"], [0.3333333333333333, \"#9c179e\"], [0.4444444444444444, \"#bd3786\"], [0.5555555555555556, \"#d8576b\"], [0.6666666666666666, \"#ed7953\"], [0.7777777777777778, \"#fb9f3a\"], [0.8888888888888888, \"#fdca26\"], [1.0, \"#f0f921\"]], \"type\": \"histogram2dcontour\"}], \"mesh3d\": [{\"colorbar\": {\"outlinewidth\": 0, \"ticks\": \"\"}, \"type\": \"mesh3d\"}], \"parcoords\": [{\"line\": {\"colorbar\": {\"outlinewidth\": 0, \"ticks\": \"\"}}, \"type\": \"parcoords\"}], \"pie\": [{\"automargin\": true, \"type\": \"pie\"}], \"scatter\": [{\"marker\": {\"colorbar\": {\"outlinewidth\": 0, \"ticks\": \"\"}}, \"type\": \"scatter\"}], \"scatter3d\": [{\"line\": {\"colorbar\": {\"outlinewidth\": 0, \"ticks\": \"\"}}, \"marker\": {\"colorbar\": {\"outlinewidth\": 0, \"ticks\": \"\"}}, \"type\": \"scatter3d\"}], \"scattercarpet\": [{\"marker\": {\"colorbar\": {\"outlinewidth\": 0, \"ticks\": \"\"}}, \"type\": \"scattercarpet\"}], \"scattergeo\": [{\"marker\": {\"colorbar\": {\"outlinewidth\": 0, \"ticks\": \"\"}}, \"type\": \"scattergeo\"}], \"scattergl\": [{\"marker\": {\"colorbar\": {\"outlinewidth\": 0, \"ticks\": \"\"}}, \"type\": \"scattergl\"}], \"scattermapbox\": [{\"marker\": {\"colorbar\": {\"outlinewidth\": 0, \"ticks\": \"\"}}, \"type\": \"scattermapbox\"}], \"scatterpolar\": [{\"marker\": {\"colorbar\": {\"outlinewidth\": 0, \"ticks\": \"\"}}, \"type\": \"scatterpolar\"}], \"scatterpolargl\": [{\"marker\": {\"colorbar\": {\"outlinewidth\": 0, \"ticks\": \"\"}}, \"type\": \"scatterpolargl\"}], \"scatterternary\": [{\"marker\": {\"colorbar\": {\"outlinewidth\": 0, \"ticks\": \"\"}}, \"type\": \"scatterternary\"}], \"surface\": [{\"colorbar\": {\"outlinewidth\": 0, \"ticks\": \"\"}, \"colorscale\": [[0.0, \"#0d0887\"], [0.1111111111111111, \"#46039f\"], [0.2222222222222222, \"#7201a8\"], [0.3333333333333333, \"#9c179e\"], [0.4444444444444444, \"#bd3786\"], [0.5555555555555556, \"#d8576b\"], [0.6666666666666666, \"#ed7953\"], [0.7777777777777778, \"#fb9f3a\"], [0.8888888888888888, \"#fdca26\"], [1.0, \"#f0f921\"]], \"type\": \"surface\"}], \"table\": [{\"cells\": {\"fill\": {\"color\": \"#EBF0F8\"}, \"line\": {\"color\": \"white\"}}, \"header\": {\"fill\": {\"color\": \"#C8D4E3\"}, \"line\": {\"color\": \"white\"}}, \"type\": \"table\"}]}, \"layout\": {\"annotationdefaults\": {\"arrowcolor\": \"#2a3f5f\", \"arrowhead\": 0, \"arrowwidth\": 1}, \"coloraxis\": {\"colorbar\": {\"outlinewidth\": 0, \"ticks\": \"\"}}, \"colorscale\": {\"diverging\": [[0, \"#8e0152\"], [0.1, \"#c51b7d\"], [0.2, \"#de77ae\"], [0.3, \"#f1b6da\"], [0.4, \"#fde0ef\"], [0.5, \"#f7f7f7\"], [0.6, \"#e6f5d0\"], [0.7, \"#b8e186\"], [0.8, \"#7fbc41\"], [0.9, \"#4d9221\"], [1, \"#276419\"]], \"sequential\": [[0.0, \"#0d0887\"], [0.1111111111111111, \"#46039f\"], [0.2222222222222222, \"#7201a8\"], [0.3333333333333333, \"#9c179e\"], [0.4444444444444444, \"#bd3786\"], [0.5555555555555556, \"#d8576b\"], [0.6666666666666666, \"#ed7953\"], [0.7777777777777778, \"#fb9f3a\"], [0.8888888888888888, \"#fdca26\"], [1.0, \"#f0f921\"]], \"sequentialminus\": [[0.0, \"#0d0887\"], [0.1111111111111111, \"#46039f\"], [0.2222222222222222, \"#7201a8\"], [0.3333333333333333, \"#9c179e\"], [0.4444444444444444, \"#bd3786\"], [0.5555555555555556, \"#d8576b\"], [0.6666666666666666, \"#ed7953\"], [0.7777777777777778, \"#fb9f3a\"], [0.8888888888888888, \"#fdca26\"], [1.0, \"#f0f921\"]]}, \"colorway\": [\"#636efa\", \"#EF553B\", \"#00cc96\", \"#ab63fa\", \"#FFA15A\", \"#19d3f3\", \"#FF6692\", \"#B6E880\", \"#FF97FF\", \"#FECB52\"], \"font\": {\"color\": \"#2a3f5f\"}, \"geo\": {\"bgcolor\": \"white\", \"lakecolor\": \"white\", \"landcolor\": \"#E5ECF6\", \"showlakes\": true, \"showland\": true, \"subunitcolor\": \"white\"}, \"hoverlabel\": {\"align\": \"left\"}, \"hovermode\": \"closest\", \"mapbox\": {\"style\": \"light\"}, \"paper_bgcolor\": \"white\", \"plot_bgcolor\": \"#E5ECF6\", \"polar\": {\"angularaxis\": {\"gridcolor\": \"white\", \"linecolor\": \"white\", \"ticks\": \"\"}, \"bgcolor\": \"#E5ECF6\", \"radialaxis\": {\"gridcolor\": \"white\", \"linecolor\": \"white\", \"ticks\": \"\"}}, \"scene\": {\"xaxis\": {\"backgroundcolor\": \"#E5ECF6\", \"gridcolor\": \"white\", \"gridwidth\": 2, \"linecolor\": \"white\", \"showbackground\": true, \"ticks\": \"\", \"zerolinecolor\": \"white\"}, \"yaxis\": {\"backgroundcolor\": \"#E5ECF6\", \"gridcolor\": \"white\", \"gridwidth\": 2, \"linecolor\": \"white\", \"showbackground\": true, \"ticks\": \"\", \"zerolinecolor\": \"white\"}, \"zaxis\": {\"backgroundcolor\": \"#E5ECF6\", \"gridcolor\": \"white\", \"gridwidth\": 2, \"linecolor\": \"white\", \"showbackground\": true, \"ticks\": \"\", \"zerolinecolor\": \"white\"}}, \"shapedefaults\": {\"line\": {\"color\": \"#2a3f5f\"}}, \"ternary\": {\"aaxis\": {\"gridcolor\": \"white\", \"linecolor\": \"white\", \"ticks\": \"\"}, \"baxis\": {\"gridcolor\": \"white\", \"linecolor\": \"white\", \"ticks\": \"\"}, \"bgcolor\": \"#E5ECF6\", \"caxis\": {\"gridcolor\": \"white\", \"linecolor\": \"white\", \"ticks\": \"\"}}, \"title\": {\"x\": 0.05}, \"xaxis\": {\"automargin\": true, \"gridcolor\": \"white\", \"linecolor\": \"white\", \"ticks\": \"\", \"title\": {\"standoff\": 15}, \"zerolinecolor\": \"white\", \"zerolinewidth\": 2}, \"yaxis\": {\"automargin\": true, \"gridcolor\": \"white\", \"linecolor\": \"white\", \"ticks\": \"\", \"title\": {\"standoff\": 15}, \"zerolinecolor\": \"white\", \"zerolinewidth\": 2}}}, \"title\": {\"text\": \"Weapon Types Attack\"}},                        {\"responsive\": true}                    ).then(function(){\n",
       "                            \n",
       "var gd = document.getElementById('47467d16-fd20-44d3-b3c0-17daf51e520f');\n",
       "var x = new MutationObserver(function (mutations, observer) {{\n",
       "        var display = window.getComputedStyle(gd).display;\n",
       "        if (!display || display === 'none') {{\n",
       "            console.log([gd, 'removed!']);\n",
       "            Plotly.purge(gd);\n",
       "            observer.disconnect();\n",
       "        }}\n",
       "}});\n",
       "\n",
       "// Listen for the removal of the full notebook cells\n",
       "var notebookContainer = gd.closest('#notebook-container');\n",
       "if (notebookContainer) {{\n",
       "    x.observe(notebookContainer, {childList: true});\n",
       "}}\n",
       "\n",
       "// Listen for the clearing of the current output cell\n",
       "var outputEl = gd.closest('.output');\n",
       "if (outputEl) {{\n",
       "    x.observe(outputEl, {childList: true});\n",
       "}}\n",
       "\n",
       "                        })                };                });            </script>        </div>"
      ]
     },
     "metadata": {},
     "output_type": "display_data"
    }
   ],
   "source": [
    "#Graph shows the most used weapons for attack\n",
    "weapon_type= df['weaptype1_txt'].value_counts().reset_index().rename(columns={'index': 'Weapon Types'})\n",
    "weapon_type.columns.values[1] = 'Count'\n",
    "\n",
    "fig = px.bar(weapon_type, x='Weapon Types', y='Count',\n",
    "             hover_data=['Count'], color='Count', height=400)\n",
    "fig.show()\n",
    "\n",
    "\n",
    "fig = px.pie(weapon_type, values='Count', names='Weapon Types',\n",
    "             title='Weapon Types Attack',\n",
    "             hover_data=['Count'])\n",
    "fig.update_traces(textposition='inside', textinfo='percent+label')\n",
    "fig.show()"
   ]
  },
  {
   "cell_type": "code",
   "execution_count": 48,
   "metadata": {
    "scrolled": true
   },
   "outputs": [
    {
     "data": {
      "application/vnd.plotly.v1+json": {
       "config": {
        "plotlyServerURL": "https://plot.ly"
       },
       "data": [
        {
         "alignmentgroup": "True",
         "customdata": [
          [
           14419
          ],
          [
           12370
          ],
          [
           11053
          ],
          [
           10893
          ],
          [
           8519
          ],
          [
           7785
          ],
          [
           4481
          ],
          [
           4250
          ],
          [
           4093
          ],
          [
           4034
          ],
          [
           4003
          ],
          [
           3973
          ],
          [
           3798
          ],
          [
           3425
          ],
          [
           3302
          ],
          [
           2889
          ],
          [
           2766
          ],
          [
           2589
          ],
          [
           2468
          ],
          [
           2340
          ],
          [
           2298
          ],
          [
           2284
          ],
          [
           2206
          ],
          [
           2033
          ],
          [
           2025
          ],
          [
           1992
          ],
          [
           1991
          ],
          [
           1977
          ],
          [
           1931
          ],
          [
           1813
          ],
          [
           1807
          ],
          [
           1694
          ],
          [
           1618
          ],
          [
           1228
          ],
          [
           1208
          ],
          [
           1145
          ],
          [
           1087
          ],
          [
           1054
          ],
          [
           913
          ],
          [
           843
          ],
          [
           676
          ],
          [
           588
          ],
          [
           531
          ],
          [
           518
          ],
          [
           482
          ],
          [
           382
          ],
          [
           356
          ]
         ],
         "hovertemplate": "Year=%{x}<br>Count=%{marker.color}<extra></extra>",
         "legendgroup": "",
         "marker": {
          "color": [
           14419,
           12370,
           11053,
           10893,
           8519,
           7785,
           4481,
           4250,
           4093,
           4034,
           4003,
           3973,
           3798,
           3425,
           3302,
           2889,
           2766,
           2589,
           2468,
           2340,
           2298,
           2284,
           2206,
           2033,
           2025,
           1992,
           1991,
           1977,
           1931,
           1813,
           1807,
           1694,
           1618,
           1228,
           1208,
           1145,
           1087,
           1054,
           913,
           843,
           676,
           588,
           531,
           518,
           482,
           382,
           356
          ],
          "coloraxis": "coloraxis"
         },
         "name": "",
         "offsetgroup": "",
         "orientation": "v",
         "showlegend": false,
         "textposition": "auto",
         "type": "bar",
         "x": [
          2014,
          2015,
          2013,
          2016,
          2017,
          2012,
          2011,
          2010,
          2008,
          2009,
          1991,
          1992,
          1989,
          1990,
          1988,
          2007,
          1984,
          1987,
          1994,
          1983,
          1985,
          2006,
          1986,
          1981,
          1997,
          1996,
          1980,
          1982,
          1995,
          1979,
          2005,
          2001,
          2000,
          1999,
          2002,
          2003,
          1978,
          2004,
          1977,
          1998,
          1976,
          1975,
          1970,
          1972,
          1974,
          1971,
          1973
         ],
         "xaxis": "x",
         "y": [
          14419,
          12370,
          11053,
          10893,
          8519,
          7785,
          4481,
          4250,
          4093,
          4034,
          4003,
          3973,
          3798,
          3425,
          3302,
          2889,
          2766,
          2589,
          2468,
          2340,
          2298,
          2284,
          2206,
          2033,
          2025,
          1992,
          1991,
          1977,
          1931,
          1813,
          1807,
          1694,
          1618,
          1228,
          1208,
          1145,
          1087,
          1054,
          913,
          843,
          676,
          588,
          531,
          518,
          482,
          382,
          356
         ],
         "yaxis": "y"
        }
       ],
       "layout": {
        "barmode": "relative",
        "coloraxis": {
         "colorbar": {
          "title": {
           "text": "Count"
          }
         },
         "colorscale": [
          [
           0,
           "#0d0887"
          ],
          [
           0.1111111111111111,
           "#46039f"
          ],
          [
           0.2222222222222222,
           "#7201a8"
          ],
          [
           0.3333333333333333,
           "#9c179e"
          ],
          [
           0.4444444444444444,
           "#bd3786"
          ],
          [
           0.5555555555555556,
           "#d8576b"
          ],
          [
           0.6666666666666666,
           "#ed7953"
          ],
          [
           0.7777777777777778,
           "#fb9f3a"
          ],
          [
           0.8888888888888888,
           "#fdca26"
          ],
          [
           1,
           "#f0f921"
          ]
         ]
        },
        "height": 400,
        "legend": {
         "tracegroupgap": 0
        },
        "margin": {
         "t": 60
        },
        "template": {
         "data": {
          "bar": [
           {
            "error_x": {
             "color": "#2a3f5f"
            },
            "error_y": {
             "color": "#2a3f5f"
            },
            "marker": {
             "line": {
              "color": "#E5ECF6",
              "width": 0.5
             }
            },
            "type": "bar"
           }
          ],
          "barpolar": [
           {
            "marker": {
             "line": {
              "color": "#E5ECF6",
              "width": 0.5
             }
            },
            "type": "barpolar"
           }
          ],
          "carpet": [
           {
            "aaxis": {
             "endlinecolor": "#2a3f5f",
             "gridcolor": "white",
             "linecolor": "white",
             "minorgridcolor": "white",
             "startlinecolor": "#2a3f5f"
            },
            "baxis": {
             "endlinecolor": "#2a3f5f",
             "gridcolor": "white",
             "linecolor": "white",
             "minorgridcolor": "white",
             "startlinecolor": "#2a3f5f"
            },
            "type": "carpet"
           }
          ],
          "choropleth": [
           {
            "colorbar": {
             "outlinewidth": 0,
             "ticks": ""
            },
            "type": "choropleth"
           }
          ],
          "contour": [
           {
            "colorbar": {
             "outlinewidth": 0,
             "ticks": ""
            },
            "colorscale": [
             [
              0,
              "#0d0887"
             ],
             [
              0.1111111111111111,
              "#46039f"
             ],
             [
              0.2222222222222222,
              "#7201a8"
             ],
             [
              0.3333333333333333,
              "#9c179e"
             ],
             [
              0.4444444444444444,
              "#bd3786"
             ],
             [
              0.5555555555555556,
              "#d8576b"
             ],
             [
              0.6666666666666666,
              "#ed7953"
             ],
             [
              0.7777777777777778,
              "#fb9f3a"
             ],
             [
              0.8888888888888888,
              "#fdca26"
             ],
             [
              1,
              "#f0f921"
             ]
            ],
            "type": "contour"
           }
          ],
          "contourcarpet": [
           {
            "colorbar": {
             "outlinewidth": 0,
             "ticks": ""
            },
            "type": "contourcarpet"
           }
          ],
          "heatmap": [
           {
            "colorbar": {
             "outlinewidth": 0,
             "ticks": ""
            },
            "colorscale": [
             [
              0,
              "#0d0887"
             ],
             [
              0.1111111111111111,
              "#46039f"
             ],
             [
              0.2222222222222222,
              "#7201a8"
             ],
             [
              0.3333333333333333,
              "#9c179e"
             ],
             [
              0.4444444444444444,
              "#bd3786"
             ],
             [
              0.5555555555555556,
              "#d8576b"
             ],
             [
              0.6666666666666666,
              "#ed7953"
             ],
             [
              0.7777777777777778,
              "#fb9f3a"
             ],
             [
              0.8888888888888888,
              "#fdca26"
             ],
             [
              1,
              "#f0f921"
             ]
            ],
            "type": "heatmap"
           }
          ],
          "heatmapgl": [
           {
            "colorbar": {
             "outlinewidth": 0,
             "ticks": ""
            },
            "colorscale": [
             [
              0,
              "#0d0887"
             ],
             [
              0.1111111111111111,
              "#46039f"
             ],
             [
              0.2222222222222222,
              "#7201a8"
             ],
             [
              0.3333333333333333,
              "#9c179e"
             ],
             [
              0.4444444444444444,
              "#bd3786"
             ],
             [
              0.5555555555555556,
              "#d8576b"
             ],
             [
              0.6666666666666666,
              "#ed7953"
             ],
             [
              0.7777777777777778,
              "#fb9f3a"
             ],
             [
              0.8888888888888888,
              "#fdca26"
             ],
             [
              1,
              "#f0f921"
             ]
            ],
            "type": "heatmapgl"
           }
          ],
          "histogram": [
           {
            "marker": {
             "colorbar": {
              "outlinewidth": 0,
              "ticks": ""
             }
            },
            "type": "histogram"
           }
          ],
          "histogram2d": [
           {
            "colorbar": {
             "outlinewidth": 0,
             "ticks": ""
            },
            "colorscale": [
             [
              0,
              "#0d0887"
             ],
             [
              0.1111111111111111,
              "#46039f"
             ],
             [
              0.2222222222222222,
              "#7201a8"
             ],
             [
              0.3333333333333333,
              "#9c179e"
             ],
             [
              0.4444444444444444,
              "#bd3786"
             ],
             [
              0.5555555555555556,
              "#d8576b"
             ],
             [
              0.6666666666666666,
              "#ed7953"
             ],
             [
              0.7777777777777778,
              "#fb9f3a"
             ],
             [
              0.8888888888888888,
              "#fdca26"
             ],
             [
              1,
              "#f0f921"
             ]
            ],
            "type": "histogram2d"
           }
          ],
          "histogram2dcontour": [
           {
            "colorbar": {
             "outlinewidth": 0,
             "ticks": ""
            },
            "colorscale": [
             [
              0,
              "#0d0887"
             ],
             [
              0.1111111111111111,
              "#46039f"
             ],
             [
              0.2222222222222222,
              "#7201a8"
             ],
             [
              0.3333333333333333,
              "#9c179e"
             ],
             [
              0.4444444444444444,
              "#bd3786"
             ],
             [
              0.5555555555555556,
              "#d8576b"
             ],
             [
              0.6666666666666666,
              "#ed7953"
             ],
             [
              0.7777777777777778,
              "#fb9f3a"
             ],
             [
              0.8888888888888888,
              "#fdca26"
             ],
             [
              1,
              "#f0f921"
             ]
            ],
            "type": "histogram2dcontour"
           }
          ],
          "mesh3d": [
           {
            "colorbar": {
             "outlinewidth": 0,
             "ticks": ""
            },
            "type": "mesh3d"
           }
          ],
          "parcoords": [
           {
            "line": {
             "colorbar": {
              "outlinewidth": 0,
              "ticks": ""
             }
            },
            "type": "parcoords"
           }
          ],
          "pie": [
           {
            "automargin": true,
            "type": "pie"
           }
          ],
          "scatter": [
           {
            "marker": {
             "colorbar": {
              "outlinewidth": 0,
              "ticks": ""
             }
            },
            "type": "scatter"
           }
          ],
          "scatter3d": [
           {
            "line": {
             "colorbar": {
              "outlinewidth": 0,
              "ticks": ""
             }
            },
            "marker": {
             "colorbar": {
              "outlinewidth": 0,
              "ticks": ""
             }
            },
            "type": "scatter3d"
           }
          ],
          "scattercarpet": [
           {
            "marker": {
             "colorbar": {
              "outlinewidth": 0,
              "ticks": ""
             }
            },
            "type": "scattercarpet"
           }
          ],
          "scattergeo": [
           {
            "marker": {
             "colorbar": {
              "outlinewidth": 0,
              "ticks": ""
             }
            },
            "type": "scattergeo"
           }
          ],
          "scattergl": [
           {
            "marker": {
             "colorbar": {
              "outlinewidth": 0,
              "ticks": ""
             }
            },
            "type": "scattergl"
           }
          ],
          "scattermapbox": [
           {
            "marker": {
             "colorbar": {
              "outlinewidth": 0,
              "ticks": ""
             }
            },
            "type": "scattermapbox"
           }
          ],
          "scatterpolar": [
           {
            "marker": {
             "colorbar": {
              "outlinewidth": 0,
              "ticks": ""
             }
            },
            "type": "scatterpolar"
           }
          ],
          "scatterpolargl": [
           {
            "marker": {
             "colorbar": {
              "outlinewidth": 0,
              "ticks": ""
             }
            },
            "type": "scatterpolargl"
           }
          ],
          "scatterternary": [
           {
            "marker": {
             "colorbar": {
              "outlinewidth": 0,
              "ticks": ""
             }
            },
            "type": "scatterternary"
           }
          ],
          "surface": [
           {
            "colorbar": {
             "outlinewidth": 0,
             "ticks": ""
            },
            "colorscale": [
             [
              0,
              "#0d0887"
             ],
             [
              0.1111111111111111,
              "#46039f"
             ],
             [
              0.2222222222222222,
              "#7201a8"
             ],
             [
              0.3333333333333333,
              "#9c179e"
             ],
             [
              0.4444444444444444,
              "#bd3786"
             ],
             [
              0.5555555555555556,
              "#d8576b"
             ],
             [
              0.6666666666666666,
              "#ed7953"
             ],
             [
              0.7777777777777778,
              "#fb9f3a"
             ],
             [
              0.8888888888888888,
              "#fdca26"
             ],
             [
              1,
              "#f0f921"
             ]
            ],
            "type": "surface"
           }
          ],
          "table": [
           {
            "cells": {
             "fill": {
              "color": "#EBF0F8"
             },
             "line": {
              "color": "white"
             }
            },
            "header": {
             "fill": {
              "color": "#C8D4E3"
             },
             "line": {
              "color": "white"
             }
            },
            "type": "table"
           }
          ]
         },
         "layout": {
          "annotationdefaults": {
           "arrowcolor": "#2a3f5f",
           "arrowhead": 0,
           "arrowwidth": 1
          },
          "coloraxis": {
           "colorbar": {
            "outlinewidth": 0,
            "ticks": ""
           }
          },
          "colorscale": {
           "diverging": [
            [
             0,
             "#8e0152"
            ],
            [
             0.1,
             "#c51b7d"
            ],
            [
             0.2,
             "#de77ae"
            ],
            [
             0.3,
             "#f1b6da"
            ],
            [
             0.4,
             "#fde0ef"
            ],
            [
             0.5,
             "#f7f7f7"
            ],
            [
             0.6,
             "#e6f5d0"
            ],
            [
             0.7,
             "#b8e186"
            ],
            [
             0.8,
             "#7fbc41"
            ],
            [
             0.9,
             "#4d9221"
            ],
            [
             1,
             "#276419"
            ]
           ],
           "sequential": [
            [
             0,
             "#0d0887"
            ],
            [
             0.1111111111111111,
             "#46039f"
            ],
            [
             0.2222222222222222,
             "#7201a8"
            ],
            [
             0.3333333333333333,
             "#9c179e"
            ],
            [
             0.4444444444444444,
             "#bd3786"
            ],
            [
             0.5555555555555556,
             "#d8576b"
            ],
            [
             0.6666666666666666,
             "#ed7953"
            ],
            [
             0.7777777777777778,
             "#fb9f3a"
            ],
            [
             0.8888888888888888,
             "#fdca26"
            ],
            [
             1,
             "#f0f921"
            ]
           ],
           "sequentialminus": [
            [
             0,
             "#0d0887"
            ],
            [
             0.1111111111111111,
             "#46039f"
            ],
            [
             0.2222222222222222,
             "#7201a8"
            ],
            [
             0.3333333333333333,
             "#9c179e"
            ],
            [
             0.4444444444444444,
             "#bd3786"
            ],
            [
             0.5555555555555556,
             "#d8576b"
            ],
            [
             0.6666666666666666,
             "#ed7953"
            ],
            [
             0.7777777777777778,
             "#fb9f3a"
            ],
            [
             0.8888888888888888,
             "#fdca26"
            ],
            [
             1,
             "#f0f921"
            ]
           ]
          },
          "colorway": [
           "#636efa",
           "#EF553B",
           "#00cc96",
           "#ab63fa",
           "#FFA15A",
           "#19d3f3",
           "#FF6692",
           "#B6E880",
           "#FF97FF",
           "#FECB52"
          ],
          "font": {
           "color": "#2a3f5f"
          },
          "geo": {
           "bgcolor": "white",
           "lakecolor": "white",
           "landcolor": "#E5ECF6",
           "showlakes": true,
           "showland": true,
           "subunitcolor": "white"
          },
          "hoverlabel": {
           "align": "left"
          },
          "hovermode": "closest",
          "mapbox": {
           "style": "light"
          },
          "paper_bgcolor": "white",
          "plot_bgcolor": "#E5ECF6",
          "polar": {
           "angularaxis": {
            "gridcolor": "white",
            "linecolor": "white",
            "ticks": ""
           },
           "bgcolor": "#E5ECF6",
           "radialaxis": {
            "gridcolor": "white",
            "linecolor": "white",
            "ticks": ""
           }
          },
          "scene": {
           "xaxis": {
            "backgroundcolor": "#E5ECF6",
            "gridcolor": "white",
            "gridwidth": 2,
            "linecolor": "white",
            "showbackground": true,
            "ticks": "",
            "zerolinecolor": "white"
           },
           "yaxis": {
            "backgroundcolor": "#E5ECF6",
            "gridcolor": "white",
            "gridwidth": 2,
            "linecolor": "white",
            "showbackground": true,
            "ticks": "",
            "zerolinecolor": "white"
           },
           "zaxis": {
            "backgroundcolor": "#E5ECF6",
            "gridcolor": "white",
            "gridwidth": 2,
            "linecolor": "white",
            "showbackground": true,
            "ticks": "",
            "zerolinecolor": "white"
           }
          },
          "shapedefaults": {
           "line": {
            "color": "#2a3f5f"
           }
          },
          "ternary": {
           "aaxis": {
            "gridcolor": "white",
            "linecolor": "white",
            "ticks": ""
           },
           "baxis": {
            "gridcolor": "white",
            "linecolor": "white",
            "ticks": ""
           },
           "bgcolor": "#E5ECF6",
           "caxis": {
            "gridcolor": "white",
            "linecolor": "white",
            "ticks": ""
           }
          },
          "title": {
           "x": 0.05
          },
          "xaxis": {
           "automargin": true,
           "gridcolor": "white",
           "linecolor": "white",
           "ticks": "",
           "title": {
            "standoff": 15
           },
           "zerolinecolor": "white",
           "zerolinewidth": 2
          },
          "yaxis": {
           "automargin": true,
           "gridcolor": "white",
           "linecolor": "white",
           "ticks": "",
           "title": {
            "standoff": 15
           },
           "zerolinecolor": "white",
           "zerolinewidth": 2
          }
         }
        },
        "xaxis": {
         "anchor": "y",
         "domain": [
          0,
          1
         ],
         "title": {
          "text": "Year"
         }
        },
        "yaxis": {
         "anchor": "x",
         "domain": [
          0,
          1
         ],
         "title": {
          "text": "Count"
         }
        }
       }
      },
      "text/html": [
       "<div>                            <div id=\"18d8b0ad-c9ff-4116-a61f-4f491266d6db\" class=\"plotly-graph-div\" style=\"height:400px; width:100%;\"></div>            <script type=\"text/javascript\">                require([\"plotly\"], function(Plotly) {                    window.PLOTLYENV=window.PLOTLYENV || {};                                    if (document.getElementById(\"18d8b0ad-c9ff-4116-a61f-4f491266d6db\")) {                    Plotly.newPlot(                        \"18d8b0ad-c9ff-4116-a61f-4f491266d6db\",                        [{\"alignmentgroup\": \"True\", \"customdata\": [[14419], [12370], [11053], [10893], [8519], [7785], [4481], [4250], [4093], [4034], [4003], [3973], [3798], [3425], [3302], [2889], [2766], [2589], [2468], [2340], [2298], [2284], [2206], [2033], [2025], [1992], [1991], [1977], [1931], [1813], [1807], [1694], [1618], [1228], [1208], [1145], [1087], [1054], [913], [843], [676], [588], [531], [518], [482], [382], [356]], \"hovertemplate\": \"Year=%{x}<br>Count=%{marker.color}<extra></extra>\", \"legendgroup\": \"\", \"marker\": {\"color\": [14419, 12370, 11053, 10893, 8519, 7785, 4481, 4250, 4093, 4034, 4003, 3973, 3798, 3425, 3302, 2889, 2766, 2589, 2468, 2340, 2298, 2284, 2206, 2033, 2025, 1992, 1991, 1977, 1931, 1813, 1807, 1694, 1618, 1228, 1208, 1145, 1087, 1054, 913, 843, 676, 588, 531, 518, 482, 382, 356], \"coloraxis\": \"coloraxis\"}, \"name\": \"\", \"offsetgroup\": \"\", \"orientation\": \"v\", \"showlegend\": false, \"textposition\": \"auto\", \"type\": \"bar\", \"x\": [2014, 2015, 2013, 2016, 2017, 2012, 2011, 2010, 2008, 2009, 1991, 1992, 1989, 1990, 1988, 2007, 1984, 1987, 1994, 1983, 1985, 2006, 1986, 1981, 1997, 1996, 1980, 1982, 1995, 1979, 2005, 2001, 2000, 1999, 2002, 2003, 1978, 2004, 1977, 1998, 1976, 1975, 1970, 1972, 1974, 1971, 1973], \"xaxis\": \"x\", \"y\": [14419, 12370, 11053, 10893, 8519, 7785, 4481, 4250, 4093, 4034, 4003, 3973, 3798, 3425, 3302, 2889, 2766, 2589, 2468, 2340, 2298, 2284, 2206, 2033, 2025, 1992, 1991, 1977, 1931, 1813, 1807, 1694, 1618, 1228, 1208, 1145, 1087, 1054, 913, 843, 676, 588, 531, 518, 482, 382, 356], \"yaxis\": \"y\"}],                        {\"barmode\": \"relative\", \"coloraxis\": {\"colorbar\": {\"title\": {\"text\": \"Count\"}}, \"colorscale\": [[0.0, \"#0d0887\"], [0.1111111111111111, \"#46039f\"], [0.2222222222222222, \"#7201a8\"], [0.3333333333333333, \"#9c179e\"], [0.4444444444444444, \"#bd3786\"], [0.5555555555555556, \"#d8576b\"], [0.6666666666666666, \"#ed7953\"], [0.7777777777777778, \"#fb9f3a\"], [0.8888888888888888, \"#fdca26\"], [1.0, \"#f0f921\"]]}, \"height\": 400, \"legend\": {\"tracegroupgap\": 0}, \"margin\": {\"t\": 60}, \"template\": {\"data\": {\"bar\": [{\"error_x\": {\"color\": \"#2a3f5f\"}, \"error_y\": {\"color\": \"#2a3f5f\"}, \"marker\": {\"line\": {\"color\": \"#E5ECF6\", \"width\": 0.5}}, \"type\": \"bar\"}], \"barpolar\": [{\"marker\": {\"line\": {\"color\": \"#E5ECF6\", \"width\": 0.5}}, \"type\": \"barpolar\"}], \"carpet\": [{\"aaxis\": {\"endlinecolor\": \"#2a3f5f\", \"gridcolor\": \"white\", \"linecolor\": \"white\", \"minorgridcolor\": \"white\", \"startlinecolor\": \"#2a3f5f\"}, \"baxis\": {\"endlinecolor\": \"#2a3f5f\", \"gridcolor\": \"white\", \"linecolor\": \"white\", \"minorgridcolor\": \"white\", \"startlinecolor\": \"#2a3f5f\"}, \"type\": \"carpet\"}], \"choropleth\": [{\"colorbar\": {\"outlinewidth\": 0, \"ticks\": \"\"}, \"type\": \"choropleth\"}], \"contour\": [{\"colorbar\": {\"outlinewidth\": 0, \"ticks\": \"\"}, \"colorscale\": [[0.0, \"#0d0887\"], [0.1111111111111111, \"#46039f\"], [0.2222222222222222, \"#7201a8\"], [0.3333333333333333, \"#9c179e\"], [0.4444444444444444, \"#bd3786\"], [0.5555555555555556, \"#d8576b\"], [0.6666666666666666, \"#ed7953\"], [0.7777777777777778, \"#fb9f3a\"], [0.8888888888888888, \"#fdca26\"], [1.0, \"#f0f921\"]], \"type\": \"contour\"}], \"contourcarpet\": [{\"colorbar\": {\"outlinewidth\": 0, \"ticks\": \"\"}, \"type\": \"contourcarpet\"}], \"heatmap\": [{\"colorbar\": {\"outlinewidth\": 0, \"ticks\": \"\"}, \"colorscale\": [[0.0, \"#0d0887\"], [0.1111111111111111, \"#46039f\"], [0.2222222222222222, \"#7201a8\"], [0.3333333333333333, \"#9c179e\"], [0.4444444444444444, \"#bd3786\"], [0.5555555555555556, \"#d8576b\"], [0.6666666666666666, \"#ed7953\"], [0.7777777777777778, \"#fb9f3a\"], [0.8888888888888888, \"#fdca26\"], [1.0, \"#f0f921\"]], \"type\": \"heatmap\"}], \"heatmapgl\": [{\"colorbar\": {\"outlinewidth\": 0, \"ticks\": \"\"}, \"colorscale\": [[0.0, \"#0d0887\"], [0.1111111111111111, \"#46039f\"], [0.2222222222222222, \"#7201a8\"], [0.3333333333333333, \"#9c179e\"], [0.4444444444444444, \"#bd3786\"], [0.5555555555555556, \"#d8576b\"], [0.6666666666666666, \"#ed7953\"], [0.7777777777777778, \"#fb9f3a\"], [0.8888888888888888, \"#fdca26\"], [1.0, \"#f0f921\"]], \"type\": \"heatmapgl\"}], \"histogram\": [{\"marker\": {\"colorbar\": {\"outlinewidth\": 0, \"ticks\": \"\"}}, \"type\": \"histogram\"}], \"histogram2d\": [{\"colorbar\": {\"outlinewidth\": 0, \"ticks\": \"\"}, \"colorscale\": [[0.0, \"#0d0887\"], [0.1111111111111111, \"#46039f\"], [0.2222222222222222, \"#7201a8\"], [0.3333333333333333, \"#9c179e\"], [0.4444444444444444, \"#bd3786\"], [0.5555555555555556, \"#d8576b\"], [0.6666666666666666, \"#ed7953\"], [0.7777777777777778, \"#fb9f3a\"], [0.8888888888888888, \"#fdca26\"], [1.0, \"#f0f921\"]], \"type\": \"histogram2d\"}], \"histogram2dcontour\": [{\"colorbar\": {\"outlinewidth\": 0, \"ticks\": \"\"}, \"colorscale\": [[0.0, \"#0d0887\"], [0.1111111111111111, \"#46039f\"], [0.2222222222222222, \"#7201a8\"], [0.3333333333333333, \"#9c179e\"], [0.4444444444444444, \"#bd3786\"], [0.5555555555555556, \"#d8576b\"], [0.6666666666666666, \"#ed7953\"], [0.7777777777777778, \"#fb9f3a\"], [0.8888888888888888, \"#fdca26\"], [1.0, \"#f0f921\"]], \"type\": \"histogram2dcontour\"}], \"mesh3d\": [{\"colorbar\": {\"outlinewidth\": 0, \"ticks\": \"\"}, \"type\": \"mesh3d\"}], \"parcoords\": [{\"line\": {\"colorbar\": {\"outlinewidth\": 0, \"ticks\": \"\"}}, \"type\": \"parcoords\"}], \"pie\": [{\"automargin\": true, \"type\": \"pie\"}], \"scatter\": [{\"marker\": {\"colorbar\": {\"outlinewidth\": 0, \"ticks\": \"\"}}, \"type\": \"scatter\"}], \"scatter3d\": [{\"line\": {\"colorbar\": {\"outlinewidth\": 0, \"ticks\": \"\"}}, \"marker\": {\"colorbar\": {\"outlinewidth\": 0, \"ticks\": \"\"}}, \"type\": \"scatter3d\"}], \"scattercarpet\": [{\"marker\": {\"colorbar\": {\"outlinewidth\": 0, \"ticks\": \"\"}}, \"type\": \"scattercarpet\"}], \"scattergeo\": [{\"marker\": {\"colorbar\": {\"outlinewidth\": 0, \"ticks\": \"\"}}, \"type\": \"scattergeo\"}], \"scattergl\": [{\"marker\": {\"colorbar\": {\"outlinewidth\": 0, \"ticks\": \"\"}}, \"type\": \"scattergl\"}], \"scattermapbox\": [{\"marker\": {\"colorbar\": {\"outlinewidth\": 0, \"ticks\": \"\"}}, \"type\": \"scattermapbox\"}], \"scatterpolar\": [{\"marker\": {\"colorbar\": {\"outlinewidth\": 0, \"ticks\": \"\"}}, \"type\": \"scatterpolar\"}], \"scatterpolargl\": [{\"marker\": {\"colorbar\": {\"outlinewidth\": 0, \"ticks\": \"\"}}, \"type\": \"scatterpolargl\"}], \"scatterternary\": [{\"marker\": {\"colorbar\": {\"outlinewidth\": 0, \"ticks\": \"\"}}, \"type\": \"scatterternary\"}], \"surface\": [{\"colorbar\": {\"outlinewidth\": 0, \"ticks\": \"\"}, \"colorscale\": [[0.0, \"#0d0887\"], [0.1111111111111111, \"#46039f\"], [0.2222222222222222, \"#7201a8\"], [0.3333333333333333, \"#9c179e\"], [0.4444444444444444, \"#bd3786\"], [0.5555555555555556, \"#d8576b\"], [0.6666666666666666, \"#ed7953\"], [0.7777777777777778, \"#fb9f3a\"], [0.8888888888888888, \"#fdca26\"], [1.0, \"#f0f921\"]], \"type\": \"surface\"}], \"table\": [{\"cells\": {\"fill\": {\"color\": \"#EBF0F8\"}, \"line\": {\"color\": \"white\"}}, \"header\": {\"fill\": {\"color\": \"#C8D4E3\"}, \"line\": {\"color\": \"white\"}}, \"type\": \"table\"}]}, \"layout\": {\"annotationdefaults\": {\"arrowcolor\": \"#2a3f5f\", \"arrowhead\": 0, \"arrowwidth\": 1}, \"coloraxis\": {\"colorbar\": {\"outlinewidth\": 0, \"ticks\": \"\"}}, \"colorscale\": {\"diverging\": [[0, \"#8e0152\"], [0.1, \"#c51b7d\"], [0.2, \"#de77ae\"], [0.3, \"#f1b6da\"], [0.4, \"#fde0ef\"], [0.5, \"#f7f7f7\"], [0.6, \"#e6f5d0\"], [0.7, \"#b8e186\"], [0.8, \"#7fbc41\"], [0.9, \"#4d9221\"], [1, \"#276419\"]], \"sequential\": [[0.0, \"#0d0887\"], [0.1111111111111111, \"#46039f\"], [0.2222222222222222, \"#7201a8\"], [0.3333333333333333, \"#9c179e\"], [0.4444444444444444, \"#bd3786\"], [0.5555555555555556, \"#d8576b\"], [0.6666666666666666, \"#ed7953\"], [0.7777777777777778, \"#fb9f3a\"], [0.8888888888888888, \"#fdca26\"], [1.0, \"#f0f921\"]], \"sequentialminus\": [[0.0, \"#0d0887\"], [0.1111111111111111, \"#46039f\"], [0.2222222222222222, \"#7201a8\"], [0.3333333333333333, \"#9c179e\"], [0.4444444444444444, \"#bd3786\"], [0.5555555555555556, \"#d8576b\"], [0.6666666666666666, \"#ed7953\"], [0.7777777777777778, \"#fb9f3a\"], [0.8888888888888888, \"#fdca26\"], [1.0, \"#f0f921\"]]}, \"colorway\": [\"#636efa\", \"#EF553B\", \"#00cc96\", \"#ab63fa\", \"#FFA15A\", \"#19d3f3\", \"#FF6692\", \"#B6E880\", \"#FF97FF\", \"#FECB52\"], \"font\": {\"color\": \"#2a3f5f\"}, \"geo\": {\"bgcolor\": \"white\", \"lakecolor\": \"white\", \"landcolor\": \"#E5ECF6\", \"showlakes\": true, \"showland\": true, \"subunitcolor\": \"white\"}, \"hoverlabel\": {\"align\": \"left\"}, \"hovermode\": \"closest\", \"mapbox\": {\"style\": \"light\"}, \"paper_bgcolor\": \"white\", \"plot_bgcolor\": \"#E5ECF6\", \"polar\": {\"angularaxis\": {\"gridcolor\": \"white\", \"linecolor\": \"white\", \"ticks\": \"\"}, \"bgcolor\": \"#E5ECF6\", \"radialaxis\": {\"gridcolor\": \"white\", \"linecolor\": \"white\", \"ticks\": \"\"}}, \"scene\": {\"xaxis\": {\"backgroundcolor\": \"#E5ECF6\", \"gridcolor\": \"white\", \"gridwidth\": 2, \"linecolor\": \"white\", \"showbackground\": true, \"ticks\": \"\", \"zerolinecolor\": \"white\"}, \"yaxis\": {\"backgroundcolor\": \"#E5ECF6\", \"gridcolor\": \"white\", \"gridwidth\": 2, \"linecolor\": \"white\", \"showbackground\": true, \"ticks\": \"\", \"zerolinecolor\": \"white\"}, \"zaxis\": {\"backgroundcolor\": \"#E5ECF6\", \"gridcolor\": \"white\", \"gridwidth\": 2, \"linecolor\": \"white\", \"showbackground\": true, \"ticks\": \"\", \"zerolinecolor\": \"white\"}}, \"shapedefaults\": {\"line\": {\"color\": \"#2a3f5f\"}}, \"ternary\": {\"aaxis\": {\"gridcolor\": \"white\", \"linecolor\": \"white\", \"ticks\": \"\"}, \"baxis\": {\"gridcolor\": \"white\", \"linecolor\": \"white\", \"ticks\": \"\"}, \"bgcolor\": \"#E5ECF6\", \"caxis\": {\"gridcolor\": \"white\", \"linecolor\": \"white\", \"ticks\": \"\"}}, \"title\": {\"x\": 0.05}, \"xaxis\": {\"automargin\": true, \"gridcolor\": \"white\", \"linecolor\": \"white\", \"ticks\": \"\", \"title\": {\"standoff\": 15}, \"zerolinecolor\": \"white\", \"zerolinewidth\": 2}, \"yaxis\": {\"automargin\": true, \"gridcolor\": \"white\", \"linecolor\": \"white\", \"ticks\": \"\", \"title\": {\"standoff\": 15}, \"zerolinecolor\": \"white\", \"zerolinewidth\": 2}}}, \"xaxis\": {\"anchor\": \"y\", \"domain\": [0.0, 1.0], \"title\": {\"text\": \"Year\"}}, \"yaxis\": {\"anchor\": \"x\", \"domain\": [0.0, 1.0], \"title\": {\"text\": \"Count\"}}},                        {\"responsive\": true}                    ).then(function(){\n",
       "                            \n",
       "var gd = document.getElementById('18d8b0ad-c9ff-4116-a61f-4f491266d6db');\n",
       "var x = new MutationObserver(function (mutations, observer) {{\n",
       "        var display = window.getComputedStyle(gd).display;\n",
       "        if (!display || display === 'none') {{\n",
       "            console.log([gd, 'removed!']);\n",
       "            Plotly.purge(gd);\n",
       "            observer.disconnect();\n",
       "        }}\n",
       "}});\n",
       "\n",
       "// Listen for the removal of the full notebook cells\n",
       "var notebookContainer = gd.closest('#notebook-container');\n",
       "if (notebookContainer) {{\n",
       "    x.observe(notebookContainer, {childList: true});\n",
       "}}\n",
       "\n",
       "// Listen for the clearing of the current output cell\n",
       "var outputEl = gd.closest('.output');\n",
       "if (outputEl) {{\n",
       "    x.observe(outputEl, {childList: true});\n",
       "}}\n",
       "\n",
       "                        })                };                });            </script>        </div>"
      ]
     },
     "metadata": {},
     "output_type": "display_data"
    }
   ],
   "source": [
    "#Graph showsfrequency of attacks by year\n",
    "attack_on_years= df['iyear'].value_counts().reset_index().rename(columns={'index': 'Year'})\n",
    "attack_on_years.columns.values[1] = 'Count'\n",
    "\n",
    "fig = px.bar(attack_on_years, x='Year', y='Count',\n",
    "             hover_data=['Count'], color='Count', height=400)\n",
    "fig.show()"
   ]
  },
  {
   "cell_type": "markdown",
   "metadata": {},
   "source": [
    "# Conclusion"
   ]
  },
  {
   "cell_type": "markdown",
   "metadata": {},
   "source": [
    "Hot zone is 'Iraq'\n",
    "\n",
    "Top 5 Countries under attack - Iraq,Pakistan,Afganistan,India,Colombia\n",
    "\n",
    "Most used weapons - Explosives,Firearms,Incendiary, Melee\n",
    "\n",
    "Top 5 Target types - Private Citizens & Property, Military, Police, Government (General) and Business."
   ]
  }
 ],
 "metadata": {
  "kernelspec": {
   "display_name": "Python 3",
   "language": "python",
   "name": "python3"
  },
  "language_info": {
   "codemirror_mode": {
    "name": "ipython",
    "version": 3
   },
   "file_extension": ".py",
   "mimetype": "text/x-python",
   "name": "python",
   "nbconvert_exporter": "python",
   "pygments_lexer": "ipython3",
   "version": "3.8.3"
  }
 },
 "nbformat": 4,
 "nbformat_minor": 4
}
